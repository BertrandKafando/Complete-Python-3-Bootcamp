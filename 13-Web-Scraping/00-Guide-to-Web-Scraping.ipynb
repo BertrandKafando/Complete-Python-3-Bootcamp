{
 "cells": [
  {
   "cell_type": "markdown",
   "metadata": {},
   "source": [
    "___\n",
    "\n",
    "<a href='https://www.udemy.com/user/joseportilla/'><img src='../Pierian_Data_Logo.png'/></a>\n",
    "___\n",
    "<center><em>Content Copyright by Pierian Data</em></center>"
   ]
  },
  {
   "cell_type": "markdown",
   "metadata": {},
   "source": [
    "# Guide to Web Scraping\n",
    "\n",
    "Let's get you started with web scraping and Python. Before we begin, here are some important rules to follow and understand:\n",
    "\n",
    "1. Always be respectful and try to get premission to scrape, do not bombard a website with scraping requests, otherwise your IP address may be blocked!\n",
    "2. Be aware that websites change often, meaning your code could go from working to totally broken from one day to the next.\n",
    "3. Pretty much every web scraping project of interest is a unique and custom job, so try your best to generalize the skills learned here.\n",
    "\n",
    "OK, let's get started with the basics!\n",
    "\n",
    "## Basic components of a WebSite\n",
    "\n",
    "### HTML\n",
    "HTML stands for  Hypertext Markup Language and every website on the internet uses it to display information. Even the jupyter notebook system uses it to display this information in your browser. If you right click on a website and select \"View Page Source\" you can see the raw HTML of a web page. This is the information that Python will be looking at to grab information from. Let's take a look at a simple webpage's HTML:\n",
    "\n",
    "    <!DOCTYPE html>  \n",
    "    <html>  \n",
    "        <head>\n",
    "            <title>Title on Browser Tab</title>\n",
    "        </head>\n",
    "        <body>\n",
    "            <h1> Website Header </h1>\n",
    "            <p> Some Paragraph </p>\n",
    "        <body>\n",
    "    </html>"
   ]
  },
  {
   "cell_type": "markdown",
   "metadata": {},
   "source": [
    "Let's breakdown these components.\n",
    "\n",
    "Every <tag> indicates a specific block type on the webpage:\n",
    "\n",
    "    1.<DOCTYPE html> HTML documents will always start with this type declaration, letting the browser know its an HTML file.\n",
    "    2. The component blocks of the HTML document are placed between <html> and </html>.\n",
    "    3. Meta data and script connections (like a link to a CSS file or a JS file) are often placed in the <head> block.\n",
    "    4. The <title> tag block defines the title of the webpage (its what shows up in the tab of a website you're visiting).\n",
    "    5. Is between <body> and </body> tags are the blocks that will be visible to the site visitor.\n",
    "    6. Headings are defined by the <h1> through <h6> tags, where the number represents the size of the heading.\n",
    "    7. Paragraphs are defined by the <p> tag, this is essentially just normal text on the website.\n",
    "\n",
    "    There are many more tags than just these, such as <a> for hyperlinks, <table> for tables, <tr> for table rows, and <td> for table columns, and more!"
   ]
  },
  {
   "cell_type": "markdown",
   "metadata": {},
   "source": [
    "### CSS\n",
    "\n",
    "CSS stands for Cascading Style Sheets, this is what gives \"style\" to a website, including colors and fonts, and even some animations! CSS uses tags such as **id** or **class** to connect an HTML element to a CSS feature, such as a particular color. **id** is a unique id for an HTML tag and must be unique within the HTML document, basically a single use connection. **class** defines a general style that can then be linked to multiple HTML tags. Basically if you only want a single html tag to be red, you would use an id tag, if you wanted several HTML tags/blocks to be red, you would create a class in your CSS doc and then link it to the rest of these blocks."
   ]
  },
  {
   "cell_type": "markdown",
   "metadata": {},
   "source": [
    "### Scraping Guidelines\n",
    "\n",
    "Keep in mind you should always have permission for the website you are scraping! Check a websites terms and conditions for more info. Also keep in mind that a computer can send requests to a website very fast, so a website may block your computer's ip address if you send too many requests too quickly. Lastly, websites change all the time! You will most likely need to update your code often for long term web-scraping jobs."
   ]
  },
  {
   "cell_type": "markdown",
   "metadata": {},
   "source": [
    "## Web Scraping with Python\n",
    "\n",
    "There are a few libraries you will need, you can go to your command line and install them with conda install (if you are using anaconda distribution), or pip install for other python distributions.\n",
    "\n",
    "    conda install requests\n",
    "    conda install lxml\n",
    "    conda install bs4\n",
    "    \n",
    "if you are not using the Anaconda Installation, you can use **pip install** instead of **conda install**, for example:\n",
    "\n",
    "    pip install requests\n",
    "    pip install lxml\n",
    "    pip install bs4\n",
    "    \n",
    "Now let's see what we can do with these libraries.\n",
    "\n",
    "----"
   ]
  },
  {
   "cell_type": "markdown",
   "metadata": {},
   "source": [
    "### Example Task 0 - Grabbing the title of a page\n",
    "\n",
    "Let's start very simple, we will grab the title of a page. Remember that this is the HTML block with the **title** tag. For this task we will use **www.example.com** which is a website specifically made to serve as an example domain. Let's go through the main steps:"
   ]
  },
  {
   "cell_type": "code",
   "execution_count": 1,
   "metadata": {
    "collapsed": true
   },
   "outputs": [],
   "source": [
    "import requests"
   ]
  },
  {
   "cell_type": "code",
   "execution_count": 2,
   "metadata": {
    "collapsed": true
   },
   "outputs": [],
   "source": [
    "# Step 1: Use the requests library to grab the page\n",
    "# Note, this may fail if you have a firewall blocking Python/Jupyter \n",
    "# Note sometimes you need to run this twice if it fails the first time\n",
    "res = requests.get(\"https://fr.wikipedia.org/wiki/Jonas_Salk\")"
   ]
  },
  {
   "cell_type": "markdown",
   "metadata": {},
   "source": [
    "This object is a requests.models.Response object and it actually contains the information from the website, for example:"
   ]
  },
  {
   "cell_type": "code",
   "execution_count": 3,
   "metadata": {},
   "outputs": [
    {
     "data": {
      "text/plain": [
       "requests.models.Response"
      ]
     },
     "execution_count": 3,
     "metadata": {},
     "output_type": "execute_result"
    }
   ],
   "source": [
    "type(res)"
   ]
  },
  {
   "cell_type": "code",
   "execution_count": 4,
   "metadata": {},
   "outputs": [
    {
     "data": {
      "text/plain": [
       "'<!DOCTYPE html>\\n<html class=\"client-nojs vector-feature-language-in-header-enabled vector-feature-language-in-main-page-header-disabled vector-feature-sticky-header-disabled vector-feature-page-tools-pinned-disabled vector-feature-toc-pinned-enabled vector-feature-main-menu-pinned-disabled vector-feature-limited-width-enabled vector-feature-limited-width-content-enabled vector-feature-zebra-design-disabled\" lang=\"fr\" dir=\"ltr\">\\n<head>\\n<meta charset=\"UTF-8\">\\n<title>Jonas Salk — Wikipédia</title>\\n<script>document.documentElement.className=\"client-js vector-feature-language-in-header-enabled vector-feature-language-in-main-page-header-disabled vector-feature-sticky-header-disabled vector-feature-page-tools-pinned-disabled vector-feature-toc-pinned-enabled vector-feature-main-menu-pinned-disabled vector-feature-limited-width-enabled vector-feature-limited-width-content-enabled vector-feature-zebra-design-disabled\";(function(){var cookie=document.cookie.match(/(?:^|; )frwikimwclientprefs=([^;]+)/);if(cookie){var featureName=cookie[1];document.documentElement.className=document.documentElement.className.replace(featureName+\\'-enabled\\',featureName+\\'-disabled\\');}}());RLCONF={\"wgBreakFrames\":false,\"wgSeparatorTransformTable\":[\",\\\\t.\",\"\\xa0\\\\t,\"],\"wgDigitTransformTable\":[\"\",\"\"],\"wgDefaultDateFormat\":\"dmy\",\"wgMonthNames\":[\"\",\"janvier\",\"février\",\"mars\",\"avril\",\"mai\",\"juin\",\"juillet\",\"août\",\"septembre\",\"octobre\",\"novembre\",\"décembre\"],\"wgRequestId\":\"79fba447-5e81-4acb-8456-20b4379125c1\",\\n\"wgCSPNonce\":false,\"wgCanonicalNamespace\":\"\",\"wgCanonicalSpecialPageName\":false,\"wgNamespaceNumber\":0,\"wgPageName\":\"Jonas_Salk\",\"wgTitle\":\"Jonas Salk\",\"wgCurRevisionId\":204977301,\"wgRevisionId\":204977301,\"wgArticleId\":235968,\"wgIsArticle\":true,\"wgIsRedirect\":false,\"wgAction\":\"view\",\"wgUserName\":null,\"wgUserGroups\":[\"*\"],\"wgCategories\":[\"Page utilisant P569\",\"Page utilisant P19\",\"Page utilisant P570\",\"Page utilisant P20\",\"Page utilisant P119\",\"Page utilisant P1477\",\"Page utilisant P27\",\"Page utilisant P551\",\"Page utilisant P69\",\"Page utilisant P106\",\"Page utilisant P26\",\"Page utilisant P40\",\"Page utilisant P108\",\"Page utilisant P463\",\"Page utilisant P184\",\"Page utilisant P166\",\"Page utilisant P109\",\"Page utilisant P1801\",\"Article utilisant l\\'infobox Biographie2\",\"Article utilisant une Infobox\",\"Catégorie Commons avec lien local identique sur Wikidata\",\"Page utilisant P5375\",\"Page pointant vers des bases externes\",\"Page pointant vers des bases relatives à la santé\",\\n\"Page utilisant P245\",\"Page pointant vers des bases relatives aux beaux-arts\",\"Page utilisant P5415\",\"Page pointant vers des bases relatives à la recherche\",\"Page utilisant P4823\",\"Page utilisant P1417\",\"Page utilisant P7902\",\"Page utilisant P4223\",\"Page utilisant P6706\",\"Page utilisant P1296\",\"Page utilisant P7982\",\"Page utilisant P3222\",\"Page utilisant P1284\",\"Page utilisant P4342\",\"Page utilisant P3365\",\"Page utilisant P3219\",\"Page utilisant P7666\",\"Page pointant vers des dictionnaires ou encyclopédies généralistes\",\"Article de Wikipédia avec notice d\\'autorité\",\"Portail:Médecine/Articles liés\",\"Portail:Biologie/Articles liés\",\"Portail:Sciences humaines et sociales/Articles liés\",\"Portail:Sciences/Articles liés\",\"Portail:États-Unis/Articles liés\",\"Portail:Amérique/Articles liés\",\"Portail:Amérique du Nord/Articles liés\",\"Portail:New York/Articles liés\",\"Portail:New York (État)/Articles liés\",\"Portail:San Diego/Articles liés\",\"Portail:Californie/Articles liés\",\\n\"Portail:Judaïsme/Articles liés\",\"Portail:Religions et croyances/Articles liés\",\"Portail:XXe siècle/Articles liés\",\"Portail:Époque contemporaine/Articles liés\",\"Portail:Histoire/Articles liés\",\"Wikipédia:Article biographique\",\"Portail:Biographie/Articles liés/Santé\",\"Portail:Biographie/Articles liés/Sciences\",\"Biologiste américain\",\"Médecin américain du XXe siècle\",\"Vaccinologue\",\"Histoire des maladies infectieuses\",\"Poliomyélite\",\"Lauréat du prix Albert-Lasker\",\"Médaille John-Scott\",\"Université de New York\",\"Naissance en octobre 1914\",\"Naissance à New York\",\"Décès en juin 1995\",\"Décès à La Jolla\",\"Décès à 80 ans\",\"Étudiant du City College of New York\",\"Étudiant de la New York University School of Medicine\",\"Récipiendaire de la médaille d\\'or du Congrès des États-Unis\",\"Récipiendaire de la médaille présidentielle de la Liberté\",\"Humaniste de l\\'Année\",\"Personnalité américaine née d\\'un parent russe\"],\"wgPageViewLanguage\":\"fr\",\\n\"wgPageContentLanguage\":\"fr\",\"wgPageContentModel\":\"wikitext\",\"wgRelevantPageName\":\"Jonas_Salk\",\"wgRelevantArticleId\":235968,\"wgIsProbablyEditable\":true,\"wgRelevantPageIsProbablyEditable\":true,\"wgRestrictionEdit\":[],\"wgRestrictionMove\":[],\"wgVisualEditor\":{\"pageLanguageCode\":\"fr\",\"pageLanguageDir\":\"ltr\",\"pageVariantFallbacks\":\"fr\"},\"wgMFDisplayWikibaseDescriptions\":{\"search\":true,\"watchlist\":true,\"tagline\":true,\"nearby\":true},\"wgWMESchemaEditAttemptStepOversample\":false,\"wgWMEPageLength\":8000,\"wgNoticeProject\":\"wikipedia\",\"wgMediaViewerOnClick\":true,\"wgMediaViewerEnabledByDefault\":true,\"wgPopupsFlags\":8,\"wgULSCurrentAutonym\":\"français\",\"wgEditSubmitButtonLabelPublish\":true,\"wgCentralAuthMobileDomain\":false,\"wgULSPosition\":\"interlanguage\",\"wgULSisCompactLinksEnabled\":true,\"wgULSisLanguageSelectorEmpty\":false,\"wgWikibaseItemId\":\"Q200101\",\"GEHomepageSuggestedEditsEnableTopics\":true,\"wgGETopicsMatchModeEnabled\":false,\"wgGEStructuredTaskRejectionReasonTextInputEnabled\":false,\\n\"wgGELevelingUpEnabledForUser\":false};RLSTATE={\"skins.vector.user.styles\":\"ready\",\"ext.globalCssJs.user.styles\":\"ready\",\"site.styles\":\"ready\",\"user.styles\":\"ready\",\"skins.vector.user\":\"ready\",\"ext.globalCssJs.user\":\"ready\",\"user\":\"ready\",\"user.options\":\"loading\",\"ext.cite.styles\":\"ready\",\"mediawiki.page.gallery.styles\":\"ready\",\"codex-search-styles\":\"ready\",\"skins.vector.styles\":\"ready\",\"skins.vector.icons\":\"ready\",\"jquery.makeCollapsible.styles\":\"ready\",\"ext.visualEditor.desktopArticleTarget.noscript\":\"ready\",\"ext.wikimediaBadges\":\"ready\",\"ext.uls.interlanguage\":\"ready\",\"wikibase.client.init\":\"ready\"};RLPAGEMODULES=[\"ext.cite.ux-enhancements\",\"mediawiki.page.gallery\",\"site\",\"mediawiki.page.ready\",\"jquery.makeCollapsible\",\"mediawiki.toc\",\"skins.vector.js\",\"mmv.head\",\"mmv.bootstrap.autostart\",\"ext.visualEditor.desktopArticleTarget.init\",\"ext.visualEditor.targetLoader\",\"ext.eventLogging\",\"ext.wikimediaEvents\",\"ext.navigationTiming\",\"ext.cx.eventlogging.campaigns\",\"ext.quicksurveys.init\",\\n\"ext.centralNotice.geoIP\",\"ext.centralNotice.startUp\",\"ext.gadget.ArchiveLinks\",\"ext.gadget.Wdsearch\",\"ext.centralauth.centralautologin\",\"ext.popups\",\"ext.echo.centralauth\",\"ext.uls.compactlinks\",\"ext.uls.interface\",\"ext.cx.uls.quick.actions\",\"wikibase.client.vector-2022\",\"ext.growthExperiments.SuggestedEditSession\"];</script>\\n<script>(RLQ=window.RLQ||[]).push(function(){mw.loader.implement(\"user.options@12s5i\",function($,jQuery,require,module){mw.user.tokens.set({\"patrolToken\":\"+\\\\\\\\\",\"watchToken\":\"+\\\\\\\\\",\"csrfToken\":\"+\\\\\\\\\"});});});</script>\\n<link rel=\"stylesheet\" href=\"/w/load.php?lang=fr&amp;modules=codex-search-styles%7Cext.cite.styles%7Cext.uls.interlanguage%7Cext.visualEditor.desktopArticleTarget.noscript%7Cext.wikimediaBadges%7Cjquery.makeCollapsible.styles%7Cmediawiki.page.gallery.styles%7Cskins.vector.icons%2Cstyles%7Cwikibase.client.init&amp;only=styles&amp;skin=vector-2022\">\\n<script async=\"\" src=\"/w/load.php?lang=fr&amp;modules=startup&amp;only=scripts&amp;raw=1&amp;skin=vector-2022\"></script>\\n<meta name=\"ResourceLoaderDynamicStyles\" content=\"\">\\n<link rel=\"stylesheet\" href=\"/w/load.php?lang=fr&amp;modules=site.styles&amp;only=styles&amp;skin=vector-2022\">\\n<meta name=\"generator\" content=\"MediaWiki 1.41.0-wmf.16\">\\n<meta name=\"referrer\" content=\"origin\">\\n<meta name=\"referrer\" content=\"origin-when-crossorigin\">\\n<meta name=\"referrer\" content=\"origin-when-cross-origin\">\\n<meta name=\"robots\" content=\"max-image-preview:standard\">\\n<meta name=\"format-detection\" content=\"telephone=no\">\\n<meta property=\"og:image\" content=\"https://upload.wikimedia.org/wikipedia/commons/5/59/Jonas_Salk_candid.jpg\">\\n<meta property=\"og:image:width\" content=\"1200\">\\n<meta property=\"og:image:height\" content=\"1624\">\\n<meta property=\"og:image\" content=\"https://upload.wikimedia.org/wikipedia/commons/thumb/5/59/Jonas_Salk_candid.jpg/800px-Jonas_Salk_candid.jpg\">\\n<meta property=\"og:image:width\" content=\"800\">\\n<meta property=\"og:image:height\" content=\"1083\">\\n<meta property=\"og:image\" content=\"https://upload.wikimedia.org/wikipedia/commons/thumb/5/59/Jonas_Salk_candid.jpg/640px-Jonas_Salk_candid.jpg\">\\n<meta property=\"og:image:width\" content=\"640\">\\n<meta property=\"og:image:height\" content=\"866\">\\n<meta name=\"viewport\" content=\"width=1000\">\\n<meta property=\"og:title\" content=\"Jonas Salk — Wikipédia\">\\n<meta property=\"og:type\" content=\"website\">\\n<link rel=\"preconnect\" href=\"//upload.wikimedia.org\">\\n<link rel=\"alternate\" media=\"only screen and (max-width: 720px)\" href=\"//fr.m.wikipedia.org/wiki/Jonas_Salk\">\\n<link rel=\"alternate\" type=\"application/x-wiki\" title=\"Modifier\" href=\"/w/index.php?title=Jonas_Salk&amp;action=edit\">\\n<link rel=\"apple-touch-icon\" href=\"/static/apple-touch/wikipedia.png\">\\n<link rel=\"icon\" href=\"/static/favicon/wikipedia.ico\">\\n<link rel=\"search\" type=\"application/opensearchdescription+xml\" href=\"/w/opensearch_desc.php\" title=\"Wikipédia (fr)\">\\n<link rel=\"EditURI\" type=\"application/rsd+xml\" href=\"//fr.wikipedia.org/w/api.php?action=rsd\">\\n<link rel=\"canonical\" href=\"https://fr.wikipedia.org/wiki/Jonas_Salk\">\\n<link rel=\"license\" href=\"https://creativecommons.org/licenses/by-sa/4.0/deed.fr\">\\n<link rel=\"alternate\" type=\"application/atom+xml\" title=\"Flux Atom de Wikipédia\" href=\"/w/index.php?title=Sp%C3%A9cial:Modifications_r%C3%A9centes&amp;feed=atom\">\\n<link rel=\"dns-prefetch\" href=\"//meta.wikimedia.org\" />\\n<link rel=\"dns-prefetch\" href=\"//login.wikimedia.org\">\\n</head>\\n<body class=\"skin-vector skin-vector-search-vue mediawiki ltr sitedir-ltr mw-hide-empty-elt ns-0 ns-subject mw-editable page-Jonas_Salk rootpage-Jonas_Salk skin-vector-2022 action-view\"><a class=\"mw-jump-link\" href=\"#bodyContent\">Aller au contenu</a>\\n<div class=\"vector-header-container\">\\n\\t<header class=\"vector-header mw-header\">\\n\\t\\t<div class=\"vector-header-start\">\\n\\t\\t\\t<nav class=\"vector-main-menu-landmark\" aria-label=\"Site\" role=\"navigation\">\\n\\t\\t\\t\\t\\n<div id=\"vector-main-menu-dropdown\" class=\"vector-dropdown vector-main-menu-dropdown vector-button-flush-left vector-button-flush-right\"  >\\n\\t<input type=\"checkbox\"\\n\\t\\tid=\"vector-main-menu-dropdown-checkbox\"\\n\\t\\trole=\"button\"\\n\\t\\taria-haspopup=\"true\"\\n\\t\\tdata-event-name=\"ui.dropdown-vector-main-menu-dropdown\"\\n\\t\\tclass=\"vector-dropdown-checkbox \"\\n\\t\\t\\n\\t\\taria-label=\"Menu principal\"\\n\\t\\t\\n\\t/>\\n\\t<label\\n\\t\\tid=\"vector-main-menu-dropdown-label\"\\n\\t\\tfor=\"vector-main-menu-dropdown-checkbox\"\\n\\t\\tclass=\"vector-dropdown-label cdx-button cdx-button--fake-button cdx-button--fake-button--enabled cdx-button--weight-quiet cdx-button--icon-only \"\\n\\t\\taria-hidden=\"true\"\\n\\t\\t\\n\\t>\\n\\t\\t<span class=\"vector-icon mw-ui-icon-menu mw-ui-icon-wikimedia-menu\"></span>\\n\\n\\n\\t\\t<span class=\"vector-dropdown-label-text\">Menu principal</span>\\n\\t</label>\\n\\t<div class=\"vector-dropdown-content\">\\n\\n\\n\\t\\t\\t\\t<div id=\"vector-main-menu-unpinned-container\" class=\"vector-unpinned-container\">\\n\\t\\t\\n<div id=\"vector-main-menu\" class=\"vector-main-menu vector-pinnable-element\">\\n\\t<div\\n\\tclass=\"vector-pinnable-header vector-main-menu-pinnable-header vector-pinnable-header-unpinned\"\\n\\tdata-feature-name=\"main-menu-pinned\"\\n\\tdata-pinnable-element-id=\"vector-main-menu\"\\n\\tdata-pinned-container-id=\"vector-main-menu-pinned-container\"\\n\\tdata-unpinned-container-id=\"vector-main-menu-unpinned-container\"\\n>\\n\\t<div class=\"vector-pinnable-header-label\">Menu principal</div>\\n\\t<button class=\"vector-pinnable-header-toggle-button vector-pinnable-header-pin-button\" data-event-name=\"pinnable-header.vector-main-menu.pin\">déplacer vers la barre latérale</button>\\n\\t<button class=\"vector-pinnable-header-toggle-button vector-pinnable-header-unpin-button\" data-event-name=\"pinnable-header.vector-main-menu.unpin\">masquer</button>\\n</div>\\n\\n\\t\\n<div id=\"p-navigation\" class=\"vector-menu mw-portlet mw-portlet-navigation\"  >\\n\\t<div class=\"vector-menu-heading\">\\n\\t\\tNavigation\\n\\t</div>\\n\\t<div class=\"vector-menu-content\">\\n\\t\\t\\n\\t\\t<ul class=\"vector-menu-content-list\"><li id=\"n-mainpage-description\" class=\"mw-list-item\"><a href=\"/wiki/Wikip%C3%A9dia:Accueil_principal\" title=\"Accueil général [z]\" accesskey=\"z\"><span>Accueil</span></a></li><li id=\"n-thema\" class=\"mw-list-item\"><a href=\"/wiki/Portail:Accueil\"><span>Portails thématiques</span></a></li><li id=\"n-randompage\" class=\"mw-list-item\"><a href=\"/wiki/Sp%C3%A9cial:Page_au_hasard\" title=\"Affiche un article au hasard [x]\" accesskey=\"x\"><span>Article au hasard</span></a></li><li id=\"n-contact\" class=\"mw-list-item\"><a href=\"/wiki/Wikip%C3%A9dia:Contact\"><span>Contact</span></a></li></ul>\\n\\t\\t\\n\\t</div>\\n</div>\\n\\n\\t\\n\\t\\n<div id=\"p-Contribuer\" class=\"vector-menu mw-portlet mw-portlet-Contribuer\"  >\\n\\t<div class=\"vector-menu-heading\">\\n\\t\\tContribuer\\n\\t</div>\\n\\t<div class=\"vector-menu-content\">\\n\\t\\t\\n\\t\\t<ul class=\"vector-menu-content-list\"><li id=\"n-aboutwp\" class=\"mw-list-item\"><a href=\"/wiki/Aide:D%C3%A9buter\"><span>Débuter sur Wikipédia</span></a></li><li id=\"n-help\" class=\"mw-list-item\"><a href=\"/wiki/Aide:Accueil\" title=\"Accès à l’aide\"><span>Aide</span></a></li><li id=\"n-portal\" class=\"mw-list-item\"><a href=\"/wiki/Wikip%C3%A9dia:Accueil_de_la_communaut%C3%A9\" title=\"À propos du projet, ce que vous pouvez faire, où trouver les informations\"><span>Communauté</span></a></li><li id=\"n-recentchanges\" class=\"mw-list-item\"><a href=\"/wiki/Sp%C3%A9cial:Modifications_r%C3%A9centes\" title=\"Liste des modifications récentes sur le wiki [r]\" accesskey=\"r\"><span>Modifications récentes</span></a></li><li id=\"n-sitesupport\" class=\"mw-list-item\"><a href=\"//donate.wikimedia.org/wiki/Special:FundraiserRedirector?utm_source=donate&amp;utm_medium=sidebar&amp;utm_campaign=C13_fr.wikipedia.org&amp;uselang=fr\" title=\"Soutenez-nous\"><span>Faire un don</span></a></li></ul>\\n\\t\\t\\n\\t</div>\\n</div>\\n\\n\\t\\n<div class=\"vector-main-menu-action vector-main-menu-action-lang-alert\">\\n\\t<div class=\"vector-main-menu-action-item\">\\n\\t\\t<div class=\"vector-main-menu-action-heading vector-menu-heading\">Langues</div>\\n\\t\\t<div class=\"vector-main-menu-action-content vector-menu-content\">\\n\\t\\t\\t<div class=\"mw-message-box cdx-message cdx-message--block mw-message-box-notice cdx-message--notice vector-language-sidebar-alert\"><span class=\"cdx-message__icon\"></span><div class=\"cdx-message__content\">Sur cette version linguistique de Wikipédia, les liens interlangues sont placés en haut à droite du titre de l’article.<br /><a href=\"#p-lang-btn\">Aller en haut</a>.</div></div>\\n\\t\\t</div>\\n\\t</div>\\n</div>\\n\\n</div>\\n\\n\\t\\t\\t\\t</div>\\n\\n\\t</div>\\n</div>\\n\\t\\t</nav>\\n\\t\\t\\t\\n<a href=\"/wiki/Wikip%C3%A9dia:Accueil_principal\" class=\"mw-logo\">\\n\\t<img class=\"mw-logo-icon\" src=\"/static/images/icons/wikipedia.png\" alt=\"\"\\n\\t\\taria-hidden=\"true\" height=\"50\" width=\"50\">\\n\\t<span class=\"mw-logo-container\">\\n\\t\\t<img class=\"mw-logo-wordmark\" alt=\"Wikipédia\"\\n\\t\\t\\tsrc=\"/static/images/mobile/copyright/wikipedia-wordmark-fr.svg\" style=\"width: 7.5em; height: 1.125em;\">\\n\\t\\t<img class=\"mw-logo-tagline\"\\n\\t\\t\\talt=\"l&#039;encyclopédie libre\"\\n\\t\\t\\tsrc=\"/static/images/mobile/copyright/wikipedia-tagline-fr.svg\" width=\"120\" height=\"13\" style=\"width: 7.5em; height: 0.8125em;\">\\n\\t</span>\\n</a>\\n\\n\\t\\t</div>\\n\\t\\t<div class=\"vector-header-end\">\\n\\t\\t\\t\\n<div id=\"p-search\" role=\"search\" class=\"vector-search-box-vue  vector-search-box-collapses vector-search-box-show-thumbnail vector-search-box-auto-expand-width vector-search-box\">\\n\\t<a href=\"/wiki/Sp%C3%A9cial:Recherche\"\\n\\t\\n\\t\\tid=\"\"\\n\\t\\tclass=\"cdx-button cdx-button--fake-button cdx-button--fake-button--enabled cdx-button--weight-quiet cdx-button--icon-only search-toggle\"\\n\\t\\ttitle=\"Rechercher sur Wikipédia [f]\"accesskey=\"f\"><span class=\"vector-icon mw-ui-icon-search mw-ui-icon-wikimedia-search\"></span>\\n\\n<span>Rechercher</span>\\n\\t</a>\\n\\t\\n\\t<div class=\"vector-typeahead-search-container\">\\n\\t\\t<div class=\"cdx-typeahead-search cdx-typeahead-search--show-thumbnail cdx-typeahead-search--auto-expand-width\">\\n\\t\\t\\t<form action=\"/w/index.php\" id=\"searchform\" class=\"cdx-search-input cdx-search-input--has-end-button\">\\n\\t\\t\\t\\t<div id=\"simpleSearch\" class=\"cdx-search-input__input-wrapper\"  data-search-loc=\"header-moved\">\\n\\t\\t\\t\\t\\t<div class=\"cdx-text-input cdx-text-input--has-start-icon\">\\n\\t\\t\\t\\t\\t\\t<input\\n\\t\\t\\t\\t\\t\\t\\tclass=\"cdx-text-input__input\"\\n\\t\\t\\t\\t\\t\\t\\t type=\"search\" name=\"search\" placeholder=\"Rechercher sur Wikipédia\" aria-label=\"Rechercher sur Wikipédia\" autocapitalize=\"sentences\" title=\"Rechercher sur Wikipédia [f]\" accesskey=\"f\" id=\"searchInput\"\\n\\t\\t\\t\\t\\t\\t\\t\\n\\t\\t\\t\\t\\t\\t>\\n\\t\\t\\t\\t\\t\\t<span class=\"cdx-text-input__icon cdx-text-input__start-icon\"></span>\\n\\t\\t\\t\\t\\t</div>\\n\\t\\t\\t\\t\\t<input type=\"hidden\" name=\"title\" value=\"Spécial:Recherche\">\\n\\t\\t\\t\\t</div>\\n\\t\\t\\t\\t<button class=\"cdx-button cdx-search-input__end-button\">Rechercher</button>\\n\\t\\t\\t</form>\\n\\t\\t</div>\\n\\t</div>\\n</div>\\n\\n\\t\\t\\t<nav class=\"vector-user-links\" aria-label=\"Outils personnels\" role=\"navigation\" >\\n\\t\\n<div id=\"p-vector-user-menu-overflow\" class=\"vector-menu mw-portlet mw-portlet-vector-user-menu-overflow\"  >\\n\\t<div class=\"vector-menu-content\">\\n\\t\\t\\n\\t\\t<ul class=\"vector-menu-content-list\"><li id=\"pt-createaccount-2\" class=\"user-links-collapsible-item mw-list-item\"><a href=\"/w/index.php?title=Sp%C3%A9cial:Cr%C3%A9er_un_compte&amp;returnto=Jonas+Salk\" title=\"Nous vous encourageons à créer un compte utilisateur et vous connecter\\u202f; ce n’est cependant pas obligatoire.\"><span>Créer un compte</span></a></li><li id=\"pt-login-2\" class=\"user-links-collapsible-item mw-list-item\"><a href=\"/w/index.php?title=Sp%C3%A9cial:Connexion&amp;returnto=Jonas+Salk\" title=\"Nous vous encourageons à vous connecter\\u202f; ce n’est cependant pas obligatoire. [o]\" accesskey=\"o\"><span>Se connecter</span></a></li></ul>\\n\\t\\t\\n\\t</div>\\n</div>\\n\\n\\t\\n<div id=\"vector-user-links-dropdown\" class=\"vector-dropdown vector-user-menu vector-button-flush-right vector-user-menu-logged-out\"  title=\"Plus d’options\" >\\n\\t<input type=\"checkbox\"\\n\\t\\tid=\"vector-user-links-dropdown-checkbox\"\\n\\t\\trole=\"button\"\\n\\t\\taria-haspopup=\"true\"\\n\\t\\tdata-event-name=\"ui.dropdown-vector-user-links-dropdown\"\\n\\t\\tclass=\"vector-dropdown-checkbox \"\\n\\t\\t\\n\\t\\taria-label=\"Outils personnels\"\\n\\t\\t\\n\\t/>\\n\\t<label\\n\\t\\tid=\"vector-user-links-dropdown-label\"\\n\\t\\tfor=\"vector-user-links-dropdown-checkbox\"\\n\\t\\tclass=\"vector-dropdown-label cdx-button cdx-button--fake-button cdx-button--fake-button--enabled cdx-button--weight-quiet cdx-button--icon-only \"\\n\\t\\taria-hidden=\"true\"\\n\\t\\t\\n\\t>\\n\\t\\t<span class=\"vector-icon mw-ui-icon-ellipsis mw-ui-icon-wikimedia-ellipsis\"></span>\\n\\n\\n\\t\\t<span class=\"vector-dropdown-label-text\">Outils personnels</span>\\n\\t</label>\\n\\t<div class=\"vector-dropdown-content\">\\n\\n\\n\\t\\t\\n<div id=\"p-personal\" class=\"vector-menu mw-portlet mw-portlet-personal user-links-collapsible-item\"  title=\"Menu utilisateur\" >\\n\\t<div class=\"vector-menu-content\">\\n\\t\\t\\n\\t\\t<ul class=\"vector-menu-content-list\"><li id=\"pt-createaccount\" class=\"user-links-collapsible-item mw-list-item\"><a href=\"/w/index.php?title=Sp%C3%A9cial:Cr%C3%A9er_un_compte&amp;returnto=Jonas+Salk\" title=\"Nous vous encourageons à créer un compte utilisateur et vous connecter\\u202f; ce n’est cependant pas obligatoire.\"><span class=\"vector-icon mw-ui-icon-userAdd mw-ui-icon-wikimedia-userAdd\"></span> <span>Créer un compte</span></a></li><li id=\"pt-login\" class=\"user-links-collapsible-item mw-list-item\"><a href=\"/w/index.php?title=Sp%C3%A9cial:Connexion&amp;returnto=Jonas+Salk\" title=\"Nous vous encourageons à vous connecter\\u202f; ce n’est cependant pas obligatoire. [o]\" accesskey=\"o\"><span class=\"vector-icon mw-ui-icon-logIn mw-ui-icon-wikimedia-logIn\"></span> <span>Se connecter</span></a></li></ul>\\n\\t\\t\\n\\t</div>\\n</div>\\n\\n<div id=\"p-user-menu-anon-editor\" class=\"vector-menu mw-portlet mw-portlet-user-menu-anon-editor\"  >\\n\\t<div class=\"vector-menu-heading\">\\n\\t\\tPages pour les contributeurs déconnectés <a href=\"/wiki/Aide:Introduction\" aria-label=\"En savoir plus sur la contribution\"><span>en savoir plus</span></a>\\n\\t</div>\\n\\t<div class=\"vector-menu-content\">\\n\\t\\t\\n\\t\\t<ul class=\"vector-menu-content-list\"><li id=\"pt-anoncontribs\" class=\"mw-list-item\"><a href=\"/wiki/Sp%C3%A9cial:Mes_contributions\" title=\"Une liste des modifications effectuées depuis cette adresse IP [y]\" accesskey=\"y\"><span>Contributions</span></a></li><li id=\"pt-anontalk\" class=\"mw-list-item\"><a href=\"/wiki/Sp%C3%A9cial:Mes_discussions\" title=\"La page de discussion pour les contributions depuis cette adresse IP [n]\" accesskey=\"n\"><span>Discussion</span></a></li></ul>\\n\\t\\t\\n\\t</div>\\n</div>\\n\\n\\t\\n\\t</div>\\n</div>\\n</nav>\\n\\n\\t\\t</div>\\n\\t</header>\\n</div>\\n<div class=\"mw-page-container\">\\n\\t<div class=\"mw-page-container-inner\">\\n\\t\\t<div class=\"vector-main-menu-container \">\\n\\t\\t\\t<div id=\"mw-navigation\">\\n\\t\\t\\t\\t<nav id=\"mw-panel\" class=\"vector-main-menu-landmark\" aria-label=\"Site\" role=\"navigation\">\\n\\t\\t\\t\\t\\t<div id=\"vector-main-menu-pinned-container\" class=\"vector-pinned-container\">\\n\\t\\t\\t\\t\\n\\t\\t\\t\\t\\t</div>\\n\\t\\t</nav>\\n\\t\\t\\t</div>\\n\\t\\t</div>\\n\\t\\t<div class=\"vector-sitenotice-container\">\\n\\t\\t\\t<div id=\"siteNotice\"><!-- CentralNotice --></div>\\n\\t\\t</div>\\n\\t\\t<input type=\"checkbox\" id=\"vector-toc-collapsed-checkbox\" class=\"vector-menu-checkbox\">\\n\\t\\t<nav id=\"mw-panel-toc\" role=\"navigation\" aria-label=\"Sommaire\" data-event-name=\"ui.sidebar-toc\" class=\"mw-table-of-contents-container vector-toc-landmark vector-sticky-pinned-container\">\\n\\t\\t\\t<div id=\"vector-toc-pinned-container\" class=\"vector-pinned-container\">\\n\\t\\t\\t\\t\\t<div id=\"vector-toc\" class=\"vector-toc vector-pinnable-element\">\\n\\t<div\\n\\tclass=\"vector-pinnable-header vector-toc-pinnable-header vector-pinnable-header-pinned\"\\n\\tdata-feature-name=\"toc-pinned\"\\n\\tdata-pinnable-element-id=\"vector-toc\"\\n\\t\\n\\t\\n>\\n\\t<h2 class=\"vector-pinnable-header-label\">Sommaire</h2>\\n\\t<button class=\"vector-pinnable-header-toggle-button vector-pinnable-header-pin-button\" data-event-name=\"pinnable-header.vector-toc.pin\">déplacer vers la barre latérale</button>\\n\\t<button class=\"vector-pinnable-header-toggle-button vector-pinnable-header-unpin-button\" data-event-name=\"pinnable-header.vector-toc.unpin\">masquer</button>\\n</div>\\n\\n\\n\\t<ul class=\"vector-toc-contents\" id=\"mw-panel-toc-list\">\\n\\t\\t<li id=\"toc-mw-content-text\"\\n\\t\\t\\tclass=\"vector-toc-list-item vector-toc-level-1\">\\n\\t\\t\\t<a href=\"#\" class=\"vector-toc-link\">\\n\\t\\t\\t\\t<div class=\"vector-toc-text\">Début</div>\\n\\t\\t\\t</a>\\n\\t\\t</li>\\n\\t\\t<li id=\"toc-Biographie\"\\n\\t\\tclass=\"vector-toc-list-item vector-toc-level-1 vector-toc-list-item-expanded\">\\n\\t\\t<a class=\"vector-toc-link\" href=\"#Biographie\">\\n\\t\\t\\t<div class=\"vector-toc-text\">\\n\\t\\t\\t<span class=\"vector-toc-numb\">1</span>Biographie</div>\\n\\t\\t</a>\\n\\t\\t\\n\\t\\t\\t<button aria-controls=\"toc-Biographie-sublist\" class=\"cdx-button cdx-button--weight-quiet cdx-button--icon-only vector-toc-toggle\">\\n\\t\\t\\t\\t<span class=\"vector-icon vector-icon--x-small mw-ui-icon-wikimedia-expand\"></span>\\n\\t\\t\\t\\t<span>Afficher\\u202f/\\u202fmasquer la sous-section Biographie</span>\\n\\t\\t\\t</button>\\n\\t\\t\\n\\t\\t<ul id=\"toc-Biographie-sublist\" class=\"vector-toc-list\">\\n\\t\\t\\t<li id=\"toc-Carrière\"\\n\\t\\t\\tclass=\"vector-toc-list-item vector-toc-level-2\">\\n\\t\\t\\t<a class=\"vector-toc-link\" href=\"#Carrière\">\\n\\t\\t\\t\\t<div class=\"vector-toc-text\">\\n\\t\\t\\t\\t<span class=\"vector-toc-numb\">1.1</span>Carrière</div>\\n\\t\\t\\t</a>\\n\\t\\t\\t\\n\\t\\t\\t<ul id=\"toc-Carrière-sublist\" class=\"vector-toc-list\">\\n\\t\\t\\t</ul>\\n\\t\\t</li>\\n\\t\\t<li id=\"toc-Vie_privée\"\\n\\t\\t\\tclass=\"vector-toc-list-item vector-toc-level-2\">\\n\\t\\t\\t<a class=\"vector-toc-link\" href=\"#Vie_privée\">\\n\\t\\t\\t\\t<div class=\"vector-toc-text\">\\n\\t\\t\\t\\t<span class=\"vector-toc-numb\">1.2</span>Vie privée</div>\\n\\t\\t\\t</a>\\n\\t\\t\\t\\n\\t\\t\\t<ul id=\"toc-Vie_privée-sublist\" class=\"vector-toc-list\">\\n\\t\\t\\t</ul>\\n\\t\\t</li>\\n\\t</ul>\\n\\t</li>\\n\\t<li id=\"toc-Le_vaccin_Salk\"\\n\\t\\tclass=\"vector-toc-list-item vector-toc-level-1 vector-toc-list-item-expanded\">\\n\\t\\t<a class=\"vector-toc-link\" href=\"#Le_vaccin_Salk\">\\n\\t\\t\\t<div class=\"vector-toc-text\">\\n\\t\\t\\t<span class=\"vector-toc-numb\">2</span>Le vaccin <i>Salk</i></div>\\n\\t\\t</a>\\n\\t\\t\\n\\t\\t<ul id=\"toc-Le_vaccin_Salk-sublist\" class=\"vector-toc-list\">\\n\\t\\t</ul>\\n\\t</li>\\n\\t<li id=\"toc-Prix_et_distinctions\"\\n\\t\\tclass=\"vector-toc-list-item vector-toc-level-1 vector-toc-list-item-expanded\">\\n\\t\\t<a class=\"vector-toc-link\" href=\"#Prix_et_distinctions\">\\n\\t\\t\\t<div class=\"vector-toc-text\">\\n\\t\\t\\t<span class=\"vector-toc-numb\">3</span>Prix et distinctions</div>\\n\\t\\t</a>\\n\\t\\t\\n\\t\\t<ul id=\"toc-Prix_et_distinctions-sublist\" class=\"vector-toc-list\">\\n\\t\\t</ul>\\n\\t</li>\\n\\t<li id=\"toc-Œuvres\"\\n\\t\\tclass=\"vector-toc-list-item vector-toc-level-1 vector-toc-list-item-expanded\">\\n\\t\\t<a class=\"vector-toc-link\" href=\"#Œuvres\">\\n\\t\\t\\t<div class=\"vector-toc-text\">\\n\\t\\t\\t<span class=\"vector-toc-numb\">4</span>Œuvres</div>\\n\\t\\t</a>\\n\\t\\t\\n\\t\\t<ul id=\"toc-Œuvres-sublist\" class=\"vector-toc-list\">\\n\\t\\t</ul>\\n\\t</li>\\n\\t<li id=\"toc-Notes_et_références\"\\n\\t\\tclass=\"vector-toc-list-item vector-toc-level-1 vector-toc-list-item-expanded\">\\n\\t\\t<a class=\"vector-toc-link\" href=\"#Notes_et_références\">\\n\\t\\t\\t<div class=\"vector-toc-text\">\\n\\t\\t\\t<span class=\"vector-toc-numb\">5</span>Notes et références</div>\\n\\t\\t</a>\\n\\t\\t\\n\\t\\t<ul id=\"toc-Notes_et_références-sublist\" class=\"vector-toc-list\">\\n\\t\\t</ul>\\n\\t</li>\\n\\t<li id=\"toc-Liens_externes\"\\n\\t\\tclass=\"vector-toc-list-item vector-toc-level-1 vector-toc-list-item-expanded\">\\n\\t\\t<a class=\"vector-toc-link\" href=\"#Liens_externes\">\\n\\t\\t\\t<div class=\"vector-toc-text\">\\n\\t\\t\\t<span class=\"vector-toc-numb\">6</span>Liens externes</div>\\n\\t\\t</a>\\n\\t\\t\\n\\t\\t<ul id=\"toc-Liens_externes-sublist\" class=\"vector-toc-list\">\\n\\t\\t</ul>\\n\\t</li>\\n</ul>\\n</div>\\n\\n\\t\\t\\t</div>\\n\\t\\t</nav>\\n\\t\\t<div class=\"mw-content-container\">\\n\\t\\t\\t<main id=\"content\" class=\"mw-body\" role=\"main\">\\n\\t\\t\\t\\t<header class=\"mw-body-header vector-page-titlebar\">\\n\\t\\t\\t\\t\\t<label\\n\\t\\t\\t\\t\\t\\tid=\"vector-toc-collapsed-button\"\\n\\t\\t\\t\\t\\t\\tclass=\"cdx-button cdx-button--fake-button cdx-button--fake-button--enabled cdx-button--weight-quiet vector-button-flush-left cdx-button--icon-only\"\\n\\t\\t\\t\\t\\t\\tfor=\"vector-toc-collapsed-checkbox\"\\n\\t\\t\\t\\t\\t\\trole=\"button\"\\n\\t\\t\\t\\t\\t\\taria-controls=\"vector-toc\"\\n\\t\\t\\t\\t\\t\\ttabindex=\"0\"\\n\\t\\t\\t\\t\\t\\ttitle=\"Table des matières\">\\n\\t\\t\\t\\t\\t\\t<span class=\"vector-icon mw-ui-icon-wikimedia-listBullet\"></span>\\n\\t\\t\\t\\t\\t\\t<span>Basculer la table des matières</span>\\n\\t\\t\\t\\t\\t</label>\\n\\t\\t\\t\\t\\n\\t\\t\\t\\t\\t<nav role=\"navigation\" aria-label=\"Sommaire\" class=\"vector-toc-landmark\">\\n\\t\\t\\t\\t\\t\\t\\n<div id=\"vector-page-titlebar-toc\" class=\"vector-dropdown vector-page-titlebar-toc vector-button-flush-left\"  >\\n\\t<input type=\"checkbox\"\\n\\t\\tid=\"vector-page-titlebar-toc-checkbox\"\\n\\t\\trole=\"button\"\\n\\t\\taria-haspopup=\"true\"\\n\\t\\tdata-event-name=\"ui.dropdown-vector-page-titlebar-toc\"\\n\\t\\tclass=\"vector-dropdown-checkbox \"\\n\\t\\t\\n\\t\\taria-label=\"Basculer la table des matières\"\\n\\t\\t\\n\\t/>\\n\\t<label\\n\\t\\tid=\"vector-page-titlebar-toc-label\"\\n\\t\\tfor=\"vector-page-titlebar-toc-checkbox\"\\n\\t\\tclass=\"vector-dropdown-label cdx-button cdx-button--fake-button cdx-button--fake-button--enabled cdx-button--weight-quiet cdx-button--icon-only \"\\n\\t\\taria-hidden=\"true\"\\n\\t\\t\\n\\t>\\n\\t\\t<span class=\"vector-icon mw-ui-icon-listBullet mw-ui-icon-wikimedia-listBullet\"></span>\\n\\n\\n\\t\\t<span class=\"vector-dropdown-label-text\">Basculer la table des matières</span>\\n\\t</label>\\n\\t<div class=\"vector-dropdown-content\">\\n\\n\\n\\t\\t\\t\\t\\t\\t\\t<div id=\"vector-page-titlebar-toc-unpinned-container\" class=\"vector-unpinned-container\">\\n\\t\\t\\t</div>\\n\\t\\t\\n\\t</div>\\n</div>\\n\\t\\t\\t\\t\\t</nav>\\n\\t\\t\\t\\t\\t<h1 id=\"firstHeading\" class=\"firstHeading mw-first-heading\"><span class=\"mw-page-title-main\">Jonas Salk</span></h1>\\n\\t\\t\\t\\t\\n\\t\\t\\t\\t\\t\\t\\t\\n<div id=\"p-lang-btn\" class=\"vector-dropdown mw-portlet mw-portlet-lang\"  >\\n\\t<input type=\"checkbox\"\\n\\t\\tid=\"p-lang-btn-checkbox\"\\n\\t\\trole=\"button\"\\n\\t\\taria-haspopup=\"true\"\\n\\t\\tdata-event-name=\"ui.dropdown-p-lang-btn\"\\n\\t\\tclass=\"vector-dropdown-checkbox mw-interlanguage-selector\"\\n\\t\\taria-label=\"Aller à un article dans une autre langue. Disponible en 76 langues.\"\\n\\t\\t\\n\\t\\t\\n\\t/>\\n\\t<label\\n\\t\\tid=\"p-lang-btn-label\"\\n\\t\\tfor=\"p-lang-btn-checkbox\"\\n\\t\\tclass=\"vector-dropdown-label cdx-button cdx-button--fake-button cdx-button--fake-button--enabled cdx-button--weight-quiet cdx-button--action-progressive mw-portlet-lang-heading-76\"\\n\\t\\taria-hidden=\"true\"\\n\\t\\t\\n\\t>\\n\\t\\t<span class=\"vector-icon mw-ui-icon-language-progressive mw-ui-icon-wikimedia-language-progressive\"></span>\\n\\n\\n\\t\\t<span class=\"vector-dropdown-label-text\">76\\xa0langues</span>\\n\\t</label>\\n\\t<div class=\"vector-dropdown-content\">\\n\\n\\t\\t<div class=\"vector-menu-content\">\\n\\t\\t\\t\\n\\t\\t\\t<ul class=\"vector-menu-content-list\"><li class=\"interlanguage-link interwiki-af mw-list-item\"><a href=\"https://af.wikipedia.org/wiki/Jonas_Salk\" title=\"Jonas Salk\\u202f–\\u202fafrikaans\" lang=\"af\" hreflang=\"af\" class=\"interlanguage-link-target\"><span>Afrikaans</span></a></li><li class=\"interlanguage-link interwiki-ar mw-list-item\"><a href=\"https://ar.wikipedia.org/wiki/%D8%AC%D9%88%D9%86%D8%A7%D8%B3_%D8%B3%D9%88%D9%84%D9%83\" title=\"جوناس سولك\\u202f–\\u202farabe\" lang=\"ar\" hreflang=\"ar\" class=\"interlanguage-link-target\"><span>العربية</span></a></li><li class=\"interlanguage-link interwiki-arz mw-list-item\"><a href=\"https://arz.wikipedia.org/wiki/%D8%AC%D9%88%D9%86%D8%A7%D8%B3_%D8%B3%D9%88%D9%84%D9%83\" title=\"جوناس سولك\\u202f–\\u202farabe égyptien\" lang=\"arz\" hreflang=\"arz\" class=\"interlanguage-link-target\"><span>مصرى</span></a></li><li class=\"interlanguage-link interwiki-ast mw-list-item\"><a href=\"https://ast.wikipedia.org/wiki/Jonas_Salk\" title=\"Jonas Salk\\u202f–\\u202fasturien\" lang=\"ast\" hreflang=\"ast\" class=\"interlanguage-link-target\"><span>Asturianu</span></a></li><li class=\"interlanguage-link interwiki-az mw-list-item\"><a href=\"https://az.wikipedia.org/wiki/Conas_Solk\" title=\"Conas Solk\\u202f–\\u202fazerbaïdjanais\" lang=\"az\" hreflang=\"az\" class=\"interlanguage-link-target\"><span>Azərbaycanca</span></a></li><li class=\"interlanguage-link interwiki-azb mw-list-item\"><a href=\"https://azb.wikipedia.org/wiki/%D8%AC%D9%88%D9%86%D8%A7%D8%B3_%D8%B3%D8%A7%D9%84%DA%A9\" title=\"جوناس سالک\\u202f–\\u202fSouth Azerbaijani\" lang=\"azb\" hreflang=\"azb\" class=\"interlanguage-link-target\"><span>تۆرکجه</span></a></li><li class=\"interlanguage-link interwiki-be mw-list-item\"><a href=\"https://be.wikipedia.org/wiki/%D0%94%D0%B6%D0%BE%D0%BD%D0%B0%D1%81_%D0%A1%D0%BE%D0%BB%D0%BA\" title=\"Джонас Солк\\u202f–\\u202fbiélorusse\" lang=\"be\" hreflang=\"be\" class=\"interlanguage-link-target\"><span>Беларуская</span></a></li><li class=\"interlanguage-link interwiki-bg mw-list-item\"><a href=\"https://bg.wikipedia.org/wiki/%D0%94%D0%B6%D0%BE%D0%BD%D0%B0%D1%81_%D0%A1%D0%BE%D0%BB%D0%BA\" title=\"Джонас Солк\\u202f–\\u202fbulgare\" lang=\"bg\" hreflang=\"bg\" class=\"interlanguage-link-target\"><span>Български</span></a></li><li class=\"interlanguage-link interwiki-bn mw-list-item\"><a href=\"https://bn.wikipedia.org/wiki/%E0%A6%9C%E0%A7%8B%E0%A6%A8%E0%A6%BE%E0%A6%B8_%E0%A6%8F%E0%A6%A1%E0%A6%93%E0%A6%AF%E0%A6%BC%E0%A6%BE%E0%A6%B0%E0%A7%8D%E0%A6%A1_%E0%A6%B8%E0%A6%B2%E0%A7%8D%E0%A6%95\" title=\"জোনাস এডওয়ার্ড সল্ক\\u202f–\\u202fbengali\" lang=\"bn\" hreflang=\"bn\" class=\"interlanguage-link-target\"><span>বাংলা</span></a></li><li class=\"interlanguage-link interwiki-bs mw-list-item\"><a href=\"https://bs.wikipedia.org/wiki/Jonas_Salk\" title=\"Jonas Salk\\u202f–\\u202fbosniaque\" lang=\"bs\" hreflang=\"bs\" class=\"interlanguage-link-target\"><span>Bosanski</span></a></li><li class=\"interlanguage-link interwiki-ca mw-list-item\"><a href=\"https://ca.wikipedia.org/wiki/Jonas_Salk\" title=\"Jonas Salk\\u202f–\\u202fcatalan\" lang=\"ca\" hreflang=\"ca\" class=\"interlanguage-link-target\"><span>Català</span></a></li><li class=\"interlanguage-link interwiki-cs mw-list-item\"><a href=\"https://cs.wikipedia.org/wiki/Jonas_Salk\" title=\"Jonas Salk\\u202f–\\u202ftchèque\" lang=\"cs\" hreflang=\"cs\" class=\"interlanguage-link-target\"><span>Čeština</span></a></li><li class=\"interlanguage-link interwiki-cy mw-list-item\"><a href=\"https://cy.wikipedia.org/wiki/Jonas_Salk\" title=\"Jonas Salk\\u202f–\\u202fgallois\" lang=\"cy\" hreflang=\"cy\" class=\"interlanguage-link-target\"><span>Cymraeg</span></a></li><li class=\"interlanguage-link interwiki-da mw-list-item\"><a href=\"https://da.wikipedia.org/wiki/Jonas_Salk\" title=\"Jonas Salk\\u202f–\\u202fdanois\" lang=\"da\" hreflang=\"da\" class=\"interlanguage-link-target\"><span>Dansk</span></a></li><li class=\"interlanguage-link interwiki-de mw-list-item\"><a href=\"https://de.wikipedia.org/wiki/Jonas_Salk\" title=\"Jonas Salk\\u202f–\\u202fallemand\" lang=\"de\" hreflang=\"de\" class=\"interlanguage-link-target\"><span>Deutsch</span></a></li><li class=\"interlanguage-link interwiki-el mw-list-item\"><a href=\"https://el.wikipedia.org/wiki/%CE%A4%CE%B6%CF%8C%CE%BD%CE%B1%CF%82_%CE%A3%CE%BF%CE%BB%CE%BA\" title=\"Τζόνας Σολκ\\u202f–\\u202fgrec\" lang=\"el\" hreflang=\"el\" class=\"interlanguage-link-target\"><span>Ελληνικά</span></a></li><li class=\"interlanguage-link interwiki-en mw-list-item\"><a href=\"https://en.wikipedia.org/wiki/Jonas_Salk\" title=\"Jonas Salk\\u202f–\\u202fanglais\" lang=\"en\" hreflang=\"en\" class=\"interlanguage-link-target\"><span>English</span></a></li><li class=\"interlanguage-link interwiki-eo mw-list-item\"><a href=\"https://eo.wikipedia.org/wiki/Jonas_Salk\" title=\"Jonas Salk\\u202f–\\u202fespéranto\" lang=\"eo\" hreflang=\"eo\" class=\"interlanguage-link-target\"><span>Esperanto</span></a></li><li class=\"interlanguage-link interwiki-es mw-list-item\"><a href=\"https://es.wikipedia.org/wiki/Jonas_Salk\" title=\"Jonas Salk\\u202f–\\u202fespagnol\" lang=\"es\" hreflang=\"es\" class=\"interlanguage-link-target\"><span>Español</span></a></li><li class=\"interlanguage-link interwiki-et mw-list-item\"><a href=\"https://et.wikipedia.org/wiki/Jonas_Salk\" title=\"Jonas Salk\\u202f–\\u202festonien\" lang=\"et\" hreflang=\"et\" class=\"interlanguage-link-target\"><span>Eesti</span></a></li><li class=\"interlanguage-link interwiki-eu mw-list-item\"><a href=\"https://eu.wikipedia.org/wiki/Jonas_Salk\" title=\"Jonas Salk\\u202f–\\u202fbasque\" lang=\"eu\" hreflang=\"eu\" class=\"interlanguage-link-target\"><span>Euskara</span></a></li><li class=\"interlanguage-link interwiki-fa mw-list-item\"><a href=\"https://fa.wikipedia.org/wiki/%D8%AC%D9%88%D9%86%D8%A7%D8%B3_%D8%B3%D8%A7%D9%84%DA%A9\" title=\"جوناس سالک\\u202f–\\u202fpersan\" lang=\"fa\" hreflang=\"fa\" class=\"interlanguage-link-target\"><span>فارسی</span></a></li><li class=\"interlanguage-link interwiki-fi mw-list-item\"><a href=\"https://fi.wikipedia.org/wiki/Jonas_Salk\" title=\"Jonas Salk\\u202f–\\u202ffinnois\" lang=\"fi\" hreflang=\"fi\" class=\"interlanguage-link-target\"><span>Suomi</span></a></li><li class=\"interlanguage-link interwiki-fy mw-list-item\"><a href=\"https://fy.wikipedia.org/wiki/Jonas_Salk\" title=\"Jonas Salk\\u202f–\\u202ffrison occidental\" lang=\"fy\" hreflang=\"fy\" class=\"interlanguage-link-target\"><span>Frysk</span></a></li><li class=\"interlanguage-link interwiki-ga mw-list-item\"><a href=\"https://ga.wikipedia.org/wiki/Jonas_Edward_Salk\" title=\"Jonas Edward Salk\\u202f–\\u202firlandais\" lang=\"ga\" hreflang=\"ga\" class=\"interlanguage-link-target\"><span>Gaeilge</span></a></li><li class=\"interlanguage-link interwiki-gl mw-list-item\"><a href=\"https://gl.wikipedia.org/wiki/Jonas_Salk\" title=\"Jonas Salk\\u202f–\\u202fgalicien\" lang=\"gl\" hreflang=\"gl\" class=\"interlanguage-link-target\"><span>Galego</span></a></li><li class=\"interlanguage-link interwiki-he mw-list-item\"><a href=\"https://he.wikipedia.org/wiki/%D7%99%D7%95%D7%A0%D7%94_%D7%A1%D7%90%D7%9C%D7%A7\" title=\"יונה סאלק\\u202f–\\u202fhébreu\" lang=\"he\" hreflang=\"he\" class=\"interlanguage-link-target\"><span>עברית</span></a></li><li class=\"interlanguage-link interwiki-hi mw-list-item\"><a href=\"https://hi.wikipedia.org/wiki/%E0%A4%9C%E0%A5%8B%E0%A4%A8%E0%A4%BE%E0%A4%B8_%E0%A4%B8%E0%A5%89%E0%A4%B2%E0%A5%8D%E0%A4%95\" title=\"जोनास सॉल्क\\u202f–\\u202fhindi\" lang=\"hi\" hreflang=\"hi\" class=\"interlanguage-link-target\"><span>हिन्दी</span></a></li><li class=\"interlanguage-link interwiki-hr mw-list-item\"><a href=\"https://hr.wikipedia.org/wiki/Jonas_Salk\" title=\"Jonas Salk\\u202f–\\u202fcroate\" lang=\"hr\" hreflang=\"hr\" class=\"interlanguage-link-target\"><span>Hrvatski</span></a></li><li class=\"interlanguage-link interwiki-hu mw-list-item\"><a href=\"https://hu.wikipedia.org/wiki/Jonas_Edward_Salk\" title=\"Jonas Edward Salk\\u202f–\\u202fhongrois\" lang=\"hu\" hreflang=\"hu\" class=\"interlanguage-link-target\"><span>Magyar</span></a></li><li class=\"interlanguage-link interwiki-hy mw-list-item\"><a href=\"https://hy.wikipedia.org/wiki/%D5%8B%D5%B8%D5%B6%D5%A1%D5%BD_%D5%8D%D5%B8%D5%AC%D6%84\" title=\"Ջոնաս Սոլք\\u202f–\\u202farménien\" lang=\"hy\" hreflang=\"hy\" class=\"interlanguage-link-target\"><span>Հայերեն</span></a></li><li class=\"interlanguage-link interwiki-id mw-list-item\"><a href=\"https://id.wikipedia.org/wiki/Jonas_Salk\" title=\"Jonas Salk\\u202f–\\u202findonésien\" lang=\"id\" hreflang=\"id\" class=\"interlanguage-link-target\"><span>Bahasa Indonesia</span></a></li><li class=\"interlanguage-link interwiki-io mw-list-item\"><a href=\"https://io.wikipedia.org/wiki/Jonas_Salk\" title=\"Jonas Salk\\u202f–\\u202fido\" lang=\"io\" hreflang=\"io\" class=\"interlanguage-link-target\"><span>Ido</span></a></li><li class=\"interlanguage-link interwiki-is mw-list-item\"><a href=\"https://is.wikipedia.org/wiki/Jonas_Salk\" title=\"Jonas Salk\\u202f–\\u202fislandais\" lang=\"is\" hreflang=\"is\" class=\"interlanguage-link-target\"><span>Íslenska</span></a></li><li class=\"interlanguage-link interwiki-it mw-list-item\"><a href=\"https://it.wikipedia.org/wiki/Jonas_Salk\" title=\"Jonas Salk\\u202f–\\u202fitalien\" lang=\"it\" hreflang=\"it\" class=\"interlanguage-link-target\"><span>Italiano</span></a></li><li class=\"interlanguage-link interwiki-ja mw-list-item\"><a href=\"https://ja.wikipedia.org/wiki/%E3%82%B8%E3%83%A7%E3%83%8A%E3%82%B9%E3%83%BB%E3%82%BD%E3%83%BC%E3%82%AF\" title=\"ジョナス・ソーク\\u202f–\\u202fjaponais\" lang=\"ja\" hreflang=\"ja\" class=\"interlanguage-link-target\"><span>日本語</span></a></li><li class=\"interlanguage-link interwiki-jv mw-list-item\"><a href=\"https://jv.wikipedia.org/wiki/Jonas_Edward_Salk\" title=\"Jonas Edward Salk\\u202f–\\u202fjavanais\" lang=\"jv\" hreflang=\"jv\" class=\"interlanguage-link-target\"><span>Jawa</span></a></li><li class=\"interlanguage-link interwiki-ko mw-list-item\"><a href=\"https://ko.wikipedia.org/wiki/%EC%A1%B0%EB%84%88%EC%8A%A4_%EC%86%8C%ED%81%AC\" title=\"조너스 소크\\u202f–\\u202fcoréen\" lang=\"ko\" hreflang=\"ko\" class=\"interlanguage-link-target\"><span>한국어</span></a></li><li class=\"interlanguage-link interwiki-la mw-list-item\"><a href=\"https://la.wikipedia.org/wiki/Ionas_Salk\" title=\"Ionas Salk\\u202f–\\u202flatin\" lang=\"la\" hreflang=\"la\" class=\"interlanguage-link-target\"><span>Latina</span></a></li><li class=\"interlanguage-link interwiki-lt mw-list-item\"><a href=\"https://lt.wikipedia.org/wiki/Jonas_Salk\" title=\"Jonas Salk\\u202f–\\u202flituanien\" lang=\"lt\" hreflang=\"lt\" class=\"interlanguage-link-target\"><span>Lietuvių</span></a></li><li class=\"interlanguage-link interwiki-lv mw-list-item\"><a href=\"https://lv.wikipedia.org/wiki/D%C5%BEonass_Solks\" title=\"Džonass Solks\\u202f–\\u202fletton\" lang=\"lv\" hreflang=\"lv\" class=\"interlanguage-link-target\"><span>Latviešu</span></a></li><li class=\"interlanguage-link interwiki-mg mw-list-item\"><a href=\"https://mg.wikipedia.org/wiki/Jonas_Salk\" title=\"Jonas Salk\\u202f–\\u202fmalgache\" lang=\"mg\" hreflang=\"mg\" class=\"interlanguage-link-target\"><span>Malagasy</span></a></li><li class=\"interlanguage-link interwiki-mk mw-list-item\"><a href=\"https://mk.wikipedia.org/wiki/%D0%8F%D0%BE%D0%BD%D0%B0%D1%81_%D0%A1%D0%B0%D0%BB%D0%BA\" title=\"Џонас Салк\\u202f–\\u202fmacédonien\" lang=\"mk\" hreflang=\"mk\" class=\"interlanguage-link-target\"><span>Македонски</span></a></li><li class=\"interlanguage-link interwiki-ml mw-list-item\"><a href=\"https://ml.wikipedia.org/wiki/%E0%B4%9C%E0%B5%8B%E0%B4%A8%E0%B4%B8%E0%B5%8D_%E0%B4%B8%E0%B4%BE%E0%B5%BD%E0%B4%95%E0%B5%8D\" title=\"ജോനസ് സാൽക്\\u202f–\\u202fmalayalam\" lang=\"ml\" hreflang=\"ml\" class=\"interlanguage-link-target\"><span>മലയാളം</span></a></li><li class=\"interlanguage-link interwiki-ms mw-list-item\"><a href=\"https://ms.wikipedia.org/wiki/Jonas_Salk\" title=\"Jonas Salk\\u202f–\\u202fmalais\" lang=\"ms\" hreflang=\"ms\" class=\"interlanguage-link-target\"><span>Bahasa Melayu</span></a></li><li class=\"interlanguage-link interwiki-nl mw-list-item\"><a href=\"https://nl.wikipedia.org/wiki/Jonas_Salk\" title=\"Jonas Salk\\u202f–\\u202fnéerlandais\" lang=\"nl\" hreflang=\"nl\" class=\"interlanguage-link-target\"><span>Nederlands</span></a></li><li class=\"interlanguage-link interwiki-no mw-list-item\"><a href=\"https://no.wikipedia.org/wiki/Jonas_Salk\" title=\"Jonas Salk\\u202f–\\u202fnorvégien bokmål\" lang=\"nb\" hreflang=\"nb\" class=\"interlanguage-link-target\"><span>Norsk bokmål</span></a></li><li class=\"interlanguage-link interwiki-pa mw-list-item\"><a href=\"https://pa.wikipedia.org/wiki/%E0%A8%9C%E0%A9%8B%E0%A8%A8%E0%A8%BE%E0%A8%B8_%E0%A8%B8%E0%A8%BE%E0%A8%B2%E0%A8%95\" title=\"ਜੋਨਾਸ ਸਾਲਕ\\u202f–\\u202fpendjabi\" lang=\"pa\" hreflang=\"pa\" class=\"interlanguage-link-target\"><span>ਪੰਜਾਬੀ</span></a></li><li class=\"interlanguage-link interwiki-pl mw-list-item\"><a href=\"https://pl.wikipedia.org/wiki/Jonas_Salk\" title=\"Jonas Salk\\u202f–\\u202fpolonais\" lang=\"pl\" hreflang=\"pl\" class=\"interlanguage-link-target\"><span>Polski</span></a></li><li class=\"interlanguage-link interwiki-pnb mw-list-item\"><a href=\"https://pnb.wikipedia.org/wiki/%D8%AC%D9%88%D9%86%D8%B3_%D8%B3%D8%A7%D9%84%DA%A9\" title=\"جونس سالک\\u202f–\\u202fWestern Punjabi\" lang=\"pnb\" hreflang=\"pnb\" class=\"interlanguage-link-target\"><span>پنجابی</span></a></li><li class=\"interlanguage-link interwiki-pt mw-list-item\"><a href=\"https://pt.wikipedia.org/wiki/Jonas_Salk\" title=\"Jonas Salk\\u202f–\\u202fportugais\" lang=\"pt\" hreflang=\"pt\" class=\"interlanguage-link-target\"><span>Português</span></a></li><li class=\"interlanguage-link interwiki-ro mw-list-item\"><a href=\"https://ro.wikipedia.org/wiki/Jonas_Salk\" title=\"Jonas Salk\\u202f–\\u202froumain\" lang=\"ro\" hreflang=\"ro\" class=\"interlanguage-link-target\"><span>Română</span></a></li><li class=\"interlanguage-link interwiki-ru mw-list-item\"><a href=\"https://ru.wikipedia.org/wiki/%D0%A1%D0%BE%D0%BB%D0%BA,_%D0%94%D0%B6%D0%BE%D0%BD%D0%B0%D1%81\" title=\"Солк, Джонас\\u202f–\\u202frusse\" lang=\"ru\" hreflang=\"ru\" class=\"interlanguage-link-target\"><span>Русский</span></a></li><li class=\"interlanguage-link interwiki-sa mw-list-item\"><a href=\"https://sa.wikipedia.org/wiki/%E0%A4%9C%E0%A5%8B%E0%A4%A8%E0%A4%BE%E0%A4%B8%E0%A5%8D_%E0%A4%8F%E0%A4%A1%E0%A5%8D%E0%A4%B5%E0%A4%B0%E0%A5%8D%E0%A4%A1%E0%A5%8D_%E0%A4%B8%E0%A4%BE%E0%A4%95%E0%A5%8D\" title=\"जोनास् एड्वर्ड् साक्\\u202f–\\u202fsanskrit\" lang=\"sa\" hreflang=\"sa\" class=\"interlanguage-link-target\"><span>संस्कृतम्</span></a></li><li class=\"interlanguage-link interwiki-sco mw-list-item\"><a href=\"https://sco.wikipedia.org/wiki/Jonas_Salk\" title=\"Jonas Salk\\u202f–\\u202fécossais\" lang=\"sco\" hreflang=\"sco\" class=\"interlanguage-link-target\"><span>Scots</span></a></li><li class=\"interlanguage-link interwiki-sh mw-list-item\"><a href=\"https://sh.wikipedia.org/wiki/Jonas_Salk\" title=\"Jonas Salk\\u202f–\\u202fserbo-croate\" lang=\"sh\" hreflang=\"sh\" class=\"interlanguage-link-target\"><span>Srpskohrvatski / српскохрватски</span></a></li><li class=\"interlanguage-link interwiki-si mw-list-item\"><a href=\"https://si.wikipedia.org/wiki/%E0%B6%A2%E0%B7%9D%E0%B6%B1%E0%B7%83%E0%B7%8A_%E0%B7%83%E0%B7%9D%E0%B6%9A%E0%B7%8A\" title=\"ජෝනස් සෝක්\\u202f–\\u202fcingalais\" lang=\"si\" hreflang=\"si\" class=\"interlanguage-link-target\"><span>සිංහල</span></a></li><li class=\"interlanguage-link interwiki-simple mw-list-item\"><a href=\"https://simple.wikipedia.org/wiki/Jonas_Salk\" title=\"Jonas Salk\\u202f–\\u202fSimple English\" lang=\"en-simple\" hreflang=\"en-simple\" class=\"interlanguage-link-target\"><span>Simple English</span></a></li><li class=\"interlanguage-link interwiki-sk mw-list-item\"><a href=\"https://sk.wikipedia.org/wiki/Jonas_Salk\" title=\"Jonas Salk\\u202f–\\u202fslovaque\" lang=\"sk\" hreflang=\"sk\" class=\"interlanguage-link-target\"><span>Slovenčina</span></a></li><li class=\"interlanguage-link interwiki-sl mw-list-item\"><a href=\"https://sl.wikipedia.org/wiki/Jonas_Salk\" title=\"Jonas Salk\\u202f–\\u202fslovène\" lang=\"sl\" hreflang=\"sl\" class=\"interlanguage-link-target\"><span>Slovenščina</span></a></li><li class=\"interlanguage-link interwiki-sr mw-list-item\"><a href=\"https://sr.wikipedia.org/wiki/%D0%8F%D0%BE%D0%BD%D0%B0%D1%81_%D0%A1%D0%BE%D0%BB%D0%BA\" title=\"Џонас Солк\\u202f–\\u202fserbe\" lang=\"sr\" hreflang=\"sr\" class=\"interlanguage-link-target\"><span>Српски / srpski</span></a></li><li class=\"interlanguage-link interwiki-sv mw-list-item\"><a href=\"https://sv.wikipedia.org/wiki/Jonas_Salk\" title=\"Jonas Salk\\u202f–\\u202fsuédois\" lang=\"sv\" hreflang=\"sv\" class=\"interlanguage-link-target\"><span>Svenska</span></a></li><li class=\"interlanguage-link interwiki-ta mw-list-item\"><a href=\"https://ta.wikipedia.org/wiki/%E0%AE%AF%E0%AF%8B%E0%AE%A9%E0%AE%BE%E0%AE%9A%E0%AF%81_%E0%AE%9A%E0%AE%BE%E0%AE%B2%E0%AF%8D%E0%AE%95%E0%AF%8D\" title=\"யோனாசு சால்க்\\u202f–\\u202ftamoul\" lang=\"ta\" hreflang=\"ta\" class=\"interlanguage-link-target\"><span>தமிழ்</span></a></li><li class=\"interlanguage-link interwiki-te mw-list-item\"><a href=\"https://te.wikipedia.org/wiki/%E0%B0%9C%E0%B1%8B%E0%B0%A8%E0%B0%B8%E0%B1%8D_%E0%B0%B8%E0%B0%BE%E0%B0%B2%E0%B1%8D%E0%B0%95%E0%B1%8D\" title=\"జోనస్ సాల్క్\\u202f–\\u202ftélougou\" lang=\"te\" hreflang=\"te\" class=\"interlanguage-link-target\"><span>తెలుగు</span></a></li><li class=\"interlanguage-link interwiki-th mw-list-item\"><a href=\"https://th.wikipedia.org/wiki/%E0%B9%82%E0%B8%88%E0%B8%99%E0%B8%B1%E0%B8%AA_%E0%B8%8B%E0%B8%AD%E0%B8%A5%E0%B9%8C%E0%B8%81\" title=\"โจนัส ซอล์ก\\u202f–\\u202fthaï\" lang=\"th\" hreflang=\"th\" class=\"interlanguage-link-target\"><span>ไทย</span></a></li><li class=\"interlanguage-link interwiki-tl mw-list-item\"><a href=\"https://tl.wikipedia.org/wiki/Jonas_Salk\" title=\"Jonas Salk\\u202f–\\u202ftagalog\" lang=\"tl\" hreflang=\"tl\" class=\"interlanguage-link-target\"><span>Tagalog</span></a></li><li class=\"interlanguage-link interwiki-tr mw-list-item\"><a href=\"https://tr.wikipedia.org/wiki/Jonas_Salk\" title=\"Jonas Salk\\u202f–\\u202fturc\" lang=\"tr\" hreflang=\"tr\" class=\"interlanguage-link-target\"><span>Türkçe</span></a></li><li class=\"interlanguage-link interwiki-uk mw-list-item\"><a href=\"https://uk.wikipedia.org/wiki/%D0%94%D0%B6%D0%BE%D0%BD%D0%B0%D1%81_%D0%A1%D0%BE%D0%BB%D0%BA\" title=\"Джонас Солк\\u202f–\\u202fukrainien\" lang=\"uk\" hreflang=\"uk\" class=\"interlanguage-link-target\"><span>Українська</span></a></li><li class=\"interlanguage-link interwiki-ur mw-list-item\"><a href=\"https://ur.wikipedia.org/wiki/%D8%AC%D9%88%D9%86%D8%B3_%D8%B3%D8%A7%D9%84%DA%A9\" title=\"جونس سالک\\u202f–\\u202fourdou\" lang=\"ur\" hreflang=\"ur\" class=\"interlanguage-link-target\"><span>اردو</span></a></li><li class=\"interlanguage-link interwiki-vi mw-list-item\"><a href=\"https://vi.wikipedia.org/wiki/Jonas_Salk\" title=\"Jonas Salk\\u202f–\\u202fvietnamien\" lang=\"vi\" hreflang=\"vi\" class=\"interlanguage-link-target\"><span>Tiếng Việt</span></a></li><li class=\"interlanguage-link interwiki-war mw-list-item\"><a href=\"https://war.wikipedia.org/wiki/Jonas_Salk\" title=\"Jonas Salk\\u202f–\\u202fwaray\" lang=\"war\" hreflang=\"war\" class=\"interlanguage-link-target\"><span>Winaray</span></a></li><li class=\"interlanguage-link interwiki-wuu mw-list-item\"><a href=\"https://wuu.wikipedia.org/wiki/%E4%B9%94%E7%BA%B3%E6%96%AF%C2%B7%E7%B4%A2%E5%B0%94%E5%85%8B\" title=\"乔纳斯·索尔克\\u202f–\\u202fwu\" lang=\"wuu\" hreflang=\"wuu\" class=\"interlanguage-link-target\"><span>吴语</span></a></li><li class=\"interlanguage-link interwiki-xmf mw-list-item\"><a href=\"https://xmf.wikipedia.org/wiki/%E1%83%AF%E1%83%9D%E1%83%9C%E1%83%90%E1%83%A1_%E1%83%A1%E1%83%9D%E1%83%9A%E1%83%99%E1%83%98\" title=\"ჯონას სოლკი\\u202f–\\u202fmingrélien\" lang=\"xmf\" hreflang=\"xmf\" class=\"interlanguage-link-target\"><span>მარგალური</span></a></li><li class=\"interlanguage-link interwiki-yi mw-list-item\"><a href=\"https://yi.wikipedia.org/wiki/%D7%99%D7%95%D7%A0%D7%94_%D7%A1%D7%90%D7%9C%D7%A7\" title=\"יונה סאלק\\u202f–\\u202fyiddish\" lang=\"yi\" hreflang=\"yi\" class=\"interlanguage-link-target\"><span>ייִדיש</span></a></li><li class=\"interlanguage-link interwiki-zh mw-list-item\"><a href=\"https://zh.wikipedia.org/wiki/%E4%B9%94%E7%BA%B3%E6%96%AF%C2%B7%E7%B4%A2%E5%B0%94%E5%85%8B\" title=\"乔纳斯·索尔克\\u202f–\\u202fchinois\" lang=\"zh\" hreflang=\"zh\" class=\"interlanguage-link-target\"><span>中文</span></a></li><li class=\"interlanguage-link interwiki-zh-yue mw-list-item\"><a href=\"https://zh-yue.wikipedia.org/wiki/%E7%A5%96%E7%B4%8D%E6%96%AF%E6%B2%99%E5%85%8B\" title=\"祖納斯沙克\\u202f–\\u202fcantonais\" lang=\"yue\" hreflang=\"yue\" class=\"interlanguage-link-target\"><span>粵語</span></a></li></ul>\\n\\t\\t\\t<div class=\"after-portlet after-portlet-lang\"><span class=\"wb-langlinks-edit wb-langlinks-link\"><a href=\"https://www.wikidata.org/wiki/Special:EntityPage/Q200101#sitelinks-wikipedia\" title=\"Modifier les liens interlangues\" class=\"wbc-editpage\">Modifier les liens</a></span></div>\\n\\t\\t</div>\\n\\n\\t</div>\\n</div>\\n\\t\\t\\t\\t</header>\\n\\t\\t\\t\\t<div class=\"vector-page-toolbar\">\\n\\t\\t\\t\\t\\t<div class=\"vector-page-toolbar-container\">\\n\\t\\t\\t\\t\\t\\t<div id=\"left-navigation\">\\n\\t\\t\\t\\t\\t\\t\\t<nav aria-label=\"Espaces de noms\">\\n\\t\\t\\t\\t\\t\\t\\t\\t\\n<div id=\"p-associated-pages\" class=\"vector-menu vector-menu-tabs mw-portlet mw-portlet-associated-pages\"  >\\n\\t<div class=\"vector-menu-content\">\\n\\t\\t\\n\\t\\t<ul class=\"vector-menu-content-list\">\\n\\t\\t\\t<li id=\"ca-nstab-main\" class=\"selected vector-tab-noicon mw-list-item\"><a data-mw=\"interface\" href=\"/wiki/Jonas_Salk\" title=\"Voir le contenu de la page [c]\" accesskey=\"c\" class=\"\"><span>Article</span></a>\\n</li>\\n<li id=\"ca-talk\" class=\"vector-tab-noicon mw-list-item\"><a data-mw=\"interface\" href=\"/wiki/Discussion:Jonas_Salk\" rel=\"discussion\" title=\"Discussion au sujet de cette page de contenu [t]\" accesskey=\"t\" class=\"\"><span>Discussion</span></a>\\n</li>\\n\\n\\t\\t</ul>\\n\\t\\t\\n\\t</div>\\n</div>\\n\\n\\t\\t\\t\\t\\t\\t\\t\\t\\n\\n<div id=\"p-variants\" class=\"vector-dropdown mw-portlet mw-portlet-variants emptyPortlet\"  >\\n\\t<input type=\"checkbox\"\\n\\t\\tid=\"p-variants-checkbox\"\\n\\t\\trole=\"button\"\\n\\t\\taria-haspopup=\"true\"\\n\\t\\tdata-event-name=\"ui.dropdown-p-variants\"\\n\\t\\tclass=\"vector-dropdown-checkbox\"\\n\\t\\taria-label=\"Modifier la variante de langue\"\\n\\t\\t\\n\\t\\t\\n\\t/>\\n\\t<label\\n\\t\\tid=\"p-variants-label\"\\n\\t\\tfor=\"p-variants-checkbox\"\\n\\t\\tclass=\"vector-dropdown-label \"\\n\\t\\taria-hidden=\"true\"\\n\\t\\t\\n\\t>\\n\\t\\t\\n\\t\\t<span class=\"vector-dropdown-label-text\">français</span>\\n\\t</label>\\n\\t<div class=\"vector-dropdown-content\">\\n\\n\\t<div class=\"vector-menu-content\">\\n\\t\\t\\n\\t\\t<ul class=\"vector-menu-content-list\"></ul>\\n\\t\\t\\n\\t</div>\\n\\n\\t</div>\\n</div>\\n\\t\\t\\t\\t\\t\\t\\t</nav>\\n\\t\\t\\t\\t\\t\\t</div>\\n\\t\\t\\t\\t\\t\\t<div id=\"right-navigation\" class=\"vector-collapsible\">\\n\\t\\t\\t\\t\\t\\t\\t<nav aria-label=\"Affichages\">\\n\\t\\t\\t\\t\\t\\t\\t\\t\\n<div id=\"p-views\" class=\"vector-menu vector-menu-tabs mw-portlet mw-portlet-views\"  >\\n\\t<div class=\"vector-menu-content\">\\n\\t\\t\\n\\t\\t<ul class=\"vector-menu-content-list\">\\n\\t\\t\\t<li id=\"ca-view\" class=\"selected vector-tab-noicon mw-list-item\"><a data-mw=\"interface\" href=\"/wiki/Jonas_Salk\" class=\"\"><span>Lire</span></a>\\n</li>\\n<li id=\"ca-ve-edit\" class=\"vector-tab-noicon mw-list-item\"><a data-mw=\"interface\" href=\"/w/index.php?title=Jonas_Salk&amp;veaction=edit\" title=\"Modifier cette page [v]\" accesskey=\"v\" class=\"\"><span>Modifier</span></a>\\n</li>\\n<li id=\"ca-edit\" class=\"collapsible vector-tab-noicon mw-list-item\"><a data-mw=\"interface\" href=\"/w/index.php?title=Jonas_Salk&amp;action=edit\" title=\"Modifier le wikicode [e]\" accesskey=\"e\" class=\"\"><span>Modifier le code</span></a>\\n</li>\\n<li id=\"ca-history\" class=\"vector-tab-noicon mw-list-item\"><a data-mw=\"interface\" href=\"/w/index.php?title=Jonas_Salk&amp;action=history\" title=\"Historique des versions de cette page [h]\" accesskey=\"h\" class=\"\"><span>Voir l’historique</span></a>\\n</li>\\n\\n\\t\\t</ul>\\n\\t\\t\\n\\t</div>\\n</div>\\n\\n\\t\\t\\t\\t\\t\\t\\t</nav>\\n\\t\\t\\t\\t\\n\\t\\t\\t\\t\\t\\t\\t<nav class=\"vector-page-tools-landmark\" aria-label=\"Plus d’options\">\\n\\t\\t\\t\\t\\t\\t\\t\\t\\n<div id=\"vector-page-tools-dropdown\" class=\"vector-dropdown vector-page-tools-dropdown\"  >\\n\\t<input type=\"checkbox\"\\n\\t\\tid=\"vector-page-tools-dropdown-checkbox\"\\n\\t\\trole=\"button\"\\n\\t\\taria-haspopup=\"true\"\\n\\t\\tdata-event-name=\"ui.dropdown-vector-page-tools-dropdown\"\\n\\t\\tclass=\"vector-dropdown-checkbox \"\\n\\t\\t\\n\\t\\taria-label=\"Outils\"\\n\\t\\t\\n\\t/>\\n\\t<label\\n\\t\\tid=\"vector-page-tools-dropdown-label\"\\n\\t\\tfor=\"vector-page-tools-dropdown-checkbox\"\\n\\t\\tclass=\"vector-dropdown-label cdx-button cdx-button--fake-button cdx-button--fake-button--enabled cdx-button--weight-quiet\"\\n\\t\\taria-hidden=\"true\"\\n\\t\\t\\n\\t>\\n\\t\\t\\n\\t\\t<span class=\"vector-dropdown-label-text\">Outils</span>\\n\\t</label>\\n\\t<div class=\"vector-dropdown-content\">\\n\\n\\n\\t\\t\\t\\t\\t\\t\\t\\t\\t<div id=\"vector-page-tools-unpinned-container\" class=\"vector-unpinned-container\">\\n\\t\\t\\t\\t\\t\\t\\n<div id=\"vector-page-tools\" class=\"vector-page-tools vector-pinnable-element\">\\n\\t<div\\n\\tclass=\"vector-pinnable-header vector-page-tools-pinnable-header vector-pinnable-header-unpinned\"\\n\\tdata-feature-name=\"page-tools-pinned\"\\n\\tdata-pinnable-element-id=\"vector-page-tools\"\\n\\tdata-pinned-container-id=\"vector-page-tools-pinned-container\"\\n\\tdata-unpinned-container-id=\"vector-page-tools-unpinned-container\"\\n>\\n\\t<div class=\"vector-pinnable-header-label\">Outils</div>\\n\\t<button class=\"vector-pinnable-header-toggle-button vector-pinnable-header-pin-button\" data-event-name=\"pinnable-header.vector-page-tools.pin\">déplacer vers la barre latérale</button>\\n\\t<button class=\"vector-pinnable-header-toggle-button vector-pinnable-header-unpin-button\" data-event-name=\"pinnable-header.vector-page-tools.unpin\">masquer</button>\\n</div>\\n\\n\\t\\n<div id=\"p-cactions\" class=\"vector-menu mw-portlet mw-portlet-cactions emptyPortlet vector-has-collapsible-items\"  title=\"Plus d’options\" >\\n\\t<div class=\"vector-menu-heading\">\\n\\t\\tActions\\n\\t</div>\\n\\t<div class=\"vector-menu-content\">\\n\\t\\t\\n\\t\\t<ul class=\"vector-menu-content-list\"><li id=\"ca-more-view\" class=\"selected vector-more-collapsible-item mw-list-item\"><a href=\"/wiki/Jonas_Salk\"><span>Lire</span></a></li><li id=\"ca-more-ve-edit\" class=\"vector-more-collapsible-item mw-list-item\"><a href=\"/w/index.php?title=Jonas_Salk&amp;veaction=edit\"><span>Modifier</span></a></li><li id=\"ca-more-edit\" class=\"collapsible vector-more-collapsible-item mw-list-item\"><a href=\"/w/index.php?title=Jonas_Salk&amp;action=edit\"><span>Modifier le code</span></a></li><li id=\"ca-more-history\" class=\"vector-more-collapsible-item mw-list-item\"><a href=\"/w/index.php?title=Jonas_Salk&amp;action=history\"><span>Voir l’historique</span></a></li></ul>\\n\\t\\t\\n\\t</div>\\n</div>\\n\\n<div id=\"p-tb\" class=\"vector-menu mw-portlet mw-portlet-tb\"  >\\n\\t<div class=\"vector-menu-heading\">\\n\\t\\tGénéral\\n\\t</div>\\n\\t<div class=\"vector-menu-content\">\\n\\t\\t\\n\\t\\t<ul class=\"vector-menu-content-list\"><li id=\"t-whatlinkshere\" class=\"mw-list-item\"><a href=\"/wiki/Sp%C3%A9cial:Pages_li%C3%A9es/Jonas_Salk\" title=\"Liste des pages liées qui pointent sur celle-ci [j]\" accesskey=\"j\"><span>Pages liées</span></a></li><li id=\"t-recentchangeslinked\" class=\"mw-list-item\"><a href=\"/wiki/Sp%C3%A9cial:Suivi_des_liens/Jonas_Salk\" rel=\"nofollow\" title=\"Liste des modifications récentes des pages appelées par celle-ci [k]\" accesskey=\"k\"><span>Suivi des pages liées</span></a></li><li id=\"t-upload\" class=\"mw-list-item\"><a href=\"/wiki/Aide:Importer_un_fichier\" title=\"Téléverser des fichiers [u]\" accesskey=\"u\"><span>Téléverser un fichier</span></a></li><li id=\"t-specialpages\" class=\"mw-list-item\"><a href=\"/wiki/Sp%C3%A9cial:Pages_sp%C3%A9ciales\" title=\"Liste de toutes les pages spéciales [q]\" accesskey=\"q\"><span>Pages spéciales</span></a></li><li id=\"t-permalink\" class=\"mw-list-item\"><a href=\"/w/index.php?title=Jonas_Salk&amp;oldid=204977301\" title=\"Adresse permanente de cette version de cette page\"><span>Lien permanent</span></a></li><li id=\"t-info\" class=\"mw-list-item\"><a href=\"/w/index.php?title=Jonas_Salk&amp;action=info\" title=\"Davantage d’informations sur cette page\"><span>Informations sur la page</span></a></li><li id=\"t-cite\" class=\"mw-list-item\"><a href=\"/w/index.php?title=Sp%C3%A9cial:Citer&amp;page=Jonas_Salk&amp;id=204977301&amp;wpFormIdentifier=titleform\" title=\"Informations sur la manière de citer cette page\"><span>Citer cette page</span></a></li><li id=\"t-wikibase\" class=\"mw-list-item\"><a href=\"https://www.wikidata.org/wiki/Special:EntityPage/Q200101\" title=\"Lien vers l’élément dans le dépôt de données connecté [g]\" accesskey=\"g\"><span>Élément Wikidata</span></a></li></ul>\\n\\t\\t\\n\\t</div>\\n</div>\\n\\n<div id=\"p-coll-print_export\" class=\"vector-menu mw-portlet mw-portlet-coll-print_export\"  >\\n\\t<div class=\"vector-menu-heading\">\\n\\t\\tImprimer\\u202f/\\u202fexporter\\n\\t</div>\\n\\t<div class=\"vector-menu-content\">\\n\\t\\t\\n\\t\\t<ul class=\"vector-menu-content-list\"><li id=\"coll-create_a_book\" class=\"mw-list-item\"><a href=\"/w/index.php?title=Sp%C3%A9cial:Livre&amp;bookcmd=book_creator&amp;referer=Jonas+Salk\"><span>Créer un livre</span></a></li><li id=\"coll-download-as-rl\" class=\"mw-list-item\"><a href=\"/w/index.php?title=Sp%C3%A9cial:DownloadAsPdf&amp;page=Jonas_Salk&amp;action=show-download-screen\"><span>Télécharger comme PDF</span></a></li><li id=\"t-print\" class=\"mw-list-item\"><a href=\"/w/index.php?title=Jonas_Salk&amp;printable=yes\" title=\"Version imprimable de cette page [p]\" accesskey=\"p\"><span>Version imprimable</span></a></li></ul>\\n\\t\\t\\n\\t</div>\\n</div>\\n\\n<div id=\"p-wikibase-otherprojects\" class=\"vector-menu mw-portlet mw-portlet-wikibase-otherprojects\"  >\\n\\t<div class=\"vector-menu-heading\">\\n\\t\\tDans d’autres projets\\n\\t</div>\\n\\t<div class=\"vector-menu-content\">\\n\\t\\t\\n\\t\\t<ul class=\"vector-menu-content-list\"><li class=\"wb-otherproject-link wb-otherproject-commons mw-list-item\"><a href=\"https://commons.wikimedia.org/wiki/Category:Jonas_Salk\" hreflang=\"en\"><span>Wikimedia Commons</span></a></li><li class=\"wb-otherproject-link wb-otherproject-wikiquote mw-list-item\"><a href=\"https://fr.wikiquote.org/wiki/Jonas_Salk\" hreflang=\"fr\"><span>Wikiquote</span></a></li></ul>\\n\\t\\t\\n\\t</div>\\n</div>\\n\\n</div>\\n\\n\\t\\t\\t\\t\\t\\t\\t\\t\\t</div>\\n\\t\\t\\t\\t\\n\\t</div>\\n</div>\\n\\t\\t\\t\\t\\t\\t\\t</nav>\\n\\t\\t\\t\\t\\t\\t</div>\\n\\t\\t\\t\\t\\t</div>\\n\\t\\t\\t\\t</div>\\n\\t\\t\\t\\t<div class=\"vector-column-end\">\\n\\t\\t\\t\\t\\t<nav class=\"vector-page-tools-landmark vector-sticky-pinned-container\" aria-label=\"Plus d’options\">\\n\\t\\t\\t\\t\\t\\t<div id=\"vector-page-tools-pinned-container\" class=\"vector-pinned-container\">\\n\\t\\t\\t\\n\\t\\t\\t\\t\\t\\t</div>\\n\\t</nav>\\n\\t\\t\\t\\t</div>\\n\\t\\t\\t\\t<div id=\"bodyContent\" class=\"vector-body\" aria-labelledby=\"firstHeading\" data-mw-ve-target-container>\\n\\t\\t\\t\\t\\t<div class=\"vector-body-before-content\">\\n\\t\\t\\t\\t\\t\\t\\t<div class=\"mw-indicators\">\\n\\t\\t</div>\\n\\n\\t\\t\\t\\t\\t\\t<div id=\"siteSub\" class=\"noprint\">Un article de Wikipédia, l&#039;encyclopédie libre.</div>\\n\\t\\t\\t\\t\\t</div>\\n\\t\\t\\t\\t\\t<div id=\"contentSub\"><div id=\"mw-content-subtitle\"></div></div>\\n\\t\\t\\t\\t\\t\\n\\t\\t\\t\\t\\t\\n\\t\\t\\t\\t\\t<div id=\"mw-content-text\" class=\"mw-body-content mw-content-ltr\" lang=\"fr\" dir=\"ltr\"><div class=\"mw-parser-output\"><div class=\"bandeau-container metadata homonymie hatnote\"><div class=\"bandeau-cell bandeau-icone\" style=\"display:table-cell;padding-right:0.5em\"><a href=\"/wiki/Aide:Homonymie\" title=\"Aide:Homonymie\"><img alt=\"Page d’aide sur l’homonymie\" src=\"//upload.wikimedia.org/wikipedia/commons/thumb/a/a9/Logo_disambig.svg/20px-Logo_disambig.svg.png\" decoding=\"async\" width=\"20\" height=\"15\" class=\"noviewer\" srcset=\"//upload.wikimedia.org/wikipedia/commons/thumb/a/a9/Logo_disambig.svg/30px-Logo_disambig.svg.png 1.5x, //upload.wikimedia.org/wikipedia/commons/thumb/a/a9/Logo_disambig.svg/40px-Logo_disambig.svg.png 2x\" data-file-width=\"512\" data-file-height=\"375\" /></a></div><div class=\"bandeau-cell\" style=\"display:table-cell;padding-right:0.5em\">\\n<p>Pour les articles homonymes, voir <a href=\"/wiki/Salk\" class=\"mw-disambig\" title=\"Salk\">Salk</a>.\\n</p>\\n</div></div>\\n<div class=\"infobox_v3 noarchive large\"><div class=\"entete defaut\" style=\"background-color:#EEEEFF;color:#000000\"><div>Jonas Salk</div></div><div><div class=\"images\" style=\"padding:2px 0\"><a href=\"/wiki/Fichier:Jonas_Salk_candid.jpg\" class=\"image\"><img alt=\"Jonas Salk candid.jpg\" src=\"//upload.wikimedia.org/wikipedia/commons/thumb/5/59/Jonas_Salk_candid.jpg/260px-Jonas_Salk_candid.jpg\" decoding=\"async\" width=\"260\" height=\"352\" srcset=\"//upload.wikimedia.org/wikipedia/commons/thumb/5/59/Jonas_Salk_candid.jpg/390px-Jonas_Salk_candid.jpg 1.5x, //upload.wikimedia.org/wikipedia/commons/thumb/5/59/Jonas_Salk_candid.jpg/520px-Jonas_Salk_candid.jpg 2x\" data-file-width=\"1121\" data-file-height=\"1517\" /></a></div><div class=\"legend\">Jonas Salk en 1959.</div></div><table><caption style=\"color:#000000;text-align:center;background-color:#EEEEFF\">Biographie</caption><tbody><tr class=\"\"><th scope=\"row\">Naissance</th><td class=\"\"><div>\\n<span class=\"wd_p569\"><time class=\"nowrap date-lien\" datetime=\"1914-10-28\" data-sort-value=\"1914-10-28\"><a href=\"/wiki/28_octobre\" title=\"28 octobre\">28</a> <a href=\"/wiki/Octobre_1914\" title=\"Octobre 1914\">octobre</a> <a href=\"/wiki/1914\" title=\"1914\">1914</a></time><span class=\"noprint wikidata-linkback\"><a href=\"https://www.wikidata.org/wiki/Q200101?uselang=fr#P569\" title=\"Voir et modifier les données sur Wikidata\"><img alt=\"Voir et modifier les données sur Wikidata\" src=\"//upload.wikimedia.org/wikipedia/commons/thumb/7/73/Blue_pencil.svg/10px-Blue_pencil.svg.png\" decoding=\"async\" width=\"10\" height=\"10\" style=\"vertical-align: baseline\" class=\"noviewer\" srcset=\"//upload.wikimedia.org/wikipedia/commons/thumb/7/73/Blue_pencil.svg/15px-Blue_pencil.svg.png 1.5x, //upload.wikimedia.org/wikipedia/commons/thumb/7/73/Blue_pencil.svg/20px-Blue_pencil.svg.png 2x\" data-file-width=\"600\" data-file-height=\"600\" /></a></span></span><br /><span class=\"wd_p19\"><a href=\"/wiki/New_York\" title=\"New York\">New York</a><span class=\"noprint wikidata-linkback\"><a href=\"https://www.wikidata.org/wiki/Q200101?uselang=fr#P19\" title=\"Voir et modifier les données sur Wikidata\"><img alt=\"Voir et modifier les données sur Wikidata\" src=\"//upload.wikimedia.org/wikipedia/commons/thumb/7/73/Blue_pencil.svg/10px-Blue_pencil.svg.png\" decoding=\"async\" width=\"10\" height=\"10\" style=\"vertical-align: baseline\" class=\"noviewer\" srcset=\"//upload.wikimedia.org/wikipedia/commons/thumb/7/73/Blue_pencil.svg/15px-Blue_pencil.svg.png 1.5x, //upload.wikimedia.org/wikipedia/commons/thumb/7/73/Blue_pencil.svg/20px-Blue_pencil.svg.png 2x\" data-file-width=\"600\" data-file-height=\"600\" /></a></span></span></div></td></tr><tr class=\"\"><th scope=\"row\">Décès</th><td class=\"\"><div>\\n<span class=\"wd_p570\"><time class=\"nowrap date-lien\" datetime=\"1995-06-23\" data-sort-value=\"1995-06-23\"><a href=\"/wiki/23_juin\" title=\"23 juin\">23</a> <a href=\"/wiki/Juin_1995\" title=\"Juin 1995\">juin</a> <a href=\"/wiki/1995\" title=\"1995\">1995</a></time><span class=\"noprint wikidata-linkback\"><a href=\"https://www.wikidata.org/wiki/Q200101?uselang=fr#P570\" title=\"Voir et modifier les données sur Wikidata\"><img alt=\"Voir et modifier les données sur Wikidata\" src=\"//upload.wikimedia.org/wikipedia/commons/thumb/7/73/Blue_pencil.svg/10px-Blue_pencil.svg.png\" decoding=\"async\" width=\"10\" height=\"10\" style=\"vertical-align: baseline\" class=\"noviewer\" srcset=\"//upload.wikimedia.org/wikipedia/commons/thumb/7/73/Blue_pencil.svg/15px-Blue_pencil.svg.png 1.5x, //upload.wikimedia.org/wikipedia/commons/thumb/7/73/Blue_pencil.svg/20px-Blue_pencil.svg.png 2x\" data-file-width=\"600\" data-file-height=\"600\" /></a></span></span> (à 80&#160;ans)<br /><span class=\"wd_p20\"><a href=\"/wiki/La_Jolla\" title=\"La Jolla\">La Jolla</a><span class=\"noprint wikidata-linkback\"><a href=\"https://www.wikidata.org/wiki/Q200101?uselang=fr#P20\" title=\"Voir et modifier les données sur Wikidata\"><img alt=\"Voir et modifier les données sur Wikidata\" src=\"//upload.wikimedia.org/wikipedia/commons/thumb/7/73/Blue_pencil.svg/10px-Blue_pencil.svg.png\" decoding=\"async\" width=\"10\" height=\"10\" style=\"vertical-align: baseline\" class=\"noviewer\" srcset=\"//upload.wikimedia.org/wikipedia/commons/thumb/7/73/Blue_pencil.svg/15px-Blue_pencil.svg.png 1.5x, //upload.wikimedia.org/wikipedia/commons/thumb/7/73/Blue_pencil.svg/20px-Blue_pencil.svg.png 2x\" data-file-width=\"600\" data-file-height=\"600\" /></a></span></span></div></td></tr><tr class=\"\"><th scope=\"row\">Sépulture</th><td class=\"\"><div>\\n<span class=\"wd_p119\"><a href=\"/wiki/Los_Angeles\" title=\"Los Angeles\">Los Angeles</a><span class=\"noprint wikidata-linkback\"><a href=\"https://www.wikidata.org/wiki/Q200101?uselang=fr#P119\" title=\"Voir et modifier les données sur Wikidata\"><img alt=\"Voir et modifier les données sur Wikidata\" src=\"//upload.wikimedia.org/wikipedia/commons/thumb/7/73/Blue_pencil.svg/10px-Blue_pencil.svg.png\" decoding=\"async\" width=\"10\" height=\"10\" style=\"vertical-align: baseline\" class=\"noviewer\" srcset=\"//upload.wikimedia.org/wikipedia/commons/thumb/7/73/Blue_pencil.svg/15px-Blue_pencil.svg.png 1.5x, //upload.wikimedia.org/wikipedia/commons/thumb/7/73/Blue_pencil.svg/20px-Blue_pencil.svg.png 2x\" data-file-width=\"600\" data-file-height=\"600\" /></a></span></span></div></td></tr><tr class=\"\"><th scope=\"row\">Nom de naissance</th><td class=\"\"><div>\\n<span class=\"wd_p1477\"><span class=\"lang-en\" lang=\"en\">Jonas Salk</span><span class=\"noprint wikidata-linkback\"><a href=\"https://www.wikidata.org/wiki/Q200101?uselang=fr#P1477\" title=\"Voir et modifier les données sur Wikidata\"><img alt=\"Voir et modifier les données sur Wikidata\" src=\"//upload.wikimedia.org/wikipedia/commons/thumb/7/73/Blue_pencil.svg/10px-Blue_pencil.svg.png\" decoding=\"async\" width=\"10\" height=\"10\" style=\"vertical-align: baseline\" class=\"noviewer\" srcset=\"//upload.wikimedia.org/wikipedia/commons/thumb/7/73/Blue_pencil.svg/15px-Blue_pencil.svg.png 1.5x, //upload.wikimedia.org/wikipedia/commons/thumb/7/73/Blue_pencil.svg/20px-Blue_pencil.svg.png 2x\" data-file-width=\"600\" data-file-height=\"600\" /></a></span></span></div></td></tr><tr class=\"\"><th scope=\"row\">Nationalité</th><td class=\"\"><div>\\n<span class=\"wd_p27\"><a href=\"/wiki/%C3%89tats-Unis\" title=\"États-Unis\">américaine</a><span class=\"noprint wikidata-linkback\"><a href=\"https://www.wikidata.org/wiki/Q200101?uselang=fr#P27\" title=\"Voir et modifier les données sur Wikidata\"><img alt=\"Voir et modifier les données sur Wikidata\" src=\"//upload.wikimedia.org/wikipedia/commons/thumb/7/73/Blue_pencil.svg/10px-Blue_pencil.svg.png\" decoding=\"async\" width=\"10\" height=\"10\" style=\"vertical-align: baseline\" class=\"noviewer\" srcset=\"//upload.wikimedia.org/wikipedia/commons/thumb/7/73/Blue_pencil.svg/15px-Blue_pencil.svg.png 1.5x, //upload.wikimedia.org/wikipedia/commons/thumb/7/73/Blue_pencil.svg/20px-Blue_pencil.svg.png 2x\" data-file-width=\"600\" data-file-height=\"600\" /></a></span></span></div></td></tr><tr class=\"\"><th scope=\"row\">Domicile</th><td class=\"\"><div>\\n<span class=\"wd_p551\"><a href=\"/wiki/%C3%89tats-Unis\" title=\"États-Unis\">États-Unis</a><span class=\"noprint wikidata-linkback\"><a href=\"https://www.wikidata.org/wiki/Q200101?uselang=fr#P551\" title=\"Voir et modifier les données sur Wikidata\"><img alt=\"Voir et modifier les données sur Wikidata\" src=\"//upload.wikimedia.org/wikipedia/commons/thumb/7/73/Blue_pencil.svg/10px-Blue_pencil.svg.png\" decoding=\"async\" width=\"10\" height=\"10\" style=\"vertical-align: baseline\" class=\"noviewer\" srcset=\"//upload.wikimedia.org/wikipedia/commons/thumb/7/73/Blue_pencil.svg/15px-Blue_pencil.svg.png 1.5x, //upload.wikimedia.org/wikipedia/commons/thumb/7/73/Blue_pencil.svg/20px-Blue_pencil.svg.png 2x\" data-file-width=\"600\" data-file-height=\"600\" /></a></span></span></div></td></tr><tr class=\"\"><th scope=\"row\">Formation</th><td class=\"\"><div>\\n<span class=\"wd_p69\"><a href=\"/wiki/Universit%C3%A9_du_Michigan\" title=\"Université du Michigan\">Université du Michigan</a><br /><a href=\"/wiki/New_York_University_School_of_Medicine\" title=\"New York University School of Medicine\">New York University School of Medicine</a><br /><a href=\"/wiki/Universit%C3%A9_de_New_York\" title=\"Université de New York\">Université de New York</a><br /><a href=\"/wiki/City_College_of_New_York\" title=\"City College of New York\">City College of New York</a><br />Fanny Edel Falk Laboratory School <small>(<a href=\"https://en.wikipedia.org/wiki/Fanny_Edel_Falk_Laboratory_School\" class=\"extiw\" title=\"en:Fanny Edel Falk Laboratory School\"><span class=\"indicateur-langue\" title=\"Article sur Wikipédia en anglais\">en</span></a>)</small><span class=\"noprint wikidata-linkback\"><a href=\"https://www.wikidata.org/wiki/Q200101?uselang=fr#P69\" title=\"Voir et modifier les données sur Wikidata\"><img alt=\"Voir et modifier les données sur Wikidata\" src=\"//upload.wikimedia.org/wikipedia/commons/thumb/7/73/Blue_pencil.svg/10px-Blue_pencil.svg.png\" decoding=\"async\" width=\"10\" height=\"10\" style=\"vertical-align: baseline\" class=\"noviewer\" srcset=\"//upload.wikimedia.org/wikipedia/commons/thumb/7/73/Blue_pencil.svg/15px-Blue_pencil.svg.png 1.5x, //upload.wikimedia.org/wikipedia/commons/thumb/7/73/Blue_pencil.svg/20px-Blue_pencil.svg.png 2x\" data-file-width=\"600\" data-file-height=\"600\" /></a></span></span></div></td></tr><tr class=\"\"><th scope=\"row\">Activités</th><td class=\"\"><div>\\n<span class=\"wd_p106\"><a href=\"/wiki/M%C3%A9decin\" title=\"Médecin\">Médecin</a>, <a href=\"/wiki/Inventeur\" title=\"Inventeur\">inventeur</a>, <a href=\"/wiki/Virologie\" title=\"Virologie\">virologue</a>, <a href=\"/wiki/%C3%89pid%C3%A9miologie\" title=\"Épidémiologie\">épidémiologiste</a>, <a href=\"/wiki/Biologiste\" title=\"Biologiste\">biologiste</a>, <a href=\"/wiki/Immunologie\" title=\"Immunologie\">immunologiste</a><span class=\"noprint wikidata-linkback\"><a href=\"https://www.wikidata.org/wiki/Q200101?uselang=fr#P106\" title=\"Voir et modifier les données sur Wikidata\"><img alt=\"Voir et modifier les données sur Wikidata\" src=\"//upload.wikimedia.org/wikipedia/commons/thumb/7/73/Blue_pencil.svg/10px-Blue_pencil.svg.png\" decoding=\"async\" width=\"10\" height=\"10\" style=\"vertical-align: baseline\" class=\"noviewer\" srcset=\"//upload.wikimedia.org/wikipedia/commons/thumb/7/73/Blue_pencil.svg/15px-Blue_pencil.svg.png 1.5x, //upload.wikimedia.org/wikipedia/commons/thumb/7/73/Blue_pencil.svg/20px-Blue_pencil.svg.png 2x\" data-file-width=\"600\" data-file-height=\"600\" /></a></span></span></div></td></tr><tr class=\"\"><th scope=\"row\">Conjoint</th><td class=\"\"><div>\\n<span class=\"wd_p26\"><a href=\"/wiki/Fran%C3%A7oise_Gilot\" title=\"Françoise Gilot\">Françoise Gilot</a> <small>(de <time>1970</time> à <time>1995</time>)</small><span class=\"noprint wikidata-linkback\"><a href=\"https://www.wikidata.org/wiki/Q200101?uselang=fr#P26\" title=\"Voir et modifier les données sur Wikidata\"><img alt=\"Voir et modifier les données sur Wikidata\" src=\"//upload.wikimedia.org/wikipedia/commons/thumb/7/73/Blue_pencil.svg/10px-Blue_pencil.svg.png\" decoding=\"async\" width=\"10\" height=\"10\" style=\"vertical-align: baseline\" class=\"noviewer\" srcset=\"//upload.wikimedia.org/wikipedia/commons/thumb/7/73/Blue_pencil.svg/15px-Blue_pencil.svg.png 1.5x, //upload.wikimedia.org/wikipedia/commons/thumb/7/73/Blue_pencil.svg/20px-Blue_pencil.svg.png 2x\" data-file-width=\"600\" data-file-height=\"600\" /></a></span></span></div></td></tr><tr class=\"\"><th scope=\"row\">Enfants</th><td class=\"\"><div>\\n<span class=\"wd_p40\">Peter L Salk <small>(<a href=\"https://www.wikidata.org/wiki/Q116263780\" class=\"extiw\" title=\"d:Q116263780\"><span class=\"indicateur-langue\" title=\"Voir l&#39;élément Wikidata correspondant\">d</span></a>)</small><br />Darrell Salk <small>(<a href=\"https://www.wikidata.org/wiki/Q116263851\" class=\"extiw\" title=\"d:Q116263851\"><span class=\"indicateur-langue\" title=\"Voir l&#39;élément Wikidata correspondant\">d</span></a>)</small><br />Jonathan Salk <small>(<a href=\"https://www.wikidata.org/wiki/Q116842327\" class=\"extiw\" title=\"d:Q116842327\"><span class=\"indicateur-langue\" title=\"Voir l&#39;élément Wikidata correspondant\">d</span></a>)</small><span class=\"noprint wikidata-linkback\"><a href=\"https://www.wikidata.org/wiki/Q200101?uselang=fr#P40\" title=\"Voir et modifier les données sur Wikidata\"><img alt=\"Voir et modifier les données sur Wikidata\" src=\"//upload.wikimedia.org/wikipedia/commons/thumb/7/73/Blue_pencil.svg/10px-Blue_pencil.svg.png\" decoding=\"async\" width=\"10\" height=\"10\" style=\"vertical-align: baseline\" class=\"noviewer\" srcset=\"//upload.wikimedia.org/wikipedia/commons/thumb/7/73/Blue_pencil.svg/15px-Blue_pencil.svg.png 1.5x, //upload.wikimedia.org/wikipedia/commons/thumb/7/73/Blue_pencil.svg/20px-Blue_pencil.svg.png 2x\" data-file-width=\"600\" data-file-height=\"600\" /></a></span></span></div></td></tr></tbody></table><table><caption style=\"color:#000000;text-align:center;background-color:#EEEEFF\">Autres informations</caption><tbody><tr class=\"\"><th scope=\"row\">A travaillé pour</th><td class=\"\"><div>\\n<span class=\"wd_p108\"><a href=\"/wiki/Universit%C3%A9_de_Pittsburgh\" title=\"Université de Pittsburgh\">Université de Pittsburgh</a><span class=\"noprint wikidata-linkback\"><a href=\"https://www.wikidata.org/wiki/Q200101?uselang=fr#P108\" title=\"Voir et modifier les données sur Wikidata\"><img alt=\"Voir et modifier les données sur Wikidata\" src=\"//upload.wikimedia.org/wikipedia/commons/thumb/7/73/Blue_pencil.svg/10px-Blue_pencil.svg.png\" decoding=\"async\" width=\"10\" height=\"10\" style=\"vertical-align: baseline\" class=\"noviewer\" srcset=\"//upload.wikimedia.org/wikipedia/commons/thumb/7/73/Blue_pencil.svg/15px-Blue_pencil.svg.png 1.5x, //upload.wikimedia.org/wikipedia/commons/thumb/7/73/Blue_pencil.svg/20px-Blue_pencil.svg.png 2x\" data-file-width=\"600\" data-file-height=\"600\" /></a></span></span></div></td></tr><tr class=\"\"><th scope=\"row\">Membre de</th><td class=\"\"><div>\\n<span class=\"wd_p463\"><a href=\"/wiki/Acad%C3%A9mie_am%C3%A9ricaine_des_arts_et_des_sciences\" title=\"Académie américaine des arts et des sciences\">Académie américaine des arts et des sciences</a><br /><a href=\"/wiki/Phi_Beta_Kappa\" title=\"Phi Beta Kappa\">Phi Beta Kappa</a><br /><a href=\"/wiki/Association_am%C3%A9ricaine_pour_l%27avancement_des_sciences\" title=\"Association américaine pour l&#39;avancement des sciences\">Association américaine pour l\\'avancement des sciences</a><span class=\"noprint wikidata-linkback\"><a href=\"https://www.wikidata.org/wiki/Q200101?uselang=fr#P463\" title=\"Voir et modifier les données sur Wikidata\"><img alt=\"Voir et modifier les données sur Wikidata\" src=\"//upload.wikimedia.org/wikipedia/commons/thumb/7/73/Blue_pencil.svg/10px-Blue_pencil.svg.png\" decoding=\"async\" width=\"10\" height=\"10\" style=\"vertical-align: baseline\" class=\"noviewer\" srcset=\"//upload.wikimedia.org/wikipedia/commons/thumb/7/73/Blue_pencil.svg/15px-Blue_pencil.svg.png 1.5x, //upload.wikimedia.org/wikipedia/commons/thumb/7/73/Blue_pencil.svg/20px-Blue_pencil.svg.png 2x\" data-file-width=\"600\" data-file-height=\"600\" /></a></span></span></div></td></tr><tr class=\"\"><th scope=\"row\">Directeur de thèse</th><td class=\"\"><div>\\n<span class=\"wd_p184\">Thomas Francis junior <small>(<a href=\"https://en.wikipedia.org/wiki/Thomas_Francis_Jr.\" class=\"extiw\" title=\"en:Thomas Francis Jr.\"><span class=\"indicateur-langue\" title=\"Article sur Wikipédia en anglais\">en</span></a>)</small><span class=\"noprint wikidata-linkback\"><a href=\"https://www.wikidata.org/wiki/Q200101?uselang=fr#P184\" title=\"Voir et modifier les données sur Wikidata\"><img alt=\"Voir et modifier les données sur Wikidata\" src=\"//upload.wikimedia.org/wikipedia/commons/thumb/7/73/Blue_pencil.svg/10px-Blue_pencil.svg.png\" decoding=\"async\" width=\"10\" height=\"10\" style=\"vertical-align: baseline\" class=\"noviewer\" srcset=\"//upload.wikimedia.org/wikipedia/commons/thumb/7/73/Blue_pencil.svg/15px-Blue_pencil.svg.png 1.5x, //upload.wikimedia.org/wikipedia/commons/thumb/7/73/Blue_pencil.svg/20px-Blue_pencil.svg.png 2x\" data-file-width=\"600\" data-file-height=\"600\" /></a></span></span></div></td></tr><tr class=\"\"><th scope=\"row\">Distinctions</th><td class=\"\"><div>\\n<span class=\"wd_p166\"><a href=\"/wiki/Prix_Albert-Lasker_pour_la_recherche_m%C3%A9dicale_clinique\" title=\"Prix Albert-Lasker pour la recherche médicale clinique\">Prix Albert-Lasker pour la recherche médicale clinique</a> <small>(<time>1956</time>)</small><br /><a href=\"/wiki/Prix_Albert-Lasker_pour_la_recherche_m%C3%A9dicale_fondamentale\" title=\"Prix Albert-Lasker pour la recherche médicale fondamentale\">Prix Albert-Lasker pour la recherche médicale fondamentale</a><span class=\"noprint wikidata-linkback\"><a href=\"https://www.wikidata.org/wiki/Q200101?uselang=fr#P166\" title=\"Voir et modifier les données sur Wikidata\"><img alt=\"Voir et modifier les données sur Wikidata\" src=\"//upload.wikimedia.org/wikipedia/commons/thumb/7/73/Blue_pencil.svg/10px-Blue_pencil.svg.png\" decoding=\"async\" width=\"10\" height=\"10\" style=\"vertical-align: baseline\" class=\"noviewer\" srcset=\"//upload.wikimedia.org/wikipedia/commons/thumb/7/73/Blue_pencil.svg/15px-Blue_pencil.svg.png 1.5x, //upload.wikimedia.org/wikipedia/commons/thumb/7/73/Blue_pencil.svg/20px-Blue_pencil.svg.png 2x\" data-file-width=\"600\" data-file-height=\"600\" /></a></span></span><br /><div class=\"toccolours mw-collapsible mw-collapsed\" style=\"border:none\"><b>Liste détaillée</b><div class=\"mw-collapsible-content\" style=\"line-height:150%\"><span class=\"wd_p166\">Meritorious Civilian Service Award <small>(<a href=\"https://en.wikipedia.org/wiki/Meritorious_Civilian_Service_Award\" class=\"extiw\" title=\"en:Meritorious Civilian Service Award\"><span class=\"indicateur-langue\" title=\"Article sur Wikipédia en anglais\">en</span></a>)</small> <small>(<time>1955</time>)</small><br /><a href=\"/wiki/Prix_Albert-Lasker\" title=\"Prix Albert-Lasker\">Prix Albert-Lasker</a> <small>(<time>1956</time>)</small><br /><a href=\"/wiki/Prix_Albert-Lasker_pour_la_recherche_m%C3%A9dicale_clinique\" title=\"Prix Albert-Lasker pour la recherche médicale clinique\">Prix Albert-Lasker pour la recherche médicale clinique</a> <small>(<time>1956</time>)</small><br />Prix Robert-Koch <small>(<a href=\"https://www.wikidata.org/wiki/Q505132\" class=\"extiw\" title=\"d:Q505132\"><span class=\"indicateur-langue\" title=\"Voir l&#39;élément Wikidata correspondant\">d</span></a>)</small> <small>(<time>1962</time>)</small><br /><a href=\"/wiki/Prix_Jawaharlal_Nehru\" title=\"Prix Jawaharlal Nehru\">Prix Jawaharlal Nehru</a> <small>(<time>1975</time>)</small><br /><a href=\"/wiki/American_Humanist_Association\" title=\"American Humanist Association\">Humaniste de l\\'année</a> <small>(<time>1976</time>)</small><br />Distinguished Americans series <small>(<a href=\"https://en.wikipedia.org/wiki/Distinguished_Americans_series\" class=\"extiw\" title=\"en:Distinguished Americans series\"><span class=\"indicateur-langue\" title=\"Article sur Wikipédia en anglais\">en</span></a>)</small> <small>(<time>2006</time>)</small><br /><a href=\"/wiki/California_Hall_of_Fame\" title=\"California Hall of Fame\">California Hall of Fame</a> <small>(<time>2007</time>)</small><br /><a href=\"/wiki/Prix_Albert-Lasker_pour_la_recherche_m%C3%A9dicale_fondamentale\" title=\"Prix Albert-Lasker pour la recherche médicale fondamentale\">Prix Albert-Lasker pour la recherche médicale fondamentale</a><br /><a href=\"/wiki/M%C3%A9daille_d%27or_du_Congr%C3%A8s\" title=\"Médaille d&#39;or du Congrès\">Médaille d\\'or du Congrès</a><br /><a href=\"/wiki/M%C3%A9daille_pr%C3%A9sidentielle_de_la_Libert%C3%A9\" title=\"Médaille présidentielle de la Liberté\">Médaille présidentielle de la Liberté</a><span class=\"noprint wikidata-linkback\"><a href=\"https://www.wikidata.org/wiki/Q200101?uselang=fr#P166\" title=\"Voir et modifier les données sur Wikidata\"><img alt=\"Voir et modifier les données sur Wikidata\" src=\"//upload.wikimedia.org/wikipedia/commons/thumb/7/73/Blue_pencil.svg/10px-Blue_pencil.svg.png\" decoding=\"async\" width=\"10\" height=\"10\" style=\"vertical-align: baseline\" class=\"noviewer\" srcset=\"//upload.wikimedia.org/wikipedia/commons/thumb/7/73/Blue_pencil.svg/15px-Blue_pencil.svg.png 1.5x, //upload.wikimedia.org/wikipedia/commons/thumb/7/73/Blue_pencil.svg/20px-Blue_pencil.svg.png 2x\" data-file-width=\"600\" data-file-height=\"600\" /></a></span></span></div></div></div></td></tr></tbody></table><div><div class=\"images\" style=\"padding:2px 0\"><a href=\"/w/index.php?title=Fichier:Jonas_Salk_signature.svg&amp;lang=fr\" class=\"image\"><img alt=\"signature de Jonas Salk\" src=\"//upload.wikimedia.org/wikipedia/commons/thumb/4/4a/Jonas_Salk_signature.svg/langfr-170px-Jonas_Salk_signature.svg.png\" decoding=\"async\" width=\"170\" height=\"81\" srcset=\"//upload.wikimedia.org/wikipedia/commons/thumb/4/4a/Jonas_Salk_signature.svg/langfr-255px-Jonas_Salk_signature.svg.png 1.5x, //upload.wikimedia.org/wikipedia/commons/thumb/4/4a/Jonas_Salk_signature.svg/langfr-340px-Jonas_Salk_signature.svg.png 2x\" data-file-width=\"585\" data-file-height=\"278\" /></a></div><div class=\"legend\">Signature</div></div><div><div class=\"images\" style=\"padding:2px 0\"><a href=\"/wiki/Fichier:Plaque_Jonas_Salk_%C3%A0_Lyon_(Gerland).JPG\" class=\"image\"><img alt=\"Plaque Jonas Salk à Lyon (Gerland).JPG\" src=\"//upload.wikimedia.org/wikipedia/commons/thumb/2/2a/Plaque_Jonas_Salk_%C3%A0_Lyon_%28Gerland%29.JPG/220px-Plaque_Jonas_Salk_%C3%A0_Lyon_%28Gerland%29.JPG\" decoding=\"async\" width=\"220\" height=\"120\" srcset=\"//upload.wikimedia.org/wikipedia/commons/thumb/2/2a/Plaque_Jonas_Salk_%C3%A0_Lyon_%28Gerland%29.JPG/330px-Plaque_Jonas_Salk_%C3%A0_Lyon_%28Gerland%29.JPG 1.5x, //upload.wikimedia.org/wikipedia/commons/thumb/2/2a/Plaque_Jonas_Salk_%C3%A0_Lyon_%28Gerland%29.JPG/440px-Plaque_Jonas_Salk_%C3%A0_Lyon_%28Gerland%29.JPG 2x\" data-file-width=\"1652\" data-file-height=\"904\" /></a></div><div class=\"legend\">Plaque commémorative rue Jonas Salk à Lyon, en France.</div></div><p class=\"navbar noprint bordered navigation-not-searchable\" style=\"border-top:1px solid #EEEEFF\"><span class=\"plainlinks\" style=\"text-align:left\"><a class=\"external text\" href=\"https://fr.wikipedia.org/w/index.php?title=Jonas_Salk&amp;veaction=edit&amp;section=0\">modifier</a> - <a class=\"external text\" href=\"https://fr.wikipedia.org/w/index.php?title=Jonas_Salk&amp;action=edit&amp;section=0\">modifier le code</a> - <a href=\"https://www.wikidata.org/wiki/Q200101\" class=\"extiw\" title=\"d:Q200101\">modifier Wikidata</a></span><span style=\"text-align:right\"><a href=\"/wiki/Mod%C3%A8le:Infobox_Biographie2\" title=\"Documentation du modèle\"><img alt=\"Documentation du modèle\" src=\"//upload.wikimedia.org/wikipedia/commons/thumb/3/38/Info_Simple.svg/12px-Info_Simple.svg.png\" decoding=\"async\" width=\"12\" height=\"12\" srcset=\"//upload.wikimedia.org/wikipedia/commons/thumb/3/38/Info_Simple.svg/18px-Info_Simple.svg.png 1.5x, //upload.wikimedia.org/wikipedia/commons/thumb/3/38/Info_Simple.svg/24px-Info_Simple.svg.png 2x\" data-file-width=\"512\" data-file-height=\"512\" /></a></span></p></div>\\n<p><b>Jonas Edward Salk</b>, né le <time class=\"nowrap date-lien bday\" datetime=\"1914-10-28\" data-sort-value=\"1914-10-28\"><a href=\"/wiki/28_octobre\" title=\"28 octobre\">28</a> <a href=\"/wiki/Octobre_1914\" title=\"Octobre 1914\">octobre</a> <a href=\"/wiki/1914\" title=\"1914\">1914</a></time> à <a href=\"/wiki/New_York\" title=\"New York\">New York</a> et mort le <time class=\"nowrap date-lien dday\" datetime=\"1995-06-23\" data-sort-value=\"1995-06-23\"><a href=\"/wiki/23_juin\" title=\"23 juin\">23</a> <a href=\"/wiki/Juin_1995\" title=\"Juin 1995\">juin</a> <a href=\"/wiki/1995\" title=\"1995\">1995</a></time> à <a href=\"/wiki/La_Jolla\" title=\"La Jolla\">La Jolla</a>, est un <a href=\"/wiki/Biologie\" title=\"Biologie\">biologiste</a> <a href=\"/wiki/%C3%89tats-Unis\" title=\"États-Unis\">américain</a> et inventeur du premier <a href=\"/wiki/Vaccin_contre_la_poliomy%C3%A9lite\" title=\"Vaccin contre la poliomyélite\">vaccin contre la poliomyélite</a>.\\n</p>\\n<meta property=\"mw:PageProp/toc\" />\\n<h2><span class=\"mw-headline\" id=\"Biographie\">Biographie</span><span class=\"mw-editsection\"><span class=\"mw-editsection-bracket\">[</span><a href=\"/w/index.php?title=Jonas_Salk&amp;veaction=edit&amp;section=1\" class=\"mw-editsection-visualeditor\" title=\"Modifier la section\\u202f: Biographie\">modifier</a><span class=\"mw-editsection-divider\"> | </span><a href=\"/w/index.php?title=Jonas_Salk&amp;action=edit&amp;section=1\" title=\"Modifier la section\\u202f: Biographie\">modifier le code</a><span class=\"mw-editsection-bracket\">]</span></span></h2>\\n<h3><span id=\"Carri.C3.A8re\"></span><span class=\"mw-headline\" id=\"Carrière\">Carrière</span><span class=\"mw-editsection\"><span class=\"mw-editsection-bracket\">[</span><a href=\"/w/index.php?title=Jonas_Salk&amp;veaction=edit&amp;section=2\" class=\"mw-editsection-visualeditor\" title=\"Modifier la section\\u202f: Carrière\">modifier</a><span class=\"mw-editsection-divider\"> | </span><a href=\"/w/index.php?title=Jonas_Salk&amp;action=edit&amp;section=2\" title=\"Modifier la section\\u202f: Carrière\">modifier le code</a><span class=\"mw-editsection-bracket\">]</span></span></h3>\\n<p>Jonas Salk est né à New York de parents immigrants juifs venus de Russie<sup id=\"cite_ref-1\" class=\"reference\"><a href=\"#cite_note-1\"><span class=\"cite_crochet\">[</span>1<span class=\"cite_crochet\">]</span></a></sup>. Il fait ses études de <a href=\"/wiki/M%C3%A9decine\" title=\"Médecine\">médecine</a> à l\\'<a href=\"/wiki/Universit%C3%A9_du_Michigan\" title=\"Université du Michigan\">université du Michigan</a>, sous la tutelle du <abbr class=\"abbr\" title=\"Docteur\">D<sup>r</sup></abbr> Thomas Francis, <a href=\"/wiki/Virologie\" title=\"Virologie\">virologue</a> distingué. Il est soutenu financièrement par l\\'<a href=\"/wiki/Forces_arm%C3%A9es_des_%C3%89tats-Unis\" title=\"Forces armées des États-Unis\">armée américaine</a>, qui l\\'avait engagé pour développer un <a href=\"/wiki/Vaccin\" title=\"Vaccin\">vaccin</a> contre la <a href=\"/wiki/Grippe\" title=\"Grippe\">grippe</a> pour les combattants de la <a href=\"/wiki/Seconde_Guerre_mondiale\" title=\"Seconde Guerre mondiale\">Seconde Guerre mondiale</a>.\\n</p><p>Après ces premiers succès, Salk établit son laboratoire personnel à l\\'<a href=\"/wiki/Universit%C3%A9_de_Pittsburgh\" title=\"Université de Pittsburgh\">université de Pittsburgh</a> en <a href=\"/wiki/Pennsylvanie\" title=\"Pennsylvanie\">Pennsylvanie</a>, où il devient professeur. Peu de temps après, l&#39;<i><span class=\"lang-en\" lang=\"en\">Infantile Paralysis Foundation</span></i> lui offre une bourse très généreuse pour sa recherche, et il découvre un <a href=\"/wiki/Vaccination\" title=\"Vaccination\">vaccin</a> contre la <a href=\"/wiki/Poliomy%C3%A9lite\" title=\"Poliomyélite\">polio</a> en 1953. Après l\\'avoir testé sur lui-même, sa famille et quelques volontaires, il annonce au monde sa découverte le <time class=\"nowrap date-lien\" datetime=\"1953-03-26\" data-sort-value=\"1953-03-26\"><a href=\"/wiki/26_mars\" title=\"26 mars\">26</a> <a href=\"/wiki/Mars_1953\" title=\"Mars 1953\">mars</a> <a href=\"/wiki/1953\" title=\"1953\">1953</a></time><sup id=\"cite_ref-2\" class=\"reference\"><a href=\"#cite_note-2\"><span class=\"cite_crochet\">[</span>2<span class=\"cite_crochet\">]</span></a></sup>. Après avoir été testé sur plus d\\'un million d\\'enfants, le vaccin est déclaré efficace le <time class=\"nowrap date-lien\" datetime=\"1955-04-12\" data-sort-value=\"1955-04-12\"><a href=\"/wiki/12_avril\" title=\"12 avril\">12</a> <a href=\"/wiki/Avril_1955\" title=\"Avril 1955\">avril</a> <a href=\"/wiki/1955\" title=\"1955\">1955</a></time> par l\\'Université du Michigan <sup id=\"cite_ref-3\" class=\"reference\"><a href=\"#cite_note-3\"><span class=\"cite_crochet\">[</span>3<span class=\"cite_crochet\">]</span></a></sup>. Il choisit de ne pas le faire <a href=\"/wiki/Brevet\" class=\"mw-redirect\" title=\"Brevet\">breveter</a> pour le laisser plus abordable aux millions de personnes en ayant besoin. Selon les estimations, il aurait ainsi renoncé à un bénéfice d\\'environ 7 milliards de dollars<sup id=\"cite_ref-4\" class=\"reference\"><a href=\"#cite_note-4\"><span class=\"cite_crochet\">[</span>4<span class=\"cite_crochet\">]</span></a></sup>.\\n</p><p>Plusieurs laboratoires américains se lancent précipitamment dans la fabrication du vaccin, mais les <a href=\"/wiki/Laboratoires_Cutter\" title=\"Laboratoires Cutter\">laboratoires Cutter</a> fournissent un vaccin insuffisamment inactivé, qui <a href=\"/wiki/Contamination\" title=\"Contamination\">contaminera</a> plusieurs centaines d\\'enfants, vaccinés ou contacts&#160;; le <i><span class=\"lang-en\" lang=\"en\"><a href=\"/wiki/Cutter_incident\" class=\"mw-redirect\" title=\"Cutter incident\">Cutter incident</a></span></i> mettra un frein momentané à la campagne<sup id=\"cite_ref-5\" class=\"reference\"><a href=\"#cite_note-5\"><span class=\"cite_crochet\">[</span>5<span class=\"cite_crochet\">]</span></a></sup>.\\n</p><p>En 1960, Jonas Salk fonde le <a href=\"/wiki/Salk_Institute_for_Biological_Studies\" title=\"Salk Institute for Biological Studies\">Salk Institute for Biological Studies</a> à <a href=\"/wiki/La_Jolla\" title=\"La Jolla\">La Jolla</a> en <a href=\"/wiki/Californie\" title=\"Californie\">Californie</a>, qui demeure l\\'un des plus grands centres de recherche médicale au monde. Vers la fin de sa carrière, il se consacre à la recherche d\\'un vaccin contre le <a href=\"/wiki/Syndrome_d%27immunod%C3%A9ficience_acquise\" title=\"Syndrome d&#39;immunodéficience acquise\">SIDA</a>, mais il meurt en 1995. Il est enterré au <a href=\"/w/index.php?title=El_Camino_Memorial_Park&amp;action=edit&amp;redlink=1\" class=\"new\" title=\"El Camino Memorial Park (page inexistante)\">El Camino Memorial Park</a> de <a href=\"/wiki/San_Diego\" title=\"San Diego\">San Diego</a>.\\n</p>\\n<h3><span id=\"Vie_priv.C3.A9e\"></span><span class=\"mw-headline\" id=\"Vie_privée\">Vie privée</span><span class=\"mw-editsection\"><span class=\"mw-editsection-bracket\">[</span><a href=\"/w/index.php?title=Jonas_Salk&amp;veaction=edit&amp;section=3\" class=\"mw-editsection-visualeditor\" title=\"Modifier la section\\u202f: Vie privée\">modifier</a><span class=\"mw-editsection-divider\"> | </span><a href=\"/w/index.php?title=Jonas_Salk&amp;action=edit&amp;section=3\" title=\"Modifier la section\\u202f: Vie privée\">modifier le code</a><span class=\"mw-editsection-bracket\">]</span></span></h3>\\n<p>Entre 1939 et 1968, il est marié à Donna Lindsay.\\n</p><p>En 1969, Jonas Salk rencontre à La Jolla, par l\\'intermédiaire d\\'amis communs, <a href=\"/wiki/Fran%C3%A7oise_Gilot\" title=\"Françoise Gilot\">Françoise Gilot</a>, une artiste peintre ayant vécu une dizaine d\\'années avec <a href=\"/wiki/Pablo_Picasso\" title=\"Pablo Picasso\">Pablo Picasso</a> (dont elle avait eu deux enfants&#160;: <a href=\"/wiki/Claude_Picasso\" title=\"Claude Picasso\">Claude</a> et <a href=\"/wiki/Paloma_Picasso\" title=\"Paloma Picasso\">Paloma Picasso</a>). Ils se marient en 1970 à Paris et vivent ensemble jusqu\\'au décès de Salk.\\n</p>\\n<h2><span class=\"mw-headline\" id=\"Le_vaccin_Salk\">Le vaccin <i>Salk</i></span><span class=\"mw-editsection\"><span class=\"mw-editsection-bracket\">[</span><a href=\"/w/index.php?title=Jonas_Salk&amp;veaction=edit&amp;section=4\" class=\"mw-editsection-visualeditor\" title=\"Modifier la section\\u202f: Le vaccin Salk\">modifier</a><span class=\"mw-editsection-divider\"> | </span><a href=\"/w/index.php?title=Jonas_Salk&amp;action=edit&amp;section=4\" title=\"Modifier la section\\u202f: Le vaccin Salk\">modifier le code</a><span class=\"mw-editsection-bracket\">]</span></span></h2>\\n<p>Le vaccin dit <i>Salk</i> fut l\\'un des premiers vaccins efficaces pour l\\'immunisation contre un <a href=\"/wiki/Virus\" title=\"Virus\">virus</a> en général. Il fut essentiel à la campagne mondiale pour éradiquer la <a href=\"/wiki/Poliomy%C3%A9lite\" title=\"Poliomyélite\">polio</a> jadis l\\'une des <a href=\"/wiki/Maladie_infectieuse\" title=\"Maladie infectieuse\">maladies infectieuses</a> les plus meurtrières, surtout chez les enfants. Le vaccin fonctionne sur le principe du <a href=\"/wiki/Virus_inactiv%C3%A9\" title=\"Virus inactivé\">virus inactivé</a> par le <a href=\"/wiki/M%C3%A9thanal\" title=\"Méthanal\">formaldéhyde</a>. C\\'est-à-dire que l\\'<a href=\"/wiki/Injection_(m%C3%A9decine)\" title=\"Injection (médecine)\">injection</a> du virus tué de la <a href=\"/wiki/Poliomy%C3%A9lite\" title=\"Poliomyélite\">poliomyélite</a> permet au corps humain de développer une <a href=\"/wiki/Immunit%C3%A9_(m%C3%A9decine)\" title=\"Immunité (médecine)\">immunité</a> contre celui-ci sans pour autant provoquer la maladie. Une fois immunisé contre le virus inactivé, le corps est également immunisé contre la forme plus virulente du même virus. En <a href=\"/wiki/1961\" title=\"1961\">1961</a>, <a href=\"/wiki/Albert_Sabin\" title=\"Albert Sabin\">Albert Sabin</a> développera un vaccin administrable par voie orale conçu à partir d\\'une forme affaiblie du virus (<a href=\"/wiki/Virus_att%C3%A9nu%C3%A9\" title=\"Virus atténué\">virus atténué</a>).\\n</p><p>Salk n\\'a jamais <a href=\"/wiki/Brevetabilit%C3%A9_du_vivant\" title=\"Brevetabilité du vivant\">breveté</a> son vaccin contre la polio afin d\\'en permettre une plus large diffusion<sup id=\"cite_ref-6\" class=\"reference\"><a href=\"#cite_note-6\"><span class=\"cite_crochet\">[</span>6<span class=\"cite_crochet\">]</span></a></sup><sup class=\"reference cite_virgule\">,</sup><sup id=\"cite_ref-7\" class=\"reference\"><a href=\"#cite_note-7\"><span class=\"cite_crochet\">[</span>7<span class=\"cite_crochet\">]</span></a></sup>. Lorsque, à la télévision, le journaliste Ed Murrow lui demande qui détenait le <a href=\"/wiki/Brevet\" class=\"mw-redirect\" title=\"Brevet\">brevet</a>, il répond&#160;: \\n</p><p>«&#160;Eh bien, au peuple je dirais. Il n’y a pas de brevet. Pourrait-on breveter le soleil&#160;?&#160;»<sup id=\"cite_ref-8\" class=\"reference\"><a href=\"#cite_note-8\"><span class=\"cite_crochet\">[</span>8<span class=\"cite_crochet\">]</span></a></sup>.\\n</p><p>S\\'il avait été breveté, ce vaccin aurait pu lui rapporter sept milliards de <a href=\"/wiki/Dollar_am%C3%A9ricain\" title=\"Dollar américain\">dollars américains</a><sup id=\"cite_ref-9\" class=\"reference\"><a href=\"#cite_note-9\"><span class=\"cite_crochet\">[</span>9<span class=\"cite_crochet\">]</span></a></sup>.\\n</p>\\n<ul class=\"gallery mw-gallery-packed\">\\n\\t\\t<li class=\"gallerybox\" style=\"width: 96.666666666667px\"><div style=\"width: 96.666666666667px\">\\n\\t\\t\\t<div class=\"thumb\" style=\"width: 94.666666666667px;\"><div style=\"margin:0px auto;\"><a href=\"/wiki/Fichier:Salk_Thank_You.jpg\" class=\"image\" title=\"Remerciements au Dr Salk.\"><img alt=\"Remerciements au Dr Salk.\" src=\"//upload.wikimedia.org/wikipedia/commons/thumb/b/b6/Salk_Thank_You.jpg/142px-Salk_Thank_You.jpg\" decoding=\"async\" width=\"95\" height=\"120\" srcset=\"//upload.wikimedia.org/wikipedia/commons/thumb/b/b6/Salk_Thank_You.jpg/213px-Salk_Thank_You.jpg 1.5x, //upload.wikimedia.org/wikipedia/commons/thumb/b/b6/Salk_Thank_You.jpg/284px-Salk_Thank_You.jpg 2x\" data-file-width=\"318\" data-file-height=\"403\" /></a></div></div>\\n\\t\\t\\t<div class=\"gallerytext\">\\n<p>Remerciements au <abbr class=\"abbr\" title=\"Docteur\">D<sup>r</sup></abbr> Salk.\\n</p>\\n\\t\\t\\t</div>\\n\\t\\t</div></li>\\n\\t\\t<li class=\"gallerybox\" style=\"width: 95.333333333333px\"><div style=\"width: 95.333333333333px\">\\n\\t\\t\\t<div class=\"thumb\" style=\"width: 93.333333333333px;\"><div style=\"margin:0px auto;\"><a href=\"/wiki/Fichier:Salk_headlines.jpg\" class=\"image\" title=\"Titres de journaux.\"><img alt=\"Titres de journaux.\" src=\"//upload.wikimedia.org/wikipedia/commons/thumb/e/eb/Salk_headlines.jpg/140px-Salk_headlines.jpg\" decoding=\"async\" width=\"94\" height=\"120\" srcset=\"//upload.wikimedia.org/wikipedia/commons/thumb/e/eb/Salk_headlines.jpg/209px-Salk_headlines.jpg 1.5x, //upload.wikimedia.org/wikipedia/commons/thumb/e/eb/Salk_headlines.jpg/279px-Salk_headlines.jpg 2x\" data-file-width=\"308\" data-file-height=\"397\" /></a></div></div>\\n\\t\\t\\t<div class=\"gallerytext\">\\n<p>Titres de journaux.\\n</p>\\n\\t\\t\\t</div>\\n\\t\\t</div></li>\\n\\t\\t<li class=\"gallerybox\" style=\"width: 102.66666666667px\"><div style=\"width: 102.66666666667px\">\\n\\t\\t\\t<div class=\"thumb\" style=\"width: 100.66666666667px;\"><div style=\"margin:0px auto;\"><a href=\"/wiki/Fichier:Jonas_Salk_1988.jpg\" class=\"image\" title=\"Jonas Salk en 1988.\"><img alt=\"Jonas Salk en 1988.\" src=\"//upload.wikimedia.org/wikipedia/commons/thumb/1/13/Jonas_Salk_1988.jpg/151px-Jonas_Salk_1988.jpg\" decoding=\"async\" width=\"101\" height=\"120\" srcset=\"//upload.wikimedia.org/wikipedia/commons/thumb/1/13/Jonas_Salk_1988.jpg/227px-Jonas_Salk_1988.jpg 1.5x, //upload.wikimedia.org/wikipedia/commons/thumb/1/13/Jonas_Salk_1988.jpg/303px-Jonas_Salk_1988.jpg 2x\" data-file-width=\"1503\" data-file-height=\"1788\" /></a></div></div>\\n\\t\\t\\t<div class=\"gallerytext\">\\n<p>Jonas Salk en 1988.\\n</p>\\n\\t\\t\\t</div>\\n\\t\\t</div></li>\\n\\t\\t<li class=\"gallerybox\" style=\"width: 92px\"><div style=\"width: 92px\">\\n\\t\\t\\t<div class=\"thumb\" style=\"width: 90px;\"><div style=\"margin:0px auto;\"><a href=\"/wiki/Fichier:Salk_Institute_(5).jpg\" class=\"image\" title=\"Le Salk Institute for Biological Studies à La Jolla.\"><img alt=\"Le Salk Institute for Biological Studies à La Jolla.\" src=\"//upload.wikimedia.org/wikipedia/commons/thumb/2/25/Salk_Institute_%285%29.jpg/135px-Salk_Institute_%285%29.jpg\" decoding=\"async\" width=\"90\" height=\"120\" srcset=\"//upload.wikimedia.org/wikipedia/commons/thumb/2/25/Salk_Institute_%285%29.jpg/202px-Salk_Institute_%285%29.jpg 1.5x, //upload.wikimedia.org/wikipedia/commons/thumb/2/25/Salk_Institute_%285%29.jpg/270px-Salk_Institute_%285%29.jpg 2x\" data-file-width=\"2304\" data-file-height=\"3072\" /></a></div></div>\\n\\t\\t\\t<div class=\"gallerytext\">\\n<p>Le <a href=\"/wiki/Salk_Institute_for_Biological_Studies\" title=\"Salk Institute for Biological Studies\">Salk Institute for Biological Studies</a> à <a href=\"/wiki/La_Jolla\" title=\"La Jolla\">La Jolla</a>.\\n</p>\\n\\t\\t\\t</div>\\n\\t\\t</div></li>\\n</ul>\\n<h2><span class=\"mw-headline\" id=\"Prix_et_distinctions\">Prix et distinctions</span><span class=\"mw-editsection\"><span class=\"mw-editsection-bracket\">[</span><a href=\"/w/index.php?title=Jonas_Salk&amp;veaction=edit&amp;section=5\" class=\"mw-editsection-visualeditor\" title=\"Modifier la section\\u202f: Prix et distinctions\">modifier</a><span class=\"mw-editsection-divider\"> | </span><a href=\"/w/index.php?title=Jonas_Salk&amp;action=edit&amp;section=5\" title=\"Modifier la section\\u202f: Prix et distinctions\">modifier le code</a><span class=\"mw-editsection-bracket\">]</span></span></h2>\\n<ul><li><a href=\"/wiki/1956_en_science\" title=\"1956 en science\">1956</a>&#160;: <a href=\"/wiki/Prix_Albert-Lasker_pour_la_recherche_m%C3%A9dicale_clinique\" title=\"Prix Albert-Lasker pour la recherche médicale clinique\">prix Albert-Lasker pour la recherche médicale clinique</a></li></ul>\\n<h2><span id=\".C5.92uvres\"></span><span class=\"mw-headline\" id=\"Œuvres\">Œuvres</span><span class=\"mw-editsection\"><span class=\"mw-editsection-bracket\">[</span><a href=\"/w/index.php?title=Jonas_Salk&amp;veaction=edit&amp;section=6\" class=\"mw-editsection-visualeditor\" title=\"Modifier la section\\u202f: Œuvres\">modifier</a><span class=\"mw-editsection-divider\"> | </span><a href=\"/w/index.php?title=Jonas_Salk&amp;action=edit&amp;section=6\" title=\"Modifier la section\\u202f: Œuvres\">modifier le code</a><span class=\"mw-editsection-bracket\">]</span></span></h2>\\n<ul><li><i>Man Unfolding</i> (1972)</li>\\n<li><i>Survival of the Wisest</i> (1973)</li>\\n<li><i>World Population and Human Values: A New Reality</i> (1981)</li>\\n<li><i>Anatomy of Reality: Merging of Intuition and Reason</i> (1983)</li></ul>\\n<h2><span id=\"Notes_et_r.C3.A9f.C3.A9rences\"></span><span class=\"mw-headline\" id=\"Notes_et_références\">Notes et références</span><span class=\"mw-editsection\"><span class=\"mw-editsection-bracket\">[</span><a href=\"/w/index.php?title=Jonas_Salk&amp;veaction=edit&amp;section=7\" class=\"mw-editsection-visualeditor\" title=\"Modifier la section\\u202f: Notes et références\">modifier</a><span class=\"mw-editsection-divider\"> | </span><a href=\"/w/index.php?title=Jonas_Salk&amp;action=edit&amp;section=7\" title=\"Modifier la section\\u202f: Notes et références\">modifier le code</a><span class=\"mw-editsection-bracket\">]</span></span></h2>\\n<style data-mw-deduplicate=\"TemplateStyles:r194021218\">.mw-parser-output .autres-projets>.titre{text-align:center;margin:0.2em 0}.mw-parser-output .autres-projets>ul{margin:0;padding:0}.mw-parser-output .autres-projets>ul>li{list-style:none;margin:0.2em 0;text-indent:0;padding-left:24px;min-height:20px;text-align:left;display:block}.mw-parser-output .autres-projets>ul>li>a{font-style:italic}@media(max-width:720px){.mw-parser-output .autres-projets{float:none}}</style><div class=\"autres-projets boite-grise boite-a-droite noprint js-interprojets\">\\n<p class=\"titre\">Sur les autres projets Wikimedia&#160;:</p>\\n<ul class=\"noarchive plainlinks\">\\n<li class=\"commons\"><a class=\"external text\" href=\"https://commons.wikimedia.org/wiki/Category:Jonas_Salk?uselang=fr\">Jonas Salk</a>, sur <span class=\"project\">Wikimedia Commons</span></li><li class=\"wikiquote\"><a href=\"https://fr.wikiquote.org/wiki/Jonas_Salk\" class=\"extiw\" title=\"q:Jonas Salk\">Jonas Salk</a>, <span class=\"nowrap\">sur <span class=\"project\">Wikiquote</span></span></li>\\n</ul>\\n</div>\\n<div class=\"references-small decimal\" style=\"\"><div class=\"mw-references-wrap\"><ol class=\"references\">\\n<li id=\"cite_note-1\"><span class=\"mw-cite-backlink noprint\"><a href=\"#cite_ref-1\">↑</a> </span><span class=\"reference-text\"><abbr class=\"abbr indicateur-langue\" title=\"Langue : anglais\">(en)</abbr> <a rel=\"nofollow\" class=\"external text\" href=\"https://www.algemeiner.com/2020/10/21/jonas-salk-and-antisemitism/\">Harold Brackman. Jonas Salk and Antisemitism. algemeiner.com. October 21, 2020.</a></span>\\n</li>\\n<li id=\"cite_note-2\"><span class=\"mw-cite-backlink noprint\"><a href=\"#cite_ref-2\">↑</a> </span><span class=\"reference-text\"><span class=\"ouvrage\" id=\"AFP2013\">AFP, <a rel=\"nofollow\" class=\"external text\" href=\"http://www.leparisien.fr/laparisienne/sante/la-poliomyelite-en-passe-d-eradication-mais-des-defis-de-taille-subsistent-24-03-2013-2666445.php\">«&#160;<cite style=\"font-style:normal;\">La poliomyélite en passe d\\'éradication mais des défis de taille subsistent</cite>&#160;»</a>, sur <span class=\"italique\">Le Parisien</span>, <time class=\"nowrap\" datetime=\"2013-03-24\" data-sort-value=\"2013-03-24\">24 mars 2013</time> <small style=\"line-height:1em;\">(consulté le <time class=\"nowrap\" datetime=\"2019-03-26\" data-sort-value=\"2019-03-26\">26 mars 2019</time>)</small></span>.</span>\\n</li>\\n<li id=\"cite_note-3\"><span class=\"mw-cite-backlink noprint\"><a href=\"#cite_ref-3\">↑</a> </span><span class=\"reference-text\">Spidey n° 73, février 1986&#160;: reportage \"Les Grands Noms de la Médecine\", page 70</span>\\n</li>\\n<li id=\"cite_note-4\"><span class=\"mw-cite-backlink noprint\"><a href=\"#cite_ref-4\">↑</a> </span><span class=\"reference-text\"><abbr class=\"abbr indicateur-langue\" title=\"Langue : anglais\">(en)</abbr> Amar Prabhu <a rel=\"nofollow\" class=\"external text\" href=\"https://www.forbes.com/sites/quora/2012/08/09/how-much-money-did-jonas-salk-potentially-forfeit-by-not-patenting-the-polio-vaccine\">«&#160;How Much Money Did Jonas Salk Potentially Forfeit By Not Patenting The Polio Vaccine?&#160;»</a> Quora, <i>Forbes</i>, le 9 août 2012, consulté le 17 avril 2013.</span>\\n</li>\\n<li id=\"cite_note-5\"><span class=\"mw-cite-backlink noprint\"><a href=\"#cite_ref-5\">↑</a> </span><span class=\"reference-text\">Hervé Bazin, <i>L\\'Histoire des vaccinations</i>, 2008  <small style=\"line-height:1em;\">(<a href=\"/wiki/International_Standard_Book_Number\" title=\"International Standard Book Number\">ISBN</a>&#160;<a href=\"/wiki/Sp%C3%A9cial:Ouvrages_de_r%C3%A9f%C3%A9rence/978-2-7420-0705-9\" title=\"Spécial:Ouvrages de référence/978-2-7420-0705-9\"><span class=\"nowrap\">978-2-7420-0705-9</span></a>)</small> - <abbr class=\"abbr\" title=\"page(s)\">p.</abbr>&#160;369-370</span>\\n</li>\\n<li id=\"cite_note-6\"><span class=\"mw-cite-backlink noprint\"><a href=\"#cite_ref-6\">↑</a> </span><span class=\"reference-text\"><span class=\"ouvrage\"><abbr class=\"abbr indicateur-langue\" title=\"Langue : anglais\">(en)</abbr> <span lang=\"en\"><a rel=\"nofollow\" class=\"external text\" href=\"http://www.salk.edu/about/jonas_salk.html\">«&#160;<cite style=\"font-style:normal;\">About Jonas Salk - Salk Institute for Biological Studies</cite>&#160;»</a></span>, sur <span class=\"italique\">Salk Institute for Biological Studies</span> <small style=\"line-height:1em;\">(consulté le <time class=\"nowrap\" datetime=\"2020-08-23\" data-sort-value=\"2020-08-23\">23 août 2020</time>)</small></span>.</span>\\n</li>\\n<li id=\"cite_note-7\"><span class=\"mw-cite-backlink noprint\"><a href=\"#cite_ref-7\">↑</a> </span><span class=\"reference-text\"><span class=\"ouvrage\" id=\"Quora2012\">Quora, <a rel=\"nofollow\" class=\"external text\" href=\"https://www.forbes.com/sites/quora/2012/08/09/how-much-money-did-jonas-salk-potentially-forfeit-by-not-patenting-the-polio-vaccine/\">«&#160;<cite style=\"font-style:normal;\">How Much Money Did Jonas Salk Potentially Forfeit By Not Patenting The Polio Vaccine?</cite>&#160;»</a>, sur <span class=\"italique\">forbes.com</span>, <time class=\"nowrap\" datetime=\"2012-08-09\" data-sort-value=\"2012-08-09\">9 août 2012</time> <small style=\"line-height:1em;\">(consulté le <time class=\"nowrap\" datetime=\"2020-08-23\" data-sort-value=\"2020-08-23\">23 août 2020</time>)</small></span>.</span>\\n</li>\\n<li id=\"cite_note-8\"><span class=\"mw-cite-backlink noprint\"><a href=\"#cite_ref-8\">↑</a> </span><span class=\"reference-text\"><span class=\"ouvrage\" id=\"Petitjean2019\"><span class=\"ouvrage\" id=\"Olivier_Petitjean2019\">Olivier <span class=\"nom_auteur\">Petitjean</span>, <a rel=\"nofollow\" class=\"external text\" href=\"https://www.bastamag.net/1000-milliards-d-euros-de-profits-en-vingt-ans-comment-les-labos-sont-devenus\">«&#160;<cite style=\"font-style:normal;\">1000 milliards dâ€™euros de profits en vingt ans&#160;: comment les labos sont devenus des monstres financiers</cite>&#160;»</a>, sur <span class=\"italique\">Bastamag</span>, <time class=\"nowrap\" datetime=\"2019-01-18\" data-sort-value=\"2019-01-18\">18 janvier 2019</time></span></span></span>\\n</li>\\n<li id=\"cite_note-9\"><span class=\"mw-cite-backlink noprint\"><a href=\"#cite_ref-9\">↑</a> </span><span class=\"reference-text\"><span class=\"ouvrage\" id=\"Quora\"><abbr class=\"abbr indicateur-langue\" title=\"Langue : anglais\">(en)</abbr> <span class=\"nom_auteur\">Quora</span>, <span lang=\"en\"><a rel=\"nofollow\" class=\"external text\" href=\"https://www.forbes.com/sites/quora/2012/08/09/how-much-money-did-jonas-salk-potentially-forfeit-by-not-patenting-the-polio-vaccine/\">«&#160;<cite style=\"font-style:normal;\">How Much Money Did Jonas Salk Potentially Forfeit By Not Patenting The Polio Vaccine?</cite>&#160;»</a></span>, sur <span class=\"italique\">Forbes</span> <small style=\"line-height:1em;\">(consulté le <time class=\"nowrap\" datetime=\"2022-03-30\" data-sort-value=\"2022-03-30\">30 mars 2022</time>)</small></span></span>\\n</li>\\n</ol></div>\\n</div>\\n<h2><span class=\"mw-headline\" id=\"Liens_externes\">Liens externes</span><span class=\"mw-editsection\"><span class=\"mw-editsection-bracket\">[</span><a href=\"/w/index.php?title=Jonas_Salk&amp;veaction=edit&amp;section=8\" class=\"mw-editsection-visualeditor\" title=\"Modifier la section\\u202f: Liens externes\">modifier</a><span class=\"mw-editsection-divider\"> | </span><a href=\"/w/index.php?title=Jonas_Salk&amp;action=edit&amp;section=8\" title=\"Modifier la section\\u202f: Liens externes\">modifier le code</a><span class=\"mw-editsection-bracket\">]</span></span></h2>\\n<p class=\"mw-empty-elt\">\\n</p>\\n<ul><li class=\"mw-empty-elt\"></li>\\n<li><span class=\"liste-horizontale noarchive\"><span class=\"wd_identifiers\">Ressource relative à la santé<span class=\"noprint wikidata-linkback\"><a href=\"https://www.wikidata.org/wiki/Q200101?uselang=fr#identifiers\" title=\"Voir et modifier les données sur Wikidata\"><img alt=\"Voir et modifier les données sur Wikidata\" src=\"//upload.wikimedia.org/wikipedia/commons/thumb/7/73/Blue_pencil.svg/10px-Blue_pencil.svg.png\" decoding=\"async\" width=\"10\" height=\"10\" style=\"vertical-align: baseline\" class=\"noviewer\" srcset=\"//upload.wikimedia.org/wikipedia/commons/thumb/7/73/Blue_pencil.svg/15px-Blue_pencil.svg.png 1.5x, //upload.wikimedia.org/wikipedia/commons/thumb/7/73/Blue_pencil.svg/20px-Blue_pencil.svg.png 2x\" data-file-width=\"600\" data-file-height=\"600\" /></a></span></span>&#160;: <ul><li><a rel=\"nofollow\" class=\"external text\" href=\"http://www.biusante.parisdescartes.fr/histoire/biographies/index.php?cle=4365\">Bibliothèque interuniversitaire de santé</a></li> </ul></span></li>\\n<li><span class=\"liste-horizontale noarchive\"><span class=\"wd_identifiers\">Ressource relative aux beaux-arts<span class=\"noprint wikidata-linkback\"><a href=\"https://www.wikidata.org/wiki/Q200101?uselang=fr#identifiers\" title=\"Voir et modifier les données sur Wikidata\"><img alt=\"Voir et modifier les données sur Wikidata\" src=\"//upload.wikimedia.org/wikipedia/commons/thumb/7/73/Blue_pencil.svg/10px-Blue_pencil.svg.png\" decoding=\"async\" width=\"10\" height=\"10\" style=\"vertical-align: baseline\" class=\"noviewer\" srcset=\"//upload.wikimedia.org/wikipedia/commons/thumb/7/73/Blue_pencil.svg/15px-Blue_pencil.svg.png 1.5x, //upload.wikimedia.org/wikipedia/commons/thumb/7/73/Blue_pencil.svg/20px-Blue_pencil.svg.png 2x\" data-file-width=\"600\" data-file-height=\"600\" /></a></span></span>&#160;: <ul><li><abbr class=\"abbr indicateur-langue\" title=\"Langue : anglais\">(en)</abbr>&#160;<a rel=\"nofollow\" class=\"external text\" href=\"https://www.getty.edu/vow/ULANFullDisplay?find=&amp;role=&amp;nation=&amp;subjectid=500235742\"><span class=\"lang-en\" lang=\"en\">Union List of Artist Names</span></a></li> </ul></span></li>\\n<li><span class=\"liste-horizontale noarchive\"><span class=\"wd_identifiers\">Ressource relative à la recherche<span class=\"noprint wikidata-linkback\"><a href=\"https://www.wikidata.org/wiki/Q200101?uselang=fr#identifiers\" title=\"Voir et modifier les données sur Wikidata\"><img alt=\"Voir et modifier les données sur Wikidata\" src=\"//upload.wikimedia.org/wikipedia/commons/thumb/7/73/Blue_pencil.svg/10px-Blue_pencil.svg.png\" decoding=\"async\" width=\"10\" height=\"10\" style=\"vertical-align: baseline\" class=\"noviewer\" srcset=\"//upload.wikimedia.org/wikipedia/commons/thumb/7/73/Blue_pencil.svg/15px-Blue_pencil.svg.png 1.5x, //upload.wikimedia.org/wikipedia/commons/thumb/7/73/Blue_pencil.svg/20px-Blue_pencil.svg.png 2x\" data-file-width=\"600\" data-file-height=\"600\" /></a></span></span>&#160;: <ul><li><abbr class=\"abbr indicateur-langue\" title=\"Langue : anglais\">(en)</abbr>&#160;<a rel=\"nofollow\" class=\"external text\" href=\"http://www.whonamedit.com/doctor.cfm/3642.html\"><span class=\"lang-en\" lang=\"en\"><i>Who Named It?</i></span></a></li> </ul></span></li>\\n<li><div class=\"liste-horizontale\"><span class=\"wd_identifiers\">Notices dans des dictionnaires ou encyclopédies généralistes<span class=\"noprint wikidata-linkback\"><a href=\"https://www.wikidata.org/wiki/Q200101?uselang=fr#identifiers\" title=\"Voir et modifier les données sur Wikidata\"><img alt=\"Voir et modifier les données sur Wikidata\" src=\"//upload.wikimedia.org/wikipedia/commons/thumb/7/73/Blue_pencil.svg/10px-Blue_pencil.svg.png\" decoding=\"async\" width=\"10\" height=\"10\" style=\"vertical-align: baseline\" class=\"noviewer\" srcset=\"//upload.wikimedia.org/wikipedia/commons/thumb/7/73/Blue_pencil.svg/15px-Blue_pencil.svg.png 1.5x, //upload.wikimedia.org/wikipedia/commons/thumb/7/73/Blue_pencil.svg/20px-Blue_pencil.svg.png 2x\" data-file-width=\"600\" data-file-height=\"600\" /></a></span></span>&#160;: <ul><li><a rel=\"nofollow\" class=\"external text\" href=\"https://doi.org/10.1093/anb/9780198606697.article.1202065\"><i>American National Biography</i></a></li> <li><a rel=\"nofollow\" class=\"external text\" href=\"https://www.britannica.com/biography/Jonas-Salk\"><i>Britannica</i></a></li> <li><a rel=\"nofollow\" class=\"external text\" href=\"http://www.deutsche-biographie.de/130653802.html\"><i>Deutsche Biographie</i></a></li> <li><a rel=\"nofollow\" class=\"external text\" href=\"http://www.treccani.it/enciclopedia/jonas-edward-salk_(Enciclopedia-Italiana)/\"><i>Enciclopedia italiana</i></a></li> <li><a rel=\"nofollow\" class=\"external text\" href=\"http://www.sapere.it/enciclopedia/Salk%2C%2BJonas%2BEdward.html\"><i>Enciclopedia De Agostini</i></a></li> <li><a rel=\"nofollow\" class=\"external text\" href=\"https://www.enciclopedia.cat/EC-GEC-0058178.xml\"><i>Gran Enciclopèdia Catalana</i></a></li> <li><a rel=\"nofollow\" class=\"external text\" href=\"http://www.enciklopedija.hr/Natuknica.aspx?ID=54200\"><i>Hrvatska Enciklopedija</i></a></li> <li><a rel=\"nofollow\" class=\"external text\" href=\"https://www.ne.se/uppslagsverk/encyklopedi/lång/jonas-salk\"><i>Nationalencyklopedin</i></a></li> <li><a rel=\"nofollow\" class=\"external text\" href=\"https://www.munzinger.de/search/go/document.jsp?id=00000006546\">Munzinger</a></li> <li><a rel=\"nofollow\" class=\"external text\" href=\"https://snl.no/Jonas_Edward_Salk\"><i>Store norske leksikon</i></a></li> <li><a rel=\"nofollow\" class=\"external text\" href=\"http://www.treccani.it/enciclopedia/jonas-edward-salk\"><i>Treccani</i></a></li> <li><a rel=\"nofollow\" class=\"external text\" href=\"https://www.universalis.fr/encyclopedie/jonas-edward-salk/\"><i>Universalis</i></a></li> <li><a rel=\"nofollow\" class=\"external text\" href=\"https://www.vle.lt/Straipsnis/jonas-edward-salk\"><i>Visuotinė lietuvių enciklopedija</i></a></li> </ul></div></li>\\n<li><div class=\"liste-horizontale\"><span class=\"wd_identifiers\"><a href=\"/wiki/Autorit%C3%A9_(sciences_de_l%27information)\" title=\"Autorité (sciences de l&#39;information)\">Notices d\\'autorité</a><span class=\"noprint wikidata-linkback\"><a href=\"https://www.wikidata.org/wiki/Q200101?uselang=fr#identifiers\" title=\"Voir et modifier les données sur Wikidata\"><img alt=\"Voir et modifier les données sur Wikidata\" src=\"//upload.wikimedia.org/wikipedia/commons/thumb/7/73/Blue_pencil.svg/10px-Blue_pencil.svg.png\" decoding=\"async\" width=\"10\" height=\"10\" style=\"vertical-align: baseline\" class=\"noviewer\" srcset=\"//upload.wikimedia.org/wikipedia/commons/thumb/7/73/Blue_pencil.svg/15px-Blue_pencil.svg.png 1.5x, //upload.wikimedia.org/wikipedia/commons/thumb/7/73/Blue_pencil.svg/20px-Blue_pencil.svg.png 2x\" data-file-width=\"600\" data-file-height=\"600\" /></a></span></span>&#160;: <ul><li><span class=\"nowrap uid noarchive\"><a rel=\"nofollow\" class=\"external text\" href=\"http://viaf.org/viaf/7396814\">VIAF</a></span></li> <li><span class=\"nowrap uid noarchive\"><a rel=\"nofollow\" class=\"external text\" href=\"http://isni.org/isni/0000000108665179\">ISNI</a></span></li> <li><span class=\"nowrap uid noarchive\"><a rel=\"nofollow\" class=\"external text\" href=\"http://catalogue.bnf.fr/ark:/12148/cb14064550v\">BnF</a></span> (<span class=\"nowrap uid noarchive\"><a rel=\"nofollow\" class=\"external text\" href=\"http://data.bnf.fr/ark:/12148/cb14064550v\">données</a></span>)</li> <li><span class=\"nowrap uid noarchive\"><a rel=\"nofollow\" class=\"external text\" href=\"http://www.idref.fr/027120082\">IdRef</a></span></li> <li><span class=\"nowrap uid noarchive\"><a rel=\"nofollow\" class=\"external text\" href=\"http://id.loc.gov/authorities/n50017557\">LCCN</a></span></li> <li><span class=\"nowrap uid noarchive\"><a rel=\"nofollow\" class=\"external text\" href=\"http://d-nb.info/gnd/130653802\">GND</a></span></li> <li><span class=\"nowrap uid noarchive\"><a rel=\"nofollow\" class=\"external text\" href=\"https://opac.sbn.it/nome/IEIV011772\">Italie</a></span></li> <li><span class=\"nowrap uid noarchive\"><a rel=\"nofollow\" class=\"external text\" href=\"http://ci.nii.ac.jp/author/DA07226850?l=en\">CiNii</a></span></li> <li><span class=\"nowrap uid noarchive\"><a rel=\"nofollow\" class=\"external text\" href=\"http://data.bibliotheken.nl/id/thes/p067864082\">Pays-Bas</a></span></li> <li><span class=\"nowrap uid noarchive\"><a rel=\"nofollow\" class=\"external text\" href=\"http://mak.bn.org.pl/cgi-bin/KHW/makwww.exe?BM=01&amp;IM=04&amp;NU=01&amp;WI=9810615203505606\">Pologne</a></span></li> <li><span class=\"nowrap uid noarchive\"><a rel=\"nofollow\" class=\"external text\" href=\"http://uli.nli.org.il/F/?func=find-b&amp;local_base=NLX10&amp;find_code=UID&amp;request=987007267399905171\">Israël</a></span></li> <li><span class=\"nowrap uid noarchive\"><a rel=\"nofollow\" class=\"external text\" href=\"http://nukat.edu.pl/aut/n%202008120100\">NUKAT</a></span></li> <li><span class=\"nowrap uid noarchive\"><a rel=\"nofollow\" class=\"external text\" href=\"http://nla.gov.au/anbd.aut-an36095995\">Australie</a></span></li> <li><span class=\"nowrap uid noarchive\"><a rel=\"nofollow\" class=\"external text\" href=\"https://authority.bibsys.no/authority/rest/authorities/html/99022867\">Norvège</a></span></li> <li><span class=\"nowrap uid noarchive\"><a rel=\"nofollow\" class=\"external text\" href=\"http://aut.nkp.cz/jcu2013799345\">Tchéquie</a></span></li> <li><span class=\"nowrap uid noarchive\"><a rel=\"nofollow\" class=\"external text\" href=\"https://www.worldcat.org/identities/lccn-n50017557\">WorldCat</a></span></li> </ul></div></li></ul>\\n<ul id=\"bandeau-portail\" class=\"bandeau-portail\"><li><span class=\"bandeau-portail-element\"><span class=\"bandeau-portail-icone\"><a href=\"/wiki/Portail:M%C3%A9decine\" title=\"Portail de la médecine\"><img alt=\"icône décorative\" src=\"//upload.wikimedia.org/wikipedia/commons/thumb/5/5b/Star_of_life2.svg/24px-Star_of_life2.svg.png\" decoding=\"async\" width=\"24\" height=\"24\" class=\"noviewer\" srcset=\"//upload.wikimedia.org/wikipedia/commons/thumb/5/5b/Star_of_life2.svg/36px-Star_of_life2.svg.png 1.5x, //upload.wikimedia.org/wikipedia/commons/thumb/5/5b/Star_of_life2.svg/48px-Star_of_life2.svg.png 2x\" data-file-width=\"192\" data-file-height=\"192\" /></a></span> <span class=\"bandeau-portail-texte\"><a href=\"/wiki/Portail:M%C3%A9decine\" title=\"Portail:Médecine\">Portail de la médecine</a></span> </span></li> <li><span class=\"bandeau-portail-element\"><span class=\"bandeau-portail-icone\"><a href=\"/wiki/Portail:%C3%89tats-Unis\" title=\"Portail des États-Unis\"><img alt=\"icône décorative\" src=\"//upload.wikimedia.org/wikipedia/commons/thumb/a/a4/Flag_of_the_United_States.svg/42px-Flag_of_the_United_States.svg.png\" decoding=\"async\" width=\"42\" height=\"22\" class=\"noviewer thumbborder\" srcset=\"//upload.wikimedia.org/wikipedia/commons/thumb/a/a4/Flag_of_the_United_States.svg/63px-Flag_of_the_United_States.svg.png 1.5x, //upload.wikimedia.org/wikipedia/commons/thumb/a/a4/Flag_of_the_United_States.svg/84px-Flag_of_the_United_States.svg.png 2x\" data-file-width=\"1235\" data-file-height=\"650\" /></a></span> <span class=\"bandeau-portail-texte\"><a href=\"/wiki/Portail:%C3%89tats-Unis\" title=\"Portail:États-Unis\">Portail des États-Unis</a></span> </span></li> <li><span class=\"bandeau-portail-element\"><span class=\"bandeau-portail-icone\"><a href=\"/wiki/Portail:New_York\" title=\"Portail de New York\"><img alt=\"icône décorative\" src=\"//upload.wikimedia.org/wikipedia/commons/thumb/b/ba/Flag_of_New_York_City.svg/37px-Flag_of_New_York_City.svg.png\" decoding=\"async\" width=\"37\" height=\"22\" class=\"noviewer thumbborder\" srcset=\"//upload.wikimedia.org/wikipedia/commons/thumb/b/ba/Flag_of_New_York_City.svg/55px-Flag_of_New_York_City.svg.png 1.5x, //upload.wikimedia.org/wikipedia/commons/thumb/b/ba/Flag_of_New_York_City.svg/74px-Flag_of_New_York_City.svg.png 2x\" data-file-width=\"500\" data-file-height=\"300\" /></a></span> <span class=\"bandeau-portail-texte\"><a href=\"/wiki/Portail:New_York\" title=\"Portail:New York\">Portail de New York</a></span> </span></li> <li><span class=\"bandeau-portail-element\"><span class=\"bandeau-portail-icone\"><a href=\"/wiki/Portail:San_Diego\" title=\"Portail de San Diego\"><img alt=\"icône décorative\" src=\"//upload.wikimedia.org/wikipedia/commons/thumb/1/19/Flag_of_San_Diego%2C_California.svg/37px-Flag_of_San_Diego%2C_California.svg.png\" decoding=\"async\" width=\"37\" height=\"22\" class=\"noviewer thumbborder\" srcset=\"//upload.wikimedia.org/wikipedia/commons/thumb/1/19/Flag_of_San_Diego%2C_California.svg/55px-Flag_of_San_Diego%2C_California.svg.png 1.5x, //upload.wikimedia.org/wikipedia/commons/thumb/1/19/Flag_of_San_Diego%2C_California.svg/74px-Flag_of_San_Diego%2C_California.svg.png 2x\" data-file-width=\"1333\" data-file-height=\"800\" /></a></span> <span class=\"bandeau-portail-texte\"><a href=\"/wiki/Portail:San_Diego\" title=\"Portail:San Diego\">Portail de San Diego</a></span> </span></li> <li><span class=\"bandeau-portail-element\"><span class=\"bandeau-portail-icone\"><a href=\"/wiki/Portail:Juda%C3%AFsme\" title=\"Portail de la culture juive et du judaïsme\"><img alt=\"icône décorative\" src=\"//upload.wikimedia.org/wikipedia/commons/thumb/8/8f/Judaism_Symbol.png/23px-Judaism_Symbol.png\" decoding=\"async\" width=\"23\" height=\"24\" class=\"noviewer\" srcset=\"//upload.wikimedia.org/wikipedia/commons/thumb/8/8f/Judaism_Symbol.png/35px-Judaism_Symbol.png 1.5x, //upload.wikimedia.org/wikipedia/commons/thumb/8/8f/Judaism_Symbol.png/46px-Judaism_Symbol.png 2x\" data-file-width=\"266\" data-file-height=\"275\" /></a></span> <span class=\"bandeau-portail-texte\"><a href=\"/wiki/Portail:Juda%C3%AFsme\" title=\"Portail:Judaïsme\">Portail de la culture juive et du judaïsme</a></span> </span></li> <li><span class=\"bandeau-portail-element\"><span class=\"bandeau-portail-icone\"><a href=\"/wiki/Portail:XXe_si%C3%A8cle\" title=\"Portail du XXe&#160;siècle\"><img alt=\"icône décorative\" src=\"//upload.wikimedia.org/wikipedia/commons/thumb/0/06/Concorde_on_Bristol.jpg/22px-Concorde_on_Bristol.jpg\" decoding=\"async\" width=\"22\" height=\"22\" class=\"noviewer thumbborder\" srcset=\"//upload.wikimedia.org/wikipedia/commons/thumb/0/06/Concorde_on_Bristol.jpg/33px-Concorde_on_Bristol.jpg 1.5x, //upload.wikimedia.org/wikipedia/commons/thumb/0/06/Concorde_on_Bristol.jpg/44px-Concorde_on_Bristol.jpg 2x\" data-file-width=\"535\" data-file-height=\"535\" /></a></span> <span class=\"bandeau-portail-texte\"><a href=\"/wiki/Portail:XXe_si%C3%A8cle\" title=\"Portail:XXe siècle\">Portail du <abbr class=\"abbr\" title=\"20ᵉ siècle\"><span class=\"romain\">XX</span><sup style=\"font-size:72%\">e</sup></abbr>&#160;siècle</a></span> </span></li>               </ul>\\n<!-- \\nNewPP limit report\\nParsed by mw1397\\nCached time: 20230710075132\\nCache expiry: 1814400\\nReduced expiry: false\\nComplications: [show‐toc]\\nCPU time usage: 0.839 seconds\\nReal time usage: 1.230 seconds\\nPreprocessor visited node count: 1933/1000000\\nPost‐expand include size: 75156/2097152 bytes\\nTemplate argument size: 1778/2097152 bytes\\nHighest expansion depth: 14/100\\nExpensive parser function count: 3/500\\nUnstrip recursion depth: 0/20\\nUnstrip post‐expand size: 11534/5000000 bytes\\nLua time usage: 0.685/10.000 seconds\\nLua memory usage: 9386263/52428800 bytes\\nNumber of Wikibase entities loaded: 17/400\\n-->\\n<!--\\nTransclusion expansion time report (%,ms,calls,template)\\n100.00% 1151.297      1 -total\\n 51.69%  595.053      1 Modèle:Infobox_Biographie2\\n 33.61%  386.994      1 Modèle:Liens\\n  4.23%   48.666      1 Modèle:Portail\\n  3.79%   43.588      1 Modèle:Références\\n  2.43%   27.958      1 Modèle:Voir_homonymes\\n  2.30%   26.512      1 Modèle:Méta_bandeau_de_note\\n  2.19%   25.163      1 Modèle:Méta_bandeau\\n  1.62%   18.681      5 Modèle:Lien_web\\n  1.59%   18.343      1 Modèle:Suivi_des_biographies\\n-->\\n\\n<!-- Saved in parser cache with key frwiki:pcache:idhash:235968-0!canonical and timestamp 20230710075131 and revision id 204977301. Rendering was triggered because: page-view\\n -->\\n</div><!--esi <esi:include src=\"/esitest-fa8a495983347898/content\" /> --><noscript><img src=\"//fr.wikipedia.org/wiki/Special:CentralAutoLogin/start?type=1x1\" alt=\"\" title=\"\" width=\"1\" height=\"1\" style=\"border: none; position: absolute;\" /></noscript>\\n<div class=\"printfooter\" data-nosnippet=\"\">Ce document provient de «&#160;<a dir=\"ltr\" href=\"https://fr.wikipedia.org/w/index.php?title=Jonas_Salk&amp;oldid=204977301\">https://fr.wikipedia.org/w/index.php?title=Jonas_Salk&amp;oldid=204977301</a>&#160;».</div></div>\\n\\t\\t\\t\\t\\t<div id=\"catlinks\" class=\"catlinks\" data-mw=\"interface\"><div id=\"mw-normal-catlinks\" class=\"mw-normal-catlinks\"><a href=\"/wiki/Cat%C3%A9gorie:Accueil\" title=\"Catégorie:Accueil\">Catégories</a>\\u202f: <ul><li><a href=\"/wiki/Cat%C3%A9gorie:Biologiste_am%C3%A9ricain\" title=\"Catégorie:Biologiste américain\">Biologiste américain</a></li><li><a href=\"/wiki/Cat%C3%A9gorie:M%C3%A9decin_am%C3%A9ricain_du_XXe_si%C3%A8cle\" title=\"Catégorie:Médecin américain du XXe siècle\">Médecin américain du XXe siècle</a></li><li><a href=\"/wiki/Cat%C3%A9gorie:Vaccinologue\" title=\"Catégorie:Vaccinologue\">Vaccinologue</a></li><li><a href=\"/wiki/Cat%C3%A9gorie:Histoire_des_maladies_infectieuses\" title=\"Catégorie:Histoire des maladies infectieuses\">Histoire des maladies infectieuses</a></li><li><a href=\"/wiki/Cat%C3%A9gorie:Poliomy%C3%A9lite\" title=\"Catégorie:Poliomyélite\">Poliomyélite</a></li><li><a href=\"/wiki/Cat%C3%A9gorie:Laur%C3%A9at_du_prix_Albert-Lasker\" title=\"Catégorie:Lauréat du prix Albert-Lasker\">Lauréat du prix Albert-Lasker</a></li><li><a href=\"/wiki/Cat%C3%A9gorie:M%C3%A9daille_John-Scott\" title=\"Catégorie:Médaille John-Scott\">Médaille John-Scott</a></li><li><a href=\"/wiki/Cat%C3%A9gorie:Universit%C3%A9_de_New_York\" title=\"Catégorie:Université de New York\">Université de New York</a></li><li><a href=\"/wiki/Cat%C3%A9gorie:Naissance_en_octobre_1914\" title=\"Catégorie:Naissance en octobre 1914\">Naissance en octobre 1914</a></li><li><a href=\"/wiki/Cat%C3%A9gorie:Naissance_%C3%A0_New_York\" title=\"Catégorie:Naissance à New York\">Naissance à New York</a></li><li><a href=\"/wiki/Cat%C3%A9gorie:D%C3%A9c%C3%A8s_en_juin_1995\" title=\"Catégorie:Décès en juin 1995\">Décès en juin 1995</a></li><li><a href=\"/wiki/Cat%C3%A9gorie:D%C3%A9c%C3%A8s_%C3%A0_La_Jolla\" title=\"Catégorie:Décès à La Jolla\">Décès à La Jolla</a></li><li><a href=\"/wiki/Cat%C3%A9gorie:D%C3%A9c%C3%A8s_%C3%A0_80_ans\" title=\"Catégorie:Décès à 80 ans\">Décès à 80 ans</a></li><li><a href=\"/wiki/Cat%C3%A9gorie:%C3%89tudiant_du_City_College_of_New_York\" title=\"Catégorie:Étudiant du City College of New York\">Étudiant du City College of New York</a></li><li><a href=\"/wiki/Cat%C3%A9gorie:%C3%89tudiant_de_la_New_York_University_School_of_Medicine\" title=\"Catégorie:Étudiant de la New York University School of Medicine\">Étudiant de la New York University School of Medicine</a></li><li><a href=\"/wiki/Cat%C3%A9gorie:R%C3%A9cipiendaire_de_la_m%C3%A9daille_d%27or_du_Congr%C3%A8s_des_%C3%89tats-Unis\" title=\"Catégorie:Récipiendaire de la médaille d&#039;or du Congrès des États-Unis\">Récipiendaire de la médaille d\\'or du Congrès des États-Unis</a></li><li><a href=\"/wiki/Cat%C3%A9gorie:R%C3%A9cipiendaire_de_la_m%C3%A9daille_pr%C3%A9sidentielle_de_la_Libert%C3%A9\" title=\"Catégorie:Récipiendaire de la médaille présidentielle de la Liberté\">Récipiendaire de la médaille présidentielle de la Liberté</a></li><li><a href=\"/wiki/Cat%C3%A9gorie:Humaniste_de_l%27Ann%C3%A9e\" title=\"Catégorie:Humaniste de l&#039;Année\">Humaniste de l\\'Année</a></li><li><a href=\"/wiki/Cat%C3%A9gorie:Personnalit%C3%A9_am%C3%A9ricaine_n%C3%A9e_d%27un_parent_russe\" title=\"Catégorie:Personnalité américaine née d&#039;un parent russe\">Personnalité américaine née d\\'un parent russe</a></li></ul></div><div id=\"mw-hidden-catlinks\" class=\"mw-hidden-catlinks mw-hidden-cats-hidden\">Catégories cachées\\u202f: <ul><li><a href=\"/wiki/Cat%C3%A9gorie:Page_utilisant_P569\" title=\"Catégorie:Page utilisant P569\">Page utilisant P569</a></li><li><a href=\"/wiki/Cat%C3%A9gorie:Page_utilisant_P19\" title=\"Catégorie:Page utilisant P19\">Page utilisant P19</a></li><li><a href=\"/wiki/Cat%C3%A9gorie:Page_utilisant_P570\" title=\"Catégorie:Page utilisant P570\">Page utilisant P570</a></li><li><a href=\"/wiki/Cat%C3%A9gorie:Page_utilisant_P20\" title=\"Catégorie:Page utilisant P20\">Page utilisant P20</a></li><li><a href=\"/wiki/Cat%C3%A9gorie:Page_utilisant_P119\" title=\"Catégorie:Page utilisant P119\">Page utilisant P119</a></li><li><a href=\"/wiki/Cat%C3%A9gorie:Page_utilisant_P1477\" title=\"Catégorie:Page utilisant P1477\">Page utilisant P1477</a></li><li><a href=\"/wiki/Cat%C3%A9gorie:Page_utilisant_P27\" title=\"Catégorie:Page utilisant P27\">Page utilisant P27</a></li><li><a href=\"/wiki/Cat%C3%A9gorie:Page_utilisant_P551\" title=\"Catégorie:Page utilisant P551\">Page utilisant P551</a></li><li><a href=\"/wiki/Cat%C3%A9gorie:Page_utilisant_P69\" title=\"Catégorie:Page utilisant P69\">Page utilisant P69</a></li><li><a href=\"/wiki/Cat%C3%A9gorie:Page_utilisant_P106\" title=\"Catégorie:Page utilisant P106\">Page utilisant P106</a></li><li><a href=\"/wiki/Cat%C3%A9gorie:Page_utilisant_P26\" title=\"Catégorie:Page utilisant P26\">Page utilisant P26</a></li><li><a href=\"/wiki/Cat%C3%A9gorie:Page_utilisant_P40\" title=\"Catégorie:Page utilisant P40\">Page utilisant P40</a></li><li><a href=\"/wiki/Cat%C3%A9gorie:Page_utilisant_P108\" title=\"Catégorie:Page utilisant P108\">Page utilisant P108</a></li><li><a href=\"/wiki/Cat%C3%A9gorie:Page_utilisant_P463\" title=\"Catégorie:Page utilisant P463\">Page utilisant P463</a></li><li><a href=\"/wiki/Cat%C3%A9gorie:Page_utilisant_P184\" title=\"Catégorie:Page utilisant P184\">Page utilisant P184</a></li><li><a href=\"/wiki/Cat%C3%A9gorie:Page_utilisant_P166\" title=\"Catégorie:Page utilisant P166\">Page utilisant P166</a></li><li><a href=\"/wiki/Cat%C3%A9gorie:Page_utilisant_P109\" title=\"Catégorie:Page utilisant P109\">Page utilisant P109</a></li><li><a href=\"/wiki/Cat%C3%A9gorie:Page_utilisant_P1801\" title=\"Catégorie:Page utilisant P1801\">Page utilisant P1801</a></li><li><a href=\"/wiki/Cat%C3%A9gorie:Article_utilisant_l%27infobox_Biographie2\" title=\"Catégorie:Article utilisant l&#039;infobox Biographie2\">Article utilisant l\\'infobox Biographie2</a></li><li><a href=\"/wiki/Cat%C3%A9gorie:Article_utilisant_une_Infobox\" title=\"Catégorie:Article utilisant une Infobox\">Article utilisant une Infobox</a></li><li><a href=\"/wiki/Cat%C3%A9gorie:Cat%C3%A9gorie_Commons_avec_lien_local_identique_sur_Wikidata\" title=\"Catégorie:Catégorie Commons avec lien local identique sur Wikidata\">Catégorie Commons avec lien local identique sur Wikidata</a></li><li><a href=\"/wiki/Cat%C3%A9gorie:Page_utilisant_P5375\" title=\"Catégorie:Page utilisant P5375\">Page utilisant P5375</a></li><li><a href=\"/wiki/Cat%C3%A9gorie:Page_pointant_vers_des_bases_externes\" title=\"Catégorie:Page pointant vers des bases externes\">Page pointant vers des bases externes</a></li><li><a href=\"/wiki/Cat%C3%A9gorie:Page_pointant_vers_des_bases_relatives_%C3%A0_la_sant%C3%A9\" title=\"Catégorie:Page pointant vers des bases relatives à la santé\">Page pointant vers des bases relatives à la santé</a></li><li><a href=\"/wiki/Cat%C3%A9gorie:Page_utilisant_P245\" title=\"Catégorie:Page utilisant P245\">Page utilisant P245</a></li><li><a href=\"/wiki/Cat%C3%A9gorie:Page_pointant_vers_des_bases_relatives_aux_beaux-arts\" title=\"Catégorie:Page pointant vers des bases relatives aux beaux-arts\">Page pointant vers des bases relatives aux beaux-arts</a></li><li><a href=\"/wiki/Cat%C3%A9gorie:Page_utilisant_P5415\" title=\"Catégorie:Page utilisant P5415\">Page utilisant P5415</a></li><li><a href=\"/wiki/Cat%C3%A9gorie:Page_pointant_vers_des_bases_relatives_%C3%A0_la_recherche\" title=\"Catégorie:Page pointant vers des bases relatives à la recherche\">Page pointant vers des bases relatives à la recherche</a></li><li><a href=\"/wiki/Cat%C3%A9gorie:Page_utilisant_P4823\" title=\"Catégorie:Page utilisant P4823\">Page utilisant P4823</a></li><li><a href=\"/wiki/Cat%C3%A9gorie:Page_utilisant_P1417\" title=\"Catégorie:Page utilisant P1417\">Page utilisant P1417</a></li><li><a href=\"/wiki/Cat%C3%A9gorie:Page_utilisant_P7902\" title=\"Catégorie:Page utilisant P7902\">Page utilisant P7902</a></li><li><a href=\"/wiki/Cat%C3%A9gorie:Page_utilisant_P4223\" title=\"Catégorie:Page utilisant P4223\">Page utilisant P4223</a></li><li><a href=\"/wiki/Cat%C3%A9gorie:Page_utilisant_P6706\" title=\"Catégorie:Page utilisant P6706\">Page utilisant P6706</a></li><li><a href=\"/wiki/Cat%C3%A9gorie:Page_utilisant_P1296\" title=\"Catégorie:Page utilisant P1296\">Page utilisant P1296</a></li><li><a href=\"/wiki/Cat%C3%A9gorie:Page_utilisant_P7982\" title=\"Catégorie:Page utilisant P7982\">Page utilisant P7982</a></li><li><a href=\"/wiki/Cat%C3%A9gorie:Page_utilisant_P3222\" title=\"Catégorie:Page utilisant P3222\">Page utilisant P3222</a></li><li><a href=\"/wiki/Cat%C3%A9gorie:Page_utilisant_P1284\" title=\"Catégorie:Page utilisant P1284\">Page utilisant P1284</a></li><li><a href=\"/wiki/Cat%C3%A9gorie:Page_utilisant_P4342\" title=\"Catégorie:Page utilisant P4342\">Page utilisant P4342</a></li><li><a href=\"/wiki/Cat%C3%A9gorie:Page_utilisant_P3365\" title=\"Catégorie:Page utilisant P3365\">Page utilisant P3365</a></li><li><a href=\"/wiki/Cat%C3%A9gorie:Page_utilisant_P3219\" title=\"Catégorie:Page utilisant P3219\">Page utilisant P3219</a></li><li><a href=\"/wiki/Cat%C3%A9gorie:Page_utilisant_P7666\" title=\"Catégorie:Page utilisant P7666\">Page utilisant P7666</a></li><li><a href=\"/wiki/Cat%C3%A9gorie:Page_pointant_vers_des_dictionnaires_ou_encyclop%C3%A9dies_g%C3%A9n%C3%A9ralistes\" title=\"Catégorie:Page pointant vers des dictionnaires ou encyclopédies généralistes\">Page pointant vers des dictionnaires ou encyclopédies généralistes</a></li><li><a href=\"/wiki/Cat%C3%A9gorie:Article_de_Wikip%C3%A9dia_avec_notice_d%27autorit%C3%A9\" title=\"Catégorie:Article de Wikipédia avec notice d&#039;autorité\">Article de Wikipédia avec notice d\\'autorité</a></li><li><a href=\"/wiki/Cat%C3%A9gorie:Portail:M%C3%A9decine/Articles_li%C3%A9s\" title=\"Catégorie:Portail:Médecine/Articles liés\">Portail:Médecine/Articles liés</a></li><li><a href=\"/wiki/Cat%C3%A9gorie:Portail:Biologie/Articles_li%C3%A9s\" title=\"Catégorie:Portail:Biologie/Articles liés\">Portail:Biologie/Articles liés</a></li><li><a href=\"/wiki/Cat%C3%A9gorie:Portail:Sciences_humaines_et_sociales/Articles_li%C3%A9s\" title=\"Catégorie:Portail:Sciences humaines et sociales/Articles liés\">Portail:Sciences humaines et sociales/Articles liés</a></li><li><a href=\"/wiki/Cat%C3%A9gorie:Portail:Sciences/Articles_li%C3%A9s\" title=\"Catégorie:Portail:Sciences/Articles liés\">Portail:Sciences/Articles liés</a></li><li><a href=\"/wiki/Cat%C3%A9gorie:Portail:%C3%89tats-Unis/Articles_li%C3%A9s\" title=\"Catégorie:Portail:États-Unis/Articles liés\">Portail:États-Unis/Articles liés</a></li><li><a href=\"/wiki/Cat%C3%A9gorie:Portail:Am%C3%A9rique/Articles_li%C3%A9s\" title=\"Catégorie:Portail:Amérique/Articles liés\">Portail:Amérique/Articles liés</a></li><li><a href=\"/wiki/Cat%C3%A9gorie:Portail:Am%C3%A9rique_du_Nord/Articles_li%C3%A9s\" title=\"Catégorie:Portail:Amérique du Nord/Articles liés\">Portail:Amérique du Nord/Articles liés</a></li><li><a href=\"/wiki/Cat%C3%A9gorie:Portail:New_York/Articles_li%C3%A9s\" title=\"Catégorie:Portail:New York/Articles liés\">Portail:New York/Articles liés</a></li><li><a href=\"/wiki/Cat%C3%A9gorie:Portail:New_York_(%C3%89tat)/Articles_li%C3%A9s\" title=\"Catégorie:Portail:New York (État)/Articles liés\">Portail:New York (État)/Articles liés</a></li><li><a href=\"/wiki/Cat%C3%A9gorie:Portail:San_Diego/Articles_li%C3%A9s\" title=\"Catégorie:Portail:San Diego/Articles liés\">Portail:San Diego/Articles liés</a></li><li><a href=\"/wiki/Cat%C3%A9gorie:Portail:Californie/Articles_li%C3%A9s\" title=\"Catégorie:Portail:Californie/Articles liés\">Portail:Californie/Articles liés</a></li><li><a href=\"/wiki/Cat%C3%A9gorie:Portail:Juda%C3%AFsme/Articles_li%C3%A9s\" title=\"Catégorie:Portail:Judaïsme/Articles liés\">Portail:Judaïsme/Articles liés</a></li><li><a href=\"/wiki/Cat%C3%A9gorie:Portail:Religions_et_croyances/Articles_li%C3%A9s\" title=\"Catégorie:Portail:Religions et croyances/Articles liés\">Portail:Religions et croyances/Articles liés</a></li><li><a href=\"/wiki/Cat%C3%A9gorie:Portail:XXe_si%C3%A8cle/Articles_li%C3%A9s\" title=\"Catégorie:Portail:XXe siècle/Articles liés\">Portail:XXe siècle/Articles liés</a></li><li><a href=\"/wiki/Cat%C3%A9gorie:Portail:%C3%89poque_contemporaine/Articles_li%C3%A9s\" title=\"Catégorie:Portail:Époque contemporaine/Articles liés\">Portail:Époque contemporaine/Articles liés</a></li><li><a href=\"/wiki/Cat%C3%A9gorie:Portail:Histoire/Articles_li%C3%A9s\" title=\"Catégorie:Portail:Histoire/Articles liés\">Portail:Histoire/Articles liés</a></li><li><a href=\"/wiki/Cat%C3%A9gorie:Wikip%C3%A9dia:Article_biographique\" title=\"Catégorie:Wikipédia:Article biographique\">Wikipédia:Article biographique</a></li><li><a href=\"/wiki/Cat%C3%A9gorie:Portail:Biographie/Articles_li%C3%A9s/Sant%C3%A9\" title=\"Catégorie:Portail:Biographie/Articles liés/Santé\">Portail:Biographie/Articles liés/Santé</a></li><li><a href=\"/wiki/Cat%C3%A9gorie:Portail:Biographie/Articles_li%C3%A9s/Sciences\" title=\"Catégorie:Portail:Biographie/Articles liés/Sciences\">Portail:Biographie/Articles liés/Sciences</a></li></ul></div></div>\\n\\t\\t\\t\\t</div>\\n\\t\\t\\t</main>\\n\\t\\t\\t\\n\\t\\t</div>\\n\\t\\t<div class=\"mw-footer-container\">\\n\\t\\t\\t\\n<footer id=\"footer\" class=\"mw-footer\" role=\"contentinfo\" >\\n\\t<ul id=\"footer-info\">\\n\\t<li id=\"footer-info-lastmod\"> La dernière modification de cette page a été faite le 7 juin 2023 à 08:35.</li>\\n\\t<li id=\"footer-info-copyright\"><span style=\"white-space: normal\"><a class=\"internal\" href=\"/wiki/Wikip%C3%A9dia:Citation_et_r%C3%A9utilisation_du_contenu_de_Wikip%C3%A9dia\" title=\"Droit d\\'auteur\">Droit d\\'auteur</a> : les textes sont disponibles sous <a rel=\"license\" href=\"https://creativecommons.org/licenses/by-sa/4.0/deed.fr\" title=\"Licence Creative Commons Attribution - partage dans les mêmes conditions 4.0 international\">licence Creative Commons attribution, partage dans les mêmes conditions</a> ; d’autres conditions peuvent s’appliquer. Voyez les <a href=\"https://wikimediafoundation.org/wiki/Conditions_d%27utilisation\" title=\"Conditions d’utilisation de la Wikimedia Foundation\">conditions d’utilisation</a> pour plus de détails, ainsi que les <a class=\"internal\" href=\"/wiki/Wikip%C3%A9dia:Cr%C3%A9dits_graphiques\" title=\"Droit d\\'auteur de certaines icônes\">crédits graphiques</a>. En cas de réutilisation des textes de cette page, voyez <a class=\"internal\" href=\"/wiki/Sp%C3%A9cial:Citer/Jonas_Salk\" title=\"Citer ou réutiliser cette page\">comment citer les auteurs et mentionner la licence</a>.<br />\\nWikipedia® est une marque déposée de la <a href=\"https://wikimediafoundation.org/\" title=\"Wikimedia Foundation\">Wikimedia Foundation, Inc.</a>, organisation de bienfaisance régie par le paragraphe <a class=\"internal\" href=\"/wiki/501c\" title=\"501c\">501(c)(3)</a> du code fiscal des États-Unis.</span><br /></li>\\n</ul>\\n\\n\\t<ul id=\"footer-places\">\\n\\t<li id=\"footer-places-privacy\"><a href=\"https://foundation.wikimedia.org/wiki/Special:MyLanguage/Policy:Privacy_policy/fr\">Politique de confidentialité</a></li>\\n\\t<li id=\"footer-places-about\"><a href=\"/wiki/Wikip%C3%A9dia:%C3%80_propos_de_Wikip%C3%A9dia\">À propos de Wikipédia</a></li>\\n\\t<li id=\"footer-places-disclaimers\"><a href=\"/wiki/Wikip%C3%A9dia:Avertissements_g%C3%A9n%C3%A9raux\">Avertissements</a></li>\\n\\t<li id=\"footer-places-contact\"><a href=\"//fr.wikipedia.org/wiki/Wikipédia:Contact\">Contact</a></li>\\n\\t<li id=\"footer-places-wm-codeofconduct\"><a href=\"https://foundation.wikimedia.org/wiki/Special:MyLanguage/Universal_Code_of_Conduct\">Code de conduite</a></li>\\n\\t<li id=\"footer-places-mobileview\"><a href=\"//fr.m.wikipedia.org/w/index.php?title=Jonas_Salk&amp;mobileaction=toggle_view_mobile\" class=\"noprint stopMobileRedirectToggle\">Version mobile</a></li>\\n\\t<li id=\"footer-places-developers\"><a href=\"https://developer.wikimedia.org\">Développeurs</a></li>\\n\\t<li id=\"footer-places-statslink\"><a href=\"https://stats.wikimedia.org/#/fr.wikipedia.org\">Statistiques</a></li>\\n\\t<li id=\"footer-places-cookiestatement\"><a href=\"https://foundation.wikimedia.org/wiki/Special:MyLanguage/Policy:Cookie_statement\">Déclaration sur les témoins (cookies)</a></li>\\n</ul>\\n\\n\\t<ul id=\"footer-icons\" class=\"noprint\">\\n\\t<li id=\"footer-copyrightico\"><a href=\"https://wikimediafoundation.org/\"><img src=\"/static/images/footer/wikimedia-button.png\" srcset=\"/static/images/footer/wikimedia-button-1.5x.png 1.5x, /static/images/footer/wikimedia-button-2x.png 2x\" width=\"88\" height=\"31\" alt=\"Wikimedia Foundation\" loading=\"lazy\" /></a></li>\\n\\t<li id=\"footer-poweredbyico\"><a href=\"https://www.mediawiki.org/\"><img src=\"/static/images/footer/poweredby_mediawiki_88x31.png\" alt=\"Powered by MediaWiki\" srcset=\"/static/images/footer/poweredby_mediawiki_132x47.png 1.5x, /static/images/footer/poweredby_mediawiki_176x62.png 2x\" width=\"88\" height=\"31\" loading=\"lazy\"></a></li>\\n</ul>\\n\\n</footer>\\n\\n\\t\\t</div>\\n\\t</div> \\n</div> \\n<div class=\\'vector-settings\\'>\\n\\t\\n<button\\n\\tid=\"\"\\n\\tclass=\"cdx-button cdx-button--icon-only vector-limited-width-toggle\"\\n\\t><span class=\"vector-icon mw-ui-icon-fullScreen mw-ui-icon-wikimedia-fullScreen\"></span>\\n\\n<span>Activer ou désactiver la limitation de largeur du contenu</span>\\n\\n</button>\\n\\n</div>\\n<script>(RLQ=window.RLQ||[]).push(function(){mw.config.set({\"wgHostname\":\"mw1397\",\"wgBackendResponseTime\":1359,\"wgPageParseReport\":{\"limitreport\":{\"cputime\":\"0.839\",\"walltime\":\"1.230\",\"ppvisitednodes\":{\"value\":1933,\"limit\":1000000},\"postexpandincludesize\":{\"value\":75156,\"limit\":2097152},\"templateargumentsize\":{\"value\":1778,\"limit\":2097152},\"expansiondepth\":{\"value\":14,\"limit\":100},\"expensivefunctioncount\":{\"value\":3,\"limit\":500},\"unstrip-depth\":{\"value\":0,\"limit\":20},\"unstrip-size\":{\"value\":11534,\"limit\":5000000},\"entityaccesscount\":{\"value\":17,\"limit\":400},\"timingprofile\":[\"100.00% 1151.297      1 -total\",\" 51.69%  595.053      1 Modèle:Infobox_Biographie2\",\" 33.61%  386.994      1 Modèle:Liens\",\"  4.23%   48.666      1 Modèle:Portail\",\"  3.79%   43.588      1 Modèle:Références\",\"  2.43%   27.958      1 Modèle:Voir_homonymes\",\"  2.30%   26.512      1 Modèle:Méta_bandeau_de_note\",\"  2.19%   25.163      1 Modèle:Méta_bandeau\",\"  1.62%   18.681      5 Modèle:Lien_web\",\"  1.59%   18.343      1 Modèle:Suivi_des_biographies\"]},\"scribunto\":{\"limitreport-timeusage\":{\"value\":\"0.685\",\"limit\":\"10.000\"},\"limitreport-memusage\":{\"value\":9386263,\"limit\":52428800}},\"cachereport\":{\"origin\":\"mw1397\",\"timestamp\":\"20230710075132\",\"ttl\":1814400,\"transientcontent\":false}}});});</script>\\n<script type=\"application/ld+json\">{\"@context\":\"https:\\\\/\\\\/schema.org\",\"@type\":\"Article\",\"name\":\"Jonas Salk\",\"url\":\"https:\\\\/\\\\/fr.wikipedia.org\\\\/wiki\\\\/Jonas_Salk\",\"sameAs\":\"http:\\\\/\\\\/www.wikidata.org\\\\/entity\\\\/Q200101\",\"mainEntity\":\"http:\\\\/\\\\/www.wikidata.org\\\\/entity\\\\/Q200101\",\"author\":{\"@type\":\"Organization\",\"name\":\"Contributeurs aux projets Wikimedia\"},\"publisher\":{\"@type\":\"Organization\",\"name\":\"Fondation Wikimedia, Inc.\",\"logo\":{\"@type\":\"ImageObject\",\"url\":\"https:\\\\/\\\\/www.wikimedia.org\\\\/static\\\\/images\\\\/wmf-hor-googpub.png\"}},\"datePublished\":\"2005-04-12T02:37:05Z\",\"dateModified\":\"2023-06-07T06:35:33Z\",\"image\":\"https:\\\\/\\\\/upload.wikimedia.org\\\\/wikipedia\\\\/commons\\\\/5\\\\/59\\\\/Jonas_Salk_candid.jpg\",\"headline\":\"biologiste am\\\\u00e9ricain et inventeur du premier vaccin contre la poliomy\\\\u00e9lite\"}</script><script type=\"application/ld+json\">{\"@context\":\"https:\\\\/\\\\/schema.org\",\"@type\":\"Article\",\"name\":\"Jonas Salk\",\"url\":\"https:\\\\/\\\\/fr.wikipedia.org\\\\/wiki\\\\/Jonas_Salk\",\"sameAs\":\"http:\\\\/\\\\/www.wikidata.org\\\\/entity\\\\/Q200101\",\"mainEntity\":\"http:\\\\/\\\\/www.wikidata.org\\\\/entity\\\\/Q200101\",\"author\":{\"@type\":\"Organization\",\"name\":\"Contributeurs aux projets Wikimedia\"},\"publisher\":{\"@type\":\"Organization\",\"name\":\"Fondation Wikimedia, Inc.\",\"logo\":{\"@type\":\"ImageObject\",\"url\":\"https:\\\\/\\\\/www.wikimedia.org\\\\/static\\\\/images\\\\/wmf-hor-googpub.png\"}},\"datePublished\":\"2005-04-12T02:37:05Z\",\"dateModified\":\"2023-06-07T06:35:33Z\",\"image\":\"https:\\\\/\\\\/upload.wikimedia.org\\\\/wikipedia\\\\/commons\\\\/5\\\\/59\\\\/Jonas_Salk_candid.jpg\",\"headline\":\"biologiste am\\\\u00e9ricain et inventeur du premier vaccin contre la poliomy\\\\u00e9lite\"}</script>\\n</body>\\n</html>'"
      ]
     },
     "execution_count": 4,
     "metadata": {},
     "output_type": "execute_result"
    }
   ],
   "source": [
    "res.text"
   ]
  },
  {
   "cell_type": "markdown",
   "metadata": {},
   "source": [
    "____\n",
    "Now we use BeautifulSoup to analyze the extracted page. Technically we could use our own custom script to loook for items in the string of **res.text** but the BeautifulSoup library already has lots of built-in tools and methods to grab information from a string of this nature (basically an HTML file). Using BeautifulSoup we can create a \"soup\" object that contains all the \"ingredients\" of the webpage. Don't ask me about the weird library names, I didn't choose them! :)"
   ]
  },
  {
   "cell_type": "code",
   "execution_count": 5,
   "metadata": {
    "collapsed": true
   },
   "outputs": [],
   "source": [
    "import bs4"
   ]
  },
  {
   "cell_type": "code",
   "execution_count": 6,
   "metadata": {
    "collapsed": true
   },
   "outputs": [],
   "source": [
    "soup = bs4.BeautifulSoup(res.text,\"lxml\")"
   ]
  },
  {
   "cell_type": "code",
   "execution_count": 7,
   "metadata": {},
   "outputs": [
    {
     "data": {
      "text/plain": [
       "<!DOCTYPE html>\n",
       "<html class=\"client-nojs vector-feature-language-in-header-enabled vector-feature-language-in-main-page-header-disabled vector-feature-sticky-header-disabled vector-feature-page-tools-pinned-disabled vector-feature-toc-pinned-enabled vector-feature-main-menu-pinned-disabled vector-feature-limited-width-enabled vector-feature-limited-width-content-enabled vector-feature-zebra-design-disabled\" dir=\"ltr\" lang=\"fr\">\n",
       "<head>\n",
       "<meta charset=\"utf-8\"/>\n",
       "<title>Jonas Salk — Wikipédia</title>\n",
       "<script>document.documentElement.className=\"client-js vector-feature-language-in-header-enabled vector-feature-language-in-main-page-header-disabled vector-feature-sticky-header-disabled vector-feature-page-tools-pinned-disabled vector-feature-toc-pinned-enabled vector-feature-main-menu-pinned-disabled vector-feature-limited-width-enabled vector-feature-limited-width-content-enabled vector-feature-zebra-design-disabled\";(function(){var cookie=document.cookie.match(/(?:^|; )frwikimwclientprefs=([^;]+)/);if(cookie){var featureName=cookie[1];document.documentElement.className=document.documentElement.className.replace(featureName+'-enabled',featureName+'-disabled');}}());RLCONF={\"wgBreakFrames\":false,\"wgSeparatorTransformTable\":[\",\\t.\",\" \\t,\"],\"wgDigitTransformTable\":[\"\",\"\"],\"wgDefaultDateFormat\":\"dmy\",\"wgMonthNames\":[\"\",\"janvier\",\"février\",\"mars\",\"avril\",\"mai\",\"juin\",\"juillet\",\"août\",\"septembre\",\"octobre\",\"novembre\",\"décembre\"],\"wgRequestId\":\"79fba447-5e81-4acb-8456-20b4379125c1\",\n",
       "\"wgCSPNonce\":false,\"wgCanonicalNamespace\":\"\",\"wgCanonicalSpecialPageName\":false,\"wgNamespaceNumber\":0,\"wgPageName\":\"Jonas_Salk\",\"wgTitle\":\"Jonas Salk\",\"wgCurRevisionId\":204977301,\"wgRevisionId\":204977301,\"wgArticleId\":235968,\"wgIsArticle\":true,\"wgIsRedirect\":false,\"wgAction\":\"view\",\"wgUserName\":null,\"wgUserGroups\":[\"*\"],\"wgCategories\":[\"Page utilisant P569\",\"Page utilisant P19\",\"Page utilisant P570\",\"Page utilisant P20\",\"Page utilisant P119\",\"Page utilisant P1477\",\"Page utilisant P27\",\"Page utilisant P551\",\"Page utilisant P69\",\"Page utilisant P106\",\"Page utilisant P26\",\"Page utilisant P40\",\"Page utilisant P108\",\"Page utilisant P463\",\"Page utilisant P184\",\"Page utilisant P166\",\"Page utilisant P109\",\"Page utilisant P1801\",\"Article utilisant l'infobox Biographie2\",\"Article utilisant une Infobox\",\"Catégorie Commons avec lien local identique sur Wikidata\",\"Page utilisant P5375\",\"Page pointant vers des bases externes\",\"Page pointant vers des bases relatives à la santé\",\n",
       "\"Page utilisant P245\",\"Page pointant vers des bases relatives aux beaux-arts\",\"Page utilisant P5415\",\"Page pointant vers des bases relatives à la recherche\",\"Page utilisant P4823\",\"Page utilisant P1417\",\"Page utilisant P7902\",\"Page utilisant P4223\",\"Page utilisant P6706\",\"Page utilisant P1296\",\"Page utilisant P7982\",\"Page utilisant P3222\",\"Page utilisant P1284\",\"Page utilisant P4342\",\"Page utilisant P3365\",\"Page utilisant P3219\",\"Page utilisant P7666\",\"Page pointant vers des dictionnaires ou encyclopédies généralistes\",\"Article de Wikipédia avec notice d'autorité\",\"Portail:Médecine/Articles liés\",\"Portail:Biologie/Articles liés\",\"Portail:Sciences humaines et sociales/Articles liés\",\"Portail:Sciences/Articles liés\",\"Portail:États-Unis/Articles liés\",\"Portail:Amérique/Articles liés\",\"Portail:Amérique du Nord/Articles liés\",\"Portail:New York/Articles liés\",\"Portail:New York (État)/Articles liés\",\"Portail:San Diego/Articles liés\",\"Portail:Californie/Articles liés\",\n",
       "\"Portail:Judaïsme/Articles liés\",\"Portail:Religions et croyances/Articles liés\",\"Portail:XXe siècle/Articles liés\",\"Portail:Époque contemporaine/Articles liés\",\"Portail:Histoire/Articles liés\",\"Wikipédia:Article biographique\",\"Portail:Biographie/Articles liés/Santé\",\"Portail:Biographie/Articles liés/Sciences\",\"Biologiste américain\",\"Médecin américain du XXe siècle\",\"Vaccinologue\",\"Histoire des maladies infectieuses\",\"Poliomyélite\",\"Lauréat du prix Albert-Lasker\",\"Médaille John-Scott\",\"Université de New York\",\"Naissance en octobre 1914\",\"Naissance à New York\",\"Décès en juin 1995\",\"Décès à La Jolla\",\"Décès à 80 ans\",\"Étudiant du City College of New York\",\"Étudiant de la New York University School of Medicine\",\"Récipiendaire de la médaille d'or du Congrès des États-Unis\",\"Récipiendaire de la médaille présidentielle de la Liberté\",\"Humaniste de l'Année\",\"Personnalité américaine née d'un parent russe\"],\"wgPageViewLanguage\":\"fr\",\n",
       "\"wgPageContentLanguage\":\"fr\",\"wgPageContentModel\":\"wikitext\",\"wgRelevantPageName\":\"Jonas_Salk\",\"wgRelevantArticleId\":235968,\"wgIsProbablyEditable\":true,\"wgRelevantPageIsProbablyEditable\":true,\"wgRestrictionEdit\":[],\"wgRestrictionMove\":[],\"wgVisualEditor\":{\"pageLanguageCode\":\"fr\",\"pageLanguageDir\":\"ltr\",\"pageVariantFallbacks\":\"fr\"},\"wgMFDisplayWikibaseDescriptions\":{\"search\":true,\"watchlist\":true,\"tagline\":true,\"nearby\":true},\"wgWMESchemaEditAttemptStepOversample\":false,\"wgWMEPageLength\":8000,\"wgNoticeProject\":\"wikipedia\",\"wgMediaViewerOnClick\":true,\"wgMediaViewerEnabledByDefault\":true,\"wgPopupsFlags\":8,\"wgULSCurrentAutonym\":\"français\",\"wgEditSubmitButtonLabelPublish\":true,\"wgCentralAuthMobileDomain\":false,\"wgULSPosition\":\"interlanguage\",\"wgULSisCompactLinksEnabled\":true,\"wgULSisLanguageSelectorEmpty\":false,\"wgWikibaseItemId\":\"Q200101\",\"GEHomepageSuggestedEditsEnableTopics\":true,\"wgGETopicsMatchModeEnabled\":false,\"wgGEStructuredTaskRejectionReasonTextInputEnabled\":false,\n",
       "\"wgGELevelingUpEnabledForUser\":false};RLSTATE={\"skins.vector.user.styles\":\"ready\",\"ext.globalCssJs.user.styles\":\"ready\",\"site.styles\":\"ready\",\"user.styles\":\"ready\",\"skins.vector.user\":\"ready\",\"ext.globalCssJs.user\":\"ready\",\"user\":\"ready\",\"user.options\":\"loading\",\"ext.cite.styles\":\"ready\",\"mediawiki.page.gallery.styles\":\"ready\",\"codex-search-styles\":\"ready\",\"skins.vector.styles\":\"ready\",\"skins.vector.icons\":\"ready\",\"jquery.makeCollapsible.styles\":\"ready\",\"ext.visualEditor.desktopArticleTarget.noscript\":\"ready\",\"ext.wikimediaBadges\":\"ready\",\"ext.uls.interlanguage\":\"ready\",\"wikibase.client.init\":\"ready\"};RLPAGEMODULES=[\"ext.cite.ux-enhancements\",\"mediawiki.page.gallery\",\"site\",\"mediawiki.page.ready\",\"jquery.makeCollapsible\",\"mediawiki.toc\",\"skins.vector.js\",\"mmv.head\",\"mmv.bootstrap.autostart\",\"ext.visualEditor.desktopArticleTarget.init\",\"ext.visualEditor.targetLoader\",\"ext.eventLogging\",\"ext.wikimediaEvents\",\"ext.navigationTiming\",\"ext.cx.eventlogging.campaigns\",\"ext.quicksurveys.init\",\n",
       "\"ext.centralNotice.geoIP\",\"ext.centralNotice.startUp\",\"ext.gadget.ArchiveLinks\",\"ext.gadget.Wdsearch\",\"ext.centralauth.centralautologin\",\"ext.popups\",\"ext.echo.centralauth\",\"ext.uls.compactlinks\",\"ext.uls.interface\",\"ext.cx.uls.quick.actions\",\"wikibase.client.vector-2022\",\"ext.growthExperiments.SuggestedEditSession\"];</script>\n",
       "<script>(RLQ=window.RLQ||[]).push(function(){mw.loader.implement(\"user.options@12s5i\",function($,jQuery,require,module){mw.user.tokens.set({\"patrolToken\":\"+\\\\\",\"watchToken\":\"+\\\\\",\"csrfToken\":\"+\\\\\"});});});</script>\n",
       "<link href=\"/w/load.php?lang=fr&amp;modules=codex-search-styles%7Cext.cite.styles%7Cext.uls.interlanguage%7Cext.visualEditor.desktopArticleTarget.noscript%7Cext.wikimediaBadges%7Cjquery.makeCollapsible.styles%7Cmediawiki.page.gallery.styles%7Cskins.vector.icons%2Cstyles%7Cwikibase.client.init&amp;only=styles&amp;skin=vector-2022\" rel=\"stylesheet\"/>\n",
       "<script async=\"\" src=\"/w/load.php?lang=fr&amp;modules=startup&amp;only=scripts&amp;raw=1&amp;skin=vector-2022\"></script>\n",
       "<meta content=\"\" name=\"ResourceLoaderDynamicStyles\"/>\n",
       "<link href=\"/w/load.php?lang=fr&amp;modules=site.styles&amp;only=styles&amp;skin=vector-2022\" rel=\"stylesheet\"/>\n",
       "<meta content=\"MediaWiki 1.41.0-wmf.16\" name=\"generator\"/>\n",
       "<meta content=\"origin\" name=\"referrer\"/>\n",
       "<meta content=\"origin-when-crossorigin\" name=\"referrer\"/>\n",
       "<meta content=\"origin-when-cross-origin\" name=\"referrer\"/>\n",
       "<meta content=\"max-image-preview:standard\" name=\"robots\"/>\n",
       "<meta content=\"telephone=no\" name=\"format-detection\"/>\n",
       "<meta content=\"https://upload.wikimedia.org/wikipedia/commons/5/59/Jonas_Salk_candid.jpg\" property=\"og:image\"/>\n",
       "<meta content=\"1200\" property=\"og:image:width\"/>\n",
       "<meta content=\"1624\" property=\"og:image:height\"/>\n",
       "<meta content=\"https://upload.wikimedia.org/wikipedia/commons/thumb/5/59/Jonas_Salk_candid.jpg/800px-Jonas_Salk_candid.jpg\" property=\"og:image\"/>\n",
       "<meta content=\"800\" property=\"og:image:width\"/>\n",
       "<meta content=\"1083\" property=\"og:image:height\"/>\n",
       "<meta content=\"https://upload.wikimedia.org/wikipedia/commons/thumb/5/59/Jonas_Salk_candid.jpg/640px-Jonas_Salk_candid.jpg\" property=\"og:image\"/>\n",
       "<meta content=\"640\" property=\"og:image:width\"/>\n",
       "<meta content=\"866\" property=\"og:image:height\"/>\n",
       "<meta content=\"width=1000\" name=\"viewport\"/>\n",
       "<meta content=\"Jonas Salk — Wikipédia\" property=\"og:title\"/>\n",
       "<meta content=\"website\" property=\"og:type\"/>\n",
       "<link href=\"//upload.wikimedia.org\" rel=\"preconnect\"/>\n",
       "<link href=\"//fr.m.wikipedia.org/wiki/Jonas_Salk\" media=\"only screen and (max-width: 720px)\" rel=\"alternate\"/>\n",
       "<link href=\"/w/index.php?title=Jonas_Salk&amp;action=edit\" rel=\"alternate\" title=\"Modifier\" type=\"application/x-wiki\"/>\n",
       "<link href=\"/static/apple-touch/wikipedia.png\" rel=\"apple-touch-icon\"/>\n",
       "<link href=\"/static/favicon/wikipedia.ico\" rel=\"icon\"/>\n",
       "<link href=\"/w/opensearch_desc.php\" rel=\"search\" title=\"Wikipédia (fr)\" type=\"application/opensearchdescription+xml\"/>\n",
       "<link href=\"//fr.wikipedia.org/w/api.php?action=rsd\" rel=\"EditURI\" type=\"application/rsd+xml\"/>\n",
       "<link href=\"https://fr.wikipedia.org/wiki/Jonas_Salk\" rel=\"canonical\"/>\n",
       "<link href=\"https://creativecommons.org/licenses/by-sa/4.0/deed.fr\" rel=\"license\"/>\n",
       "<link href=\"/w/index.php?title=Sp%C3%A9cial:Modifications_r%C3%A9centes&amp;feed=atom\" rel=\"alternate\" title=\"Flux Atom de Wikipédia\" type=\"application/atom+xml\"/>\n",
       "<link href=\"//meta.wikimedia.org\" rel=\"dns-prefetch\"/>\n",
       "<link href=\"//login.wikimedia.org\" rel=\"dns-prefetch\"/>\n",
       "</head>\n",
       "<body class=\"skin-vector skin-vector-search-vue mediawiki ltr sitedir-ltr mw-hide-empty-elt ns-0 ns-subject mw-editable page-Jonas_Salk rootpage-Jonas_Salk skin-vector-2022 action-view\"><a class=\"mw-jump-link\" href=\"#bodyContent\">Aller au contenu</a>\n",
       "<div class=\"vector-header-container\">\n",
       "<header class=\"vector-header mw-header\">\n",
       "<div class=\"vector-header-start\">\n",
       "<nav aria-label=\"Site\" class=\"vector-main-menu-landmark\" role=\"navigation\">\n",
       "<div class=\"vector-dropdown vector-main-menu-dropdown vector-button-flush-left vector-button-flush-right\" id=\"vector-main-menu-dropdown\">\n",
       "<input aria-haspopup=\"true\" aria-label=\"Menu principal\" class=\"vector-dropdown-checkbox\" data-event-name=\"ui.dropdown-vector-main-menu-dropdown\" id=\"vector-main-menu-dropdown-checkbox\" role=\"button\" type=\"checkbox\"/>\n",
       "<label aria-hidden=\"true\" class=\"vector-dropdown-label cdx-button cdx-button--fake-button cdx-button--fake-button--enabled cdx-button--weight-quiet cdx-button--icon-only\" for=\"vector-main-menu-dropdown-checkbox\" id=\"vector-main-menu-dropdown-label\">\n",
       "<span class=\"vector-icon mw-ui-icon-menu mw-ui-icon-wikimedia-menu\"></span>\n",
       "<span class=\"vector-dropdown-label-text\">Menu principal</span>\n",
       "</label>\n",
       "<div class=\"vector-dropdown-content\">\n",
       "<div class=\"vector-unpinned-container\" id=\"vector-main-menu-unpinned-container\">\n",
       "<div class=\"vector-main-menu vector-pinnable-element\" id=\"vector-main-menu\">\n",
       "<div class=\"vector-pinnable-header vector-main-menu-pinnable-header vector-pinnable-header-unpinned\" data-feature-name=\"main-menu-pinned\" data-pinnable-element-id=\"vector-main-menu\" data-pinned-container-id=\"vector-main-menu-pinned-container\" data-unpinned-container-id=\"vector-main-menu-unpinned-container\">\n",
       "<div class=\"vector-pinnable-header-label\">Menu principal</div>\n",
       "<button class=\"vector-pinnable-header-toggle-button vector-pinnable-header-pin-button\" data-event-name=\"pinnable-header.vector-main-menu.pin\">déplacer vers la barre latérale</button>\n",
       "<button class=\"vector-pinnable-header-toggle-button vector-pinnable-header-unpin-button\" data-event-name=\"pinnable-header.vector-main-menu.unpin\">masquer</button>\n",
       "</div>\n",
       "<div class=\"vector-menu mw-portlet mw-portlet-navigation\" id=\"p-navigation\">\n",
       "<div class=\"vector-menu-heading\">\n",
       "\t\tNavigation\n",
       "\t</div>\n",
       "<div class=\"vector-menu-content\">\n",
       "<ul class=\"vector-menu-content-list\"><li class=\"mw-list-item\" id=\"n-mainpage-description\"><a accesskey=\"z\" href=\"/wiki/Wikip%C3%A9dia:Accueil_principal\" title=\"Accueil général [z]\"><span>Accueil</span></a></li><li class=\"mw-list-item\" id=\"n-thema\"><a href=\"/wiki/Portail:Accueil\"><span>Portails thématiques</span></a></li><li class=\"mw-list-item\" id=\"n-randompage\"><a accesskey=\"x\" href=\"/wiki/Sp%C3%A9cial:Page_au_hasard\" title=\"Affiche un article au hasard [x]\"><span>Article au hasard</span></a></li><li class=\"mw-list-item\" id=\"n-contact\"><a href=\"/wiki/Wikip%C3%A9dia:Contact\"><span>Contact</span></a></li></ul>\n",
       "</div>\n",
       "</div>\n",
       "<div class=\"vector-menu mw-portlet mw-portlet-Contribuer\" id=\"p-Contribuer\">\n",
       "<div class=\"vector-menu-heading\">\n",
       "\t\tContribuer\n",
       "\t</div>\n",
       "<div class=\"vector-menu-content\">\n",
       "<ul class=\"vector-menu-content-list\"><li class=\"mw-list-item\" id=\"n-aboutwp\"><a href=\"/wiki/Aide:D%C3%A9buter\"><span>Débuter sur Wikipédia</span></a></li><li class=\"mw-list-item\" id=\"n-help\"><a href=\"/wiki/Aide:Accueil\" title=\"Accès à l’aide\"><span>Aide</span></a></li><li class=\"mw-list-item\" id=\"n-portal\"><a href=\"/wiki/Wikip%C3%A9dia:Accueil_de_la_communaut%C3%A9\" title=\"À propos du projet, ce que vous pouvez faire, où trouver les informations\"><span>Communauté</span></a></li><li class=\"mw-list-item\" id=\"n-recentchanges\"><a accesskey=\"r\" href=\"/wiki/Sp%C3%A9cial:Modifications_r%C3%A9centes\" title=\"Liste des modifications récentes sur le wiki [r]\"><span>Modifications récentes</span></a></li><li class=\"mw-list-item\" id=\"n-sitesupport\"><a href=\"//donate.wikimedia.org/wiki/Special:FundraiserRedirector?utm_source=donate&amp;utm_medium=sidebar&amp;utm_campaign=C13_fr.wikipedia.org&amp;uselang=fr\" title=\"Soutenez-nous\"><span>Faire un don</span></a></li></ul>\n",
       "</div>\n",
       "</div>\n",
       "<div class=\"vector-main-menu-action vector-main-menu-action-lang-alert\">\n",
       "<div class=\"vector-main-menu-action-item\">\n",
       "<div class=\"vector-main-menu-action-heading vector-menu-heading\">Langues</div>\n",
       "<div class=\"vector-main-menu-action-content vector-menu-content\">\n",
       "<div class=\"mw-message-box cdx-message cdx-message--block mw-message-box-notice cdx-message--notice vector-language-sidebar-alert\"><span class=\"cdx-message__icon\"></span><div class=\"cdx-message__content\">Sur cette version linguistique de Wikipédia, les liens interlangues sont placés en haut à droite du titre de l’article.<br/><a href=\"#p-lang-btn\">Aller en haut</a>.</div></div>\n",
       "</div>\n",
       "</div>\n",
       "</div>\n",
       "</div>\n",
       "</div>\n",
       "</div>\n",
       "</div>\n",
       "</nav>\n",
       "<a class=\"mw-logo\" href=\"/wiki/Wikip%C3%A9dia:Accueil_principal\">\n",
       "<img alt=\"\" aria-hidden=\"true\" class=\"mw-logo-icon\" height=\"50\" src=\"/static/images/icons/wikipedia.png\" width=\"50\"/>\n",
       "<span class=\"mw-logo-container\">\n",
       "<img alt=\"Wikipédia\" class=\"mw-logo-wordmark\" src=\"/static/images/mobile/copyright/wikipedia-wordmark-fr.svg\" style=\"width: 7.5em; height: 1.125em;\"/>\n",
       "<img alt=\"l'encyclopédie libre\" class=\"mw-logo-tagline\" height=\"13\" src=\"/static/images/mobile/copyright/wikipedia-tagline-fr.svg\" style=\"width: 7.5em; height: 0.8125em;\" width=\"120\"/>\n",
       "</span>\n",
       "</a>\n",
       "</div>\n",
       "<div class=\"vector-header-end\">\n",
       "<div class=\"vector-search-box-vue vector-search-box-collapses vector-search-box-show-thumbnail vector-search-box-auto-expand-width vector-search-box\" id=\"p-search\" role=\"search\">\n",
       "<a accesskey=\"f\" class=\"cdx-button cdx-button--fake-button cdx-button--fake-button--enabled cdx-button--weight-quiet cdx-button--icon-only search-toggle\" href=\"/wiki/Sp%C3%A9cial:Recherche\" id=\"\" title=\"Rechercher sur Wikipédia [f]\"><span class=\"vector-icon mw-ui-icon-search mw-ui-icon-wikimedia-search\"></span>\n",
       "<span>Rechercher</span>\n",
       "</a>\n",
       "<div class=\"vector-typeahead-search-container\">\n",
       "<div class=\"cdx-typeahead-search cdx-typeahead-search--show-thumbnail cdx-typeahead-search--auto-expand-width\">\n",
       "<form action=\"/w/index.php\" class=\"cdx-search-input cdx-search-input--has-end-button\" id=\"searchform\">\n",
       "<div class=\"cdx-search-input__input-wrapper\" data-search-loc=\"header-moved\" id=\"simpleSearch\">\n",
       "<div class=\"cdx-text-input cdx-text-input--has-start-icon\">\n",
       "<input accesskey=\"f\" aria-label=\"Rechercher sur Wikipédia\" autocapitalize=\"sentences\" class=\"cdx-text-input__input\" id=\"searchInput\" name=\"search\" placeholder=\"Rechercher sur Wikipédia\" title=\"Rechercher sur Wikipédia [f]\" type=\"search\"/>\n",
       "<span class=\"cdx-text-input__icon cdx-text-input__start-icon\"></span>\n",
       "</div>\n",
       "<input name=\"title\" type=\"hidden\" value=\"Spécial:Recherche\"/>\n",
       "</div>\n",
       "<button class=\"cdx-button cdx-search-input__end-button\">Rechercher</button>\n",
       "</form>\n",
       "</div>\n",
       "</div>\n",
       "</div>\n",
       "<nav aria-label=\"Outils personnels\" class=\"vector-user-links\" role=\"navigation\">\n",
       "<div class=\"vector-menu mw-portlet mw-portlet-vector-user-menu-overflow\" id=\"p-vector-user-menu-overflow\">\n",
       "<div class=\"vector-menu-content\">\n",
       "<ul class=\"vector-menu-content-list\"><li class=\"user-links-collapsible-item mw-list-item\" id=\"pt-createaccount-2\"><a href=\"/w/index.php?title=Sp%C3%A9cial:Cr%C3%A9er_un_compte&amp;returnto=Jonas+Salk\" title=\"Nous vous encourageons à créer un compte utilisateur et vous connecter ; ce n’est cependant pas obligatoire.\"><span>Créer un compte</span></a></li><li class=\"user-links-collapsible-item mw-list-item\" id=\"pt-login-2\"><a accesskey=\"o\" href=\"/w/index.php?title=Sp%C3%A9cial:Connexion&amp;returnto=Jonas+Salk\" title=\"Nous vous encourageons à vous connecter ; ce n’est cependant pas obligatoire. [o]\"><span>Se connecter</span></a></li></ul>\n",
       "</div>\n",
       "</div>\n",
       "<div class=\"vector-dropdown vector-user-menu vector-button-flush-right vector-user-menu-logged-out\" id=\"vector-user-links-dropdown\" title=\"Plus d’options\">\n",
       "<input aria-haspopup=\"true\" aria-label=\"Outils personnels\" class=\"vector-dropdown-checkbox\" data-event-name=\"ui.dropdown-vector-user-links-dropdown\" id=\"vector-user-links-dropdown-checkbox\" role=\"button\" type=\"checkbox\"/>\n",
       "<label aria-hidden=\"true\" class=\"vector-dropdown-label cdx-button cdx-button--fake-button cdx-button--fake-button--enabled cdx-button--weight-quiet cdx-button--icon-only\" for=\"vector-user-links-dropdown-checkbox\" id=\"vector-user-links-dropdown-label\">\n",
       "<span class=\"vector-icon mw-ui-icon-ellipsis mw-ui-icon-wikimedia-ellipsis\"></span>\n",
       "<span class=\"vector-dropdown-label-text\">Outils personnels</span>\n",
       "</label>\n",
       "<div class=\"vector-dropdown-content\">\n",
       "<div class=\"vector-menu mw-portlet mw-portlet-personal user-links-collapsible-item\" id=\"p-personal\" title=\"Menu utilisateur\">\n",
       "<div class=\"vector-menu-content\">\n",
       "<ul class=\"vector-menu-content-list\"><li class=\"user-links-collapsible-item mw-list-item\" id=\"pt-createaccount\"><a href=\"/w/index.php?title=Sp%C3%A9cial:Cr%C3%A9er_un_compte&amp;returnto=Jonas+Salk\" title=\"Nous vous encourageons à créer un compte utilisateur et vous connecter ; ce n’est cependant pas obligatoire.\"><span class=\"vector-icon mw-ui-icon-userAdd mw-ui-icon-wikimedia-userAdd\"></span> <span>Créer un compte</span></a></li><li class=\"user-links-collapsible-item mw-list-item\" id=\"pt-login\"><a accesskey=\"o\" href=\"/w/index.php?title=Sp%C3%A9cial:Connexion&amp;returnto=Jonas+Salk\" title=\"Nous vous encourageons à vous connecter ; ce n’est cependant pas obligatoire. [o]\"><span class=\"vector-icon mw-ui-icon-logIn mw-ui-icon-wikimedia-logIn\"></span> <span>Se connecter</span></a></li></ul>\n",
       "</div>\n",
       "</div>\n",
       "<div class=\"vector-menu mw-portlet mw-portlet-user-menu-anon-editor\" id=\"p-user-menu-anon-editor\">\n",
       "<div class=\"vector-menu-heading\">\n",
       "\t\tPages pour les contributeurs déconnectés <a aria-label=\"En savoir plus sur la contribution\" href=\"/wiki/Aide:Introduction\"><span>en savoir plus</span></a>\n",
       "</div>\n",
       "<div class=\"vector-menu-content\">\n",
       "<ul class=\"vector-menu-content-list\"><li class=\"mw-list-item\" id=\"pt-anoncontribs\"><a accesskey=\"y\" href=\"/wiki/Sp%C3%A9cial:Mes_contributions\" title=\"Une liste des modifications effectuées depuis cette adresse IP [y]\"><span>Contributions</span></a></li><li class=\"mw-list-item\" id=\"pt-anontalk\"><a accesskey=\"n\" href=\"/wiki/Sp%C3%A9cial:Mes_discussions\" title=\"La page de discussion pour les contributions depuis cette adresse IP [n]\"><span>Discussion</span></a></li></ul>\n",
       "</div>\n",
       "</div>\n",
       "</div>\n",
       "</div>\n",
       "</nav>\n",
       "</div>\n",
       "</header>\n",
       "</div>\n",
       "<div class=\"mw-page-container\">\n",
       "<div class=\"mw-page-container-inner\">\n",
       "<div class=\"vector-main-menu-container\">\n",
       "<div id=\"mw-navigation\">\n",
       "<nav aria-label=\"Site\" class=\"vector-main-menu-landmark\" id=\"mw-panel\" role=\"navigation\">\n",
       "<div class=\"vector-pinned-container\" id=\"vector-main-menu-pinned-container\">\n",
       "</div>\n",
       "</nav>\n",
       "</div>\n",
       "</div>\n",
       "<div class=\"vector-sitenotice-container\">\n",
       "<div id=\"siteNotice\"><!-- CentralNotice --></div>\n",
       "</div>\n",
       "<input class=\"vector-menu-checkbox\" id=\"vector-toc-collapsed-checkbox\" type=\"checkbox\"/>\n",
       "<nav aria-label=\"Sommaire\" class=\"mw-table-of-contents-container vector-toc-landmark vector-sticky-pinned-container\" data-event-name=\"ui.sidebar-toc\" id=\"mw-panel-toc\" role=\"navigation\">\n",
       "<div class=\"vector-pinned-container\" id=\"vector-toc-pinned-container\">\n",
       "<div class=\"vector-toc vector-pinnable-element\" id=\"vector-toc\">\n",
       "<div class=\"vector-pinnable-header vector-toc-pinnable-header vector-pinnable-header-pinned\" data-feature-name=\"toc-pinned\" data-pinnable-element-id=\"vector-toc\">\n",
       "<h2 class=\"vector-pinnable-header-label\">Sommaire</h2>\n",
       "<button class=\"vector-pinnable-header-toggle-button vector-pinnable-header-pin-button\" data-event-name=\"pinnable-header.vector-toc.pin\">déplacer vers la barre latérale</button>\n",
       "<button class=\"vector-pinnable-header-toggle-button vector-pinnable-header-unpin-button\" data-event-name=\"pinnable-header.vector-toc.unpin\">masquer</button>\n",
       "</div>\n",
       "<ul class=\"vector-toc-contents\" id=\"mw-panel-toc-list\">\n",
       "<li class=\"vector-toc-list-item vector-toc-level-1\" id=\"toc-mw-content-text\">\n",
       "<a class=\"vector-toc-link\" href=\"#\">\n",
       "<div class=\"vector-toc-text\">Début</div>\n",
       "</a>\n",
       "</li>\n",
       "<li class=\"vector-toc-list-item vector-toc-level-1 vector-toc-list-item-expanded\" id=\"toc-Biographie\">\n",
       "<a class=\"vector-toc-link\" href=\"#Biographie\">\n",
       "<div class=\"vector-toc-text\">\n",
       "<span class=\"vector-toc-numb\">1</span>Biographie</div>\n",
       "</a>\n",
       "<button aria-controls=\"toc-Biographie-sublist\" class=\"cdx-button cdx-button--weight-quiet cdx-button--icon-only vector-toc-toggle\">\n",
       "<span class=\"vector-icon vector-icon--x-small mw-ui-icon-wikimedia-expand\"></span>\n",
       "<span>Afficher / masquer la sous-section Biographie</span>\n",
       "</button>\n",
       "<ul class=\"vector-toc-list\" id=\"toc-Biographie-sublist\">\n",
       "<li class=\"vector-toc-list-item vector-toc-level-2\" id=\"toc-Carrière\">\n",
       "<a class=\"vector-toc-link\" href=\"#Carrière\">\n",
       "<div class=\"vector-toc-text\">\n",
       "<span class=\"vector-toc-numb\">1.1</span>Carrière</div>\n",
       "</a>\n",
       "<ul class=\"vector-toc-list\" id=\"toc-Carrière-sublist\">\n",
       "</ul>\n",
       "</li>\n",
       "<li class=\"vector-toc-list-item vector-toc-level-2\" id=\"toc-Vie_privée\">\n",
       "<a class=\"vector-toc-link\" href=\"#Vie_privée\">\n",
       "<div class=\"vector-toc-text\">\n",
       "<span class=\"vector-toc-numb\">1.2</span>Vie privée</div>\n",
       "</a>\n",
       "<ul class=\"vector-toc-list\" id=\"toc-Vie_privée-sublist\">\n",
       "</ul>\n",
       "</li>\n",
       "</ul>\n",
       "</li>\n",
       "<li class=\"vector-toc-list-item vector-toc-level-1 vector-toc-list-item-expanded\" id=\"toc-Le_vaccin_Salk\">\n",
       "<a class=\"vector-toc-link\" href=\"#Le_vaccin_Salk\">\n",
       "<div class=\"vector-toc-text\">\n",
       "<span class=\"vector-toc-numb\">2</span>Le vaccin <i>Salk</i></div>\n",
       "</a>\n",
       "<ul class=\"vector-toc-list\" id=\"toc-Le_vaccin_Salk-sublist\">\n",
       "</ul>\n",
       "</li>\n",
       "<li class=\"vector-toc-list-item vector-toc-level-1 vector-toc-list-item-expanded\" id=\"toc-Prix_et_distinctions\">\n",
       "<a class=\"vector-toc-link\" href=\"#Prix_et_distinctions\">\n",
       "<div class=\"vector-toc-text\">\n",
       "<span class=\"vector-toc-numb\">3</span>Prix et distinctions</div>\n",
       "</a>\n",
       "<ul class=\"vector-toc-list\" id=\"toc-Prix_et_distinctions-sublist\">\n",
       "</ul>\n",
       "</li>\n",
       "<li class=\"vector-toc-list-item vector-toc-level-1 vector-toc-list-item-expanded\" id=\"toc-Œuvres\">\n",
       "<a class=\"vector-toc-link\" href=\"#Œuvres\">\n",
       "<div class=\"vector-toc-text\">\n",
       "<span class=\"vector-toc-numb\">4</span>Œuvres</div>\n",
       "</a>\n",
       "<ul class=\"vector-toc-list\" id=\"toc-Œuvres-sublist\">\n",
       "</ul>\n",
       "</li>\n",
       "<li class=\"vector-toc-list-item vector-toc-level-1 vector-toc-list-item-expanded\" id=\"toc-Notes_et_références\">\n",
       "<a class=\"vector-toc-link\" href=\"#Notes_et_références\">\n",
       "<div class=\"vector-toc-text\">\n",
       "<span class=\"vector-toc-numb\">5</span>Notes et références</div>\n",
       "</a>\n",
       "<ul class=\"vector-toc-list\" id=\"toc-Notes_et_références-sublist\">\n",
       "</ul>\n",
       "</li>\n",
       "<li class=\"vector-toc-list-item vector-toc-level-1 vector-toc-list-item-expanded\" id=\"toc-Liens_externes\">\n",
       "<a class=\"vector-toc-link\" href=\"#Liens_externes\">\n",
       "<div class=\"vector-toc-text\">\n",
       "<span class=\"vector-toc-numb\">6</span>Liens externes</div>\n",
       "</a>\n",
       "<ul class=\"vector-toc-list\" id=\"toc-Liens_externes-sublist\">\n",
       "</ul>\n",
       "</li>\n",
       "</ul>\n",
       "</div>\n",
       "</div>\n",
       "</nav>\n",
       "<div class=\"mw-content-container\">\n",
       "<main class=\"mw-body\" id=\"content\" role=\"main\">\n",
       "<header class=\"mw-body-header vector-page-titlebar\">\n",
       "<label aria-controls=\"vector-toc\" class=\"cdx-button cdx-button--fake-button cdx-button--fake-button--enabled cdx-button--weight-quiet vector-button-flush-left cdx-button--icon-only\" for=\"vector-toc-collapsed-checkbox\" id=\"vector-toc-collapsed-button\" role=\"button\" tabindex=\"0\" title=\"Table des matières\">\n",
       "<span class=\"vector-icon mw-ui-icon-wikimedia-listBullet\"></span>\n",
       "<span>Basculer la table des matières</span>\n",
       "</label>\n",
       "<nav aria-label=\"Sommaire\" class=\"vector-toc-landmark\" role=\"navigation\">\n",
       "<div class=\"vector-dropdown vector-page-titlebar-toc vector-button-flush-left\" id=\"vector-page-titlebar-toc\">\n",
       "<input aria-haspopup=\"true\" aria-label=\"Basculer la table des matières\" class=\"vector-dropdown-checkbox\" data-event-name=\"ui.dropdown-vector-page-titlebar-toc\" id=\"vector-page-titlebar-toc-checkbox\" role=\"button\" type=\"checkbox\"/>\n",
       "<label aria-hidden=\"true\" class=\"vector-dropdown-label cdx-button cdx-button--fake-button cdx-button--fake-button--enabled cdx-button--weight-quiet cdx-button--icon-only\" for=\"vector-page-titlebar-toc-checkbox\" id=\"vector-page-titlebar-toc-label\">\n",
       "<span class=\"vector-icon mw-ui-icon-listBullet mw-ui-icon-wikimedia-listBullet\"></span>\n",
       "<span class=\"vector-dropdown-label-text\">Basculer la table des matières</span>\n",
       "</label>\n",
       "<div class=\"vector-dropdown-content\">\n",
       "<div class=\"vector-unpinned-container\" id=\"vector-page-titlebar-toc-unpinned-container\">\n",
       "</div>\n",
       "</div>\n",
       "</div>\n",
       "</nav>\n",
       "<h1 class=\"firstHeading mw-first-heading\" id=\"firstHeading\"><span class=\"mw-page-title-main\">Jonas Salk</span></h1>\n",
       "<div class=\"vector-dropdown mw-portlet mw-portlet-lang\" id=\"p-lang-btn\">\n",
       "<input aria-haspopup=\"true\" aria-label=\"Aller à un article dans une autre langue. Disponible en 76 langues.\" class=\"vector-dropdown-checkbox mw-interlanguage-selector\" data-event-name=\"ui.dropdown-p-lang-btn\" id=\"p-lang-btn-checkbox\" role=\"button\" type=\"checkbox\"/>\n",
       "<label aria-hidden=\"true\" class=\"vector-dropdown-label cdx-button cdx-button--fake-button cdx-button--fake-button--enabled cdx-button--weight-quiet cdx-button--action-progressive mw-portlet-lang-heading-76\" for=\"p-lang-btn-checkbox\" id=\"p-lang-btn-label\">\n",
       "<span class=\"vector-icon mw-ui-icon-language-progressive mw-ui-icon-wikimedia-language-progressive\"></span>\n",
       "<span class=\"vector-dropdown-label-text\">76 langues</span>\n",
       "</label>\n",
       "<div class=\"vector-dropdown-content\">\n",
       "<div class=\"vector-menu-content\">\n",
       "<ul class=\"vector-menu-content-list\"><li class=\"interlanguage-link interwiki-af mw-list-item\"><a class=\"interlanguage-link-target\" href=\"https://af.wikipedia.org/wiki/Jonas_Salk\" hreflang=\"af\" lang=\"af\" title=\"Jonas Salk – afrikaans\"><span>Afrikaans</span></a></li><li class=\"interlanguage-link interwiki-ar mw-list-item\"><a class=\"interlanguage-link-target\" href=\"https://ar.wikipedia.org/wiki/%D8%AC%D9%88%D9%86%D8%A7%D8%B3_%D8%B3%D9%88%D9%84%D9%83\" hreflang=\"ar\" lang=\"ar\" title=\"جوناس سولك – arabe\"><span>العربية</span></a></li><li class=\"interlanguage-link interwiki-arz mw-list-item\"><a class=\"interlanguage-link-target\" href=\"https://arz.wikipedia.org/wiki/%D8%AC%D9%88%D9%86%D8%A7%D8%B3_%D8%B3%D9%88%D9%84%D9%83\" hreflang=\"arz\" lang=\"arz\" title=\"جوناس سولك – arabe égyptien\"><span>مصرى</span></a></li><li class=\"interlanguage-link interwiki-ast mw-list-item\"><a class=\"interlanguage-link-target\" href=\"https://ast.wikipedia.org/wiki/Jonas_Salk\" hreflang=\"ast\" lang=\"ast\" title=\"Jonas Salk – asturien\"><span>Asturianu</span></a></li><li class=\"interlanguage-link interwiki-az mw-list-item\"><a class=\"interlanguage-link-target\" href=\"https://az.wikipedia.org/wiki/Conas_Solk\" hreflang=\"az\" lang=\"az\" title=\"Conas Solk – azerbaïdjanais\"><span>Azərbaycanca</span></a></li><li class=\"interlanguage-link interwiki-azb mw-list-item\"><a class=\"interlanguage-link-target\" href=\"https://azb.wikipedia.org/wiki/%D8%AC%D9%88%D9%86%D8%A7%D8%B3_%D8%B3%D8%A7%D9%84%DA%A9\" hreflang=\"azb\" lang=\"azb\" title=\"جوناس سالک – South Azerbaijani\"><span>تۆرکجه</span></a></li><li class=\"interlanguage-link interwiki-be mw-list-item\"><a class=\"interlanguage-link-target\" href=\"https://be.wikipedia.org/wiki/%D0%94%D0%B6%D0%BE%D0%BD%D0%B0%D1%81_%D0%A1%D0%BE%D0%BB%D0%BA\" hreflang=\"be\" lang=\"be\" title=\"Джонас Солк – biélorusse\"><span>Беларуская</span></a></li><li class=\"interlanguage-link interwiki-bg mw-list-item\"><a class=\"interlanguage-link-target\" href=\"https://bg.wikipedia.org/wiki/%D0%94%D0%B6%D0%BE%D0%BD%D0%B0%D1%81_%D0%A1%D0%BE%D0%BB%D0%BA\" hreflang=\"bg\" lang=\"bg\" title=\"Джонас Солк – bulgare\"><span>Български</span></a></li><li class=\"interlanguage-link interwiki-bn mw-list-item\"><a class=\"interlanguage-link-target\" href=\"https://bn.wikipedia.org/wiki/%E0%A6%9C%E0%A7%8B%E0%A6%A8%E0%A6%BE%E0%A6%B8_%E0%A6%8F%E0%A6%A1%E0%A6%93%E0%A6%AF%E0%A6%BC%E0%A6%BE%E0%A6%B0%E0%A7%8D%E0%A6%A1_%E0%A6%B8%E0%A6%B2%E0%A7%8D%E0%A6%95\" hreflang=\"bn\" lang=\"bn\" title=\"জোনাস এডওয়ার্ড সল্ক – bengali\"><span>বাংলা</span></a></li><li class=\"interlanguage-link interwiki-bs mw-list-item\"><a class=\"interlanguage-link-target\" href=\"https://bs.wikipedia.org/wiki/Jonas_Salk\" hreflang=\"bs\" lang=\"bs\" title=\"Jonas Salk – bosniaque\"><span>Bosanski</span></a></li><li class=\"interlanguage-link interwiki-ca mw-list-item\"><a class=\"interlanguage-link-target\" href=\"https://ca.wikipedia.org/wiki/Jonas_Salk\" hreflang=\"ca\" lang=\"ca\" title=\"Jonas Salk – catalan\"><span>Català</span></a></li><li class=\"interlanguage-link interwiki-cs mw-list-item\"><a class=\"interlanguage-link-target\" href=\"https://cs.wikipedia.org/wiki/Jonas_Salk\" hreflang=\"cs\" lang=\"cs\" title=\"Jonas Salk – tchèque\"><span>Čeština</span></a></li><li class=\"interlanguage-link interwiki-cy mw-list-item\"><a class=\"interlanguage-link-target\" href=\"https://cy.wikipedia.org/wiki/Jonas_Salk\" hreflang=\"cy\" lang=\"cy\" title=\"Jonas Salk – gallois\"><span>Cymraeg</span></a></li><li class=\"interlanguage-link interwiki-da mw-list-item\"><a class=\"interlanguage-link-target\" href=\"https://da.wikipedia.org/wiki/Jonas_Salk\" hreflang=\"da\" lang=\"da\" title=\"Jonas Salk – danois\"><span>Dansk</span></a></li><li class=\"interlanguage-link interwiki-de mw-list-item\"><a class=\"interlanguage-link-target\" href=\"https://de.wikipedia.org/wiki/Jonas_Salk\" hreflang=\"de\" lang=\"de\" title=\"Jonas Salk – allemand\"><span>Deutsch</span></a></li><li class=\"interlanguage-link interwiki-el mw-list-item\"><a class=\"interlanguage-link-target\" href=\"https://el.wikipedia.org/wiki/%CE%A4%CE%B6%CF%8C%CE%BD%CE%B1%CF%82_%CE%A3%CE%BF%CE%BB%CE%BA\" hreflang=\"el\" lang=\"el\" title=\"Τζόνας Σολκ – grec\"><span>Ελληνικά</span></a></li><li class=\"interlanguage-link interwiki-en mw-list-item\"><a class=\"interlanguage-link-target\" href=\"https://en.wikipedia.org/wiki/Jonas_Salk\" hreflang=\"en\" lang=\"en\" title=\"Jonas Salk – anglais\"><span>English</span></a></li><li class=\"interlanguage-link interwiki-eo mw-list-item\"><a class=\"interlanguage-link-target\" href=\"https://eo.wikipedia.org/wiki/Jonas_Salk\" hreflang=\"eo\" lang=\"eo\" title=\"Jonas Salk – espéranto\"><span>Esperanto</span></a></li><li class=\"interlanguage-link interwiki-es mw-list-item\"><a class=\"interlanguage-link-target\" href=\"https://es.wikipedia.org/wiki/Jonas_Salk\" hreflang=\"es\" lang=\"es\" title=\"Jonas Salk – espagnol\"><span>Español</span></a></li><li class=\"interlanguage-link interwiki-et mw-list-item\"><a class=\"interlanguage-link-target\" href=\"https://et.wikipedia.org/wiki/Jonas_Salk\" hreflang=\"et\" lang=\"et\" title=\"Jonas Salk – estonien\"><span>Eesti</span></a></li><li class=\"interlanguage-link interwiki-eu mw-list-item\"><a class=\"interlanguage-link-target\" href=\"https://eu.wikipedia.org/wiki/Jonas_Salk\" hreflang=\"eu\" lang=\"eu\" title=\"Jonas Salk – basque\"><span>Euskara</span></a></li><li class=\"interlanguage-link interwiki-fa mw-list-item\"><a class=\"interlanguage-link-target\" href=\"https://fa.wikipedia.org/wiki/%D8%AC%D9%88%D9%86%D8%A7%D8%B3_%D8%B3%D8%A7%D9%84%DA%A9\" hreflang=\"fa\" lang=\"fa\" title=\"جوناس سالک – persan\"><span>فارسی</span></a></li><li class=\"interlanguage-link interwiki-fi mw-list-item\"><a class=\"interlanguage-link-target\" href=\"https://fi.wikipedia.org/wiki/Jonas_Salk\" hreflang=\"fi\" lang=\"fi\" title=\"Jonas Salk – finnois\"><span>Suomi</span></a></li><li class=\"interlanguage-link interwiki-fy mw-list-item\"><a class=\"interlanguage-link-target\" href=\"https://fy.wikipedia.org/wiki/Jonas_Salk\" hreflang=\"fy\" lang=\"fy\" title=\"Jonas Salk – frison occidental\"><span>Frysk</span></a></li><li class=\"interlanguage-link interwiki-ga mw-list-item\"><a class=\"interlanguage-link-target\" href=\"https://ga.wikipedia.org/wiki/Jonas_Edward_Salk\" hreflang=\"ga\" lang=\"ga\" title=\"Jonas Edward Salk – irlandais\"><span>Gaeilge</span></a></li><li class=\"interlanguage-link interwiki-gl mw-list-item\"><a class=\"interlanguage-link-target\" href=\"https://gl.wikipedia.org/wiki/Jonas_Salk\" hreflang=\"gl\" lang=\"gl\" title=\"Jonas Salk – galicien\"><span>Galego</span></a></li><li class=\"interlanguage-link interwiki-he mw-list-item\"><a class=\"interlanguage-link-target\" href=\"https://he.wikipedia.org/wiki/%D7%99%D7%95%D7%A0%D7%94_%D7%A1%D7%90%D7%9C%D7%A7\" hreflang=\"he\" lang=\"he\" title=\"יונה סאלק – hébreu\"><span>עברית</span></a></li><li class=\"interlanguage-link interwiki-hi mw-list-item\"><a class=\"interlanguage-link-target\" href=\"https://hi.wikipedia.org/wiki/%E0%A4%9C%E0%A5%8B%E0%A4%A8%E0%A4%BE%E0%A4%B8_%E0%A4%B8%E0%A5%89%E0%A4%B2%E0%A5%8D%E0%A4%95\" hreflang=\"hi\" lang=\"hi\" title=\"जोनास सॉल्क – hindi\"><span>हिन्दी</span></a></li><li class=\"interlanguage-link interwiki-hr mw-list-item\"><a class=\"interlanguage-link-target\" href=\"https://hr.wikipedia.org/wiki/Jonas_Salk\" hreflang=\"hr\" lang=\"hr\" title=\"Jonas Salk – croate\"><span>Hrvatski</span></a></li><li class=\"interlanguage-link interwiki-hu mw-list-item\"><a class=\"interlanguage-link-target\" href=\"https://hu.wikipedia.org/wiki/Jonas_Edward_Salk\" hreflang=\"hu\" lang=\"hu\" title=\"Jonas Edward Salk – hongrois\"><span>Magyar</span></a></li><li class=\"interlanguage-link interwiki-hy mw-list-item\"><a class=\"interlanguage-link-target\" href=\"https://hy.wikipedia.org/wiki/%D5%8B%D5%B8%D5%B6%D5%A1%D5%BD_%D5%8D%D5%B8%D5%AC%D6%84\" hreflang=\"hy\" lang=\"hy\" title=\"Ջոնաս Սոլք – arménien\"><span>Հայերեն</span></a></li><li class=\"interlanguage-link interwiki-id mw-list-item\"><a class=\"interlanguage-link-target\" href=\"https://id.wikipedia.org/wiki/Jonas_Salk\" hreflang=\"id\" lang=\"id\" title=\"Jonas Salk – indonésien\"><span>Bahasa Indonesia</span></a></li><li class=\"interlanguage-link interwiki-io mw-list-item\"><a class=\"interlanguage-link-target\" href=\"https://io.wikipedia.org/wiki/Jonas_Salk\" hreflang=\"io\" lang=\"io\" title=\"Jonas Salk – ido\"><span>Ido</span></a></li><li class=\"interlanguage-link interwiki-is mw-list-item\"><a class=\"interlanguage-link-target\" href=\"https://is.wikipedia.org/wiki/Jonas_Salk\" hreflang=\"is\" lang=\"is\" title=\"Jonas Salk – islandais\"><span>Íslenska</span></a></li><li class=\"interlanguage-link interwiki-it mw-list-item\"><a class=\"interlanguage-link-target\" href=\"https://it.wikipedia.org/wiki/Jonas_Salk\" hreflang=\"it\" lang=\"it\" title=\"Jonas Salk – italien\"><span>Italiano</span></a></li><li class=\"interlanguage-link interwiki-ja mw-list-item\"><a class=\"interlanguage-link-target\" href=\"https://ja.wikipedia.org/wiki/%E3%82%B8%E3%83%A7%E3%83%8A%E3%82%B9%E3%83%BB%E3%82%BD%E3%83%BC%E3%82%AF\" hreflang=\"ja\" lang=\"ja\" title=\"ジョナス・ソーク – japonais\"><span>日本語</span></a></li><li class=\"interlanguage-link interwiki-jv mw-list-item\"><a class=\"interlanguage-link-target\" href=\"https://jv.wikipedia.org/wiki/Jonas_Edward_Salk\" hreflang=\"jv\" lang=\"jv\" title=\"Jonas Edward Salk – javanais\"><span>Jawa</span></a></li><li class=\"interlanguage-link interwiki-ko mw-list-item\"><a class=\"interlanguage-link-target\" href=\"https://ko.wikipedia.org/wiki/%EC%A1%B0%EB%84%88%EC%8A%A4_%EC%86%8C%ED%81%AC\" hreflang=\"ko\" lang=\"ko\" title=\"조너스 소크 – coréen\"><span>한국어</span></a></li><li class=\"interlanguage-link interwiki-la mw-list-item\"><a class=\"interlanguage-link-target\" href=\"https://la.wikipedia.org/wiki/Ionas_Salk\" hreflang=\"la\" lang=\"la\" title=\"Ionas Salk – latin\"><span>Latina</span></a></li><li class=\"interlanguage-link interwiki-lt mw-list-item\"><a class=\"interlanguage-link-target\" href=\"https://lt.wikipedia.org/wiki/Jonas_Salk\" hreflang=\"lt\" lang=\"lt\" title=\"Jonas Salk – lituanien\"><span>Lietuvių</span></a></li><li class=\"interlanguage-link interwiki-lv mw-list-item\"><a class=\"interlanguage-link-target\" href=\"https://lv.wikipedia.org/wiki/D%C5%BEonass_Solks\" hreflang=\"lv\" lang=\"lv\" title=\"Džonass Solks – letton\"><span>Latviešu</span></a></li><li class=\"interlanguage-link interwiki-mg mw-list-item\"><a class=\"interlanguage-link-target\" href=\"https://mg.wikipedia.org/wiki/Jonas_Salk\" hreflang=\"mg\" lang=\"mg\" title=\"Jonas Salk – malgache\"><span>Malagasy</span></a></li><li class=\"interlanguage-link interwiki-mk mw-list-item\"><a class=\"interlanguage-link-target\" href=\"https://mk.wikipedia.org/wiki/%D0%8F%D0%BE%D0%BD%D0%B0%D1%81_%D0%A1%D0%B0%D0%BB%D0%BA\" hreflang=\"mk\" lang=\"mk\" title=\"Џонас Салк – macédonien\"><span>Македонски</span></a></li><li class=\"interlanguage-link interwiki-ml mw-list-item\"><a class=\"interlanguage-link-target\" href=\"https://ml.wikipedia.org/wiki/%E0%B4%9C%E0%B5%8B%E0%B4%A8%E0%B4%B8%E0%B5%8D_%E0%B4%B8%E0%B4%BE%E0%B5%BD%E0%B4%95%E0%B5%8D\" hreflang=\"ml\" lang=\"ml\" title=\"ജോനസ് സാൽക് – malayalam\"><span>മലയാളം</span></a></li><li class=\"interlanguage-link interwiki-ms mw-list-item\"><a class=\"interlanguage-link-target\" href=\"https://ms.wikipedia.org/wiki/Jonas_Salk\" hreflang=\"ms\" lang=\"ms\" title=\"Jonas Salk – malais\"><span>Bahasa Melayu</span></a></li><li class=\"interlanguage-link interwiki-nl mw-list-item\"><a class=\"interlanguage-link-target\" href=\"https://nl.wikipedia.org/wiki/Jonas_Salk\" hreflang=\"nl\" lang=\"nl\" title=\"Jonas Salk – néerlandais\"><span>Nederlands</span></a></li><li class=\"interlanguage-link interwiki-no mw-list-item\"><a class=\"interlanguage-link-target\" href=\"https://no.wikipedia.org/wiki/Jonas_Salk\" hreflang=\"nb\" lang=\"nb\" title=\"Jonas Salk – norvégien bokmål\"><span>Norsk bokmål</span></a></li><li class=\"interlanguage-link interwiki-pa mw-list-item\"><a class=\"interlanguage-link-target\" href=\"https://pa.wikipedia.org/wiki/%E0%A8%9C%E0%A9%8B%E0%A8%A8%E0%A8%BE%E0%A8%B8_%E0%A8%B8%E0%A8%BE%E0%A8%B2%E0%A8%95\" hreflang=\"pa\" lang=\"pa\" title=\"ਜੋਨਾਸ ਸਾਲਕ – pendjabi\"><span>ਪੰਜਾਬੀ</span></a></li><li class=\"interlanguage-link interwiki-pl mw-list-item\"><a class=\"interlanguage-link-target\" href=\"https://pl.wikipedia.org/wiki/Jonas_Salk\" hreflang=\"pl\" lang=\"pl\" title=\"Jonas Salk – polonais\"><span>Polski</span></a></li><li class=\"interlanguage-link interwiki-pnb mw-list-item\"><a class=\"interlanguage-link-target\" href=\"https://pnb.wikipedia.org/wiki/%D8%AC%D9%88%D9%86%D8%B3_%D8%B3%D8%A7%D9%84%DA%A9\" hreflang=\"pnb\" lang=\"pnb\" title=\"جونس سالک – Western Punjabi\"><span>پنجابی</span></a></li><li class=\"interlanguage-link interwiki-pt mw-list-item\"><a class=\"interlanguage-link-target\" href=\"https://pt.wikipedia.org/wiki/Jonas_Salk\" hreflang=\"pt\" lang=\"pt\" title=\"Jonas Salk – portugais\"><span>Português</span></a></li><li class=\"interlanguage-link interwiki-ro mw-list-item\"><a class=\"interlanguage-link-target\" href=\"https://ro.wikipedia.org/wiki/Jonas_Salk\" hreflang=\"ro\" lang=\"ro\" title=\"Jonas Salk – roumain\"><span>Română</span></a></li><li class=\"interlanguage-link interwiki-ru mw-list-item\"><a class=\"interlanguage-link-target\" href=\"https://ru.wikipedia.org/wiki/%D0%A1%D0%BE%D0%BB%D0%BA,_%D0%94%D0%B6%D0%BE%D0%BD%D0%B0%D1%81\" hreflang=\"ru\" lang=\"ru\" title=\"Солк, Джонас – russe\"><span>Русский</span></a></li><li class=\"interlanguage-link interwiki-sa mw-list-item\"><a class=\"interlanguage-link-target\" href=\"https://sa.wikipedia.org/wiki/%E0%A4%9C%E0%A5%8B%E0%A4%A8%E0%A4%BE%E0%A4%B8%E0%A5%8D_%E0%A4%8F%E0%A4%A1%E0%A5%8D%E0%A4%B5%E0%A4%B0%E0%A5%8D%E0%A4%A1%E0%A5%8D_%E0%A4%B8%E0%A4%BE%E0%A4%95%E0%A5%8D\" hreflang=\"sa\" lang=\"sa\" title=\"जोनास् एड्वर्ड् साक् – sanskrit\"><span>संस्कृतम्</span></a></li><li class=\"interlanguage-link interwiki-sco mw-list-item\"><a class=\"interlanguage-link-target\" href=\"https://sco.wikipedia.org/wiki/Jonas_Salk\" hreflang=\"sco\" lang=\"sco\" title=\"Jonas Salk – écossais\"><span>Scots</span></a></li><li class=\"interlanguage-link interwiki-sh mw-list-item\"><a class=\"interlanguage-link-target\" href=\"https://sh.wikipedia.org/wiki/Jonas_Salk\" hreflang=\"sh\" lang=\"sh\" title=\"Jonas Salk – serbo-croate\"><span>Srpskohrvatski / српскохрватски</span></a></li><li class=\"interlanguage-link interwiki-si mw-list-item\"><a class=\"interlanguage-link-target\" href=\"https://si.wikipedia.org/wiki/%E0%B6%A2%E0%B7%9D%E0%B6%B1%E0%B7%83%E0%B7%8A_%E0%B7%83%E0%B7%9D%E0%B6%9A%E0%B7%8A\" hreflang=\"si\" lang=\"si\" title=\"ජෝනස් සෝක් – cingalais\"><span>සිංහල</span></a></li><li class=\"interlanguage-link interwiki-simple mw-list-item\"><a class=\"interlanguage-link-target\" href=\"https://simple.wikipedia.org/wiki/Jonas_Salk\" hreflang=\"en-simple\" lang=\"en-simple\" title=\"Jonas Salk – Simple English\"><span>Simple English</span></a></li><li class=\"interlanguage-link interwiki-sk mw-list-item\"><a class=\"interlanguage-link-target\" href=\"https://sk.wikipedia.org/wiki/Jonas_Salk\" hreflang=\"sk\" lang=\"sk\" title=\"Jonas Salk – slovaque\"><span>Slovenčina</span></a></li><li class=\"interlanguage-link interwiki-sl mw-list-item\"><a class=\"interlanguage-link-target\" href=\"https://sl.wikipedia.org/wiki/Jonas_Salk\" hreflang=\"sl\" lang=\"sl\" title=\"Jonas Salk – slovène\"><span>Slovenščina</span></a></li><li class=\"interlanguage-link interwiki-sr mw-list-item\"><a class=\"interlanguage-link-target\" href=\"https://sr.wikipedia.org/wiki/%D0%8F%D0%BE%D0%BD%D0%B0%D1%81_%D0%A1%D0%BE%D0%BB%D0%BA\" hreflang=\"sr\" lang=\"sr\" title=\"Џонас Солк – serbe\"><span>Српски / srpski</span></a></li><li class=\"interlanguage-link interwiki-sv mw-list-item\"><a class=\"interlanguage-link-target\" href=\"https://sv.wikipedia.org/wiki/Jonas_Salk\" hreflang=\"sv\" lang=\"sv\" title=\"Jonas Salk – suédois\"><span>Svenska</span></a></li><li class=\"interlanguage-link interwiki-ta mw-list-item\"><a class=\"interlanguage-link-target\" href=\"https://ta.wikipedia.org/wiki/%E0%AE%AF%E0%AF%8B%E0%AE%A9%E0%AE%BE%E0%AE%9A%E0%AF%81_%E0%AE%9A%E0%AE%BE%E0%AE%B2%E0%AF%8D%E0%AE%95%E0%AF%8D\" hreflang=\"ta\" lang=\"ta\" title=\"யோனாசு சால்க் – tamoul\"><span>தமிழ்</span></a></li><li class=\"interlanguage-link interwiki-te mw-list-item\"><a class=\"interlanguage-link-target\" href=\"https://te.wikipedia.org/wiki/%E0%B0%9C%E0%B1%8B%E0%B0%A8%E0%B0%B8%E0%B1%8D_%E0%B0%B8%E0%B0%BE%E0%B0%B2%E0%B1%8D%E0%B0%95%E0%B1%8D\" hreflang=\"te\" lang=\"te\" title=\"జోనస్ సాల్క్ – télougou\"><span>తెలుగు</span></a></li><li class=\"interlanguage-link interwiki-th mw-list-item\"><a class=\"interlanguage-link-target\" href=\"https://th.wikipedia.org/wiki/%E0%B9%82%E0%B8%88%E0%B8%99%E0%B8%B1%E0%B8%AA_%E0%B8%8B%E0%B8%AD%E0%B8%A5%E0%B9%8C%E0%B8%81\" hreflang=\"th\" lang=\"th\" title=\"โจนัส ซอล์ก – thaï\"><span>ไทย</span></a></li><li class=\"interlanguage-link interwiki-tl mw-list-item\"><a class=\"interlanguage-link-target\" href=\"https://tl.wikipedia.org/wiki/Jonas_Salk\" hreflang=\"tl\" lang=\"tl\" title=\"Jonas Salk – tagalog\"><span>Tagalog</span></a></li><li class=\"interlanguage-link interwiki-tr mw-list-item\"><a class=\"interlanguage-link-target\" href=\"https://tr.wikipedia.org/wiki/Jonas_Salk\" hreflang=\"tr\" lang=\"tr\" title=\"Jonas Salk – turc\"><span>Türkçe</span></a></li><li class=\"interlanguage-link interwiki-uk mw-list-item\"><a class=\"interlanguage-link-target\" href=\"https://uk.wikipedia.org/wiki/%D0%94%D0%B6%D0%BE%D0%BD%D0%B0%D1%81_%D0%A1%D0%BE%D0%BB%D0%BA\" hreflang=\"uk\" lang=\"uk\" title=\"Джонас Солк – ukrainien\"><span>Українська</span></a></li><li class=\"interlanguage-link interwiki-ur mw-list-item\"><a class=\"interlanguage-link-target\" href=\"https://ur.wikipedia.org/wiki/%D8%AC%D9%88%D9%86%D8%B3_%D8%B3%D8%A7%D9%84%DA%A9\" hreflang=\"ur\" lang=\"ur\" title=\"جونس سالک – ourdou\"><span>اردو</span></a></li><li class=\"interlanguage-link interwiki-vi mw-list-item\"><a class=\"interlanguage-link-target\" href=\"https://vi.wikipedia.org/wiki/Jonas_Salk\" hreflang=\"vi\" lang=\"vi\" title=\"Jonas Salk – vietnamien\"><span>Tiếng Việt</span></a></li><li class=\"interlanguage-link interwiki-war mw-list-item\"><a class=\"interlanguage-link-target\" href=\"https://war.wikipedia.org/wiki/Jonas_Salk\" hreflang=\"war\" lang=\"war\" title=\"Jonas Salk – waray\"><span>Winaray</span></a></li><li class=\"interlanguage-link interwiki-wuu mw-list-item\"><a class=\"interlanguage-link-target\" href=\"https://wuu.wikipedia.org/wiki/%E4%B9%94%E7%BA%B3%E6%96%AF%C2%B7%E7%B4%A2%E5%B0%94%E5%85%8B\" hreflang=\"wuu\" lang=\"wuu\" title=\"乔纳斯·索尔克 – wu\"><span>吴语</span></a></li><li class=\"interlanguage-link interwiki-xmf mw-list-item\"><a class=\"interlanguage-link-target\" href=\"https://xmf.wikipedia.org/wiki/%E1%83%AF%E1%83%9D%E1%83%9C%E1%83%90%E1%83%A1_%E1%83%A1%E1%83%9D%E1%83%9A%E1%83%99%E1%83%98\" hreflang=\"xmf\" lang=\"xmf\" title=\"ჯონას სოლკი – mingrélien\"><span>მარგალური</span></a></li><li class=\"interlanguage-link interwiki-yi mw-list-item\"><a class=\"interlanguage-link-target\" href=\"https://yi.wikipedia.org/wiki/%D7%99%D7%95%D7%A0%D7%94_%D7%A1%D7%90%D7%9C%D7%A7\" hreflang=\"yi\" lang=\"yi\" title=\"יונה סאלק – yiddish\"><span>ייִדיש</span></a></li><li class=\"interlanguage-link interwiki-zh mw-list-item\"><a class=\"interlanguage-link-target\" href=\"https://zh.wikipedia.org/wiki/%E4%B9%94%E7%BA%B3%E6%96%AF%C2%B7%E7%B4%A2%E5%B0%94%E5%85%8B\" hreflang=\"zh\" lang=\"zh\" title=\"乔纳斯·索尔克 – chinois\"><span>中文</span></a></li><li class=\"interlanguage-link interwiki-zh-yue mw-list-item\"><a class=\"interlanguage-link-target\" href=\"https://zh-yue.wikipedia.org/wiki/%E7%A5%96%E7%B4%8D%E6%96%AF%E6%B2%99%E5%85%8B\" hreflang=\"yue\" lang=\"yue\" title=\"祖納斯沙克 – cantonais\"><span>粵語</span></a></li></ul>\n",
       "<div class=\"after-portlet after-portlet-lang\"><span class=\"wb-langlinks-edit wb-langlinks-link\"><a class=\"wbc-editpage\" href=\"https://www.wikidata.org/wiki/Special:EntityPage/Q200101#sitelinks-wikipedia\" title=\"Modifier les liens interlangues\">Modifier les liens</a></span></div>\n",
       "</div>\n",
       "</div>\n",
       "</div>\n",
       "</header>\n",
       "<div class=\"vector-page-toolbar\">\n",
       "<div class=\"vector-page-toolbar-container\">\n",
       "<div id=\"left-navigation\">\n",
       "<nav aria-label=\"Espaces de noms\">\n",
       "<div class=\"vector-menu vector-menu-tabs mw-portlet mw-portlet-associated-pages\" id=\"p-associated-pages\">\n",
       "<div class=\"vector-menu-content\">\n",
       "<ul class=\"vector-menu-content-list\">\n",
       "<li class=\"selected vector-tab-noicon mw-list-item\" id=\"ca-nstab-main\"><a accesskey=\"c\" class=\"\" data-mw=\"interface\" href=\"/wiki/Jonas_Salk\" title=\"Voir le contenu de la page [c]\"><span>Article</span></a>\n",
       "</li>\n",
       "<li class=\"vector-tab-noicon mw-list-item\" id=\"ca-talk\"><a accesskey=\"t\" class=\"\" data-mw=\"interface\" href=\"/wiki/Discussion:Jonas_Salk\" rel=\"discussion\" title=\"Discussion au sujet de cette page de contenu [t]\"><span>Discussion</span></a>\n",
       "</li>\n",
       "</ul>\n",
       "</div>\n",
       "</div>\n",
       "<div class=\"vector-dropdown mw-portlet mw-portlet-variants emptyPortlet\" id=\"p-variants\">\n",
       "<input aria-haspopup=\"true\" aria-label=\"Modifier la variante de langue\" class=\"vector-dropdown-checkbox\" data-event-name=\"ui.dropdown-p-variants\" id=\"p-variants-checkbox\" role=\"button\" type=\"checkbox\"/>\n",
       "<label aria-hidden=\"true\" class=\"vector-dropdown-label\" for=\"p-variants-checkbox\" id=\"p-variants-label\">\n",
       "<span class=\"vector-dropdown-label-text\">français</span>\n",
       "</label>\n",
       "<div class=\"vector-dropdown-content\">\n",
       "<div class=\"vector-menu-content\">\n",
       "<ul class=\"vector-menu-content-list\"></ul>\n",
       "</div>\n",
       "</div>\n",
       "</div>\n",
       "</nav>\n",
       "</div>\n",
       "<div class=\"vector-collapsible\" id=\"right-navigation\">\n",
       "<nav aria-label=\"Affichages\">\n",
       "<div class=\"vector-menu vector-menu-tabs mw-portlet mw-portlet-views\" id=\"p-views\">\n",
       "<div class=\"vector-menu-content\">\n",
       "<ul class=\"vector-menu-content-list\">\n",
       "<li class=\"selected vector-tab-noicon mw-list-item\" id=\"ca-view\"><a class=\"\" data-mw=\"interface\" href=\"/wiki/Jonas_Salk\"><span>Lire</span></a>\n",
       "</li>\n",
       "<li class=\"vector-tab-noicon mw-list-item\" id=\"ca-ve-edit\"><a accesskey=\"v\" class=\"\" data-mw=\"interface\" href=\"/w/index.php?title=Jonas_Salk&amp;veaction=edit\" title=\"Modifier cette page [v]\"><span>Modifier</span></a>\n",
       "</li>\n",
       "<li class=\"collapsible vector-tab-noicon mw-list-item\" id=\"ca-edit\"><a accesskey=\"e\" class=\"\" data-mw=\"interface\" href=\"/w/index.php?title=Jonas_Salk&amp;action=edit\" title=\"Modifier le wikicode [e]\"><span>Modifier le code</span></a>\n",
       "</li>\n",
       "<li class=\"vector-tab-noicon mw-list-item\" id=\"ca-history\"><a accesskey=\"h\" class=\"\" data-mw=\"interface\" href=\"/w/index.php?title=Jonas_Salk&amp;action=history\" title=\"Historique des versions de cette page [h]\"><span>Voir l’historique</span></a>\n",
       "</li>\n",
       "</ul>\n",
       "</div>\n",
       "</div>\n",
       "</nav>\n",
       "<nav aria-label=\"Plus d’options\" class=\"vector-page-tools-landmark\">\n",
       "<div class=\"vector-dropdown vector-page-tools-dropdown\" id=\"vector-page-tools-dropdown\">\n",
       "<input aria-haspopup=\"true\" aria-label=\"Outils\" class=\"vector-dropdown-checkbox\" data-event-name=\"ui.dropdown-vector-page-tools-dropdown\" id=\"vector-page-tools-dropdown-checkbox\" role=\"button\" type=\"checkbox\"/>\n",
       "<label aria-hidden=\"true\" class=\"vector-dropdown-label cdx-button cdx-button--fake-button cdx-button--fake-button--enabled cdx-button--weight-quiet\" for=\"vector-page-tools-dropdown-checkbox\" id=\"vector-page-tools-dropdown-label\">\n",
       "<span class=\"vector-dropdown-label-text\">Outils</span>\n",
       "</label>\n",
       "<div class=\"vector-dropdown-content\">\n",
       "<div class=\"vector-unpinned-container\" id=\"vector-page-tools-unpinned-container\">\n",
       "<div class=\"vector-page-tools vector-pinnable-element\" id=\"vector-page-tools\">\n",
       "<div class=\"vector-pinnable-header vector-page-tools-pinnable-header vector-pinnable-header-unpinned\" data-feature-name=\"page-tools-pinned\" data-pinnable-element-id=\"vector-page-tools\" data-pinned-container-id=\"vector-page-tools-pinned-container\" data-unpinned-container-id=\"vector-page-tools-unpinned-container\">\n",
       "<div class=\"vector-pinnable-header-label\">Outils</div>\n",
       "<button class=\"vector-pinnable-header-toggle-button vector-pinnable-header-pin-button\" data-event-name=\"pinnable-header.vector-page-tools.pin\">déplacer vers la barre latérale</button>\n",
       "<button class=\"vector-pinnable-header-toggle-button vector-pinnable-header-unpin-button\" data-event-name=\"pinnable-header.vector-page-tools.unpin\">masquer</button>\n",
       "</div>\n",
       "<div class=\"vector-menu mw-portlet mw-portlet-cactions emptyPortlet vector-has-collapsible-items\" id=\"p-cactions\" title=\"Plus d’options\">\n",
       "<div class=\"vector-menu-heading\">\n",
       "\t\tActions\n",
       "\t</div>\n",
       "<div class=\"vector-menu-content\">\n",
       "<ul class=\"vector-menu-content-list\"><li class=\"selected vector-more-collapsible-item mw-list-item\" id=\"ca-more-view\"><a href=\"/wiki/Jonas_Salk\"><span>Lire</span></a></li><li class=\"vector-more-collapsible-item mw-list-item\" id=\"ca-more-ve-edit\"><a href=\"/w/index.php?title=Jonas_Salk&amp;veaction=edit\"><span>Modifier</span></a></li><li class=\"collapsible vector-more-collapsible-item mw-list-item\" id=\"ca-more-edit\"><a href=\"/w/index.php?title=Jonas_Salk&amp;action=edit\"><span>Modifier le code</span></a></li><li class=\"vector-more-collapsible-item mw-list-item\" id=\"ca-more-history\"><a href=\"/w/index.php?title=Jonas_Salk&amp;action=history\"><span>Voir l’historique</span></a></li></ul>\n",
       "</div>\n",
       "</div>\n",
       "<div class=\"vector-menu mw-portlet mw-portlet-tb\" id=\"p-tb\">\n",
       "<div class=\"vector-menu-heading\">\n",
       "\t\tGénéral\n",
       "\t</div>\n",
       "<div class=\"vector-menu-content\">\n",
       "<ul class=\"vector-menu-content-list\"><li class=\"mw-list-item\" id=\"t-whatlinkshere\"><a accesskey=\"j\" href=\"/wiki/Sp%C3%A9cial:Pages_li%C3%A9es/Jonas_Salk\" title=\"Liste des pages liées qui pointent sur celle-ci [j]\"><span>Pages liées</span></a></li><li class=\"mw-list-item\" id=\"t-recentchangeslinked\"><a accesskey=\"k\" href=\"/wiki/Sp%C3%A9cial:Suivi_des_liens/Jonas_Salk\" rel=\"nofollow\" title=\"Liste des modifications récentes des pages appelées par celle-ci [k]\"><span>Suivi des pages liées</span></a></li><li class=\"mw-list-item\" id=\"t-upload\"><a accesskey=\"u\" href=\"/wiki/Aide:Importer_un_fichier\" title=\"Téléverser des fichiers [u]\"><span>Téléverser un fichier</span></a></li><li class=\"mw-list-item\" id=\"t-specialpages\"><a accesskey=\"q\" href=\"/wiki/Sp%C3%A9cial:Pages_sp%C3%A9ciales\" title=\"Liste de toutes les pages spéciales [q]\"><span>Pages spéciales</span></a></li><li class=\"mw-list-item\" id=\"t-permalink\"><a href=\"/w/index.php?title=Jonas_Salk&amp;oldid=204977301\" title=\"Adresse permanente de cette version de cette page\"><span>Lien permanent</span></a></li><li class=\"mw-list-item\" id=\"t-info\"><a href=\"/w/index.php?title=Jonas_Salk&amp;action=info\" title=\"Davantage d’informations sur cette page\"><span>Informations sur la page</span></a></li><li class=\"mw-list-item\" id=\"t-cite\"><a href=\"/w/index.php?title=Sp%C3%A9cial:Citer&amp;page=Jonas_Salk&amp;id=204977301&amp;wpFormIdentifier=titleform\" title=\"Informations sur la manière de citer cette page\"><span>Citer cette page</span></a></li><li class=\"mw-list-item\" id=\"t-wikibase\"><a accesskey=\"g\" href=\"https://www.wikidata.org/wiki/Special:EntityPage/Q200101\" title=\"Lien vers l’élément dans le dépôt de données connecté [g]\"><span>Élément Wikidata</span></a></li></ul>\n",
       "</div>\n",
       "</div>\n",
       "<div class=\"vector-menu mw-portlet mw-portlet-coll-print_export\" id=\"p-coll-print_export\">\n",
       "<div class=\"vector-menu-heading\">\n",
       "\t\tImprimer / exporter\n",
       "\t</div>\n",
       "<div class=\"vector-menu-content\">\n",
       "<ul class=\"vector-menu-content-list\"><li class=\"mw-list-item\" id=\"coll-create_a_book\"><a href=\"/w/index.php?title=Sp%C3%A9cial:Livre&amp;bookcmd=book_creator&amp;referer=Jonas+Salk\"><span>Créer un livre</span></a></li><li class=\"mw-list-item\" id=\"coll-download-as-rl\"><a href=\"/w/index.php?title=Sp%C3%A9cial:DownloadAsPdf&amp;page=Jonas_Salk&amp;action=show-download-screen\"><span>Télécharger comme PDF</span></a></li><li class=\"mw-list-item\" id=\"t-print\"><a accesskey=\"p\" href=\"/w/index.php?title=Jonas_Salk&amp;printable=yes\" title=\"Version imprimable de cette page [p]\"><span>Version imprimable</span></a></li></ul>\n",
       "</div>\n",
       "</div>\n",
       "<div class=\"vector-menu mw-portlet mw-portlet-wikibase-otherprojects\" id=\"p-wikibase-otherprojects\">\n",
       "<div class=\"vector-menu-heading\">\n",
       "\t\tDans d’autres projets\n",
       "\t</div>\n",
       "<div class=\"vector-menu-content\">\n",
       "<ul class=\"vector-menu-content-list\"><li class=\"wb-otherproject-link wb-otherproject-commons mw-list-item\"><a href=\"https://commons.wikimedia.org/wiki/Category:Jonas_Salk\" hreflang=\"en\"><span>Wikimedia Commons</span></a></li><li class=\"wb-otherproject-link wb-otherproject-wikiquote mw-list-item\"><a href=\"https://fr.wikiquote.org/wiki/Jonas_Salk\" hreflang=\"fr\"><span>Wikiquote</span></a></li></ul>\n",
       "</div>\n",
       "</div>\n",
       "</div>\n",
       "</div>\n",
       "</div>\n",
       "</div>\n",
       "</nav>\n",
       "</div>\n",
       "</div>\n",
       "</div>\n",
       "<div class=\"vector-column-end\">\n",
       "<nav aria-label=\"Plus d’options\" class=\"vector-page-tools-landmark vector-sticky-pinned-container\">\n",
       "<div class=\"vector-pinned-container\" id=\"vector-page-tools-pinned-container\">\n",
       "</div>\n",
       "</nav>\n",
       "</div>\n",
       "<div aria-labelledby=\"firstHeading\" class=\"vector-body\" data-mw-ve-target-container=\"\" id=\"bodyContent\">\n",
       "<div class=\"vector-body-before-content\">\n",
       "<div class=\"mw-indicators\">\n",
       "</div>\n",
       "<div class=\"noprint\" id=\"siteSub\">Un article de Wikipédia, l'encyclopédie libre.</div>\n",
       "</div>\n",
       "<div id=\"contentSub\"><div id=\"mw-content-subtitle\"></div></div>\n",
       "<div class=\"mw-body-content mw-content-ltr\" dir=\"ltr\" id=\"mw-content-text\" lang=\"fr\"><div class=\"mw-parser-output\"><div class=\"bandeau-container metadata homonymie hatnote\"><div class=\"bandeau-cell bandeau-icone\" style=\"display:table-cell;padding-right:0.5em\"><a href=\"/wiki/Aide:Homonymie\" title=\"Aide:Homonymie\"><img alt=\"Page d’aide sur l’homonymie\" class=\"noviewer\" data-file-height=\"375\" data-file-width=\"512\" decoding=\"async\" height=\"15\" src=\"//upload.wikimedia.org/wikipedia/commons/thumb/a/a9/Logo_disambig.svg/20px-Logo_disambig.svg.png\" srcset=\"//upload.wikimedia.org/wikipedia/commons/thumb/a/a9/Logo_disambig.svg/30px-Logo_disambig.svg.png 1.5x, //upload.wikimedia.org/wikipedia/commons/thumb/a/a9/Logo_disambig.svg/40px-Logo_disambig.svg.png 2x\" width=\"20\"/></a></div><div class=\"bandeau-cell\" style=\"display:table-cell;padding-right:0.5em\">\n",
       "<p>Pour les articles homonymes, voir <a class=\"mw-disambig\" href=\"/wiki/Salk\" title=\"Salk\">Salk</a>.\n",
       "</p>\n",
       "</div></div>\n",
       "<div class=\"infobox_v3 noarchive large\"><div class=\"entete defaut\" style=\"background-color:#EEEEFF;color:#000000\"><div>Jonas Salk</div></div><div><div class=\"images\" style=\"padding:2px 0\"><a class=\"image\" href=\"/wiki/Fichier:Jonas_Salk_candid.jpg\"><img alt=\"Jonas Salk candid.jpg\" data-file-height=\"1517\" data-file-width=\"1121\" decoding=\"async\" height=\"352\" src=\"//upload.wikimedia.org/wikipedia/commons/thumb/5/59/Jonas_Salk_candid.jpg/260px-Jonas_Salk_candid.jpg\" srcset=\"//upload.wikimedia.org/wikipedia/commons/thumb/5/59/Jonas_Salk_candid.jpg/390px-Jonas_Salk_candid.jpg 1.5x, //upload.wikimedia.org/wikipedia/commons/thumb/5/59/Jonas_Salk_candid.jpg/520px-Jonas_Salk_candid.jpg 2x\" width=\"260\"/></a></div><div class=\"legend\">Jonas Salk en 1959.</div></div><table><caption style=\"color:#000000;text-align:center;background-color:#EEEEFF\">Biographie</caption><tbody><tr class=\"\"><th scope=\"row\">Naissance</th><td class=\"\"><div>\n",
       "<span class=\"wd_p569\"><time class=\"nowrap date-lien\" data-sort-value=\"1914-10-28\" datetime=\"1914-10-28\"><a href=\"/wiki/28_octobre\" title=\"28 octobre\">28</a> <a href=\"/wiki/Octobre_1914\" title=\"Octobre 1914\">octobre</a> <a href=\"/wiki/1914\" title=\"1914\">1914</a></time><span class=\"noprint wikidata-linkback\"><a href=\"https://www.wikidata.org/wiki/Q200101?uselang=fr#P569\" title=\"Voir et modifier les données sur Wikidata\"><img alt=\"Voir et modifier les données sur Wikidata\" class=\"noviewer\" data-file-height=\"600\" data-file-width=\"600\" decoding=\"async\" height=\"10\" src=\"//upload.wikimedia.org/wikipedia/commons/thumb/7/73/Blue_pencil.svg/10px-Blue_pencil.svg.png\" srcset=\"//upload.wikimedia.org/wikipedia/commons/thumb/7/73/Blue_pencil.svg/15px-Blue_pencil.svg.png 1.5x, //upload.wikimedia.org/wikipedia/commons/thumb/7/73/Blue_pencil.svg/20px-Blue_pencil.svg.png 2x\" style=\"vertical-align: baseline\" width=\"10\"/></a></span></span><br/><span class=\"wd_p19\"><a href=\"/wiki/New_York\" title=\"New York\">New York</a><span class=\"noprint wikidata-linkback\"><a href=\"https://www.wikidata.org/wiki/Q200101?uselang=fr#P19\" title=\"Voir et modifier les données sur Wikidata\"><img alt=\"Voir et modifier les données sur Wikidata\" class=\"noviewer\" data-file-height=\"600\" data-file-width=\"600\" decoding=\"async\" height=\"10\" src=\"//upload.wikimedia.org/wikipedia/commons/thumb/7/73/Blue_pencil.svg/10px-Blue_pencil.svg.png\" srcset=\"//upload.wikimedia.org/wikipedia/commons/thumb/7/73/Blue_pencil.svg/15px-Blue_pencil.svg.png 1.5x, //upload.wikimedia.org/wikipedia/commons/thumb/7/73/Blue_pencil.svg/20px-Blue_pencil.svg.png 2x\" style=\"vertical-align: baseline\" width=\"10\"/></a></span></span></div></td></tr><tr class=\"\"><th scope=\"row\">Décès</th><td class=\"\"><div>\n",
       "<span class=\"wd_p570\"><time class=\"nowrap date-lien\" data-sort-value=\"1995-06-23\" datetime=\"1995-06-23\"><a href=\"/wiki/23_juin\" title=\"23 juin\">23</a> <a href=\"/wiki/Juin_1995\" title=\"Juin 1995\">juin</a> <a href=\"/wiki/1995\" title=\"1995\">1995</a></time><span class=\"noprint wikidata-linkback\"><a href=\"https://www.wikidata.org/wiki/Q200101?uselang=fr#P570\" title=\"Voir et modifier les données sur Wikidata\"><img alt=\"Voir et modifier les données sur Wikidata\" class=\"noviewer\" data-file-height=\"600\" data-file-width=\"600\" decoding=\"async\" height=\"10\" src=\"//upload.wikimedia.org/wikipedia/commons/thumb/7/73/Blue_pencil.svg/10px-Blue_pencil.svg.png\" srcset=\"//upload.wikimedia.org/wikipedia/commons/thumb/7/73/Blue_pencil.svg/15px-Blue_pencil.svg.png 1.5x, //upload.wikimedia.org/wikipedia/commons/thumb/7/73/Blue_pencil.svg/20px-Blue_pencil.svg.png 2x\" style=\"vertical-align: baseline\" width=\"10\"/></a></span></span> (à 80 ans)<br/><span class=\"wd_p20\"><a href=\"/wiki/La_Jolla\" title=\"La Jolla\">La Jolla</a><span class=\"noprint wikidata-linkback\"><a href=\"https://www.wikidata.org/wiki/Q200101?uselang=fr#P20\" title=\"Voir et modifier les données sur Wikidata\"><img alt=\"Voir et modifier les données sur Wikidata\" class=\"noviewer\" data-file-height=\"600\" data-file-width=\"600\" decoding=\"async\" height=\"10\" src=\"//upload.wikimedia.org/wikipedia/commons/thumb/7/73/Blue_pencil.svg/10px-Blue_pencil.svg.png\" srcset=\"//upload.wikimedia.org/wikipedia/commons/thumb/7/73/Blue_pencil.svg/15px-Blue_pencil.svg.png 1.5x, //upload.wikimedia.org/wikipedia/commons/thumb/7/73/Blue_pencil.svg/20px-Blue_pencil.svg.png 2x\" style=\"vertical-align: baseline\" width=\"10\"/></a></span></span></div></td></tr><tr class=\"\"><th scope=\"row\">Sépulture</th><td class=\"\"><div>\n",
       "<span class=\"wd_p119\"><a href=\"/wiki/Los_Angeles\" title=\"Los Angeles\">Los Angeles</a><span class=\"noprint wikidata-linkback\"><a href=\"https://www.wikidata.org/wiki/Q200101?uselang=fr#P119\" title=\"Voir et modifier les données sur Wikidata\"><img alt=\"Voir et modifier les données sur Wikidata\" class=\"noviewer\" data-file-height=\"600\" data-file-width=\"600\" decoding=\"async\" height=\"10\" src=\"//upload.wikimedia.org/wikipedia/commons/thumb/7/73/Blue_pencil.svg/10px-Blue_pencil.svg.png\" srcset=\"//upload.wikimedia.org/wikipedia/commons/thumb/7/73/Blue_pencil.svg/15px-Blue_pencil.svg.png 1.5x, //upload.wikimedia.org/wikipedia/commons/thumb/7/73/Blue_pencil.svg/20px-Blue_pencil.svg.png 2x\" style=\"vertical-align: baseline\" width=\"10\"/></a></span></span></div></td></tr><tr class=\"\"><th scope=\"row\">Nom de naissance</th><td class=\"\"><div>\n",
       "<span class=\"wd_p1477\"><span class=\"lang-en\" lang=\"en\">Jonas Salk</span><span class=\"noprint wikidata-linkback\"><a href=\"https://www.wikidata.org/wiki/Q200101?uselang=fr#P1477\" title=\"Voir et modifier les données sur Wikidata\"><img alt=\"Voir et modifier les données sur Wikidata\" class=\"noviewer\" data-file-height=\"600\" data-file-width=\"600\" decoding=\"async\" height=\"10\" src=\"//upload.wikimedia.org/wikipedia/commons/thumb/7/73/Blue_pencil.svg/10px-Blue_pencil.svg.png\" srcset=\"//upload.wikimedia.org/wikipedia/commons/thumb/7/73/Blue_pencil.svg/15px-Blue_pencil.svg.png 1.5x, //upload.wikimedia.org/wikipedia/commons/thumb/7/73/Blue_pencil.svg/20px-Blue_pencil.svg.png 2x\" style=\"vertical-align: baseline\" width=\"10\"/></a></span></span></div></td></tr><tr class=\"\"><th scope=\"row\">Nationalité</th><td class=\"\"><div>\n",
       "<span class=\"wd_p27\"><a href=\"/wiki/%C3%89tats-Unis\" title=\"États-Unis\">américaine</a><span class=\"noprint wikidata-linkback\"><a href=\"https://www.wikidata.org/wiki/Q200101?uselang=fr#P27\" title=\"Voir et modifier les données sur Wikidata\"><img alt=\"Voir et modifier les données sur Wikidata\" class=\"noviewer\" data-file-height=\"600\" data-file-width=\"600\" decoding=\"async\" height=\"10\" src=\"//upload.wikimedia.org/wikipedia/commons/thumb/7/73/Blue_pencil.svg/10px-Blue_pencil.svg.png\" srcset=\"//upload.wikimedia.org/wikipedia/commons/thumb/7/73/Blue_pencil.svg/15px-Blue_pencil.svg.png 1.5x, //upload.wikimedia.org/wikipedia/commons/thumb/7/73/Blue_pencil.svg/20px-Blue_pencil.svg.png 2x\" style=\"vertical-align: baseline\" width=\"10\"/></a></span></span></div></td></tr><tr class=\"\"><th scope=\"row\">Domicile</th><td class=\"\"><div>\n",
       "<span class=\"wd_p551\"><a href=\"/wiki/%C3%89tats-Unis\" title=\"États-Unis\">États-Unis</a><span class=\"noprint wikidata-linkback\"><a href=\"https://www.wikidata.org/wiki/Q200101?uselang=fr#P551\" title=\"Voir et modifier les données sur Wikidata\"><img alt=\"Voir et modifier les données sur Wikidata\" class=\"noviewer\" data-file-height=\"600\" data-file-width=\"600\" decoding=\"async\" height=\"10\" src=\"//upload.wikimedia.org/wikipedia/commons/thumb/7/73/Blue_pencil.svg/10px-Blue_pencil.svg.png\" srcset=\"//upload.wikimedia.org/wikipedia/commons/thumb/7/73/Blue_pencil.svg/15px-Blue_pencil.svg.png 1.5x, //upload.wikimedia.org/wikipedia/commons/thumb/7/73/Blue_pencil.svg/20px-Blue_pencil.svg.png 2x\" style=\"vertical-align: baseline\" width=\"10\"/></a></span></span></div></td></tr><tr class=\"\"><th scope=\"row\">Formation</th><td class=\"\"><div>\n",
       "<span class=\"wd_p69\"><a href=\"/wiki/Universit%C3%A9_du_Michigan\" title=\"Université du Michigan\">Université du Michigan</a><br/><a href=\"/wiki/New_York_University_School_of_Medicine\" title=\"New York University School of Medicine\">New York University School of Medicine</a><br/><a href=\"/wiki/Universit%C3%A9_de_New_York\" title=\"Université de New York\">Université de New York</a><br/><a href=\"/wiki/City_College_of_New_York\" title=\"City College of New York\">City College of New York</a><br/>Fanny Edel Falk Laboratory School <small>(<a class=\"extiw\" href=\"https://en.wikipedia.org/wiki/Fanny_Edel_Falk_Laboratory_School\" title=\"en:Fanny Edel Falk Laboratory School\"><span class=\"indicateur-langue\" title=\"Article sur Wikipédia en anglais\">en</span></a>)</small><span class=\"noprint wikidata-linkback\"><a href=\"https://www.wikidata.org/wiki/Q200101?uselang=fr#P69\" title=\"Voir et modifier les données sur Wikidata\"><img alt=\"Voir et modifier les données sur Wikidata\" class=\"noviewer\" data-file-height=\"600\" data-file-width=\"600\" decoding=\"async\" height=\"10\" src=\"//upload.wikimedia.org/wikipedia/commons/thumb/7/73/Blue_pencil.svg/10px-Blue_pencil.svg.png\" srcset=\"//upload.wikimedia.org/wikipedia/commons/thumb/7/73/Blue_pencil.svg/15px-Blue_pencil.svg.png 1.5x, //upload.wikimedia.org/wikipedia/commons/thumb/7/73/Blue_pencil.svg/20px-Blue_pencil.svg.png 2x\" style=\"vertical-align: baseline\" width=\"10\"/></a></span></span></div></td></tr><tr class=\"\"><th scope=\"row\">Activités</th><td class=\"\"><div>\n",
       "<span class=\"wd_p106\"><a href=\"/wiki/M%C3%A9decin\" title=\"Médecin\">Médecin</a>, <a href=\"/wiki/Inventeur\" title=\"Inventeur\">inventeur</a>, <a href=\"/wiki/Virologie\" title=\"Virologie\">virologue</a>, <a href=\"/wiki/%C3%89pid%C3%A9miologie\" title=\"Épidémiologie\">épidémiologiste</a>, <a href=\"/wiki/Biologiste\" title=\"Biologiste\">biologiste</a>, <a href=\"/wiki/Immunologie\" title=\"Immunologie\">immunologiste</a><span class=\"noprint wikidata-linkback\"><a href=\"https://www.wikidata.org/wiki/Q200101?uselang=fr#P106\" title=\"Voir et modifier les données sur Wikidata\"><img alt=\"Voir et modifier les données sur Wikidata\" class=\"noviewer\" data-file-height=\"600\" data-file-width=\"600\" decoding=\"async\" height=\"10\" src=\"//upload.wikimedia.org/wikipedia/commons/thumb/7/73/Blue_pencil.svg/10px-Blue_pencil.svg.png\" srcset=\"//upload.wikimedia.org/wikipedia/commons/thumb/7/73/Blue_pencil.svg/15px-Blue_pencil.svg.png 1.5x, //upload.wikimedia.org/wikipedia/commons/thumb/7/73/Blue_pencil.svg/20px-Blue_pencil.svg.png 2x\" style=\"vertical-align: baseline\" width=\"10\"/></a></span></span></div></td></tr><tr class=\"\"><th scope=\"row\">Conjoint</th><td class=\"\"><div>\n",
       "<span class=\"wd_p26\"><a href=\"/wiki/Fran%C3%A7oise_Gilot\" title=\"Françoise Gilot\">Françoise Gilot</a> <small>(de <time>1970</time> à <time>1995</time>)</small><span class=\"noprint wikidata-linkback\"><a href=\"https://www.wikidata.org/wiki/Q200101?uselang=fr#P26\" title=\"Voir et modifier les données sur Wikidata\"><img alt=\"Voir et modifier les données sur Wikidata\" class=\"noviewer\" data-file-height=\"600\" data-file-width=\"600\" decoding=\"async\" height=\"10\" src=\"//upload.wikimedia.org/wikipedia/commons/thumb/7/73/Blue_pencil.svg/10px-Blue_pencil.svg.png\" srcset=\"//upload.wikimedia.org/wikipedia/commons/thumb/7/73/Blue_pencil.svg/15px-Blue_pencil.svg.png 1.5x, //upload.wikimedia.org/wikipedia/commons/thumb/7/73/Blue_pencil.svg/20px-Blue_pencil.svg.png 2x\" style=\"vertical-align: baseline\" width=\"10\"/></a></span></span></div></td></tr><tr class=\"\"><th scope=\"row\">Enfants</th><td class=\"\"><div>\n",
       "<span class=\"wd_p40\">Peter L Salk <small>(<a class=\"extiw\" href=\"https://www.wikidata.org/wiki/Q116263780\" title=\"d:Q116263780\"><span class=\"indicateur-langue\" title=\"Voir l'élément Wikidata correspondant\">d</span></a>)</small><br/>Darrell Salk <small>(<a class=\"extiw\" href=\"https://www.wikidata.org/wiki/Q116263851\" title=\"d:Q116263851\"><span class=\"indicateur-langue\" title=\"Voir l'élément Wikidata correspondant\">d</span></a>)</small><br/>Jonathan Salk <small>(<a class=\"extiw\" href=\"https://www.wikidata.org/wiki/Q116842327\" title=\"d:Q116842327\"><span class=\"indicateur-langue\" title=\"Voir l'élément Wikidata correspondant\">d</span></a>)</small><span class=\"noprint wikidata-linkback\"><a href=\"https://www.wikidata.org/wiki/Q200101?uselang=fr#P40\" title=\"Voir et modifier les données sur Wikidata\"><img alt=\"Voir et modifier les données sur Wikidata\" class=\"noviewer\" data-file-height=\"600\" data-file-width=\"600\" decoding=\"async\" height=\"10\" src=\"//upload.wikimedia.org/wikipedia/commons/thumb/7/73/Blue_pencil.svg/10px-Blue_pencil.svg.png\" srcset=\"//upload.wikimedia.org/wikipedia/commons/thumb/7/73/Blue_pencil.svg/15px-Blue_pencil.svg.png 1.5x, //upload.wikimedia.org/wikipedia/commons/thumb/7/73/Blue_pencil.svg/20px-Blue_pencil.svg.png 2x\" style=\"vertical-align: baseline\" width=\"10\"/></a></span></span></div></td></tr></tbody></table><table><caption style=\"color:#000000;text-align:center;background-color:#EEEEFF\">Autres informations</caption><tbody><tr class=\"\"><th scope=\"row\">A travaillé pour</th><td class=\"\"><div>\n",
       "<span class=\"wd_p108\"><a href=\"/wiki/Universit%C3%A9_de_Pittsburgh\" title=\"Université de Pittsburgh\">Université de Pittsburgh</a><span class=\"noprint wikidata-linkback\"><a href=\"https://www.wikidata.org/wiki/Q200101?uselang=fr#P108\" title=\"Voir et modifier les données sur Wikidata\"><img alt=\"Voir et modifier les données sur Wikidata\" class=\"noviewer\" data-file-height=\"600\" data-file-width=\"600\" decoding=\"async\" height=\"10\" src=\"//upload.wikimedia.org/wikipedia/commons/thumb/7/73/Blue_pencil.svg/10px-Blue_pencil.svg.png\" srcset=\"//upload.wikimedia.org/wikipedia/commons/thumb/7/73/Blue_pencil.svg/15px-Blue_pencil.svg.png 1.5x, //upload.wikimedia.org/wikipedia/commons/thumb/7/73/Blue_pencil.svg/20px-Blue_pencil.svg.png 2x\" style=\"vertical-align: baseline\" width=\"10\"/></a></span></span></div></td></tr><tr class=\"\"><th scope=\"row\">Membre de</th><td class=\"\"><div>\n",
       "<span class=\"wd_p463\"><a href=\"/wiki/Acad%C3%A9mie_am%C3%A9ricaine_des_arts_et_des_sciences\" title=\"Académie américaine des arts et des sciences\">Académie américaine des arts et des sciences</a><br/><a href=\"/wiki/Phi_Beta_Kappa\" title=\"Phi Beta Kappa\">Phi Beta Kappa</a><br/><a href=\"/wiki/Association_am%C3%A9ricaine_pour_l%27avancement_des_sciences\" title=\"Association américaine pour l'avancement des sciences\">Association américaine pour l'avancement des sciences</a><span class=\"noprint wikidata-linkback\"><a href=\"https://www.wikidata.org/wiki/Q200101?uselang=fr#P463\" title=\"Voir et modifier les données sur Wikidata\"><img alt=\"Voir et modifier les données sur Wikidata\" class=\"noviewer\" data-file-height=\"600\" data-file-width=\"600\" decoding=\"async\" height=\"10\" src=\"//upload.wikimedia.org/wikipedia/commons/thumb/7/73/Blue_pencil.svg/10px-Blue_pencil.svg.png\" srcset=\"//upload.wikimedia.org/wikipedia/commons/thumb/7/73/Blue_pencil.svg/15px-Blue_pencil.svg.png 1.5x, //upload.wikimedia.org/wikipedia/commons/thumb/7/73/Blue_pencil.svg/20px-Blue_pencil.svg.png 2x\" style=\"vertical-align: baseline\" width=\"10\"/></a></span></span></div></td></tr><tr class=\"\"><th scope=\"row\">Directeur de thèse</th><td class=\"\"><div>\n",
       "<span class=\"wd_p184\">Thomas Francis junior <small>(<a class=\"extiw\" href=\"https://en.wikipedia.org/wiki/Thomas_Francis_Jr.\" title=\"en:Thomas Francis Jr.\"><span class=\"indicateur-langue\" title=\"Article sur Wikipédia en anglais\">en</span></a>)</small><span class=\"noprint wikidata-linkback\"><a href=\"https://www.wikidata.org/wiki/Q200101?uselang=fr#P184\" title=\"Voir et modifier les données sur Wikidata\"><img alt=\"Voir et modifier les données sur Wikidata\" class=\"noviewer\" data-file-height=\"600\" data-file-width=\"600\" decoding=\"async\" height=\"10\" src=\"//upload.wikimedia.org/wikipedia/commons/thumb/7/73/Blue_pencil.svg/10px-Blue_pencil.svg.png\" srcset=\"//upload.wikimedia.org/wikipedia/commons/thumb/7/73/Blue_pencil.svg/15px-Blue_pencil.svg.png 1.5x, //upload.wikimedia.org/wikipedia/commons/thumb/7/73/Blue_pencil.svg/20px-Blue_pencil.svg.png 2x\" style=\"vertical-align: baseline\" width=\"10\"/></a></span></span></div></td></tr><tr class=\"\"><th scope=\"row\">Distinctions</th><td class=\"\"><div>\n",
       "<span class=\"wd_p166\"><a href=\"/wiki/Prix_Albert-Lasker_pour_la_recherche_m%C3%A9dicale_clinique\" title=\"Prix Albert-Lasker pour la recherche médicale clinique\">Prix Albert-Lasker pour la recherche médicale clinique</a> <small>(<time>1956</time>)</small><br/><a href=\"/wiki/Prix_Albert-Lasker_pour_la_recherche_m%C3%A9dicale_fondamentale\" title=\"Prix Albert-Lasker pour la recherche médicale fondamentale\">Prix Albert-Lasker pour la recherche médicale fondamentale</a><span class=\"noprint wikidata-linkback\"><a href=\"https://www.wikidata.org/wiki/Q200101?uselang=fr#P166\" title=\"Voir et modifier les données sur Wikidata\"><img alt=\"Voir et modifier les données sur Wikidata\" class=\"noviewer\" data-file-height=\"600\" data-file-width=\"600\" decoding=\"async\" height=\"10\" src=\"//upload.wikimedia.org/wikipedia/commons/thumb/7/73/Blue_pencil.svg/10px-Blue_pencil.svg.png\" srcset=\"//upload.wikimedia.org/wikipedia/commons/thumb/7/73/Blue_pencil.svg/15px-Blue_pencil.svg.png 1.5x, //upload.wikimedia.org/wikipedia/commons/thumb/7/73/Blue_pencil.svg/20px-Blue_pencil.svg.png 2x\" style=\"vertical-align: baseline\" width=\"10\"/></a></span></span><br/><div class=\"toccolours mw-collapsible mw-collapsed\" style=\"border:none\"><b>Liste détaillée</b><div class=\"mw-collapsible-content\" style=\"line-height:150%\"><span class=\"wd_p166\">Meritorious Civilian Service Award <small>(<a class=\"extiw\" href=\"https://en.wikipedia.org/wiki/Meritorious_Civilian_Service_Award\" title=\"en:Meritorious Civilian Service Award\"><span class=\"indicateur-langue\" title=\"Article sur Wikipédia en anglais\">en</span></a>)</small> <small>(<time>1955</time>)</small><br/><a href=\"/wiki/Prix_Albert-Lasker\" title=\"Prix Albert-Lasker\">Prix Albert-Lasker</a> <small>(<time>1956</time>)</small><br/><a href=\"/wiki/Prix_Albert-Lasker_pour_la_recherche_m%C3%A9dicale_clinique\" title=\"Prix Albert-Lasker pour la recherche médicale clinique\">Prix Albert-Lasker pour la recherche médicale clinique</a> <small>(<time>1956</time>)</small><br/>Prix Robert-Koch <small>(<a class=\"extiw\" href=\"https://www.wikidata.org/wiki/Q505132\" title=\"d:Q505132\"><span class=\"indicateur-langue\" title=\"Voir l'élément Wikidata correspondant\">d</span></a>)</small> <small>(<time>1962</time>)</small><br/><a href=\"/wiki/Prix_Jawaharlal_Nehru\" title=\"Prix Jawaharlal Nehru\">Prix Jawaharlal Nehru</a> <small>(<time>1975</time>)</small><br/><a href=\"/wiki/American_Humanist_Association\" title=\"American Humanist Association\">Humaniste de l'année</a> <small>(<time>1976</time>)</small><br/>Distinguished Americans series <small>(<a class=\"extiw\" href=\"https://en.wikipedia.org/wiki/Distinguished_Americans_series\" title=\"en:Distinguished Americans series\"><span class=\"indicateur-langue\" title=\"Article sur Wikipédia en anglais\">en</span></a>)</small> <small>(<time>2006</time>)</small><br/><a href=\"/wiki/California_Hall_of_Fame\" title=\"California Hall of Fame\">California Hall of Fame</a> <small>(<time>2007</time>)</small><br/><a href=\"/wiki/Prix_Albert-Lasker_pour_la_recherche_m%C3%A9dicale_fondamentale\" title=\"Prix Albert-Lasker pour la recherche médicale fondamentale\">Prix Albert-Lasker pour la recherche médicale fondamentale</a><br/><a href=\"/wiki/M%C3%A9daille_d%27or_du_Congr%C3%A8s\" title=\"Médaille d'or du Congrès\">Médaille d'or du Congrès</a><br/><a href=\"/wiki/M%C3%A9daille_pr%C3%A9sidentielle_de_la_Libert%C3%A9\" title=\"Médaille présidentielle de la Liberté\">Médaille présidentielle de la Liberté</a><span class=\"noprint wikidata-linkback\"><a href=\"https://www.wikidata.org/wiki/Q200101?uselang=fr#P166\" title=\"Voir et modifier les données sur Wikidata\"><img alt=\"Voir et modifier les données sur Wikidata\" class=\"noviewer\" data-file-height=\"600\" data-file-width=\"600\" decoding=\"async\" height=\"10\" src=\"//upload.wikimedia.org/wikipedia/commons/thumb/7/73/Blue_pencil.svg/10px-Blue_pencil.svg.png\" srcset=\"//upload.wikimedia.org/wikipedia/commons/thumb/7/73/Blue_pencil.svg/15px-Blue_pencil.svg.png 1.5x, //upload.wikimedia.org/wikipedia/commons/thumb/7/73/Blue_pencil.svg/20px-Blue_pencil.svg.png 2x\" style=\"vertical-align: baseline\" width=\"10\"/></a></span></span></div></div></div></td></tr></tbody></table><div><div class=\"images\" style=\"padding:2px 0\"><a class=\"image\" href=\"/w/index.php?title=Fichier:Jonas_Salk_signature.svg&amp;lang=fr\"><img alt=\"signature de Jonas Salk\" data-file-height=\"278\" data-file-width=\"585\" decoding=\"async\" height=\"81\" src=\"//upload.wikimedia.org/wikipedia/commons/thumb/4/4a/Jonas_Salk_signature.svg/langfr-170px-Jonas_Salk_signature.svg.png\" srcset=\"//upload.wikimedia.org/wikipedia/commons/thumb/4/4a/Jonas_Salk_signature.svg/langfr-255px-Jonas_Salk_signature.svg.png 1.5x, //upload.wikimedia.org/wikipedia/commons/thumb/4/4a/Jonas_Salk_signature.svg/langfr-340px-Jonas_Salk_signature.svg.png 2x\" width=\"170\"/></a></div><div class=\"legend\">Signature</div></div><div><div class=\"images\" style=\"padding:2px 0\"><a class=\"image\" href=\"/wiki/Fichier:Plaque_Jonas_Salk_%C3%A0_Lyon_(Gerland).JPG\"><img alt=\"Plaque Jonas Salk à Lyon (Gerland).JPG\" data-file-height=\"904\" data-file-width=\"1652\" decoding=\"async\" height=\"120\" src=\"//upload.wikimedia.org/wikipedia/commons/thumb/2/2a/Plaque_Jonas_Salk_%C3%A0_Lyon_%28Gerland%29.JPG/220px-Plaque_Jonas_Salk_%C3%A0_Lyon_%28Gerland%29.JPG\" srcset=\"//upload.wikimedia.org/wikipedia/commons/thumb/2/2a/Plaque_Jonas_Salk_%C3%A0_Lyon_%28Gerland%29.JPG/330px-Plaque_Jonas_Salk_%C3%A0_Lyon_%28Gerland%29.JPG 1.5x, //upload.wikimedia.org/wikipedia/commons/thumb/2/2a/Plaque_Jonas_Salk_%C3%A0_Lyon_%28Gerland%29.JPG/440px-Plaque_Jonas_Salk_%C3%A0_Lyon_%28Gerland%29.JPG 2x\" width=\"220\"/></a></div><div class=\"legend\">Plaque commémorative rue Jonas Salk à Lyon, en France.</div></div><p class=\"navbar noprint bordered navigation-not-searchable\" style=\"border-top:1px solid #EEEEFF\"><span class=\"plainlinks\" style=\"text-align:left\"><a class=\"external text\" href=\"https://fr.wikipedia.org/w/index.php?title=Jonas_Salk&amp;veaction=edit&amp;section=0\">modifier</a> - <a class=\"external text\" href=\"https://fr.wikipedia.org/w/index.php?title=Jonas_Salk&amp;action=edit&amp;section=0\">modifier le code</a> - <a class=\"extiw\" href=\"https://www.wikidata.org/wiki/Q200101\" title=\"d:Q200101\">modifier Wikidata</a></span><span style=\"text-align:right\"><a href=\"/wiki/Mod%C3%A8le:Infobox_Biographie2\" title=\"Documentation du modèle\"><img alt=\"Documentation du modèle\" data-file-height=\"512\" data-file-width=\"512\" decoding=\"async\" height=\"12\" src=\"//upload.wikimedia.org/wikipedia/commons/thumb/3/38/Info_Simple.svg/12px-Info_Simple.svg.png\" srcset=\"//upload.wikimedia.org/wikipedia/commons/thumb/3/38/Info_Simple.svg/18px-Info_Simple.svg.png 1.5x, //upload.wikimedia.org/wikipedia/commons/thumb/3/38/Info_Simple.svg/24px-Info_Simple.svg.png 2x\" width=\"12\"/></a></span></p></div>\n",
       "<p><b>Jonas Edward Salk</b>, né le <time class=\"nowrap date-lien bday\" data-sort-value=\"1914-10-28\" datetime=\"1914-10-28\"><a href=\"/wiki/28_octobre\" title=\"28 octobre\">28</a> <a href=\"/wiki/Octobre_1914\" title=\"Octobre 1914\">octobre</a> <a href=\"/wiki/1914\" title=\"1914\">1914</a></time> à <a href=\"/wiki/New_York\" title=\"New York\">New York</a> et mort le <time class=\"nowrap date-lien dday\" data-sort-value=\"1995-06-23\" datetime=\"1995-06-23\"><a href=\"/wiki/23_juin\" title=\"23 juin\">23</a> <a href=\"/wiki/Juin_1995\" title=\"Juin 1995\">juin</a> <a href=\"/wiki/1995\" title=\"1995\">1995</a></time> à <a href=\"/wiki/La_Jolla\" title=\"La Jolla\">La Jolla</a>, est un <a href=\"/wiki/Biologie\" title=\"Biologie\">biologiste</a> <a href=\"/wiki/%C3%89tats-Unis\" title=\"États-Unis\">américain</a> et inventeur du premier <a href=\"/wiki/Vaccin_contre_la_poliomy%C3%A9lite\" title=\"Vaccin contre la poliomyélite\">vaccin contre la poliomyélite</a>.\n",
       "</p>\n",
       "<meta property=\"mw:PageProp/toc\"/>\n",
       "<h2><span class=\"mw-headline\" id=\"Biographie\">Biographie</span><span class=\"mw-editsection\"><span class=\"mw-editsection-bracket\">[</span><a class=\"mw-editsection-visualeditor\" href=\"/w/index.php?title=Jonas_Salk&amp;veaction=edit&amp;section=1\" title=\"Modifier la section : Biographie\">modifier</a><span class=\"mw-editsection-divider\"> | </span><a href=\"/w/index.php?title=Jonas_Salk&amp;action=edit&amp;section=1\" title=\"Modifier la section : Biographie\">modifier le code</a><span class=\"mw-editsection-bracket\">]</span></span></h2>\n",
       "<h3><span id=\"Carri.C3.A8re\"></span><span class=\"mw-headline\" id=\"Carrière\">Carrière</span><span class=\"mw-editsection\"><span class=\"mw-editsection-bracket\">[</span><a class=\"mw-editsection-visualeditor\" href=\"/w/index.php?title=Jonas_Salk&amp;veaction=edit&amp;section=2\" title=\"Modifier la section : Carrière\">modifier</a><span class=\"mw-editsection-divider\"> | </span><a href=\"/w/index.php?title=Jonas_Salk&amp;action=edit&amp;section=2\" title=\"Modifier la section : Carrière\">modifier le code</a><span class=\"mw-editsection-bracket\">]</span></span></h3>\n",
       "<p>Jonas Salk est né à New York de parents immigrants juifs venus de Russie<sup class=\"reference\" id=\"cite_ref-1\"><a href=\"#cite_note-1\"><span class=\"cite_crochet\">[</span>1<span class=\"cite_crochet\">]</span></a></sup>. Il fait ses études de <a href=\"/wiki/M%C3%A9decine\" title=\"Médecine\">médecine</a> à l'<a href=\"/wiki/Universit%C3%A9_du_Michigan\" title=\"Université du Michigan\">université du Michigan</a>, sous la tutelle du <abbr class=\"abbr\" title=\"Docteur\">D<sup>r</sup></abbr> Thomas Francis, <a href=\"/wiki/Virologie\" title=\"Virologie\">virologue</a> distingué. Il est soutenu financièrement par l'<a href=\"/wiki/Forces_arm%C3%A9es_des_%C3%89tats-Unis\" title=\"Forces armées des États-Unis\">armée américaine</a>, qui l'avait engagé pour développer un <a href=\"/wiki/Vaccin\" title=\"Vaccin\">vaccin</a> contre la <a href=\"/wiki/Grippe\" title=\"Grippe\">grippe</a> pour les combattants de la <a href=\"/wiki/Seconde_Guerre_mondiale\" title=\"Seconde Guerre mondiale\">Seconde Guerre mondiale</a>.\n",
       "</p><p>Après ces premiers succès, Salk établit son laboratoire personnel à l'<a href=\"/wiki/Universit%C3%A9_de_Pittsburgh\" title=\"Université de Pittsburgh\">université de Pittsburgh</a> en <a href=\"/wiki/Pennsylvanie\" title=\"Pennsylvanie\">Pennsylvanie</a>, où il devient professeur. Peu de temps après, l'<i><span class=\"lang-en\" lang=\"en\">Infantile Paralysis Foundation</span></i> lui offre une bourse très généreuse pour sa recherche, et il découvre un <a href=\"/wiki/Vaccination\" title=\"Vaccination\">vaccin</a> contre la <a href=\"/wiki/Poliomy%C3%A9lite\" title=\"Poliomyélite\">polio</a> en 1953. Après l'avoir testé sur lui-même, sa famille et quelques volontaires, il annonce au monde sa découverte le <time class=\"nowrap date-lien\" data-sort-value=\"1953-03-26\" datetime=\"1953-03-26\"><a href=\"/wiki/26_mars\" title=\"26 mars\">26</a> <a href=\"/wiki/Mars_1953\" title=\"Mars 1953\">mars</a> <a href=\"/wiki/1953\" title=\"1953\">1953</a></time><sup class=\"reference\" id=\"cite_ref-2\"><a href=\"#cite_note-2\"><span class=\"cite_crochet\">[</span>2<span class=\"cite_crochet\">]</span></a></sup>. Après avoir été testé sur plus d'un million d'enfants, le vaccin est déclaré efficace le <time class=\"nowrap date-lien\" data-sort-value=\"1955-04-12\" datetime=\"1955-04-12\"><a href=\"/wiki/12_avril\" title=\"12 avril\">12</a> <a href=\"/wiki/Avril_1955\" title=\"Avril 1955\">avril</a> <a href=\"/wiki/1955\" title=\"1955\">1955</a></time> par l'Université du Michigan <sup class=\"reference\" id=\"cite_ref-3\"><a href=\"#cite_note-3\"><span class=\"cite_crochet\">[</span>3<span class=\"cite_crochet\">]</span></a></sup>. Il choisit de ne pas le faire <a class=\"mw-redirect\" href=\"/wiki/Brevet\" title=\"Brevet\">breveter</a> pour le laisser plus abordable aux millions de personnes en ayant besoin. Selon les estimations, il aurait ainsi renoncé à un bénéfice d'environ 7 milliards de dollars<sup class=\"reference\" id=\"cite_ref-4\"><a href=\"#cite_note-4\"><span class=\"cite_crochet\">[</span>4<span class=\"cite_crochet\">]</span></a></sup>.\n",
       "</p><p>Plusieurs laboratoires américains se lancent précipitamment dans la fabrication du vaccin, mais les <a href=\"/wiki/Laboratoires_Cutter\" title=\"Laboratoires Cutter\">laboratoires Cutter</a> fournissent un vaccin insuffisamment inactivé, qui <a href=\"/wiki/Contamination\" title=\"Contamination\">contaminera</a> plusieurs centaines d'enfants, vaccinés ou contacts ; le <i><span class=\"lang-en\" lang=\"en\"><a class=\"mw-redirect\" href=\"/wiki/Cutter_incident\" title=\"Cutter incident\">Cutter incident</a></span></i> mettra un frein momentané à la campagne<sup class=\"reference\" id=\"cite_ref-5\"><a href=\"#cite_note-5\"><span class=\"cite_crochet\">[</span>5<span class=\"cite_crochet\">]</span></a></sup>.\n",
       "</p><p>En 1960, Jonas Salk fonde le <a href=\"/wiki/Salk_Institute_for_Biological_Studies\" title=\"Salk Institute for Biological Studies\">Salk Institute for Biological Studies</a> à <a href=\"/wiki/La_Jolla\" title=\"La Jolla\">La Jolla</a> en <a href=\"/wiki/Californie\" title=\"Californie\">Californie</a>, qui demeure l'un des plus grands centres de recherche médicale au monde. Vers la fin de sa carrière, il se consacre à la recherche d'un vaccin contre le <a href=\"/wiki/Syndrome_d%27immunod%C3%A9ficience_acquise\" title=\"Syndrome d'immunodéficience acquise\">SIDA</a>, mais il meurt en 1995. Il est enterré au <a class=\"new\" href=\"/w/index.php?title=El_Camino_Memorial_Park&amp;action=edit&amp;redlink=1\" title=\"El Camino Memorial Park (page inexistante)\">El Camino Memorial Park</a> de <a href=\"/wiki/San_Diego\" title=\"San Diego\">San Diego</a>.\n",
       "</p>\n",
       "<h3><span id=\"Vie_priv.C3.A9e\"></span><span class=\"mw-headline\" id=\"Vie_privée\">Vie privée</span><span class=\"mw-editsection\"><span class=\"mw-editsection-bracket\">[</span><a class=\"mw-editsection-visualeditor\" href=\"/w/index.php?title=Jonas_Salk&amp;veaction=edit&amp;section=3\" title=\"Modifier la section : Vie privée\">modifier</a><span class=\"mw-editsection-divider\"> | </span><a href=\"/w/index.php?title=Jonas_Salk&amp;action=edit&amp;section=3\" title=\"Modifier la section : Vie privée\">modifier le code</a><span class=\"mw-editsection-bracket\">]</span></span></h3>\n",
       "<p>Entre 1939 et 1968, il est marié à Donna Lindsay.\n",
       "</p><p>En 1969, Jonas Salk rencontre à La Jolla, par l'intermédiaire d'amis communs, <a href=\"/wiki/Fran%C3%A7oise_Gilot\" title=\"Françoise Gilot\">Françoise Gilot</a>, une artiste peintre ayant vécu une dizaine d'années avec <a href=\"/wiki/Pablo_Picasso\" title=\"Pablo Picasso\">Pablo Picasso</a> (dont elle avait eu deux enfants : <a href=\"/wiki/Claude_Picasso\" title=\"Claude Picasso\">Claude</a> et <a href=\"/wiki/Paloma_Picasso\" title=\"Paloma Picasso\">Paloma Picasso</a>). Ils se marient en 1970 à Paris et vivent ensemble jusqu'au décès de Salk.\n",
       "</p>\n",
       "<h2><span class=\"mw-headline\" id=\"Le_vaccin_Salk\">Le vaccin <i>Salk</i></span><span class=\"mw-editsection\"><span class=\"mw-editsection-bracket\">[</span><a class=\"mw-editsection-visualeditor\" href=\"/w/index.php?title=Jonas_Salk&amp;veaction=edit&amp;section=4\" title=\"Modifier la section : Le vaccin Salk\">modifier</a><span class=\"mw-editsection-divider\"> | </span><a href=\"/w/index.php?title=Jonas_Salk&amp;action=edit&amp;section=4\" title=\"Modifier la section : Le vaccin Salk\">modifier le code</a><span class=\"mw-editsection-bracket\">]</span></span></h2>\n",
       "<p>Le vaccin dit <i>Salk</i> fut l'un des premiers vaccins efficaces pour l'immunisation contre un <a href=\"/wiki/Virus\" title=\"Virus\">virus</a> en général. Il fut essentiel à la campagne mondiale pour éradiquer la <a href=\"/wiki/Poliomy%C3%A9lite\" title=\"Poliomyélite\">polio</a> jadis l'une des <a href=\"/wiki/Maladie_infectieuse\" title=\"Maladie infectieuse\">maladies infectieuses</a> les plus meurtrières, surtout chez les enfants. Le vaccin fonctionne sur le principe du <a href=\"/wiki/Virus_inactiv%C3%A9\" title=\"Virus inactivé\">virus inactivé</a> par le <a href=\"/wiki/M%C3%A9thanal\" title=\"Méthanal\">formaldéhyde</a>. C'est-à-dire que l'<a href=\"/wiki/Injection_(m%C3%A9decine)\" title=\"Injection (médecine)\">injection</a> du virus tué de la <a href=\"/wiki/Poliomy%C3%A9lite\" title=\"Poliomyélite\">poliomyélite</a> permet au corps humain de développer une <a href=\"/wiki/Immunit%C3%A9_(m%C3%A9decine)\" title=\"Immunité (médecine)\">immunité</a> contre celui-ci sans pour autant provoquer la maladie. Une fois immunisé contre le virus inactivé, le corps est également immunisé contre la forme plus virulente du même virus. En <a href=\"/wiki/1961\" title=\"1961\">1961</a>, <a href=\"/wiki/Albert_Sabin\" title=\"Albert Sabin\">Albert Sabin</a> développera un vaccin administrable par voie orale conçu à partir d'une forme affaiblie du virus (<a href=\"/wiki/Virus_att%C3%A9nu%C3%A9\" title=\"Virus atténué\">virus atténué</a>).\n",
       "</p><p>Salk n'a jamais <a href=\"/wiki/Brevetabilit%C3%A9_du_vivant\" title=\"Brevetabilité du vivant\">breveté</a> son vaccin contre la polio afin d'en permettre une plus large diffusion<sup class=\"reference\" id=\"cite_ref-6\"><a href=\"#cite_note-6\"><span class=\"cite_crochet\">[</span>6<span class=\"cite_crochet\">]</span></a></sup><sup class=\"reference cite_virgule\">,</sup><sup class=\"reference\" id=\"cite_ref-7\"><a href=\"#cite_note-7\"><span class=\"cite_crochet\">[</span>7<span class=\"cite_crochet\">]</span></a></sup>. Lorsque, à la télévision, le journaliste Ed Murrow lui demande qui détenait le <a class=\"mw-redirect\" href=\"/wiki/Brevet\" title=\"Brevet\">brevet</a>, il répond : \n",
       "</p><p>« Eh bien, au peuple je dirais. Il n’y a pas de brevet. Pourrait-on breveter le soleil ? »<sup class=\"reference\" id=\"cite_ref-8\"><a href=\"#cite_note-8\"><span class=\"cite_crochet\">[</span>8<span class=\"cite_crochet\">]</span></a></sup>.\n",
       "</p><p>S'il avait été breveté, ce vaccin aurait pu lui rapporter sept milliards de <a href=\"/wiki/Dollar_am%C3%A9ricain\" title=\"Dollar américain\">dollars américains</a><sup class=\"reference\" id=\"cite_ref-9\"><a href=\"#cite_note-9\"><span class=\"cite_crochet\">[</span>9<span class=\"cite_crochet\">]</span></a></sup>.\n",
       "</p>\n",
       "<ul class=\"gallery mw-gallery-packed\">\n",
       "<li class=\"gallerybox\" style=\"width: 96.666666666667px\"><div style=\"width: 96.666666666667px\">\n",
       "<div class=\"thumb\" style=\"width: 94.666666666667px;\"><div style=\"margin:0px auto;\"><a class=\"image\" href=\"/wiki/Fichier:Salk_Thank_You.jpg\" title=\"Remerciements au Dr Salk.\"><img alt=\"Remerciements au Dr Salk.\" data-file-height=\"403\" data-file-width=\"318\" decoding=\"async\" height=\"120\" src=\"//upload.wikimedia.org/wikipedia/commons/thumb/b/b6/Salk_Thank_You.jpg/142px-Salk_Thank_You.jpg\" srcset=\"//upload.wikimedia.org/wikipedia/commons/thumb/b/b6/Salk_Thank_You.jpg/213px-Salk_Thank_You.jpg 1.5x, //upload.wikimedia.org/wikipedia/commons/thumb/b/b6/Salk_Thank_You.jpg/284px-Salk_Thank_You.jpg 2x\" width=\"95\"/></a></div></div>\n",
       "<div class=\"gallerytext\">\n",
       "<p>Remerciements au <abbr class=\"abbr\" title=\"Docteur\">D<sup>r</sup></abbr> Salk.\n",
       "</p>\n",
       "</div>\n",
       "</div></li>\n",
       "<li class=\"gallerybox\" style=\"width: 95.333333333333px\"><div style=\"width: 95.333333333333px\">\n",
       "<div class=\"thumb\" style=\"width: 93.333333333333px;\"><div style=\"margin:0px auto;\"><a class=\"image\" href=\"/wiki/Fichier:Salk_headlines.jpg\" title=\"Titres de journaux.\"><img alt=\"Titres de journaux.\" data-file-height=\"397\" data-file-width=\"308\" decoding=\"async\" height=\"120\" src=\"//upload.wikimedia.org/wikipedia/commons/thumb/e/eb/Salk_headlines.jpg/140px-Salk_headlines.jpg\" srcset=\"//upload.wikimedia.org/wikipedia/commons/thumb/e/eb/Salk_headlines.jpg/209px-Salk_headlines.jpg 1.5x, //upload.wikimedia.org/wikipedia/commons/thumb/e/eb/Salk_headlines.jpg/279px-Salk_headlines.jpg 2x\" width=\"94\"/></a></div></div>\n",
       "<div class=\"gallerytext\">\n",
       "<p>Titres de journaux.\n",
       "</p>\n",
       "</div>\n",
       "</div></li>\n",
       "<li class=\"gallerybox\" style=\"width: 102.66666666667px\"><div style=\"width: 102.66666666667px\">\n",
       "<div class=\"thumb\" style=\"width: 100.66666666667px;\"><div style=\"margin:0px auto;\"><a class=\"image\" href=\"/wiki/Fichier:Jonas_Salk_1988.jpg\" title=\"Jonas Salk en 1988.\"><img alt=\"Jonas Salk en 1988.\" data-file-height=\"1788\" data-file-width=\"1503\" decoding=\"async\" height=\"120\" src=\"//upload.wikimedia.org/wikipedia/commons/thumb/1/13/Jonas_Salk_1988.jpg/151px-Jonas_Salk_1988.jpg\" srcset=\"//upload.wikimedia.org/wikipedia/commons/thumb/1/13/Jonas_Salk_1988.jpg/227px-Jonas_Salk_1988.jpg 1.5x, //upload.wikimedia.org/wikipedia/commons/thumb/1/13/Jonas_Salk_1988.jpg/303px-Jonas_Salk_1988.jpg 2x\" width=\"101\"/></a></div></div>\n",
       "<div class=\"gallerytext\">\n",
       "<p>Jonas Salk en 1988.\n",
       "</p>\n",
       "</div>\n",
       "</div></li>\n",
       "<li class=\"gallerybox\" style=\"width: 92px\"><div style=\"width: 92px\">\n",
       "<div class=\"thumb\" style=\"width: 90px;\"><div style=\"margin:0px auto;\"><a class=\"image\" href=\"/wiki/Fichier:Salk_Institute_(5).jpg\" title=\"Le Salk Institute for Biological Studies à La Jolla.\"><img alt=\"Le Salk Institute for Biological Studies à La Jolla.\" data-file-height=\"3072\" data-file-width=\"2304\" decoding=\"async\" height=\"120\" src=\"//upload.wikimedia.org/wikipedia/commons/thumb/2/25/Salk_Institute_%285%29.jpg/135px-Salk_Institute_%285%29.jpg\" srcset=\"//upload.wikimedia.org/wikipedia/commons/thumb/2/25/Salk_Institute_%285%29.jpg/202px-Salk_Institute_%285%29.jpg 1.5x, //upload.wikimedia.org/wikipedia/commons/thumb/2/25/Salk_Institute_%285%29.jpg/270px-Salk_Institute_%285%29.jpg 2x\" width=\"90\"/></a></div></div>\n",
       "<div class=\"gallerytext\">\n",
       "<p>Le <a href=\"/wiki/Salk_Institute_for_Biological_Studies\" title=\"Salk Institute for Biological Studies\">Salk Institute for Biological Studies</a> à <a href=\"/wiki/La_Jolla\" title=\"La Jolla\">La Jolla</a>.\n",
       "</p>\n",
       "</div>\n",
       "</div></li>\n",
       "</ul>\n",
       "<h2><span class=\"mw-headline\" id=\"Prix_et_distinctions\">Prix et distinctions</span><span class=\"mw-editsection\"><span class=\"mw-editsection-bracket\">[</span><a class=\"mw-editsection-visualeditor\" href=\"/w/index.php?title=Jonas_Salk&amp;veaction=edit&amp;section=5\" title=\"Modifier la section : Prix et distinctions\">modifier</a><span class=\"mw-editsection-divider\"> | </span><a href=\"/w/index.php?title=Jonas_Salk&amp;action=edit&amp;section=5\" title=\"Modifier la section : Prix et distinctions\">modifier le code</a><span class=\"mw-editsection-bracket\">]</span></span></h2>\n",
       "<ul><li><a href=\"/wiki/1956_en_science\" title=\"1956 en science\">1956</a> : <a href=\"/wiki/Prix_Albert-Lasker_pour_la_recherche_m%C3%A9dicale_clinique\" title=\"Prix Albert-Lasker pour la recherche médicale clinique\">prix Albert-Lasker pour la recherche médicale clinique</a></li></ul>\n",
       "<h2><span id=\".C5.92uvres\"></span><span class=\"mw-headline\" id=\"Œuvres\">Œuvres</span><span class=\"mw-editsection\"><span class=\"mw-editsection-bracket\">[</span><a class=\"mw-editsection-visualeditor\" href=\"/w/index.php?title=Jonas_Salk&amp;veaction=edit&amp;section=6\" title=\"Modifier la section : Œuvres\">modifier</a><span class=\"mw-editsection-divider\"> | </span><a href=\"/w/index.php?title=Jonas_Salk&amp;action=edit&amp;section=6\" title=\"Modifier la section : Œuvres\">modifier le code</a><span class=\"mw-editsection-bracket\">]</span></span></h2>\n",
       "<ul><li><i>Man Unfolding</i> (1972)</li>\n",
       "<li><i>Survival of the Wisest</i> (1973)</li>\n",
       "<li><i>World Population and Human Values: A New Reality</i> (1981)</li>\n",
       "<li><i>Anatomy of Reality: Merging of Intuition and Reason</i> (1983)</li></ul>\n",
       "<h2><span id=\"Notes_et_r.C3.A9f.C3.A9rences\"></span><span class=\"mw-headline\" id=\"Notes_et_références\">Notes et références</span><span class=\"mw-editsection\"><span class=\"mw-editsection-bracket\">[</span><a class=\"mw-editsection-visualeditor\" href=\"/w/index.php?title=Jonas_Salk&amp;veaction=edit&amp;section=7\" title=\"Modifier la section : Notes et références\">modifier</a><span class=\"mw-editsection-divider\"> | </span><a href=\"/w/index.php?title=Jonas_Salk&amp;action=edit&amp;section=7\" title=\"Modifier la section : Notes et références\">modifier le code</a><span class=\"mw-editsection-bracket\">]</span></span></h2>\n",
       "<style data-mw-deduplicate=\"TemplateStyles:r194021218\">.mw-parser-output .autres-projets>.titre{text-align:center;margin:0.2em 0}.mw-parser-output .autres-projets>ul{margin:0;padding:0}.mw-parser-output .autres-projets>ul>li{list-style:none;margin:0.2em 0;text-indent:0;padding-left:24px;min-height:20px;text-align:left;display:block}.mw-parser-output .autres-projets>ul>li>a{font-style:italic}@media(max-width:720px){.mw-parser-output .autres-projets{float:none}}</style><div class=\"autres-projets boite-grise boite-a-droite noprint js-interprojets\">\n",
       "<p class=\"titre\">Sur les autres projets Wikimedia :</p>\n",
       "<ul class=\"noarchive plainlinks\">\n",
       "<li class=\"commons\"><a class=\"external text\" href=\"https://commons.wikimedia.org/wiki/Category:Jonas_Salk?uselang=fr\">Jonas Salk</a>, sur <span class=\"project\">Wikimedia Commons</span></li><li class=\"wikiquote\"><a class=\"extiw\" href=\"https://fr.wikiquote.org/wiki/Jonas_Salk\" title=\"q:Jonas Salk\">Jonas Salk</a>, <span class=\"nowrap\">sur <span class=\"project\">Wikiquote</span></span></li>\n",
       "</ul>\n",
       "</div>\n",
       "<div class=\"references-small decimal\" style=\"\"><div class=\"mw-references-wrap\"><ol class=\"references\">\n",
       "<li id=\"cite_note-1\"><span class=\"mw-cite-backlink noprint\"><a href=\"#cite_ref-1\">↑</a> </span><span class=\"reference-text\"><abbr class=\"abbr indicateur-langue\" title=\"Langue : anglais\">(en)</abbr> <a class=\"external text\" href=\"https://www.algemeiner.com/2020/10/21/jonas-salk-and-antisemitism/\" rel=\"nofollow\">Harold Brackman. Jonas Salk and Antisemitism. algemeiner.com. October 21, 2020.</a></span>\n",
       "</li>\n",
       "<li id=\"cite_note-2\"><span class=\"mw-cite-backlink noprint\"><a href=\"#cite_ref-2\">↑</a> </span><span class=\"reference-text\"><span class=\"ouvrage\" id=\"AFP2013\">AFP, <a class=\"external text\" href=\"http://www.leparisien.fr/laparisienne/sante/la-poliomyelite-en-passe-d-eradication-mais-des-defis-de-taille-subsistent-24-03-2013-2666445.php\" rel=\"nofollow\">« <cite style=\"font-style:normal;\">La poliomyélite en passe d'éradication mais des défis de taille subsistent</cite> »</a>, sur <span class=\"italique\">Le Parisien</span>, <time class=\"nowrap\" data-sort-value=\"2013-03-24\" datetime=\"2013-03-24\">24 mars 2013</time> <small style=\"line-height:1em;\">(consulté le <time class=\"nowrap\" data-sort-value=\"2019-03-26\" datetime=\"2019-03-26\">26 mars 2019</time>)</small></span>.</span>\n",
       "</li>\n",
       "<li id=\"cite_note-3\"><span class=\"mw-cite-backlink noprint\"><a href=\"#cite_ref-3\">↑</a> </span><span class=\"reference-text\">Spidey n° 73, février 1986 : reportage \"Les Grands Noms de la Médecine\", page 70</span>\n",
       "</li>\n",
       "<li id=\"cite_note-4\"><span class=\"mw-cite-backlink noprint\"><a href=\"#cite_ref-4\">↑</a> </span><span class=\"reference-text\"><abbr class=\"abbr indicateur-langue\" title=\"Langue : anglais\">(en)</abbr> Amar Prabhu <a class=\"external text\" href=\"https://www.forbes.com/sites/quora/2012/08/09/how-much-money-did-jonas-salk-potentially-forfeit-by-not-patenting-the-polio-vaccine\" rel=\"nofollow\">« How Much Money Did Jonas Salk Potentially Forfeit By Not Patenting The Polio Vaccine? »</a> Quora, <i>Forbes</i>, le 9 août 2012, consulté le 17 avril 2013.</span>\n",
       "</li>\n",
       "<li id=\"cite_note-5\"><span class=\"mw-cite-backlink noprint\"><a href=\"#cite_ref-5\">↑</a> </span><span class=\"reference-text\">Hervé Bazin, <i>L'Histoire des vaccinations</i>, 2008  <small style=\"line-height:1em;\">(<a href=\"/wiki/International_Standard_Book_Number\" title=\"International Standard Book Number\">ISBN</a> <a href=\"/wiki/Sp%C3%A9cial:Ouvrages_de_r%C3%A9f%C3%A9rence/978-2-7420-0705-9\" title=\"Spécial:Ouvrages de référence/978-2-7420-0705-9\"><span class=\"nowrap\">978-2-7420-0705-9</span></a>)</small> - <abbr class=\"abbr\" title=\"page(s)\">p.</abbr> 369-370</span>\n",
       "</li>\n",
       "<li id=\"cite_note-6\"><span class=\"mw-cite-backlink noprint\"><a href=\"#cite_ref-6\">↑</a> </span><span class=\"reference-text\"><span class=\"ouvrage\"><abbr class=\"abbr indicateur-langue\" title=\"Langue : anglais\">(en)</abbr> <span lang=\"en\"><a class=\"external text\" href=\"http://www.salk.edu/about/jonas_salk.html\" rel=\"nofollow\">« <cite style=\"font-style:normal;\">About Jonas Salk - Salk Institute for Biological Studies</cite> »</a></span>, sur <span class=\"italique\">Salk Institute for Biological Studies</span> <small style=\"line-height:1em;\">(consulté le <time class=\"nowrap\" data-sort-value=\"2020-08-23\" datetime=\"2020-08-23\">23 août 2020</time>)</small></span>.</span>\n",
       "</li>\n",
       "<li id=\"cite_note-7\"><span class=\"mw-cite-backlink noprint\"><a href=\"#cite_ref-7\">↑</a> </span><span class=\"reference-text\"><span class=\"ouvrage\" id=\"Quora2012\">Quora, <a class=\"external text\" href=\"https://www.forbes.com/sites/quora/2012/08/09/how-much-money-did-jonas-salk-potentially-forfeit-by-not-patenting-the-polio-vaccine/\" rel=\"nofollow\">« <cite style=\"font-style:normal;\">How Much Money Did Jonas Salk Potentially Forfeit By Not Patenting The Polio Vaccine?</cite> »</a>, sur <span class=\"italique\">forbes.com</span>, <time class=\"nowrap\" data-sort-value=\"2012-08-09\" datetime=\"2012-08-09\">9 août 2012</time> <small style=\"line-height:1em;\">(consulté le <time class=\"nowrap\" data-sort-value=\"2020-08-23\" datetime=\"2020-08-23\">23 août 2020</time>)</small></span>.</span>\n",
       "</li>\n",
       "<li id=\"cite_note-8\"><span class=\"mw-cite-backlink noprint\"><a href=\"#cite_ref-8\">↑</a> </span><span class=\"reference-text\"><span class=\"ouvrage\" id=\"Petitjean2019\"><span class=\"ouvrage\" id=\"Olivier_Petitjean2019\">Olivier <span class=\"nom_auteur\">Petitjean</span>, <a class=\"external text\" href=\"https://www.bastamag.net/1000-milliards-d-euros-de-profits-en-vingt-ans-comment-les-labos-sont-devenus\" rel=\"nofollow\">« <cite style=\"font-style:normal;\">1000 milliards dâ€™euros de profits en vingt ans : comment les labos sont devenus des monstres financiers</cite> »</a>, sur <span class=\"italique\">Bastamag</span>, <time class=\"nowrap\" data-sort-value=\"2019-01-18\" datetime=\"2019-01-18\">18 janvier 2019</time></span></span></span>\n",
       "</li>\n",
       "<li id=\"cite_note-9\"><span class=\"mw-cite-backlink noprint\"><a href=\"#cite_ref-9\">↑</a> </span><span class=\"reference-text\"><span class=\"ouvrage\" id=\"Quora\"><abbr class=\"abbr indicateur-langue\" title=\"Langue : anglais\">(en)</abbr> <span class=\"nom_auteur\">Quora</span>, <span lang=\"en\"><a class=\"external text\" href=\"https://www.forbes.com/sites/quora/2012/08/09/how-much-money-did-jonas-salk-potentially-forfeit-by-not-patenting-the-polio-vaccine/\" rel=\"nofollow\">« <cite style=\"font-style:normal;\">How Much Money Did Jonas Salk Potentially Forfeit By Not Patenting The Polio Vaccine?</cite> »</a></span>, sur <span class=\"italique\">Forbes</span> <small style=\"line-height:1em;\">(consulté le <time class=\"nowrap\" data-sort-value=\"2022-03-30\" datetime=\"2022-03-30\">30 mars 2022</time>)</small></span></span>\n",
       "</li>\n",
       "</ol></div>\n",
       "</div>\n",
       "<h2><span class=\"mw-headline\" id=\"Liens_externes\">Liens externes</span><span class=\"mw-editsection\"><span class=\"mw-editsection-bracket\">[</span><a class=\"mw-editsection-visualeditor\" href=\"/w/index.php?title=Jonas_Salk&amp;veaction=edit&amp;section=8\" title=\"Modifier la section : Liens externes\">modifier</a><span class=\"mw-editsection-divider\"> | </span><a href=\"/w/index.php?title=Jonas_Salk&amp;action=edit&amp;section=8\" title=\"Modifier la section : Liens externes\">modifier le code</a><span class=\"mw-editsection-bracket\">]</span></span></h2>\n",
       "<p class=\"mw-empty-elt\">\n",
       "</p>\n",
       "<ul><li class=\"mw-empty-elt\"></li>\n",
       "<li><span class=\"liste-horizontale noarchive\"><span class=\"wd_identifiers\">Ressource relative à la santé<span class=\"noprint wikidata-linkback\"><a href=\"https://www.wikidata.org/wiki/Q200101?uselang=fr#identifiers\" title=\"Voir et modifier les données sur Wikidata\"><img alt=\"Voir et modifier les données sur Wikidata\" class=\"noviewer\" data-file-height=\"600\" data-file-width=\"600\" decoding=\"async\" height=\"10\" src=\"//upload.wikimedia.org/wikipedia/commons/thumb/7/73/Blue_pencil.svg/10px-Blue_pencil.svg.png\" srcset=\"//upload.wikimedia.org/wikipedia/commons/thumb/7/73/Blue_pencil.svg/15px-Blue_pencil.svg.png 1.5x, //upload.wikimedia.org/wikipedia/commons/thumb/7/73/Blue_pencil.svg/20px-Blue_pencil.svg.png 2x\" style=\"vertical-align: baseline\" width=\"10\"/></a></span></span> : <ul><li><a class=\"external text\" href=\"http://www.biusante.parisdescartes.fr/histoire/biographies/index.php?cle=4365\" rel=\"nofollow\">Bibliothèque interuniversitaire de santé</a></li> </ul></span></li>\n",
       "<li><span class=\"liste-horizontale noarchive\"><span class=\"wd_identifiers\">Ressource relative aux beaux-arts<span class=\"noprint wikidata-linkback\"><a href=\"https://www.wikidata.org/wiki/Q200101?uselang=fr#identifiers\" title=\"Voir et modifier les données sur Wikidata\"><img alt=\"Voir et modifier les données sur Wikidata\" class=\"noviewer\" data-file-height=\"600\" data-file-width=\"600\" decoding=\"async\" height=\"10\" src=\"//upload.wikimedia.org/wikipedia/commons/thumb/7/73/Blue_pencil.svg/10px-Blue_pencil.svg.png\" srcset=\"//upload.wikimedia.org/wikipedia/commons/thumb/7/73/Blue_pencil.svg/15px-Blue_pencil.svg.png 1.5x, //upload.wikimedia.org/wikipedia/commons/thumb/7/73/Blue_pencil.svg/20px-Blue_pencil.svg.png 2x\" style=\"vertical-align: baseline\" width=\"10\"/></a></span></span> : <ul><li><abbr class=\"abbr indicateur-langue\" title=\"Langue : anglais\">(en)</abbr> <a class=\"external text\" href=\"https://www.getty.edu/vow/ULANFullDisplay?find=&amp;role=&amp;nation=&amp;subjectid=500235742\" rel=\"nofollow\"><span class=\"lang-en\" lang=\"en\">Union List of Artist Names</span></a></li> </ul></span></li>\n",
       "<li><span class=\"liste-horizontale noarchive\"><span class=\"wd_identifiers\">Ressource relative à la recherche<span class=\"noprint wikidata-linkback\"><a href=\"https://www.wikidata.org/wiki/Q200101?uselang=fr#identifiers\" title=\"Voir et modifier les données sur Wikidata\"><img alt=\"Voir et modifier les données sur Wikidata\" class=\"noviewer\" data-file-height=\"600\" data-file-width=\"600\" decoding=\"async\" height=\"10\" src=\"//upload.wikimedia.org/wikipedia/commons/thumb/7/73/Blue_pencil.svg/10px-Blue_pencil.svg.png\" srcset=\"//upload.wikimedia.org/wikipedia/commons/thumb/7/73/Blue_pencil.svg/15px-Blue_pencil.svg.png 1.5x, //upload.wikimedia.org/wikipedia/commons/thumb/7/73/Blue_pencil.svg/20px-Blue_pencil.svg.png 2x\" style=\"vertical-align: baseline\" width=\"10\"/></a></span></span> : <ul><li><abbr class=\"abbr indicateur-langue\" title=\"Langue : anglais\">(en)</abbr> <a class=\"external text\" href=\"http://www.whonamedit.com/doctor.cfm/3642.html\" rel=\"nofollow\"><span class=\"lang-en\" lang=\"en\"><i>Who Named It?</i></span></a></li> </ul></span></li>\n",
       "<li><div class=\"liste-horizontale\"><span class=\"wd_identifiers\">Notices dans des dictionnaires ou encyclopédies généralistes<span class=\"noprint wikidata-linkback\"><a href=\"https://www.wikidata.org/wiki/Q200101?uselang=fr#identifiers\" title=\"Voir et modifier les données sur Wikidata\"><img alt=\"Voir et modifier les données sur Wikidata\" class=\"noviewer\" data-file-height=\"600\" data-file-width=\"600\" decoding=\"async\" height=\"10\" src=\"//upload.wikimedia.org/wikipedia/commons/thumb/7/73/Blue_pencil.svg/10px-Blue_pencil.svg.png\" srcset=\"//upload.wikimedia.org/wikipedia/commons/thumb/7/73/Blue_pencil.svg/15px-Blue_pencil.svg.png 1.5x, //upload.wikimedia.org/wikipedia/commons/thumb/7/73/Blue_pencil.svg/20px-Blue_pencil.svg.png 2x\" style=\"vertical-align: baseline\" width=\"10\"/></a></span></span> : <ul><li><a class=\"external text\" href=\"https://doi.org/10.1093/anb/9780198606697.article.1202065\" rel=\"nofollow\"><i>American National Biography</i></a></li> <li><a class=\"external text\" href=\"https://www.britannica.com/biography/Jonas-Salk\" rel=\"nofollow\"><i>Britannica</i></a></li> <li><a class=\"external text\" href=\"http://www.deutsche-biographie.de/130653802.html\" rel=\"nofollow\"><i>Deutsche Biographie</i></a></li> <li><a class=\"external text\" href=\"http://www.treccani.it/enciclopedia/jonas-edward-salk_(Enciclopedia-Italiana)/\" rel=\"nofollow\"><i>Enciclopedia italiana</i></a></li> <li><a class=\"external text\" href=\"http://www.sapere.it/enciclopedia/Salk%2C%2BJonas%2BEdward.html\" rel=\"nofollow\"><i>Enciclopedia De Agostini</i></a></li> <li><a class=\"external text\" href=\"https://www.enciclopedia.cat/EC-GEC-0058178.xml\" rel=\"nofollow\"><i>Gran Enciclopèdia Catalana</i></a></li> <li><a class=\"external text\" href=\"http://www.enciklopedija.hr/Natuknica.aspx?ID=54200\" rel=\"nofollow\"><i>Hrvatska Enciklopedija</i></a></li> <li><a class=\"external text\" href=\"https://www.ne.se/uppslagsverk/encyklopedi/lång/jonas-salk\" rel=\"nofollow\"><i>Nationalencyklopedin</i></a></li> <li><a class=\"external text\" href=\"https://www.munzinger.de/search/go/document.jsp?id=00000006546\" rel=\"nofollow\">Munzinger</a></li> <li><a class=\"external text\" href=\"https://snl.no/Jonas_Edward_Salk\" rel=\"nofollow\"><i>Store norske leksikon</i></a></li> <li><a class=\"external text\" href=\"http://www.treccani.it/enciclopedia/jonas-edward-salk\" rel=\"nofollow\"><i>Treccani</i></a></li> <li><a class=\"external text\" href=\"https://www.universalis.fr/encyclopedie/jonas-edward-salk/\" rel=\"nofollow\"><i>Universalis</i></a></li> <li><a class=\"external text\" href=\"https://www.vle.lt/Straipsnis/jonas-edward-salk\" rel=\"nofollow\"><i>Visuotinė lietuvių enciklopedija</i></a></li> </ul></div></li>\n",
       "<li><div class=\"liste-horizontale\"><span class=\"wd_identifiers\"><a href=\"/wiki/Autorit%C3%A9_(sciences_de_l%27information)\" title=\"Autorité (sciences de l'information)\">Notices d'autorité</a><span class=\"noprint wikidata-linkback\"><a href=\"https://www.wikidata.org/wiki/Q200101?uselang=fr#identifiers\" title=\"Voir et modifier les données sur Wikidata\"><img alt=\"Voir et modifier les données sur Wikidata\" class=\"noviewer\" data-file-height=\"600\" data-file-width=\"600\" decoding=\"async\" height=\"10\" src=\"//upload.wikimedia.org/wikipedia/commons/thumb/7/73/Blue_pencil.svg/10px-Blue_pencil.svg.png\" srcset=\"//upload.wikimedia.org/wikipedia/commons/thumb/7/73/Blue_pencil.svg/15px-Blue_pencil.svg.png 1.5x, //upload.wikimedia.org/wikipedia/commons/thumb/7/73/Blue_pencil.svg/20px-Blue_pencil.svg.png 2x\" style=\"vertical-align: baseline\" width=\"10\"/></a></span></span> : <ul><li><span class=\"nowrap uid noarchive\"><a class=\"external text\" href=\"http://viaf.org/viaf/7396814\" rel=\"nofollow\">VIAF</a></span></li> <li><span class=\"nowrap uid noarchive\"><a class=\"external text\" href=\"http://isni.org/isni/0000000108665179\" rel=\"nofollow\">ISNI</a></span></li> <li><span class=\"nowrap uid noarchive\"><a class=\"external text\" href=\"http://catalogue.bnf.fr/ark:/12148/cb14064550v\" rel=\"nofollow\">BnF</a></span> (<span class=\"nowrap uid noarchive\"><a class=\"external text\" href=\"http://data.bnf.fr/ark:/12148/cb14064550v\" rel=\"nofollow\">données</a></span>)</li> <li><span class=\"nowrap uid noarchive\"><a class=\"external text\" href=\"http://www.idref.fr/027120082\" rel=\"nofollow\">IdRef</a></span></li> <li><span class=\"nowrap uid noarchive\"><a class=\"external text\" href=\"http://id.loc.gov/authorities/n50017557\" rel=\"nofollow\">LCCN</a></span></li> <li><span class=\"nowrap uid noarchive\"><a class=\"external text\" href=\"http://d-nb.info/gnd/130653802\" rel=\"nofollow\">GND</a></span></li> <li><span class=\"nowrap uid noarchive\"><a class=\"external text\" href=\"https://opac.sbn.it/nome/IEIV011772\" rel=\"nofollow\">Italie</a></span></li> <li><span class=\"nowrap uid noarchive\"><a class=\"external text\" href=\"http://ci.nii.ac.jp/author/DA07226850?l=en\" rel=\"nofollow\">CiNii</a></span></li> <li><span class=\"nowrap uid noarchive\"><a class=\"external text\" href=\"http://data.bibliotheken.nl/id/thes/p067864082\" rel=\"nofollow\">Pays-Bas</a></span></li> <li><span class=\"nowrap uid noarchive\"><a class=\"external text\" href=\"http://mak.bn.org.pl/cgi-bin/KHW/makwww.exe?BM=01&amp;IM=04&amp;NU=01&amp;WI=9810615203505606\" rel=\"nofollow\">Pologne</a></span></li> <li><span class=\"nowrap uid noarchive\"><a class=\"external text\" href=\"http://uli.nli.org.il/F/?func=find-b&amp;local_base=NLX10&amp;find_code=UID&amp;request=987007267399905171\" rel=\"nofollow\">Israël</a></span></li> <li><span class=\"nowrap uid noarchive\"><a class=\"external text\" href=\"http://nukat.edu.pl/aut/n%202008120100\" rel=\"nofollow\">NUKAT</a></span></li> <li><span class=\"nowrap uid noarchive\"><a class=\"external text\" href=\"http://nla.gov.au/anbd.aut-an36095995\" rel=\"nofollow\">Australie</a></span></li> <li><span class=\"nowrap uid noarchive\"><a class=\"external text\" href=\"https://authority.bibsys.no/authority/rest/authorities/html/99022867\" rel=\"nofollow\">Norvège</a></span></li> <li><span class=\"nowrap uid noarchive\"><a class=\"external text\" href=\"http://aut.nkp.cz/jcu2013799345\" rel=\"nofollow\">Tchéquie</a></span></li> <li><span class=\"nowrap uid noarchive\"><a class=\"external text\" href=\"https://www.worldcat.org/identities/lccn-n50017557\" rel=\"nofollow\">WorldCat</a></span></li> </ul></div></li></ul>\n",
       "<ul class=\"bandeau-portail\" id=\"bandeau-portail\"><li><span class=\"bandeau-portail-element\"><span class=\"bandeau-portail-icone\"><a href=\"/wiki/Portail:M%C3%A9decine\" title=\"Portail de la médecine\"><img alt=\"icône décorative\" class=\"noviewer\" data-file-height=\"192\" data-file-width=\"192\" decoding=\"async\" height=\"24\" src=\"//upload.wikimedia.org/wikipedia/commons/thumb/5/5b/Star_of_life2.svg/24px-Star_of_life2.svg.png\" srcset=\"//upload.wikimedia.org/wikipedia/commons/thumb/5/5b/Star_of_life2.svg/36px-Star_of_life2.svg.png 1.5x, //upload.wikimedia.org/wikipedia/commons/thumb/5/5b/Star_of_life2.svg/48px-Star_of_life2.svg.png 2x\" width=\"24\"/></a></span> <span class=\"bandeau-portail-texte\"><a href=\"/wiki/Portail:M%C3%A9decine\" title=\"Portail:Médecine\">Portail de la médecine</a></span> </span></li> <li><span class=\"bandeau-portail-element\"><span class=\"bandeau-portail-icone\"><a href=\"/wiki/Portail:%C3%89tats-Unis\" title=\"Portail des États-Unis\"><img alt=\"icône décorative\" class=\"noviewer thumbborder\" data-file-height=\"650\" data-file-width=\"1235\" decoding=\"async\" height=\"22\" src=\"//upload.wikimedia.org/wikipedia/commons/thumb/a/a4/Flag_of_the_United_States.svg/42px-Flag_of_the_United_States.svg.png\" srcset=\"//upload.wikimedia.org/wikipedia/commons/thumb/a/a4/Flag_of_the_United_States.svg/63px-Flag_of_the_United_States.svg.png 1.5x, //upload.wikimedia.org/wikipedia/commons/thumb/a/a4/Flag_of_the_United_States.svg/84px-Flag_of_the_United_States.svg.png 2x\" width=\"42\"/></a></span> <span class=\"bandeau-portail-texte\"><a href=\"/wiki/Portail:%C3%89tats-Unis\" title=\"Portail:États-Unis\">Portail des États-Unis</a></span> </span></li> <li><span class=\"bandeau-portail-element\"><span class=\"bandeau-portail-icone\"><a href=\"/wiki/Portail:New_York\" title=\"Portail de New York\"><img alt=\"icône décorative\" class=\"noviewer thumbborder\" data-file-height=\"300\" data-file-width=\"500\" decoding=\"async\" height=\"22\" src=\"//upload.wikimedia.org/wikipedia/commons/thumb/b/ba/Flag_of_New_York_City.svg/37px-Flag_of_New_York_City.svg.png\" srcset=\"//upload.wikimedia.org/wikipedia/commons/thumb/b/ba/Flag_of_New_York_City.svg/55px-Flag_of_New_York_City.svg.png 1.5x, //upload.wikimedia.org/wikipedia/commons/thumb/b/ba/Flag_of_New_York_City.svg/74px-Flag_of_New_York_City.svg.png 2x\" width=\"37\"/></a></span> <span class=\"bandeau-portail-texte\"><a href=\"/wiki/Portail:New_York\" title=\"Portail:New York\">Portail de New York</a></span> </span></li> <li><span class=\"bandeau-portail-element\"><span class=\"bandeau-portail-icone\"><a href=\"/wiki/Portail:San_Diego\" title=\"Portail de San Diego\"><img alt=\"icône décorative\" class=\"noviewer thumbborder\" data-file-height=\"800\" data-file-width=\"1333\" decoding=\"async\" height=\"22\" src=\"//upload.wikimedia.org/wikipedia/commons/thumb/1/19/Flag_of_San_Diego%2C_California.svg/37px-Flag_of_San_Diego%2C_California.svg.png\" srcset=\"//upload.wikimedia.org/wikipedia/commons/thumb/1/19/Flag_of_San_Diego%2C_California.svg/55px-Flag_of_San_Diego%2C_California.svg.png 1.5x, //upload.wikimedia.org/wikipedia/commons/thumb/1/19/Flag_of_San_Diego%2C_California.svg/74px-Flag_of_San_Diego%2C_California.svg.png 2x\" width=\"37\"/></a></span> <span class=\"bandeau-portail-texte\"><a href=\"/wiki/Portail:San_Diego\" title=\"Portail:San Diego\">Portail de San Diego</a></span> </span></li> <li><span class=\"bandeau-portail-element\"><span class=\"bandeau-portail-icone\"><a href=\"/wiki/Portail:Juda%C3%AFsme\" title=\"Portail de la culture juive et du judaïsme\"><img alt=\"icône décorative\" class=\"noviewer\" data-file-height=\"275\" data-file-width=\"266\" decoding=\"async\" height=\"24\" src=\"//upload.wikimedia.org/wikipedia/commons/thumb/8/8f/Judaism_Symbol.png/23px-Judaism_Symbol.png\" srcset=\"//upload.wikimedia.org/wikipedia/commons/thumb/8/8f/Judaism_Symbol.png/35px-Judaism_Symbol.png 1.5x, //upload.wikimedia.org/wikipedia/commons/thumb/8/8f/Judaism_Symbol.png/46px-Judaism_Symbol.png 2x\" width=\"23\"/></a></span> <span class=\"bandeau-portail-texte\"><a href=\"/wiki/Portail:Juda%C3%AFsme\" title=\"Portail:Judaïsme\">Portail de la culture juive et du judaïsme</a></span> </span></li> <li><span class=\"bandeau-portail-element\"><span class=\"bandeau-portail-icone\"><a href=\"/wiki/Portail:XXe_si%C3%A8cle\" title=\"Portail du XXe siècle\"><img alt=\"icône décorative\" class=\"noviewer thumbborder\" data-file-height=\"535\" data-file-width=\"535\" decoding=\"async\" height=\"22\" src=\"//upload.wikimedia.org/wikipedia/commons/thumb/0/06/Concorde_on_Bristol.jpg/22px-Concorde_on_Bristol.jpg\" srcset=\"//upload.wikimedia.org/wikipedia/commons/thumb/0/06/Concorde_on_Bristol.jpg/33px-Concorde_on_Bristol.jpg 1.5x, //upload.wikimedia.org/wikipedia/commons/thumb/0/06/Concorde_on_Bristol.jpg/44px-Concorde_on_Bristol.jpg 2x\" width=\"22\"/></a></span> <span class=\"bandeau-portail-texte\"><a href=\"/wiki/Portail:XXe_si%C3%A8cle\" title=\"Portail:XXe siècle\">Portail du <abbr class=\"abbr\" title=\"20ᵉ siècle\"><span class=\"romain\">XX</span><sup style=\"font-size:72%\">e</sup></abbr> siècle</a></span> </span></li> </ul>\n",
       "<!-- \n",
       "NewPP limit report\n",
       "Parsed by mw1397\n",
       "Cached time: 20230710075132\n",
       "Cache expiry: 1814400\n",
       "Reduced expiry: false\n",
       "Complications: [show‐toc]\n",
       "CPU time usage: 0.839 seconds\n",
       "Real time usage: 1.230 seconds\n",
       "Preprocessor visited node count: 1933/1000000\n",
       "Post‐expand include size: 75156/2097152 bytes\n",
       "Template argument size: 1778/2097152 bytes\n",
       "Highest expansion depth: 14/100\n",
       "Expensive parser function count: 3/500\n",
       "Unstrip recursion depth: 0/20\n",
       "Unstrip post‐expand size: 11534/5000000 bytes\n",
       "Lua time usage: 0.685/10.000 seconds\n",
       "Lua memory usage: 9386263/52428800 bytes\n",
       "Number of Wikibase entities loaded: 17/400\n",
       "-->\n",
       "<!--\n",
       "Transclusion expansion time report (%,ms,calls,template)\n",
       "100.00% 1151.297      1 -total\n",
       " 51.69%  595.053      1 Modèle:Infobox_Biographie2\n",
       " 33.61%  386.994      1 Modèle:Liens\n",
       "  4.23%   48.666      1 Modèle:Portail\n",
       "  3.79%   43.588      1 Modèle:Références\n",
       "  2.43%   27.958      1 Modèle:Voir_homonymes\n",
       "  2.30%   26.512      1 Modèle:Méta_bandeau_de_note\n",
       "  2.19%   25.163      1 Modèle:Méta_bandeau\n",
       "  1.62%   18.681      5 Modèle:Lien_web\n",
       "  1.59%   18.343      1 Modèle:Suivi_des_biographies\n",
       "-->\n",
       "<!-- Saved in parser cache with key frwiki:pcache:idhash:235968-0!canonical and timestamp 20230710075131 and revision id 204977301. Rendering was triggered because: page-view\n",
       " -->\n",
       "</div><!--esi <esi:include src=\"/esitest-fa8a495983347898/content\" /> --><noscript><img alt=\"\" height=\"1\" src=\"//fr.wikipedia.org/wiki/Special:CentralAutoLogin/start?type=1x1\" style=\"border: none; position: absolute;\" title=\"\" width=\"1\"/></noscript>\n",
       "<div class=\"printfooter\" data-nosnippet=\"\">Ce document provient de « <a dir=\"ltr\" href=\"https://fr.wikipedia.org/w/index.php?title=Jonas_Salk&amp;oldid=204977301\">https://fr.wikipedia.org/w/index.php?title=Jonas_Salk&amp;oldid=204977301</a> ».</div></div>\n",
       "<div class=\"catlinks\" data-mw=\"interface\" id=\"catlinks\"><div class=\"mw-normal-catlinks\" id=\"mw-normal-catlinks\"><a href=\"/wiki/Cat%C3%A9gorie:Accueil\" title=\"Catégorie:Accueil\">Catégories</a> : <ul><li><a href=\"/wiki/Cat%C3%A9gorie:Biologiste_am%C3%A9ricain\" title=\"Catégorie:Biologiste américain\">Biologiste américain</a></li><li><a href=\"/wiki/Cat%C3%A9gorie:M%C3%A9decin_am%C3%A9ricain_du_XXe_si%C3%A8cle\" title=\"Catégorie:Médecin américain du XXe siècle\">Médecin américain du XXe siècle</a></li><li><a href=\"/wiki/Cat%C3%A9gorie:Vaccinologue\" title=\"Catégorie:Vaccinologue\">Vaccinologue</a></li><li><a href=\"/wiki/Cat%C3%A9gorie:Histoire_des_maladies_infectieuses\" title=\"Catégorie:Histoire des maladies infectieuses\">Histoire des maladies infectieuses</a></li><li><a href=\"/wiki/Cat%C3%A9gorie:Poliomy%C3%A9lite\" title=\"Catégorie:Poliomyélite\">Poliomyélite</a></li><li><a href=\"/wiki/Cat%C3%A9gorie:Laur%C3%A9at_du_prix_Albert-Lasker\" title=\"Catégorie:Lauréat du prix Albert-Lasker\">Lauréat du prix Albert-Lasker</a></li><li><a href=\"/wiki/Cat%C3%A9gorie:M%C3%A9daille_John-Scott\" title=\"Catégorie:Médaille John-Scott\">Médaille John-Scott</a></li><li><a href=\"/wiki/Cat%C3%A9gorie:Universit%C3%A9_de_New_York\" title=\"Catégorie:Université de New York\">Université de New York</a></li><li><a href=\"/wiki/Cat%C3%A9gorie:Naissance_en_octobre_1914\" title=\"Catégorie:Naissance en octobre 1914\">Naissance en octobre 1914</a></li><li><a href=\"/wiki/Cat%C3%A9gorie:Naissance_%C3%A0_New_York\" title=\"Catégorie:Naissance à New York\">Naissance à New York</a></li><li><a href=\"/wiki/Cat%C3%A9gorie:D%C3%A9c%C3%A8s_en_juin_1995\" title=\"Catégorie:Décès en juin 1995\">Décès en juin 1995</a></li><li><a href=\"/wiki/Cat%C3%A9gorie:D%C3%A9c%C3%A8s_%C3%A0_La_Jolla\" title=\"Catégorie:Décès à La Jolla\">Décès à La Jolla</a></li><li><a href=\"/wiki/Cat%C3%A9gorie:D%C3%A9c%C3%A8s_%C3%A0_80_ans\" title=\"Catégorie:Décès à 80 ans\">Décès à 80 ans</a></li><li><a href=\"/wiki/Cat%C3%A9gorie:%C3%89tudiant_du_City_College_of_New_York\" title=\"Catégorie:Étudiant du City College of New York\">Étudiant du City College of New York</a></li><li><a href=\"/wiki/Cat%C3%A9gorie:%C3%89tudiant_de_la_New_York_University_School_of_Medicine\" title=\"Catégorie:Étudiant de la New York University School of Medicine\">Étudiant de la New York University School of Medicine</a></li><li><a href=\"/wiki/Cat%C3%A9gorie:R%C3%A9cipiendaire_de_la_m%C3%A9daille_d%27or_du_Congr%C3%A8s_des_%C3%89tats-Unis\" title=\"Catégorie:Récipiendaire de la médaille d'or du Congrès des États-Unis\">Récipiendaire de la médaille d'or du Congrès des États-Unis</a></li><li><a href=\"/wiki/Cat%C3%A9gorie:R%C3%A9cipiendaire_de_la_m%C3%A9daille_pr%C3%A9sidentielle_de_la_Libert%C3%A9\" title=\"Catégorie:Récipiendaire de la médaille présidentielle de la Liberté\">Récipiendaire de la médaille présidentielle de la Liberté</a></li><li><a href=\"/wiki/Cat%C3%A9gorie:Humaniste_de_l%27Ann%C3%A9e\" title=\"Catégorie:Humaniste de l'Année\">Humaniste de l'Année</a></li><li><a href=\"/wiki/Cat%C3%A9gorie:Personnalit%C3%A9_am%C3%A9ricaine_n%C3%A9e_d%27un_parent_russe\" title=\"Catégorie:Personnalité américaine née d'un parent russe\">Personnalité américaine née d'un parent russe</a></li></ul></div><div class=\"mw-hidden-catlinks mw-hidden-cats-hidden\" id=\"mw-hidden-catlinks\">Catégories cachées : <ul><li><a href=\"/wiki/Cat%C3%A9gorie:Page_utilisant_P569\" title=\"Catégorie:Page utilisant P569\">Page utilisant P569</a></li><li><a href=\"/wiki/Cat%C3%A9gorie:Page_utilisant_P19\" title=\"Catégorie:Page utilisant P19\">Page utilisant P19</a></li><li><a href=\"/wiki/Cat%C3%A9gorie:Page_utilisant_P570\" title=\"Catégorie:Page utilisant P570\">Page utilisant P570</a></li><li><a href=\"/wiki/Cat%C3%A9gorie:Page_utilisant_P20\" title=\"Catégorie:Page utilisant P20\">Page utilisant P20</a></li><li><a href=\"/wiki/Cat%C3%A9gorie:Page_utilisant_P119\" title=\"Catégorie:Page utilisant P119\">Page utilisant P119</a></li><li><a href=\"/wiki/Cat%C3%A9gorie:Page_utilisant_P1477\" title=\"Catégorie:Page utilisant P1477\">Page utilisant P1477</a></li><li><a href=\"/wiki/Cat%C3%A9gorie:Page_utilisant_P27\" title=\"Catégorie:Page utilisant P27\">Page utilisant P27</a></li><li><a href=\"/wiki/Cat%C3%A9gorie:Page_utilisant_P551\" title=\"Catégorie:Page utilisant P551\">Page utilisant P551</a></li><li><a href=\"/wiki/Cat%C3%A9gorie:Page_utilisant_P69\" title=\"Catégorie:Page utilisant P69\">Page utilisant P69</a></li><li><a href=\"/wiki/Cat%C3%A9gorie:Page_utilisant_P106\" title=\"Catégorie:Page utilisant P106\">Page utilisant P106</a></li><li><a href=\"/wiki/Cat%C3%A9gorie:Page_utilisant_P26\" title=\"Catégorie:Page utilisant P26\">Page utilisant P26</a></li><li><a href=\"/wiki/Cat%C3%A9gorie:Page_utilisant_P40\" title=\"Catégorie:Page utilisant P40\">Page utilisant P40</a></li><li><a href=\"/wiki/Cat%C3%A9gorie:Page_utilisant_P108\" title=\"Catégorie:Page utilisant P108\">Page utilisant P108</a></li><li><a href=\"/wiki/Cat%C3%A9gorie:Page_utilisant_P463\" title=\"Catégorie:Page utilisant P463\">Page utilisant P463</a></li><li><a href=\"/wiki/Cat%C3%A9gorie:Page_utilisant_P184\" title=\"Catégorie:Page utilisant P184\">Page utilisant P184</a></li><li><a href=\"/wiki/Cat%C3%A9gorie:Page_utilisant_P166\" title=\"Catégorie:Page utilisant P166\">Page utilisant P166</a></li><li><a href=\"/wiki/Cat%C3%A9gorie:Page_utilisant_P109\" title=\"Catégorie:Page utilisant P109\">Page utilisant P109</a></li><li><a href=\"/wiki/Cat%C3%A9gorie:Page_utilisant_P1801\" title=\"Catégorie:Page utilisant P1801\">Page utilisant P1801</a></li><li><a href=\"/wiki/Cat%C3%A9gorie:Article_utilisant_l%27infobox_Biographie2\" title=\"Catégorie:Article utilisant l'infobox Biographie2\">Article utilisant l'infobox Biographie2</a></li><li><a href=\"/wiki/Cat%C3%A9gorie:Article_utilisant_une_Infobox\" title=\"Catégorie:Article utilisant une Infobox\">Article utilisant une Infobox</a></li><li><a href=\"/wiki/Cat%C3%A9gorie:Cat%C3%A9gorie_Commons_avec_lien_local_identique_sur_Wikidata\" title=\"Catégorie:Catégorie Commons avec lien local identique sur Wikidata\">Catégorie Commons avec lien local identique sur Wikidata</a></li><li><a href=\"/wiki/Cat%C3%A9gorie:Page_utilisant_P5375\" title=\"Catégorie:Page utilisant P5375\">Page utilisant P5375</a></li><li><a href=\"/wiki/Cat%C3%A9gorie:Page_pointant_vers_des_bases_externes\" title=\"Catégorie:Page pointant vers des bases externes\">Page pointant vers des bases externes</a></li><li><a href=\"/wiki/Cat%C3%A9gorie:Page_pointant_vers_des_bases_relatives_%C3%A0_la_sant%C3%A9\" title=\"Catégorie:Page pointant vers des bases relatives à la santé\">Page pointant vers des bases relatives à la santé</a></li><li><a href=\"/wiki/Cat%C3%A9gorie:Page_utilisant_P245\" title=\"Catégorie:Page utilisant P245\">Page utilisant P245</a></li><li><a href=\"/wiki/Cat%C3%A9gorie:Page_pointant_vers_des_bases_relatives_aux_beaux-arts\" title=\"Catégorie:Page pointant vers des bases relatives aux beaux-arts\">Page pointant vers des bases relatives aux beaux-arts</a></li><li><a href=\"/wiki/Cat%C3%A9gorie:Page_utilisant_P5415\" title=\"Catégorie:Page utilisant P5415\">Page utilisant P5415</a></li><li><a href=\"/wiki/Cat%C3%A9gorie:Page_pointant_vers_des_bases_relatives_%C3%A0_la_recherche\" title=\"Catégorie:Page pointant vers des bases relatives à la recherche\">Page pointant vers des bases relatives à la recherche</a></li><li><a href=\"/wiki/Cat%C3%A9gorie:Page_utilisant_P4823\" title=\"Catégorie:Page utilisant P4823\">Page utilisant P4823</a></li><li><a href=\"/wiki/Cat%C3%A9gorie:Page_utilisant_P1417\" title=\"Catégorie:Page utilisant P1417\">Page utilisant P1417</a></li><li><a href=\"/wiki/Cat%C3%A9gorie:Page_utilisant_P7902\" title=\"Catégorie:Page utilisant P7902\">Page utilisant P7902</a></li><li><a href=\"/wiki/Cat%C3%A9gorie:Page_utilisant_P4223\" title=\"Catégorie:Page utilisant P4223\">Page utilisant P4223</a></li><li><a href=\"/wiki/Cat%C3%A9gorie:Page_utilisant_P6706\" title=\"Catégorie:Page utilisant P6706\">Page utilisant P6706</a></li><li><a href=\"/wiki/Cat%C3%A9gorie:Page_utilisant_P1296\" title=\"Catégorie:Page utilisant P1296\">Page utilisant P1296</a></li><li><a href=\"/wiki/Cat%C3%A9gorie:Page_utilisant_P7982\" title=\"Catégorie:Page utilisant P7982\">Page utilisant P7982</a></li><li><a href=\"/wiki/Cat%C3%A9gorie:Page_utilisant_P3222\" title=\"Catégorie:Page utilisant P3222\">Page utilisant P3222</a></li><li><a href=\"/wiki/Cat%C3%A9gorie:Page_utilisant_P1284\" title=\"Catégorie:Page utilisant P1284\">Page utilisant P1284</a></li><li><a href=\"/wiki/Cat%C3%A9gorie:Page_utilisant_P4342\" title=\"Catégorie:Page utilisant P4342\">Page utilisant P4342</a></li><li><a href=\"/wiki/Cat%C3%A9gorie:Page_utilisant_P3365\" title=\"Catégorie:Page utilisant P3365\">Page utilisant P3365</a></li><li><a href=\"/wiki/Cat%C3%A9gorie:Page_utilisant_P3219\" title=\"Catégorie:Page utilisant P3219\">Page utilisant P3219</a></li><li><a href=\"/wiki/Cat%C3%A9gorie:Page_utilisant_P7666\" title=\"Catégorie:Page utilisant P7666\">Page utilisant P7666</a></li><li><a href=\"/wiki/Cat%C3%A9gorie:Page_pointant_vers_des_dictionnaires_ou_encyclop%C3%A9dies_g%C3%A9n%C3%A9ralistes\" title=\"Catégorie:Page pointant vers des dictionnaires ou encyclopédies généralistes\">Page pointant vers des dictionnaires ou encyclopédies généralistes</a></li><li><a href=\"/wiki/Cat%C3%A9gorie:Article_de_Wikip%C3%A9dia_avec_notice_d%27autorit%C3%A9\" title=\"Catégorie:Article de Wikipédia avec notice d'autorité\">Article de Wikipédia avec notice d'autorité</a></li><li><a href=\"/wiki/Cat%C3%A9gorie:Portail:M%C3%A9decine/Articles_li%C3%A9s\" title=\"Catégorie:Portail:Médecine/Articles liés\">Portail:Médecine/Articles liés</a></li><li><a href=\"/wiki/Cat%C3%A9gorie:Portail:Biologie/Articles_li%C3%A9s\" title=\"Catégorie:Portail:Biologie/Articles liés\">Portail:Biologie/Articles liés</a></li><li><a href=\"/wiki/Cat%C3%A9gorie:Portail:Sciences_humaines_et_sociales/Articles_li%C3%A9s\" title=\"Catégorie:Portail:Sciences humaines et sociales/Articles liés\">Portail:Sciences humaines et sociales/Articles liés</a></li><li><a href=\"/wiki/Cat%C3%A9gorie:Portail:Sciences/Articles_li%C3%A9s\" title=\"Catégorie:Portail:Sciences/Articles liés\">Portail:Sciences/Articles liés</a></li><li><a href=\"/wiki/Cat%C3%A9gorie:Portail:%C3%89tats-Unis/Articles_li%C3%A9s\" title=\"Catégorie:Portail:États-Unis/Articles liés\">Portail:États-Unis/Articles liés</a></li><li><a href=\"/wiki/Cat%C3%A9gorie:Portail:Am%C3%A9rique/Articles_li%C3%A9s\" title=\"Catégorie:Portail:Amérique/Articles liés\">Portail:Amérique/Articles liés</a></li><li><a href=\"/wiki/Cat%C3%A9gorie:Portail:Am%C3%A9rique_du_Nord/Articles_li%C3%A9s\" title=\"Catégorie:Portail:Amérique du Nord/Articles liés\">Portail:Amérique du Nord/Articles liés</a></li><li><a href=\"/wiki/Cat%C3%A9gorie:Portail:New_York/Articles_li%C3%A9s\" title=\"Catégorie:Portail:New York/Articles liés\">Portail:New York/Articles liés</a></li><li><a href=\"/wiki/Cat%C3%A9gorie:Portail:New_York_(%C3%89tat)/Articles_li%C3%A9s\" title=\"Catégorie:Portail:New York (État)/Articles liés\">Portail:New York (État)/Articles liés</a></li><li><a href=\"/wiki/Cat%C3%A9gorie:Portail:San_Diego/Articles_li%C3%A9s\" title=\"Catégorie:Portail:San Diego/Articles liés\">Portail:San Diego/Articles liés</a></li><li><a href=\"/wiki/Cat%C3%A9gorie:Portail:Californie/Articles_li%C3%A9s\" title=\"Catégorie:Portail:Californie/Articles liés\">Portail:Californie/Articles liés</a></li><li><a href=\"/wiki/Cat%C3%A9gorie:Portail:Juda%C3%AFsme/Articles_li%C3%A9s\" title=\"Catégorie:Portail:Judaïsme/Articles liés\">Portail:Judaïsme/Articles liés</a></li><li><a href=\"/wiki/Cat%C3%A9gorie:Portail:Religions_et_croyances/Articles_li%C3%A9s\" title=\"Catégorie:Portail:Religions et croyances/Articles liés\">Portail:Religions et croyances/Articles liés</a></li><li><a href=\"/wiki/Cat%C3%A9gorie:Portail:XXe_si%C3%A8cle/Articles_li%C3%A9s\" title=\"Catégorie:Portail:XXe siècle/Articles liés\">Portail:XXe siècle/Articles liés</a></li><li><a href=\"/wiki/Cat%C3%A9gorie:Portail:%C3%89poque_contemporaine/Articles_li%C3%A9s\" title=\"Catégorie:Portail:Époque contemporaine/Articles liés\">Portail:Époque contemporaine/Articles liés</a></li><li><a href=\"/wiki/Cat%C3%A9gorie:Portail:Histoire/Articles_li%C3%A9s\" title=\"Catégorie:Portail:Histoire/Articles liés\">Portail:Histoire/Articles liés</a></li><li><a href=\"/wiki/Cat%C3%A9gorie:Wikip%C3%A9dia:Article_biographique\" title=\"Catégorie:Wikipédia:Article biographique\">Wikipédia:Article biographique</a></li><li><a href=\"/wiki/Cat%C3%A9gorie:Portail:Biographie/Articles_li%C3%A9s/Sant%C3%A9\" title=\"Catégorie:Portail:Biographie/Articles liés/Santé\">Portail:Biographie/Articles liés/Santé</a></li><li><a href=\"/wiki/Cat%C3%A9gorie:Portail:Biographie/Articles_li%C3%A9s/Sciences\" title=\"Catégorie:Portail:Biographie/Articles liés/Sciences\">Portail:Biographie/Articles liés/Sciences</a></li></ul></div></div>\n",
       "</div>\n",
       "</main>\n",
       "</div>\n",
       "<div class=\"mw-footer-container\">\n",
       "<footer class=\"mw-footer\" id=\"footer\" role=\"contentinfo\">\n",
       "<ul id=\"footer-info\">\n",
       "<li id=\"footer-info-lastmod\"> La dernière modification de cette page a été faite le 7 juin 2023 à 08:35.</li>\n",
       "<li id=\"footer-info-copyright\"><span style=\"white-space: normal\"><a class=\"internal\" href=\"/wiki/Wikip%C3%A9dia:Citation_et_r%C3%A9utilisation_du_contenu_de_Wikip%C3%A9dia\" title=\"Droit d'auteur\">Droit d'auteur</a> : les textes sont disponibles sous <a href=\"https://creativecommons.org/licenses/by-sa/4.0/deed.fr\" rel=\"license\" title=\"Licence Creative Commons Attribution - partage dans les mêmes conditions 4.0 international\">licence Creative Commons attribution, partage dans les mêmes conditions</a> ; d’autres conditions peuvent s’appliquer. Voyez les <a href=\"https://wikimediafoundation.org/wiki/Conditions_d%27utilisation\" title=\"Conditions d’utilisation de la Wikimedia Foundation\">conditions d’utilisation</a> pour plus de détails, ainsi que les <a class=\"internal\" href=\"/wiki/Wikip%C3%A9dia:Cr%C3%A9dits_graphiques\" title=\"Droit d'auteur de certaines icônes\">crédits graphiques</a>. En cas de réutilisation des textes de cette page, voyez <a class=\"internal\" href=\"/wiki/Sp%C3%A9cial:Citer/Jonas_Salk\" title=\"Citer ou réutiliser cette page\">comment citer les auteurs et mentionner la licence</a>.<br/>\n",
       "Wikipedia® est une marque déposée de la <a href=\"https://wikimediafoundation.org/\" title=\"Wikimedia Foundation\">Wikimedia Foundation, Inc.</a>, organisation de bienfaisance régie par le paragraphe <a class=\"internal\" href=\"/wiki/501c\" title=\"501c\">501(c)(3)</a> du code fiscal des États-Unis.</span><br/></li>\n",
       "</ul>\n",
       "<ul id=\"footer-places\">\n",
       "<li id=\"footer-places-privacy\"><a href=\"https://foundation.wikimedia.org/wiki/Special:MyLanguage/Policy:Privacy_policy/fr\">Politique de confidentialité</a></li>\n",
       "<li id=\"footer-places-about\"><a href=\"/wiki/Wikip%C3%A9dia:%C3%80_propos_de_Wikip%C3%A9dia\">À propos de Wikipédia</a></li>\n",
       "<li id=\"footer-places-disclaimers\"><a href=\"/wiki/Wikip%C3%A9dia:Avertissements_g%C3%A9n%C3%A9raux\">Avertissements</a></li>\n",
       "<li id=\"footer-places-contact\"><a href=\"//fr.wikipedia.org/wiki/Wikipédia:Contact\">Contact</a></li>\n",
       "<li id=\"footer-places-wm-codeofconduct\"><a href=\"https://foundation.wikimedia.org/wiki/Special:MyLanguage/Universal_Code_of_Conduct\">Code de conduite</a></li>\n",
       "<li id=\"footer-places-mobileview\"><a class=\"noprint stopMobileRedirectToggle\" href=\"//fr.m.wikipedia.org/w/index.php?title=Jonas_Salk&amp;mobileaction=toggle_view_mobile\">Version mobile</a></li>\n",
       "<li id=\"footer-places-developers\"><a href=\"https://developer.wikimedia.org\">Développeurs</a></li>\n",
       "<li id=\"footer-places-statslink\"><a href=\"https://stats.wikimedia.org/#/fr.wikipedia.org\">Statistiques</a></li>\n",
       "<li id=\"footer-places-cookiestatement\"><a href=\"https://foundation.wikimedia.org/wiki/Special:MyLanguage/Policy:Cookie_statement\">Déclaration sur les témoins (cookies)</a></li>\n",
       "</ul>\n",
       "<ul class=\"noprint\" id=\"footer-icons\">\n",
       "<li id=\"footer-copyrightico\"><a href=\"https://wikimediafoundation.org/\"><img alt=\"Wikimedia Foundation\" height=\"31\" loading=\"lazy\" src=\"/static/images/footer/wikimedia-button.png\" srcset=\"/static/images/footer/wikimedia-button-1.5x.png 1.5x, /static/images/footer/wikimedia-button-2x.png 2x\" width=\"88\"/></a></li>\n",
       "<li id=\"footer-poweredbyico\"><a href=\"https://www.mediawiki.org/\"><img alt=\"Powered by MediaWiki\" height=\"31\" loading=\"lazy\" src=\"/static/images/footer/poweredby_mediawiki_88x31.png\" srcset=\"/static/images/footer/poweredby_mediawiki_132x47.png 1.5x, /static/images/footer/poweredby_mediawiki_176x62.png 2x\" width=\"88\"/></a></li>\n",
       "</ul>\n",
       "</footer>\n",
       "</div>\n",
       "</div>\n",
       "</div>\n",
       "<div class=\"vector-settings\">\n",
       "<button class=\"cdx-button cdx-button--icon-only vector-limited-width-toggle\" id=\"\"><span class=\"vector-icon mw-ui-icon-fullScreen mw-ui-icon-wikimedia-fullScreen\"></span>\n",
       "<span>Activer ou désactiver la limitation de largeur du contenu</span>\n",
       "</button>\n",
       "</div>\n",
       "<script>(RLQ=window.RLQ||[]).push(function(){mw.config.set({\"wgHostname\":\"mw1397\",\"wgBackendResponseTime\":1359,\"wgPageParseReport\":{\"limitreport\":{\"cputime\":\"0.839\",\"walltime\":\"1.230\",\"ppvisitednodes\":{\"value\":1933,\"limit\":1000000},\"postexpandincludesize\":{\"value\":75156,\"limit\":2097152},\"templateargumentsize\":{\"value\":1778,\"limit\":2097152},\"expansiondepth\":{\"value\":14,\"limit\":100},\"expensivefunctioncount\":{\"value\":3,\"limit\":500},\"unstrip-depth\":{\"value\":0,\"limit\":20},\"unstrip-size\":{\"value\":11534,\"limit\":5000000},\"entityaccesscount\":{\"value\":17,\"limit\":400},\"timingprofile\":[\"100.00% 1151.297      1 -total\",\" 51.69%  595.053      1 Modèle:Infobox_Biographie2\",\" 33.61%  386.994      1 Modèle:Liens\",\"  4.23%   48.666      1 Modèle:Portail\",\"  3.79%   43.588      1 Modèle:Références\",\"  2.43%   27.958      1 Modèle:Voir_homonymes\",\"  2.30%   26.512      1 Modèle:Méta_bandeau_de_note\",\"  2.19%   25.163      1 Modèle:Méta_bandeau\",\"  1.62%   18.681      5 Modèle:Lien_web\",\"  1.59%   18.343      1 Modèle:Suivi_des_biographies\"]},\"scribunto\":{\"limitreport-timeusage\":{\"value\":\"0.685\",\"limit\":\"10.000\"},\"limitreport-memusage\":{\"value\":9386263,\"limit\":52428800}},\"cachereport\":{\"origin\":\"mw1397\",\"timestamp\":\"20230710075132\",\"ttl\":1814400,\"transientcontent\":false}}});});</script>\n",
       "<script type=\"application/ld+json\">{\"@context\":\"https:\\/\\/schema.org\",\"@type\":\"Article\",\"name\":\"Jonas Salk\",\"url\":\"https:\\/\\/fr.wikipedia.org\\/wiki\\/Jonas_Salk\",\"sameAs\":\"http:\\/\\/www.wikidata.org\\/entity\\/Q200101\",\"mainEntity\":\"http:\\/\\/www.wikidata.org\\/entity\\/Q200101\",\"author\":{\"@type\":\"Organization\",\"name\":\"Contributeurs aux projets Wikimedia\"},\"publisher\":{\"@type\":\"Organization\",\"name\":\"Fondation Wikimedia, Inc.\",\"logo\":{\"@type\":\"ImageObject\",\"url\":\"https:\\/\\/www.wikimedia.org\\/static\\/images\\/wmf-hor-googpub.png\"}},\"datePublished\":\"2005-04-12T02:37:05Z\",\"dateModified\":\"2023-06-07T06:35:33Z\",\"image\":\"https:\\/\\/upload.wikimedia.org\\/wikipedia\\/commons\\/5\\/59\\/Jonas_Salk_candid.jpg\",\"headline\":\"biologiste am\\u00e9ricain et inventeur du premier vaccin contre la poliomy\\u00e9lite\"}</script><script type=\"application/ld+json\">{\"@context\":\"https:\\/\\/schema.org\",\"@type\":\"Article\",\"name\":\"Jonas Salk\",\"url\":\"https:\\/\\/fr.wikipedia.org\\/wiki\\/Jonas_Salk\",\"sameAs\":\"http:\\/\\/www.wikidata.org\\/entity\\/Q200101\",\"mainEntity\":\"http:\\/\\/www.wikidata.org\\/entity\\/Q200101\",\"author\":{\"@type\":\"Organization\",\"name\":\"Contributeurs aux projets Wikimedia\"},\"publisher\":{\"@type\":\"Organization\",\"name\":\"Fondation Wikimedia, Inc.\",\"logo\":{\"@type\":\"ImageObject\",\"url\":\"https:\\/\\/www.wikimedia.org\\/static\\/images\\/wmf-hor-googpub.png\"}},\"datePublished\":\"2005-04-12T02:37:05Z\",\"dateModified\":\"2023-06-07T06:35:33Z\",\"image\":\"https:\\/\\/upload.wikimedia.org\\/wikipedia\\/commons\\/5\\/59\\/Jonas_Salk_candid.jpg\",\"headline\":\"biologiste am\\u00e9ricain et inventeur du premier vaccin contre la poliomy\\u00e9lite\"}</script>\n",
       "</body>\n",
       "</html>"
      ]
     },
     "execution_count": 7,
     "metadata": {},
     "output_type": "execute_result"
    }
   ],
   "source": [
    "soup"
   ]
  },
  {
   "cell_type": "markdown",
   "metadata": {},
   "source": [
    "Now let's use the **.select()** method to grab elements. We are looking for the 'title' tag, so we will pass in 'title'\n"
   ]
  },
  {
   "cell_type": "code",
   "execution_count": 12,
   "metadata": {},
   "outputs": [
    {
     "data": {
      "text/plain": [
       "[<title>Jonas Salk — Wikipédia</title>]"
      ]
     },
     "execution_count": 12,
     "metadata": {},
     "output_type": "execute_result"
    }
   ],
   "source": [
    "soup.select('title')"
   ]
  },
  {
   "cell_type": "markdown",
   "metadata": {},
   "source": [
    "Notice what is returned here, its actually a list containing all the title elements (along with their tags). You can use indexing or even looping to grab the elements from the list. Since this object it still a specialized tag, we cna use method calls to grab just the text."
   ]
  },
  {
   "cell_type": "code",
   "execution_count": 13,
   "metadata": {
    "collapsed": true
   },
   "outputs": [],
   "source": [
    "title_tag = soup.select('title')"
   ]
  },
  {
   "cell_type": "code",
   "execution_count": 10,
   "metadata": {},
   "outputs": [
    {
     "data": {
      "text/plain": [
       "<title>Jonas Salk — Wikipédia</title>"
      ]
     },
     "execution_count": 10,
     "metadata": {},
     "output_type": "execute_result"
    }
   ],
   "source": [
    "title_tag[0]"
   ]
  },
  {
   "cell_type": "code",
   "execution_count": 11,
   "metadata": {},
   "outputs": [
    {
     "data": {
      "text/plain": [
       "bs4.element.Tag"
      ]
     },
     "execution_count": 11,
     "metadata": {},
     "output_type": "execute_result"
    }
   ],
   "source": [
    "type(title_tag[0])"
   ]
  },
  {
   "cell_type": "code",
   "execution_count": 15,
   "metadata": {},
   "outputs": [
    {
     "data": {
      "text/plain": [
       "'Jonas Salk — Wikipédia'"
      ]
     },
     "execution_count": 15,
     "metadata": {},
     "output_type": "execute_result"
    }
   ],
   "source": [
    "title_tag[0].getText()"
   ]
  },
  {
   "cell_type": "markdown",
   "metadata": {},
   "source": [
    "### Example Task 1 - Grabbing all elements of a class\n",
    "\n",
    "Let's try to grab all the section headings of the Wikipedia Article on Grace Hopper from this URL: https://en.wikipedia.org/wiki/Grace_Hopper"
   ]
  },
  {
   "cell_type": "code",
   "execution_count": 15,
   "metadata": {
    "collapsed": true
   },
   "outputs": [],
   "source": [
    "# First get the request\n",
    "res = requests.get('https://en.wikipedia.org/wiki/Grace_Hopper')"
   ]
  },
  {
   "cell_type": "code",
   "execution_count": 14,
   "metadata": {
    "collapsed": true
   },
   "outputs": [],
   "source": [
    "# Create a soup from request\n",
    "soup = bs4.BeautifulSoup(res.text,\"lxml\")"
   ]
  },
  {
   "cell_type": "markdown",
   "metadata": {},
   "source": [
    "Now its time to figure out what we are actually looking for. Inspect the element on the page to see that the section headers have the class \"mw-headline\". Because this is a class and not a straight tag, we need to adhere to some syntax for CSS. In this case"
   ]
  },
  {
   "cell_type": "markdown",
   "metadata": {},
   "source": [
    "<table>\n",
    "\n",
    "<thead >\n",
    "<tr>\n",
    "<th>\n",
    "<p>Syntax to pass to the .select() method</p>\n",
    "</th>\n",
    "<th>\n",
    "<p>Match Results</p>\n",
    "</th>\n",
    "</tr>\n",
    "</thead>\n",
    "<tbody>\n",
    "<tr>\n",
    "<td>\n",
    "<p><code>soup.select('div')</code></p>\n",
    "</td>\n",
    "<td>\n",
    "<p>All elements with the <code>&lt;div&gt;</code> tag</p>\n",
    "</td>\n",
    "</tr>\n",
    "<tr>\n",
    "<td>\n",
    "<p><code>soup.select('#some_id')</code></p>\n",
    "</td>\n",
    "<td>\n",
    "<p>The HTML element containing the <code>id</code> attribute of <code>some_id</code></p>\n",
    "</td>\n",
    "</tr>\n",
    "<tr>\n",
    "<td>\n",
    "<p><code>soup.select('.notice')</code></p>\n",
    "</td>\n",
    "<td>\n",
    "<p>All the HTML elements with the CSS <code>class</code> named <code>notice</code></p>\n",
    "</td>\n",
    "</tr>\n",
    "<tr>\n",
    "<td>\n",
    "<p><code>soup.select('div span')</code></p>\n",
    "</td>\n",
    "<td>\n",
    "<p>Any elements named <code>&lt;span&gt;</code> that are within an element named <code>&lt;div&gt;</code></p>\n",
    "</td>\n",
    "</tr>\n",
    "<tr>\n",
    "<td>\n",
    "<p><code>soup.select('div &gt; span')</code></p>\n",
    "</td>\n",
    "<td>\n",
    "<p>Any elements named <code class=\"literal2\">&lt;span&gt;</code> that are <span><em >directly</em></span> within an element named <code class=\"literal2\">&lt;div&gt;</code>, with no other element in between</p>\n",
    "</td>\n",
    "</tr>\n",
    "<tr>\n",
    "\n",
    "</tr>\n",
    "</tbody>\n",
    "</table>"
   ]
  },
  {
   "cell_type": "code",
   "execution_count": 16,
   "metadata": {},
   "outputs": [
    {
     "data": {
      "text/plain": [
       "[]"
      ]
     },
     "execution_count": 16,
     "metadata": {},
     "output_type": "execute_result"
    }
   ],
   "source": [
    "# note depending on your IP Address, \n",
    "# this class may be called something different\n",
    "soup.select(\".toctext\")"
   ]
  },
  {
   "cell_type": "code",
   "execution_count": 20,
   "metadata": {},
   "outputs": [],
   "source": [
    "for item in soup.select(\".toctext\"):\n",
    "    print(item.text)"
   ]
  },
  {
   "cell_type": "markdown",
   "metadata": {},
   "source": [
    "### Example Task 3 - Getting an Image from a Website\n",
    "\n",
    "Let's attempt to grab the image of the Deep Blue Computer from this wikipedia article: https://en.wikipedia.org/wiki/Deep_Blue_(chess_computer)"
   ]
  },
  {
   "cell_type": "code",
   "execution_count": 17,
   "metadata": {
    "collapsed": true
   },
   "outputs": [],
   "source": [
    "res = requests.get(\"https://fr.wikipedia.org/wiki/Thomas_Sankara\")"
   ]
  },
  {
   "cell_type": "code",
   "execution_count": 18,
   "metadata": {
    "collapsed": true
   },
   "outputs": [],
   "source": [
    "soup = bs4.BeautifulSoup(res.text,'lxml')"
   ]
  },
  {
   "cell_type": "code",
   "execution_count": 19,
   "metadata": {
    "collapsed": true
   },
   "outputs": [],
   "source": [
    "image_info = soup.select('.thumbimage')"
   ]
  },
  {
   "cell_type": "code",
   "execution_count": 29,
   "metadata": {},
   "outputs": [
    {
     "data": {
      "text/plain": [
       "[<a class=\"image\" href=\"/wiki/Fichier:Statue_du_Pr%C3%A9sident_Thomas_Sankara2_(cropped).png\" title=\"Statue du Mémorial Thomas Sankara\"><img alt=\"Illustration.\" data-file-height=\"549\" data-file-width=\"493\" decoding=\"async\" height=\"245\" src=\"//upload.wikimedia.org/wikipedia/commons/thumb/2/25/Statue_du_Pr%C3%A9sident_Thomas_Sankara2_%28cropped%29.png/220px-Statue_du_Pr%C3%A9sident_Thomas_Sankara2_%28cropped%29.png\" srcset=\"//upload.wikimedia.org/wikipedia/commons/thumb/2/25/Statue_du_Pr%C3%A9sident_Thomas_Sankara2_%28cropped%29.png/330px-Statue_du_Pr%C3%A9sident_Thomas_Sankara2_%28cropped%29.png 1.5x, //upload.wikimedia.org/wikipedia/commons/thumb/2/25/Statue_du_Pr%C3%A9sident_Thomas_Sankara2_%28cropped%29.png/440px-Statue_du_Pr%C3%A9sident_Thomas_Sankara2_%28cropped%29.png 2x\" width=\"220\"/></a>,\n",
       " <a class=\"image\" href=\"/wiki/Fichier:Thomas_Sankara_Signature.svg\"><img alt=\"Signature de Thomas Sankara\" data-file-height=\"388\" data-file-width=\"1063\" decoding=\"async\" height=\"73\" src=\"//upload.wikimedia.org/wikipedia/commons/thumb/6/6d/Thomas_Sankara_Signature.svg/200px-Thomas_Sankara_Signature.svg.png\" srcset=\"//upload.wikimedia.org/wikipedia/commons/thumb/6/6d/Thomas_Sankara_Signature.svg/300px-Thomas_Sankara_Signature.svg.png 1.5x, //upload.wikimedia.org/wikipedia/commons/thumb/6/6d/Thomas_Sankara_Signature.svg/400px-Thomas_Sankara_Signature.svg.png 2x\" width=\"200\"/></a>,\n",
       " <a class=\"image\" href=\"/wiki/Fichier:Coat_of_arms_of_Upper_Volta.svg\" title=\"Thomas Sankara\"><img alt=\"Thomas Sankara\" data-file-height=\"853\" data-file-width=\"703\" decoding=\"async\" height=\"97\" src=\"//upload.wikimedia.org/wikipedia/commons/thumb/7/79/Coat_of_arms_of_Upper_Volta.svg/80px-Coat_of_arms_of_Upper_Volta.svg.png\" srcset=\"//upload.wikimedia.org/wikipedia/commons/thumb/7/79/Coat_of_arms_of_Upper_Volta.svg/120px-Coat_of_arms_of_Upper_Volta.svg.png 1.5x, //upload.wikimedia.org/wikipedia/commons/thumb/7/79/Coat_of_arms_of_Upper_Volta.svg/160px-Coat_of_arms_of_Upper_Volta.svg.png 2x\" width=\"80\"/></a>,\n",
       " <a class=\"image\" href=\"/wiki/Fichier:Coat_of_arms_of_Burkina_Faso_1984-1991.svg\" title=\"Thomas Sankara\"><img alt=\"Thomas Sankara\" data-file-height=\"581\" data-file-width=\"622\" decoding=\"async\" height=\"103\" src=\"//upload.wikimedia.org/wikipedia/commons/thumb/1/18/Coat_of_arms_of_Burkina_Faso_1984-1991.svg/110px-Coat_of_arms_of_Burkina_Faso_1984-1991.svg.png\" srcset=\"//upload.wikimedia.org/wikipedia/commons/thumb/1/18/Coat_of_arms_of_Burkina_Faso_1984-1991.svg/165px-Coat_of_arms_of_Burkina_Faso_1984-1991.svg.png 1.5x, //upload.wikimedia.org/wikipedia/commons/thumb/1/18/Coat_of_arms_of_Burkina_Faso_1984-1991.svg/220px-Coat_of_arms_of_Burkina_Faso_1984-1991.svg.png 2x\" width=\"110\"/></a>,\n",
       " <a class=\"image\" href=\"/wiki/Fichier:Siege_UNIR_PS_Ouaga.jpg\"><img class=\"thumbimage\" data-file-height=\"2579\" data-file-width=\"4588\" decoding=\"async\" height=\"124\" src=\"//upload.wikimedia.org/wikipedia/commons/thumb/4/42/Siege_UNIR_PS_Ouaga.jpg/220px-Siege_UNIR_PS_Ouaga.jpg\" srcset=\"//upload.wikimedia.org/wikipedia/commons/thumb/4/42/Siege_UNIR_PS_Ouaga.jpg/330px-Siege_UNIR_PS_Ouaga.jpg 1.5x, //upload.wikimedia.org/wikipedia/commons/thumb/4/42/Siege_UNIR_PS_Ouaga.jpg/440px-Siege_UNIR_PS_Ouaga.jpg 2x\" width=\"220\"/></a>,\n",
       " <a class=\"image\" href=\"/wiki/Fichier:Flag_of_Upper_Volta.svg\" title=\"Drapeau de la République de Haute-Volta\"><img alt=\"Drapeau de la République de Haute-Volta\" data-file-height=\"600\" data-file-width=\"900\" decoding=\"async\" height=\"13\" src=\"//upload.wikimedia.org/wikipedia/commons/thumb/4/4a/Flag_of_Upper_Volta.svg/20px-Flag_of_Upper_Volta.svg.png\" srcset=\"//upload.wikimedia.org/wikipedia/commons/thumb/4/4a/Flag_of_Upper_Volta.svg/30px-Flag_of_Upper_Volta.svg.png 1.5x, //upload.wikimedia.org/wikipedia/commons/thumb/4/4a/Flag_of_Upper_Volta.svg/40px-Flag_of_Upper_Volta.svg.png 2x\" width=\"20\"/></a>,\n",
       " <a class=\"image\" href=\"/wiki/Fichier:Flag_of_Burkina_Faso.svg\" title=\"Drapeau du Burkina Faso\"><img alt=\"Drapeau du Burkina Faso\" data-file-height=\"600\" data-file-width=\"900\" decoding=\"async\" height=\"13\" src=\"//upload.wikimedia.org/wikipedia/commons/thumb/3/31/Flag_of_Burkina_Faso.svg/20px-Flag_of_Burkina_Faso.svg.png\" srcset=\"//upload.wikimedia.org/wikipedia/commons/thumb/3/31/Flag_of_Burkina_Faso.svg/30px-Flag_of_Burkina_Faso.svg.png 1.5x, //upload.wikimedia.org/wikipedia/commons/thumb/3/31/Flag_of_Burkina_Faso.svg/40px-Flag_of_Burkina_Faso.svg.png 2x\" width=\"20\"/></a>,\n",
       " <a class=\"image\" href=\"/wiki/Fichier:Flag_of_Upper_Volta.svg\" title=\"Drapeau de la République de Haute-Volta\"><img alt=\"Drapeau de la République de Haute-Volta\" data-file-height=\"600\" data-file-width=\"900\" decoding=\"async\" height=\"13\" src=\"//upload.wikimedia.org/wikipedia/commons/thumb/4/4a/Flag_of_Upper_Volta.svg/20px-Flag_of_Upper_Volta.svg.png\" srcset=\"//upload.wikimedia.org/wikipedia/commons/thumb/4/4a/Flag_of_Upper_Volta.svg/30px-Flag_of_Upper_Volta.svg.png 1.5x, //upload.wikimedia.org/wikipedia/commons/thumb/4/4a/Flag_of_Upper_Volta.svg/40px-Flag_of_Upper_Volta.svg.png 2x\" width=\"20\"/></a>,\n",
       " <a class=\"image\" href=\"/wiki/Fichier:Flag_of_Burkina_Faso.svg\" title=\"Drapeau du Burkina Faso\"><img alt=\"Drapeau du Burkina Faso\" data-file-height=\"600\" data-file-width=\"900\" decoding=\"async\" height=\"13\" src=\"//upload.wikimedia.org/wikipedia/commons/thumb/3/31/Flag_of_Burkina_Faso.svg/20px-Flag_of_Burkina_Faso.svg.png\" srcset=\"//upload.wikimedia.org/wikipedia/commons/thumb/3/31/Flag_of_Burkina_Faso.svg/30px-Flag_of_Burkina_Faso.svg.png 1.5x, //upload.wikimedia.org/wikipedia/commons/thumb/3/31/Flag_of_Burkina_Faso.svg/40px-Flag_of_Burkina_Faso.svg.png 2x\" width=\"20\"/></a>]"
      ]
     },
     "execution_count": 29,
     "metadata": {},
     "output_type": "execute_result"
    }
   ],
   "source": [
    "image_info2 = soup.select('.image')\n",
    "image_info2"
   ]
  },
  {
   "cell_type": "code",
   "execution_count": 20,
   "metadata": {},
   "outputs": [
    {
     "data": {
      "text/plain": [
       "[<img class=\"thumbimage\" data-file-height=\"2579\" data-file-width=\"4588\" decoding=\"async\" height=\"124\" src=\"//upload.wikimedia.org/wikipedia/commons/thumb/4/42/Siege_UNIR_PS_Ouaga.jpg/220px-Siege_UNIR_PS_Ouaga.jpg\" srcset=\"//upload.wikimedia.org/wikipedia/commons/thumb/4/42/Siege_UNIR_PS_Ouaga.jpg/330px-Siege_UNIR_PS_Ouaga.jpg 1.5x, //upload.wikimedia.org/wikipedia/commons/thumb/4/42/Siege_UNIR_PS_Ouaga.jpg/440px-Siege_UNIR_PS_Ouaga.jpg 2x\" width=\"220\"/>]"
      ]
     },
     "execution_count": 20,
     "metadata": {},
     "output_type": "execute_result"
    }
   ],
   "source": [
    "image_info"
   ]
  },
  {
   "cell_type": "code",
   "execution_count": 21,
   "metadata": {},
   "outputs": [
    {
     "data": {
      "text/plain": [
       "1"
      ]
     },
     "execution_count": 21,
     "metadata": {},
     "output_type": "execute_result"
    }
   ],
   "source": [
    "len(image_info)"
   ]
  },
  {
   "cell_type": "code",
   "execution_count": 22,
   "metadata": {
    "collapsed": true
   },
   "outputs": [],
   "source": [
    "computer = image_info[0]"
   ]
  },
  {
   "cell_type": "code",
   "execution_count": 37,
   "metadata": {},
   "outputs": [
    {
     "data": {
      "text/plain": [
       "'//upload.wikimedia.org/wikipedia/commons/thumb/2/25/Statue_du_Pr%C3%A9sident_Thomas_Sankara2_%28cropped%29.png/220px-Statue_du_Pr%C3%A9sident_Thomas_Sankara2_%28cropped%29.png'"
      ]
     },
     "execution_count": 37,
     "metadata": {},
     "output_type": "execute_result"
    }
   ],
   "source": [
    "thomas = image_info2[0]\n",
    "thomas.img ['src']"
   ]
  },
  {
   "cell_type": "code",
   "execution_count": 28,
   "metadata": {},
   "outputs": [
    {
     "data": {
      "text/plain": [
       "bs4.element.Tag"
      ]
     },
     "execution_count": 28,
     "metadata": {},
     "output_type": "execute_result"
    }
   ],
   "source": [
    "type(computer)"
   ]
  },
  {
   "cell_type": "markdown",
   "metadata": {},
   "source": [
    "You can make dictionary like calls for parts of the Tag, in this case, we are interested in the **src** , or \"source\" of the image, which should be its own .jpg or .png link:"
   ]
  },
  {
   "cell_type": "code",
   "execution_count": 23,
   "metadata": {},
   "outputs": [
    {
     "data": {
      "text/plain": [
       "'//upload.wikimedia.org/wikipedia/commons/thumb/4/42/Siege_UNIR_PS_Ouaga.jpg/220px-Siege_UNIR_PS_Ouaga.jpg'"
      ]
     },
     "execution_count": 23,
     "metadata": {},
     "output_type": "execute_result"
    }
   ],
   "source": [
    "computer['src']"
   ]
  },
  {
   "cell_type": "markdown",
   "metadata": {},
   "source": [
    "We can actually display it with a markdown cell with the following:\n",
    "\n",
    "    <img src='//upload.wikimedia.org/wikipedia/commons/thumb/4/42/Siege_UNIR_PS_Ouaga.jpg/220px-Siege_UNIR_PS_Ouaga.jpg'>"
   ]
  },
  {
   "cell_type": "markdown",
   "metadata": {},
   "source": []
  },
  {
   "cell_type": "markdown",
   "metadata": {},
   "source": [
    "<img src='https://upload.wikimedia.org/wikipedia/commons/thumb/4/42/Siege_UNIR_PS_Ouaga.jpg/220px-Siege_UNIR_PS_Ouaga.jpg'>"
   ]
  },
  {
   "cell_type": "markdown",
   "metadata": {},
   "source": [
    "<img src=\"https://upload.wikimedia.org/wikipedia/commons/thumb/2/25/Statue_du_Pr%C3%A9sident_Thomas_Sankara2_%28cropped%29.png/220px-Statue_du_Pr%C3%A9sident_Thomas_Sankara2_%28cropped%29.png\">"
   ]
  },
  {
   "cell_type": "markdown",
   "metadata": {},
   "source": [
    "Now that you have the actual src link, you can grab the image with requests and get along with the .content attribute. Note how we had to add https:// before the link, if you don't do this, requests will complain (but it gives you a pretty descriptive error code)."
   ]
  },
  {
   "cell_type": "code",
   "execution_count": 24,
   "metadata": {
    "collapsed": true
   },
   "outputs": [],
   "source": [
    "image_link = requests.get('https://upload.wikimedia.org/wikipedia/commons/thumb/4/42/Siege_UNIR_PS_Ouaga.jpg/220px-Siege_UNIR_PS_Ouaga.jpg')"
   ]
  },
  {
   "cell_type": "code",
   "execution_count": 25,
   "metadata": {},
   "outputs": [
    {
     "data": {
      "text/plain": [
       "b'\\xff\\xd8\\xff\\xe0\\x00\\x10JFIF\\x00\\x01\\x01\\x01\\x00H\\x00H\\x00\\x00\\xff\\xe2\\x0cXICC_PROFILE\\x00\\x01\\x01\\x00\\x00\\x0cHLino\\x02\\x10\\x00\\x00mntrRGB XYZ \\x07\\xce\\x00\\x02\\x00\\t\\x00\\x06\\x001\\x00\\x00acspMSFT\\x00\\x00\\x00\\x00IEC sRGB\\x00\\x00\\x00\\x00\\x00\\x00\\x00\\x00\\x00\\x00\\x00\\x00\\x00\\x00\\xf6\\xd6\\x00\\x01\\x00\\x00\\x00\\x00\\xd3-HP  \\x00\\x00\\x00\\x00\\x00\\x00\\x00\\x00\\x00\\x00\\x00\\x00\\x00\\x00\\x00\\x00\\x00\\x00\\x00\\x00\\x00\\x00\\x00\\x00\\x00\\x00\\x00\\x00\\x00\\x00\\x00\\x00\\x00\\x00\\x00\\x00\\x00\\x00\\x00\\x00\\x00\\x00\\x00\\x00\\x00\\x00\\x00\\x11cprt\\x00\\x00\\x01P\\x00\\x00\\x003desc\\x00\\x00\\x01\\x84\\x00\\x00\\x00lwtpt\\x00\\x00\\x01\\xf0\\x00\\x00\\x00\\x14bkpt\\x00\\x00\\x02\\x04\\x00\\x00\\x00\\x14rXYZ\\x00\\x00\\x02\\x18\\x00\\x00\\x00\\x14gXYZ\\x00\\x00\\x02,\\x00\\x00\\x00\\x14bXYZ\\x00\\x00\\x02@\\x00\\x00\\x00\\x14dmnd\\x00\\x00\\x02T\\x00\\x00\\x00pdmdd\\x00\\x00\\x02\\xc4\\x00\\x00\\x00\\x88vued\\x00\\x00\\x03L\\x00\\x00\\x00\\x86view\\x00\\x00\\x03\\xd4\\x00\\x00\\x00$lumi\\x00\\x00\\x03\\xf8\\x00\\x00\\x00\\x14meas\\x00\\x00\\x04\\x0c\\x00\\x00\\x00$tech\\x00\\x00\\x040\\x00\\x00\\x00\\x0crTRC\\x00\\x00\\x04<\\x00\\x00\\x08\\x0cgTRC\\x00\\x00\\x04<\\x00\\x00\\x08\\x0cbTRC\\x00\\x00\\x04<\\x00\\x00\\x08\\x0ctext\\x00\\x00\\x00\\x00Copyright (c) 1998 Hewlett-Packard Company\\x00\\x00desc\\x00\\x00\\x00\\x00\\x00\\x00\\x00\\x12sRGB IEC61966-2.1\\x00\\x00\\x00\\x00\\x00\\x00\\x00\\x00\\x00\\x00\\x00\\x12sRGB IEC61966-2.1\\x00\\x00\\x00\\x00\\x00\\x00\\x00\\x00\\x00\\x00\\x00\\x00\\x00\\x00\\x00\\x00\\x00\\x00\\x00\\x00\\x00\\x00\\x00\\x00\\x00\\x00\\x00\\x00\\x00\\x00\\x00\\x00\\x00\\x00\\x00\\x00\\x00\\x00\\x00\\x00\\x00\\x00\\x00\\x00\\x00\\x00\\x00\\x00\\x00\\x00XYZ \\x00\\x00\\x00\\x00\\x00\\x00\\xf3Q\\x00\\x01\\x00\\x00\\x00\\x01\\x16\\xccXYZ \\x00\\x00\\x00\\x00\\x00\\x00\\x00\\x00\\x00\\x00\\x00\\x00\\x00\\x00\\x00\\x00XYZ \\x00\\x00\\x00\\x00\\x00\\x00o\\xa2\\x00\\x008\\xf5\\x00\\x00\\x03\\x90XYZ \\x00\\x00\\x00\\x00\\x00\\x00b\\x99\\x00\\x00\\xb7\\x85\\x00\\x00\\x18\\xdaXYZ \\x00\\x00\\x00\\x00\\x00\\x00$\\xa0\\x00\\x00\\x0f\\x84\\x00\\x00\\xb6\\xcfdesc\\x00\\x00\\x00\\x00\\x00\\x00\\x00\\x16IEC http://www.iec.ch\\x00\\x00\\x00\\x00\\x00\\x00\\x00\\x00\\x00\\x00\\x00\\x16IEC http://www.iec.ch\\x00\\x00\\x00\\x00\\x00\\x00\\x00\\x00\\x00\\x00\\x00\\x00\\x00\\x00\\x00\\x00\\x00\\x00\\x00\\x00\\x00\\x00\\x00\\x00\\x00\\x00\\x00\\x00\\x00\\x00\\x00\\x00\\x00\\x00\\x00\\x00\\x00\\x00\\x00\\x00\\x00\\x00\\x00\\x00\\x00\\x00desc\\x00\\x00\\x00\\x00\\x00\\x00\\x00.IEC 61966-2.1 Default RGB colour space - sRGB\\x00\\x00\\x00\\x00\\x00\\x00\\x00\\x00\\x00\\x00\\x00.IEC 61966-2.1 Default RGB colour space - sRGB\\x00\\x00\\x00\\x00\\x00\\x00\\x00\\x00\\x00\\x00\\x00\\x00\\x00\\x00\\x00\\x00\\x00\\x00\\x00\\x00\\x00\\x00desc\\x00\\x00\\x00\\x00\\x00\\x00\\x00,Reference Viewing Condition in IEC61966-2.1\\x00\\x00\\x00\\x00\\x00\\x00\\x00\\x00\\x00\\x00\\x00,Reference Viewing Condition in IEC61966-2.1\\x00\\x00\\x00\\x00\\x00\\x00\\x00\\x00\\x00\\x00\\x00\\x00\\x00\\x00\\x00\\x00\\x00\\x00\\x00\\x00\\x00\\x00\\x00\\x00\\x00\\x00view\\x00\\x00\\x00\\x00\\x00\\x13\\xa4\\xfe\\x00\\x14_.\\x00\\x10\\xcf\\x14\\x00\\x03\\xed\\xcc\\x00\\x04\\x13\\x0b\\x00\\x03\\\\\\x9e\\x00\\x00\\x00\\x01XYZ \\x00\\x00\\x00\\x00\\x00L\\tV\\x00P\\x00\\x00\\x00W\\x1f\\xe7meas\\x00\\x00\\x00\\x00\\x00\\x00\\x00\\x01\\x00\\x00\\x00\\x00\\x00\\x00\\x00\\x00\\x00\\x00\\x00\\x00\\x00\\x00\\x00\\x00\\x00\\x00\\x02\\x8f\\x00\\x00\\x00\\x02sig \\x00\\x00\\x00\\x00CRT curv\\x00\\x00\\x00\\x00\\x00\\x00\\x04\\x00\\x00\\x00\\x00\\x05\\x00\\n\\x00\\x0f\\x00\\x14\\x00\\x19\\x00\\x1e\\x00#\\x00(\\x00-\\x002\\x007\\x00;\\x00@\\x00E\\x00J\\x00O\\x00T\\x00Y\\x00^\\x00c\\x00h\\x00m\\x00r\\x00w\\x00|\\x00\\x81\\x00\\x86\\x00\\x8b\\x00\\x90\\x00\\x95\\x00\\x9a\\x00\\x9f\\x00\\xa4\\x00\\xa9\\x00\\xae\\x00\\xb2\\x00\\xb7\\x00\\xbc\\x00\\xc1\\x00\\xc6\\x00\\xcb\\x00\\xd0\\x00\\xd5\\x00\\xdb\\x00\\xe0\\x00\\xe5\\x00\\xeb\\x00\\xf0\\x00\\xf6\\x00\\xfb\\x01\\x01\\x01\\x07\\x01\\r\\x01\\x13\\x01\\x19\\x01\\x1f\\x01%\\x01+\\x012\\x018\\x01>\\x01E\\x01L\\x01R\\x01Y\\x01`\\x01g\\x01n\\x01u\\x01|\\x01\\x83\\x01\\x8b\\x01\\x92\\x01\\x9a\\x01\\xa1\\x01\\xa9\\x01\\xb1\\x01\\xb9\\x01\\xc1\\x01\\xc9\\x01\\xd1\\x01\\xd9\\x01\\xe1\\x01\\xe9\\x01\\xf2\\x01\\xfa\\x02\\x03\\x02\\x0c\\x02\\x14\\x02\\x1d\\x02&\\x02/\\x028\\x02A\\x02K\\x02T\\x02]\\x02g\\x02q\\x02z\\x02\\x84\\x02\\x8e\\x02\\x98\\x02\\xa2\\x02\\xac\\x02\\xb6\\x02\\xc1\\x02\\xcb\\x02\\xd5\\x02\\xe0\\x02\\xeb\\x02\\xf5\\x03\\x00\\x03\\x0b\\x03\\x16\\x03!\\x03-\\x038\\x03C\\x03O\\x03Z\\x03f\\x03r\\x03~\\x03\\x8a\\x03\\x96\\x03\\xa2\\x03\\xae\\x03\\xba\\x03\\xc7\\x03\\xd3\\x03\\xe0\\x03\\xec\\x03\\xf9\\x04\\x06\\x04\\x13\\x04 \\x04-\\x04;\\x04H\\x04U\\x04c\\x04q\\x04~\\x04\\x8c\\x04\\x9a\\x04\\xa8\\x04\\xb6\\x04\\xc4\\x04\\xd3\\x04\\xe1\\x04\\xf0\\x04\\xfe\\x05\\r\\x05\\x1c\\x05+\\x05:\\x05I\\x05X\\x05g\\x05w\\x05\\x86\\x05\\x96\\x05\\xa6\\x05\\xb5\\x05\\xc5\\x05\\xd5\\x05\\xe5\\x05\\xf6\\x06\\x06\\x06\\x16\\x06\\'\\x067\\x06H\\x06Y\\x06j\\x06{\\x06\\x8c\\x06\\x9d\\x06\\xaf\\x06\\xc0\\x06\\xd1\\x06\\xe3\\x06\\xf5\\x07\\x07\\x07\\x19\\x07+\\x07=\\x07O\\x07a\\x07t\\x07\\x86\\x07\\x99\\x07\\xac\\x07\\xbf\\x07\\xd2\\x07\\xe5\\x07\\xf8\\x08\\x0b\\x08\\x1f\\x082\\x08F\\x08Z\\x08n\\x08\\x82\\x08\\x96\\x08\\xaa\\x08\\xbe\\x08\\xd2\\x08\\xe7\\x08\\xfb\\t\\x10\\t%\\t:\\tO\\td\\ty\\t\\x8f\\t\\xa4\\t\\xba\\t\\xcf\\t\\xe5\\t\\xfb\\n\\x11\\n\\'\\n=\\nT\\nj\\n\\x81\\n\\x98\\n\\xae\\n\\xc5\\n\\xdc\\n\\xf3\\x0b\\x0b\\x0b\"\\x0b9\\x0bQ\\x0bi\\x0b\\x80\\x0b\\x98\\x0b\\xb0\\x0b\\xc8\\x0b\\xe1\\x0b\\xf9\\x0c\\x12\\x0c*\\x0cC\\x0c\\\\\\x0cu\\x0c\\x8e\\x0c\\xa7\\x0c\\xc0\\x0c\\xd9\\x0c\\xf3\\r\\r\\r&\\r@\\rZ\\rt\\r\\x8e\\r\\xa9\\r\\xc3\\r\\xde\\r\\xf8\\x0e\\x13\\x0e.\\x0eI\\x0ed\\x0e\\x7f\\x0e\\x9b\\x0e\\xb6\\x0e\\xd2\\x0e\\xee\\x0f\\t\\x0f%\\x0fA\\x0f^\\x0fz\\x0f\\x96\\x0f\\xb3\\x0f\\xcf\\x0f\\xec\\x10\\t\\x10&\\x10C\\x10a\\x10~\\x10\\x9b\\x10\\xb9\\x10\\xd7\\x10\\xf5\\x11\\x13\\x111\\x11O\\x11m\\x11\\x8c\\x11\\xaa\\x11\\xc9\\x11\\xe8\\x12\\x07\\x12&\\x12E\\x12d\\x12\\x84\\x12\\xa3\\x12\\xc3\\x12\\xe3\\x13\\x03\\x13#\\x13C\\x13c\\x13\\x83\\x13\\xa4\\x13\\xc5\\x13\\xe5\\x14\\x06\\x14\\'\\x14I\\x14j\\x14\\x8b\\x14\\xad\\x14\\xce\\x14\\xf0\\x15\\x12\\x154\\x15V\\x15x\\x15\\x9b\\x15\\xbd\\x15\\xe0\\x16\\x03\\x16&\\x16I\\x16l\\x16\\x8f\\x16\\xb2\\x16\\xd6\\x16\\xfa\\x17\\x1d\\x17A\\x17e\\x17\\x89\\x17\\xae\\x17\\xd2\\x17\\xf7\\x18\\x1b\\x18@\\x18e\\x18\\x8a\\x18\\xaf\\x18\\xd5\\x18\\xfa\\x19 \\x19E\\x19k\\x19\\x91\\x19\\xb7\\x19\\xdd\\x1a\\x04\\x1a*\\x1aQ\\x1aw\\x1a\\x9e\\x1a\\xc5\\x1a\\xec\\x1b\\x14\\x1b;\\x1bc\\x1b\\x8a\\x1b\\xb2\\x1b\\xda\\x1c\\x02\\x1c*\\x1cR\\x1c{\\x1c\\xa3\\x1c\\xcc\\x1c\\xf5\\x1d\\x1e\\x1dG\\x1dp\\x1d\\x99\\x1d\\xc3\\x1d\\xec\\x1e\\x16\\x1e@\\x1ej\\x1e\\x94\\x1e\\xbe\\x1e\\xe9\\x1f\\x13\\x1f>\\x1fi\\x1f\\x94\\x1f\\xbf\\x1f\\xea \\x15 A l \\x98 \\xc4 \\xf0!\\x1c!H!u!\\xa1!\\xce!\\xfb\"\\'\"U\"\\x82\"\\xaf\"\\xdd#\\n#8#f#\\x94#\\xc2#\\xf0$\\x1f$M$|$\\xab$\\xda%\\t%8%h%\\x97%\\xc7%\\xf7&\\'&W&\\x87&\\xb7&\\xe8\\'\\x18\\'I\\'z\\'\\xab\\'\\xdc(\\r(?(q(\\xa2(\\xd4)\\x06)8)k)\\x9d)\\xd0*\\x02*5*h*\\x9b*\\xcf+\\x02+6+i+\\x9d+\\xd1,\\x05,9,n,\\xa2,\\xd7-\\x0c-A-v-\\xab-\\xe1.\\x16.L.\\x82.\\xb7.\\xee/$/Z/\\x91/\\xc7/\\xfe050l0\\xa40\\xdb1\\x121J1\\x821\\xba1\\xf22*2c2\\x9b2\\xd43\\r3F3\\x7f3\\xb83\\xf14+4e4\\x9e4\\xd85\\x135M5\\x875\\xc25\\xfd676r6\\xae6\\xe97$7`7\\x9c7\\xd78\\x148P8\\x8c8\\xc89\\x059B9\\x7f9\\xbc9\\xf9:6:t:\\xb2:\\xef;-;k;\\xaa;\\xe8<\\'<e<\\xa4<\\xe3=\"=a=\\xa1=\\xe0> >`>\\xa0>\\xe0?!?a?\\xa2?\\xe2@#@d@\\xa6@\\xe7A)AjA\\xacA\\xeeB0BrB\\xb5B\\xf7C:C}C\\xc0D\\x03DGD\\x8aD\\xceE\\x12EUE\\x9aE\\xdeF\"FgF\\xabF\\xf0G5G{G\\xc0H\\x05HKH\\x91H\\xd7I\\x1dIcI\\xa9I\\xf0J7J}J\\xc4K\\x0cKSK\\x9aK\\xe2L*LrL\\xbaM\\x02MJM\\x93M\\xdcN%NnN\\xb7O\\x00OIO\\x93O\\xddP\\'PqP\\xbbQ\\x06QPQ\\x9bQ\\xe6R1R|R\\xc7S\\x13S_S\\xaaS\\xf6TBT\\x8fT\\xdbU(UuU\\xc2V\\x0fV\\\\V\\xa9V\\xf7WDW\\x92W\\xe0X/X}X\\xcbY\\x1aYiY\\xb8Z\\x07ZVZ\\xa6Z\\xf5[E[\\x95[\\xe5\\\\5\\\\\\x86\\\\\\xd6]\\']x]\\xc9^\\x1a^l^\\xbd_\\x0f_a_\\xb3`\\x05`W`\\xaa`\\xfcaOa\\xa2a\\xf5bIb\\x9cb\\xf0cCc\\x97c\\xebd@d\\x94d\\xe9e=e\\x92e\\xe7f=f\\x92f\\xe8g=g\\x93g\\xe9h?h\\x96h\\xeciCi\\x9ai\\xf1jHj\\x9fj\\xf7kOk\\xa7k\\xfflWl\\xafm\\x08m`m\\xb9n\\x12nkn\\xc4o\\x1eoxo\\xd1p+p\\x86p\\xe0q:q\\x95q\\xf0rKr\\xa6s\\x01s]s\\xb8t\\x14tpt\\xccu(u\\x85u\\xe1v>v\\x9bv\\xf8wVw\\xb3x\\x11xnx\\xccy*y\\x89y\\xe7zFz\\xa5{\\x04{c{\\xc2|!|\\x81|\\xe1}A}\\xa1~\\x01~b~\\xc2\\x7f#\\x7f\\x84\\x7f\\xe5\\x80G\\x80\\xa8\\x81\\n\\x81k\\x81\\xcd\\x820\\x82\\x92\\x82\\xf4\\x83W\\x83\\xba\\x84\\x1d\\x84\\x80\\x84\\xe3\\x85G\\x85\\xab\\x86\\x0e\\x86r\\x86\\xd7\\x87;\\x87\\x9f\\x88\\x04\\x88i\\x88\\xce\\x893\\x89\\x99\\x89\\xfe\\x8ad\\x8a\\xca\\x8b0\\x8b\\x96\\x8b\\xfc\\x8cc\\x8c\\xca\\x8d1\\x8d\\x98\\x8d\\xff\\x8ef\\x8e\\xce\\x8f6\\x8f\\x9e\\x90\\x06\\x90n\\x90\\xd6\\x91?\\x91\\xa8\\x92\\x11\\x92z\\x92\\xe3\\x93M\\x93\\xb6\\x94 \\x94\\x8a\\x94\\xf4\\x95_\\x95\\xc9\\x964\\x96\\x9f\\x97\\n\\x97u\\x97\\xe0\\x98L\\x98\\xb8\\x99$\\x99\\x90\\x99\\xfc\\x9ah\\x9a\\xd5\\x9bB\\x9b\\xaf\\x9c\\x1c\\x9c\\x89\\x9c\\xf7\\x9dd\\x9d\\xd2\\x9e@\\x9e\\xae\\x9f\\x1d\\x9f\\x8b\\x9f\\xfa\\xa0i\\xa0\\xd8\\xa1G\\xa1\\xb6\\xa2&\\xa2\\x96\\xa3\\x06\\xa3v\\xa3\\xe6\\xa4V\\xa4\\xc7\\xa58\\xa5\\xa9\\xa6\\x1a\\xa6\\x8b\\xa6\\xfd\\xa7n\\xa7\\xe0\\xa8R\\xa8\\xc4\\xa97\\xa9\\xa9\\xaa\\x1c\\xaa\\x8f\\xab\\x02\\xabu\\xab\\xe9\\xac\\\\\\xac\\xd0\\xadD\\xad\\xb8\\xae-\\xae\\xa1\\xaf\\x16\\xaf\\x8b\\xb0\\x00\\xb0u\\xb0\\xea\\xb1`\\xb1\\xd6\\xb2K\\xb2\\xc2\\xb38\\xb3\\xae\\xb4%\\xb4\\x9c\\xb5\\x13\\xb5\\x8a\\xb6\\x01\\xb6y\\xb6\\xf0\\xb7h\\xb7\\xe0\\xb8Y\\xb8\\xd1\\xb9J\\xb9\\xc2\\xba;\\xba\\xb5\\xbb.\\xbb\\xa7\\xbc!\\xbc\\x9b\\xbd\\x15\\xbd\\x8f\\xbe\\n\\xbe\\x84\\xbe\\xff\\xbfz\\xbf\\xf5\\xc0p\\xc0\\xec\\xc1g\\xc1\\xe3\\xc2_\\xc2\\xdb\\xc3X\\xc3\\xd4\\xc4Q\\xc4\\xce\\xc5K\\xc5\\xc8\\xc6F\\xc6\\xc3\\xc7A\\xc7\\xbf\\xc8=\\xc8\\xbc\\xc9:\\xc9\\xb9\\xca8\\xca\\xb7\\xcb6\\xcb\\xb6\\xcc5\\xcc\\xb5\\xcd5\\xcd\\xb5\\xce6\\xce\\xb6\\xcf7\\xcf\\xb8\\xd09\\xd0\\xba\\xd1<\\xd1\\xbe\\xd2?\\xd2\\xc1\\xd3D\\xd3\\xc6\\xd4I\\xd4\\xcb\\xd5N\\xd5\\xd1\\xd6U\\xd6\\xd8\\xd7\\\\\\xd7\\xe0\\xd8d\\xd8\\xe8\\xd9l\\xd9\\xf1\\xdav\\xda\\xfb\\xdb\\x80\\xdc\\x05\\xdc\\x8a\\xdd\\x10\\xdd\\x96\\xde\\x1c\\xde\\xa2\\xdf)\\xdf\\xaf\\xe06\\xe0\\xbd\\xe1D\\xe1\\xcc\\xe2S\\xe2\\xdb\\xe3c\\xe3\\xeb\\xe4s\\xe4\\xfc\\xe5\\x84\\xe6\\r\\xe6\\x96\\xe7\\x1f\\xe7\\xa9\\xe82\\xe8\\xbc\\xe9F\\xe9\\xd0\\xea[\\xea\\xe5\\xebp\\xeb\\xfb\\xec\\x86\\xed\\x11\\xed\\x9c\\xee(\\xee\\xb4\\xef@\\xef\\xcc\\xf0X\\xf0\\xe5\\xf1r\\xf1\\xff\\xf2\\x8c\\xf3\\x19\\xf3\\xa7\\xf44\\xf4\\xc2\\xf5P\\xf5\\xde\\xf6m\\xf6\\xfb\\xf7\\x8a\\xf8\\x19\\xf8\\xa8\\xf98\\xf9\\xc7\\xfaW\\xfa\\xe7\\xfbw\\xfc\\x07\\xfc\\x98\\xfd)\\xfd\\xba\\xfeK\\xfe\\xdc\\xffm\\xff\\xff\\xff\\xdb\\x00C\\x00\\x06\\x04\\x05\\x06\\x05\\x04\\x06\\x06\\x05\\x06\\x07\\x07\\x06\\x08\\n\\x10\\n\\n\\t\\t\\n\\x14\\x0e\\x0f\\x0c\\x10\\x17\\x14\\x18\\x18\\x17\\x14\\x16\\x16\\x1a\\x1d%\\x1f\\x1a\\x1b#\\x1c\\x16\\x16 , #&\\')*)\\x19\\x1f-0-(0%()(\\xff\\xdb\\x00C\\x01\\x07\\x07\\x07\\n\\x08\\n\\x13\\n\\n\\x13(\\x1a\\x16\\x1a((((((((((((((((((((((((((((((((((((((((((((((((((\\xff\\xc0\\x00\\x11\\x08\\x00|\\x00\\xdc\\x03\\x01\"\\x00\\x02\\x11\\x01\\x03\\x11\\x01\\xff\\xc4\\x00\\x1c\\x00\\x00\\x00\\x07\\x01\\x01\\x00\\x00\\x00\\x00\\x00\\x00\\x00\\x00\\x00\\x00\\x00\\x01\\x02\\x03\\x04\\x05\\x06\\x07\\x00\\x08\\xff\\xc4\\x00B\\x10\\x00\\x02\\x01\\x02\\x04\\x05\\x01\\x06\\x03\\x05\\x06\\x04\\x07\\x01\\x00\\x00\\x01\\x02\\x03\\x04\\x11\\x00\\x05\\x12!\\x06\\x131AQ\"\\x07\\x14aq\\x81\\x91#2\\xa1\\x15\\x16BR\\xc1$3b\\xb1\\xd1\\xf0\\x17Sr\\x92%4C\\x82\\xa2\\xb2\\xc2\\xf1\\xff\\xc4\\x00\\x19\\x01\\x00\\x03\\x01\\x01\\x01\\x00\\x00\\x00\\x00\\x00\\x00\\x00\\x00\\x00\\x00\\x00\\x00\\x01\\x02\\x03\\x04\\x05\\xff\\xc4\\x00*\\x11\\x00\\x02\\x02\\x02\\x01\\x03\\x03\\x04\\x02\\x03\\x01\\x00\\x00\\x00\\x00\\x00\\x00\\x01\\x02\\x11\\x03!\\x12\\x141Q\\x04\\x13\"Aa\\x81\\xb1\\x91\\xf02Bq\\xc1\\xff\\xda\\x00\\x0c\\x03\\x01\\x00\\x02\\x11\\x03\\x11\\x00?\\x00\\xdc\\xb06\\xc0\\x8c\\x08\\xc6\\x96M\\x01\\x81\\xc7`F\\x15\\x81\\xd6\\xc0\\xe3\\xb08,\\x00\\xb6\\x07\\x1d\\x8e\\xc0\\x14v\\x06\\xd8\\xec\\x08\\x176\\x18@\\x06\\x0b1\\x8dbv\\x9c\\xc6\"Qv2[H\\x1f\\x1b\\xed\\x82\\xd3\\xd4CR\\x1c\\xd3M\\x1c\\xda\\x18\\xabr\\xd86\\x92\\t\\x16?P~\\xd8\\xc4=\\xa8\\xf1\\xe5E^\\x7f\\x98p\\xee_:\\xc5I\\x02\\xbd=D\\x91\\xbd\\xd5\\xee\\xc8A\\xb6\\xc6\\xe3a\\xb7]\\xfbc9\\xe4Q\\x8f\"\\x92\\xb7F\\xc5KQ\\x96TL#\\xa3\\x98,\\xa6\\xc3L\\x0e\\xc8w\\x17\\x1b\\r\\xba\\x1f\\x18\\x82\\xe3\\xbe!\\xaa\\xe1\\xd8h\\xe3\\xcb\\xd9\\xaaj\\xaa\\x0b\\x96Y#\\x0ec\\x8dT\\xdd\\xee-\\xbd\\xc7C{\\xd8\\xe3\\xcf\\x19^q\\x9d\\xd1s\\xe4J\\x89bf\\x80D\\x8c\\xaeH\\x8dC\\x0b\\x02|\\x06]\\xed\\xdc\\xed\\x86t\\xb9\\xbdl\\xd5/I\\x9d\\xd5\"Nd\\xd0MC\\x16R\\x03\\x02l\\xa2\\xc3{w\\xdb|r\\xcf<\\xdc\\x1a]\\xcd\\x146\\x99\\xe8\\xce\\x06\\xe33\\x9e\\xd3\\xc4\\xb5\\x0b\\xae\\xaer]\\x10#Gd\\xb9\\xb7U\\xb0\\x16\\x02\\xd7 \\x9b\\x9f\\x17\\xc5\\xc7\\x9f\\xa6\\xfc\\xc8j\\x10\\x0e\\xfa5\\x8f\\xfe$\\xe3\\xcd\\x99.u.H\\xb0\\x9az\\xf3$4\\xb24\\x9aa\\xba\\xebS}\\x8b\\\\\\x9b\\x8bm\\xd0x\\xbe/4\\x9e\\xd5&\\xa8\\xcc\\xe9yk\\x1b@\\xb0+\\xcaU\\xc6\\x9f$\\x10z\\x9b\\x0b\\xea\\xb8\\x03\\xa6\\'\\x0f\\xab\\xa5\\xc6w\\xff\\x00G,N\\xf4kKS\\x03\\x1bs\\xa3\\r\\xe1\\x9bI\\xfb\\x1bc\\xab\\xaa\\xa9\\xf2\\xfa\\t\\xabkeHi!]O+\\x90\\x14v\\x02\\xe7k\\x92@\\x1f\\x120\\xcb\\x86\\xb3G\\xcf2\\nJ\\xea\\x9aq\\x04\\x92\\xa9\\xe6BX8F\\x07\\xa7|V\\xfd\\xad\\xe5PUpl\\xd2C\\x1cqU%M2\\xa4\\x8a\\xb6\\xfc\\xd3\\xa2\\x9b\\xda\\xd7\\x1b\\xde\\xc7\\xc6;y\\xdcy#5\\x1d\\xd3-tAZV\\x9e\\xa6X\\x1a\\xb1\\x94\\x02\\x89 a\\x02\\x13\\xb2\\x0f\\xa8\\xdd\\xbf\\x88\\x8f\\x00\\x00\\xf3Z\\xff\\x00:\\xfd\\xc6\\x18e\\xd9j\\xe5\\xf4\\xa9\\r\\x0c\\xe4F\\xb7\\xf4\\xc89\\x88Or\\t:\\x80\\xbd\\xcd\\xb5\\x1ba\\xd71\\xd3\\xfb\\xd8\\r\\x87\\xf1E\\xeb\\x1fkj\\x1fc\\x8aLLSZ\\x7f:\\xfd\\xc6;\\x98\\x9f\\xce\\x9fq\\x81\\x8aH\\xe6\\xbf%\\xd5\\xed\\xd4)\\xdc|\\xc7Q\\x83\\xe0\\x15\\t\\xf3\\x13\\xf9\\xd7\\xef\\x8e\\xe6\\'\\xf3\\x0c)s\\x8e\\xb9\\xf2p\\x00\\x9e\\xb5\\xf2O\\xc8\\x13\\x8e\\xd6;j?%8R\\xf8\\x0c\\x00\\x13_\\xf8\\\\\\xff\\x00\\xed8\\xed_\\xe0\\x93\\xfe\\xdc\\x1e\\xd8\\xec\\x03\\x1ak]L\\xb7\\xddM\\x98u*|\\x1f\\x18\\x10\\xe8z:\\xfd\\xf1\\x0b\\xc3\\xb4\\xc2\\x92\\xbb4\\xa7P?\\t\\xe0\\x05\\x80\\xb6\\xbf\\xc1\\xb1?S\\xbe\\'\\x0e\\xfdw\\xf9\\xe1FV\\xacr\\x8d0@\\xbe\\x07\\x04\\x08\\x9f\\xca\\xbfAl\\x0e\\x91\\xd8\\xb0\\xf91\\xc5\\n\\x83\\x0c%YP\\x94\\x94\\xcd4\\xa5U\\x01\\x02\\xecl76\\xc2\\x80\\x1f\\xe7o\\xad\\x8e3\\xbfk\\x19\\xfb\\xe5\\xd1\\xd3Q/)L\\xb2\\xc7i\\x02\\xea\\x98\\x90u\\x9d\\x03\\xb2\\x8b(c\\xd4\\xeb\\x00c<\\xb3\\xe1\\x07 J\\xd9\\xa3|\\xb7\\x18\\x1c7\\xa1w\\x92\\x86\\x9aF\\x11\\xdd\\xe2V\\xf45\\xd4\\x826\\xb1\\xf1\\x87\\x02\\xfe?\\\\R\\x95\\xa4\\xc2\\x8e\\xc5W\\xda\\x9eqW\\xc3\\xdc\\x0f[\\x9aP\\xa1y\\xe9\\xe5\\x85\\xad\\xa5\\x99m\\xac\\x13\\xa8.\\xe0\\x10\\x0e\\xfb\\x01\\x89^%\\xcf\\xa9\\xb8w+j\\xfa\\xc4g\\x1a\\xc4q\\xc6?\\xf5\\x1c\\xf4[\\xf6\\xe9\\x8f\\'\\xe7\\xfca\\x9e\\xe6\\x955\\xb5-[<2Ne\\x8eu\\xe6\\x10\\xbc\\xb7$h+\\xddt\\x9d6\\xe9lD\\xe7\\xbe(i\\x129\\x7f\\x1agTBv\\xa0\\xcd\\xc5\\x0e\\x82&!\\xc1\\x1a\\x98\\xb1\\xf4\\x82\\xa2\\xe5\\xbdGc\\xb7_8%L\\xf9nc\\x99fU\\xcfK!\\xa9\\xab<\\xf1\\x1b\\xc8T\\x85*\\x01A\\xb7\\xe6\\x05I\\x16$x\\xed\\x8a]\\x15A\\x15\\xf1\\x17x\\xd1P\\x9dN%\\xb9Qa\\xd2\\xff\\x00\\xe9\\xdf\\x134\\x19\\xab\\'\\xbb\\xac\\x8dO\\xca\\x8c\\x97\\x8ez\\x82\\x1brmm\\x86\\xc0\\xef\\xb7\\xf9c\\x93,\\x1a\\x8f\\x18\\x94\\xbb\\xec\\x9f\\xc8\\x96\\x8d\\xe2\\x0b\\x14\\xd5+N\\xac\\xcd\\xcc\\x99\\xad\\xca&\\xe0+\\xed\\xb87\\xb7N\\xd7>qW\\xe2X\\xebr\\xe9\\xd4Jb\\xd5S\\x1a\\xc7#\\xc4\\xa0\\x89\\x08\\xealo\\xb9[_\\xce,\\xd4Y[\\xb5M\\x1c\\xd0L)\\xa4E\\x0c\\x02:\\xb2NE\\xce\\xcd{\\xa8\\xdf\\xa1\\xbbn-q|!\\xc5yD\\x95\\xb9\\xe4f6fU\\x867\\x8e\\xf6\\x1aKlE\\xc9\\xfea\\xd7n\\x83\\x1c\\xd8\\xf2(\\xe5\\xdb\\xd1\\xb3M\\xc7\\xeeS\\xe9\\xa6\\x90@\\x13\\x99#@\\xa0\\x80\\xabrz\\xed\\x7f\\xae\\x1f\\xe5\\x8e\\x8f\\x05O&\\xac\\xc18\\x8c\\xb1F \\x02\\x14\\xfe]\\xf7\\x06\\xe7\\xa8=\\xed\\x89L\\xea\\x80\\xfb\\xcd4\\xd4*\\xf0\\xb6\\x92\\x95M\\x1c\\x89 P\\xa2\\xefp,uX\\x8b\\xde\\xde78uW\\x97R\\xad5M,\\xb1\\xc5\\x1cq\\xe8g\\x14\\xfe\\x82\\x1d\\t\\xbd\\xf5\\xeen\\x0b\\x01\\xe6\\xd7\\x1bc\\xa5\\xe5\\x8bW\\xe4K\\x1bL\\xd2}\\x99q\\xa5^^\\xb4Y]LmKK#\\xc6\\xb2\\xbc\\x90\\xfe\\'4\\xddM\\xaf\\xb3\\x0b\\xae\\xe4[\\xaf\\xc3\\x1a\\x97\\xb4\\xd5\\r\\xc1\\xb5\\x83b\\x04\\xf4\\xcd\\xf4\\x13\\xc6q\\xe6\\xac\\x8a\\xa9r\\xee2\\xa3\\x96c\\x04\\xaa\\x95(R\\r\\xef31\\n\\xae\\x0fE\\'M\\xcd\\xedk\\xf7\\xc7\\xa3\\xfd\\xa1\\xd4\\xadW\\x01\\xd6T*2\\x060\\xb1F\\x16*ED@\\x83\\xf5\\'\\x0f\\x03iJ?m\\x04\\x97\\xc9?\\xb9n\\x16\\xb0\\xb6\\xc2\\xc2\\xdflv:\\xe0\\xd8\\x8e\\x84\\x0b}\\xb1\\xd8\\xedG8Ib\\x8eb\\x0c\\xa8\\xaeGBF\\xe3\\xe4z\\x8c\\x14E\"\\x7fu3[\\xf9e\\x1a\\xc7\\xdfc\\xfa\\x9c+\\x8e\\xc0\\x02\\\\\\xc9\\x17\\xfb\\xc8X\\xfcb:\\x87\\xd8\\xd8\\xff\\x00\\x9e\\r\\x1c\\xd1\\xc8\\xdaRE-\\xfc\\xbd\\x1b\\xecw\\xc1\\xf0\\x12\"\\xca\\xbadUu\\xf0\\xc2\\xf8\\x06\\x18\\xed\\xd7\\x01\\x84\\xc4!\\x7f\\xbby#\\xf8\\x06\\xd4>\\xc6\\xff\\x00\\xa6;\\xf1\\x97\\xfe\\\\\\x83\\xea\\x87\\xfa\\x8c\\x01B\\x98\\xec\\'\\xce\\x03\\xfb\\xc8\\xe5O\\x89]C\\xee/\\x8e\\x13\\xc2E\\xc4\\xb1\\xdb\\xfe\\xb1\\x80TC\\xe5\\xe7\\xff\\x00\\x1f\\xce\\xd6\\xf7\\x1f\\xd9\\xda\\xde?\\x0c\\xe2Pb\"\\x84\\x91\\xc4y\\xc5\\xfa\\x14\\xa7#\\xfe\\xc3\\x89lL;~_\\xed\\x97>\\xff\\x00\\x85\\xfa\\x07\\x03\\x80\\x18\\xee\\xd7\\xc5\\x12\\x1b\\x1ez\\xf6\\xcd]4\\xbe\\xd2g\\x84\"ri\\xe9\\xe2\\x83\\\\jI\\xd4R\\xf6k\\xf7\\x05\\xd8\\xed\\xd2\\xc3\\x1e\\x82\\x86A#\\xe9;\\xfa\\xca\\x9d\\x1b\\xed\\x8f%\\xf1\\xd6t\\xf5|O\\x9af*\\xc2)e\\xccd~X\\x1a\\xc0\\xbf\\xa07\\x90HP\\x08\\xee-\\x8e\\x7fQ\\xf2\\x8f\\x15\\xf5\\x1a\\xd3=!\\xec\\xceI&\\xe0\\xaa\\x07\\x91\\xd6AwH\\xc8\\xbd\\xf4)\\xb0\\xd5\\x7f\\xe2\\xdb|7\\xcd\\xf8\\xb9h\\xbd\\xa1eY\\x08\\xd0\\x05B\\x94nk\\xaa\\x02\\xc6\\xc6\\xe3\\xbd\\xed\\xd0\\xfeSf\\x1dE\\xc5k\\x80x\\x96\\x9b\\x86\\xfd\\x93\\xd4\\xe6\\xb9\\x9c2\\x05\\xa4&h\\x90\\xdf\\xfbA\\x97x\\x96\\xfd\\xc9`V\\xfe\\x17\\xe1\\x8c$\\xf1\\x10\\xcd8\\xae\\x833\\xe2@je\\x8e~t\\xfc\\x95\\x1f\\x88\\x80.\\x98H;h\\x00[\\xe4M\\xefrp\\xb1>8\\xe2\\x97\\xd3\\xff\\x00\\x02]\\xd9\\xa3\\xfby\\xe3\\xa7\\xcc_\\xf6\\x06USN\\xf9Pti]c%\\xcc\\xc8\\xcc6`z^\\xd6\\xb0\\x1d\\xf1\\x8d\\xe60\\xa2Eyn\\x08\\x1a\\x0b\\x03\\xb97\\xefn\\x87\\xc8\\xf9a\\xd6m\\x98\\xa4\\xb5U\\xbf\\xb4)\\x1e)\\xa4\\x9fZ\\xf2\\xd4B\\x13Q\\xbe\\x90\\x83m=\\xc0\\x1b\\r\\xb1\\x16\\xeec\\x8aXt\\xc9\\x1dB\\xa9/&\\xbd\\x98\\xf5\\x17\\x1d\\xb0\\\\\\x9b\\xb6\\x08F\\x8d\\x95\\'^Z\\xdb\\xd0\\xd7\\x07\\xbf\\xa4\\xff\\x00\\x9e\\'(\\xea\\x853,RI\\x1bs\\x14\\xf3ca\\xe8\\xb1\\x02\\xd6\\xb7q\\x88:voz\\x81X^\\xf7[\\xfd\\x0f\\xeb\\x84\\xe1\\xde\\x04w\\r\\xb8\\xdb\\xa06\\x18\\xa9\\xc7\\x92)\\x16L\\x9e\\xaa\\xac\\xcbQMM[\\xa1\\xdcX\\x06\\xd4C\\xb0\\xb6\\x9b\\xf9\\xf1\\xf4\\xc5\\xb6\\x96\\xb3\\xf6\\x95l\\x94\\xc6\\r\\x19\\x8f\\xb9\\xc9K,o V{\\xa8\\x01M\\xf6\\xd4H:Op>#\\x19\\xf5\\ra\\xa0\\xcc!\\xac\\x8cJ\\x84n\\x846\\xe1\\xbe\\x7flO\\n\\x99\\xf3\\x8c\\xf5&\\xd0\\xa6w\\x81\\\\\\x87\\xba\\xebu\\x1f\\xe1\\x17\\x16\\xe8/\\xe0\\x1cq\\xe6\\xc5n\\xfe\\xc6\\xd0\\x95\\x12\\xf40\\xa5R\\xb5=Dq\\xd2f\\xb3L\\xd1\\xcf4\\xb18\\x0f\\xa4zC\\xef\\xb0%@\\xd5\\xf3\\xeb\\x88\\x1az\\xaa\\x893\\x13S\\xa1\\xf9\\x92\\xbe\\xd4\\xf4\\xc0\\x80\\x8a/\\xa9M\\xfb\\x8b\\x11\\xf3\\x18\\xb3\\xe5\\xb5\\xf54\\x14\\xb55\\xf5\\x95\\x8d5$\\xa9\\x1c*\\x899fi\\x1bb\\xa3n\\xe5~;\\x11\\x88\\xd9Vw\\xe3\\x1a\\xba<\\xb1b\\x8c\\xd53+\\x19\\x01\\xd0\\x18>\\xa2V\\xfb\\\\\\xed{\\xf98\\xca\\r\\xc7\\x92}\\xbf\\xb6[J\\x93\\'h\\xf2\\xd4\\x8f4\\xf7\\x98j\\xa8k\\xabS/5\\x8d\\x1c*\\x127\\x89\\x00\\x11 \\x08\\x0f\\xe2\\x85Fr\\xdd\\xcfS\\x8d\\xe3\\xda$k\\x07\\x03\\xe6\\x10\\x81\\xf8i\\x0c%\\x08\\xf0ja6\\xc61\\x94\\xf1\\x056_\\x95\\xd5\\xcf.NZ\\xb3\\xf6y\\xa1\\x9a\\xb7\\xdd\\xd9R&\\x91d\\re\\xb0\\x00\\xb1./\\xd3\\xd3\\xb7Lk\\xfcgZ\\x95\\x9c\\x07\\x9c\\xa3$\\x90\\xcd\\x1c\\x14\\x8b\\xa1\\xc6\\xe4s\\xa3!\\x85\\xbb\\x1ct\\xe1\\xc8\\x9d\\xdfs6\\xbbW\\x92\\xd1\\x9bW\\xc1A\\x97s\\'\\x9f\\x91\\xadB#\\x81r\\x18\\x8d\\xb0\\xa4U\\xd0\\x99b\\xa7\\x91\\xb4U2#r\\xc9\\xb9\\xb9\\x1f\\xee\\xf8\\xf3\\xdeq\\xc7\\x19\\xa7\\x12{D\\xfd\\x89,kMKM<\\xb4\\x9c\\xa5src\\xd65\\xf6\\xdc\\xe9\\xbd\\x8d\\xc0\\xbe%\\xf8s\\x8a\\xbfaf9\\x84s\\xac\\xaa\\xf4\\xd1I\\x071\\x81u\\x16:\\xc6\\x90:9\\x1b\\x01p\\x00\\'\\xae5y\\xea|>\\xc1\\xecK\\x873t\\x86h\\xe6\\xe6r\\x9c?-\\xccmn\\xcc:\\x8c)\\x8c;\\x81\\xf8\\xdd\\xa1\\xcc\\xe5\\xf7\\xea\\x83\\xee\\xf2T\\x17M\\x1e\\x94\\x01\\xb7:\\xcd\\xf7\\xedk\\xf7\\x1dq\\xa6p\\xff\\x00\\x17\\xd1gy\\x97\\xb9R]\\xa6\\xf5j\\xf0\\xa5m\\xb0=\\xfa\\xf6\\xfe\\x98\\xa8g\\x8c\\xbb\\x99J\\x0e,\\xb2\\xe0o\\x82\\xab\\x06\\x00\\xa1\\x0c\\t\\xb5\\xd4\\xdc`\\x15\\xd5\\xbf++|\\x98\\x1cn@\\x9dm\\\\\\x144\\xb2T\\xd6J\\xb0\\xc0\\x96\\xd4\\xecv\\x176\\x18\\x8cn\"\\xa3I\\xa9\\xa0\\x93X\\xa9\\x98\\x81\\xcaO\\xc4\\xb5\\xcd\\x81\\x0c6 \\xf5\\xdb\\xb6\\x18\\xfbB\\x06L\\x80B\\xf3E\\x0c\\x13H\\x03\\xf3\\x10\\xb1`=VR:\\x1d\\x8e\\xf8\\xc8+\\xab\\xa3\\xe644\\xda\\x80\\xe6\\xc8\\xea5Y]\\xc3\\x00\\x1b\\xb0\\x1b\\x02/a\\xdf\\xce0\\xcb\\x95\\xc1\\xe8\\xb8\\xc6\\xcfB\\xab)-\\xa1\\xd1\\xb4\\x9d\\'K\\x03c\\xe0\\xdb\\x02@&\\xec\\x01>H\\xbe2\\xdfg\\xbcAKK\\x98\\xd4\\xfe\\xd1\\xae\\xcb\\xe8\\xa1\\xa8B\\n\\xcbR\\xb1z\\xd2\\xc49\\x0c{\\x83m\\xcd\\xf1x\\x97\\x8a2hf\\x92)k\\x02\\xba\\x1bn\\x86\\xc7k\\xdcy\\x1b\\xf5\\xc3\\x86h\\xb8\\xf2n\\x81\\xc1\\xa7Bt\\xa6\\xdcC\\x98\\x9b\\x1d\\xe1\\x83\\xb7\\xc1\\xb1%\\xa8\\xfc\\x07\\xcc\\xe2\\x16I`\\xa5\\xcfs\\t*YcE\\xa5\\x81\\xfd^\\x035\\xcd\\xbb\\xe1<\\xb7\\x8ar|\\xc31\\x96\\x8a\\x9eR\\xb5\\x11\\xae\\xb2%@\\x80\\xad\\xc0\\x0c\\t;\\x8b\\x91\\xf7\\xc5Fii\\xbf?\\xb1\\xc9[\\xfe?D\\xf1q\\xdeE\\x1f,\\x08\\xd0w\\xb1o\\x98\\'\\x0c\\xf3\\x9c\\xce\\x8b#\\xcb\\xa5\\xaf\\xce*\\xa2\\xa2\\xa2\\x88\\x85y\\xa5\\xb8\\x01\\x89\\xb0[\\x00I7\\xec\\x06\\x1cST\\xc3UG\\x1d\\\\\\x12\\xabSJ\\xba\\x92Rt\\x82<\\xefo\\x18\\xbb\\xfa\\x13Z\\xb2;\\x88\\xf3\\tr\\xde\\x1a\\xcf+\\xe1\\x98S\\x9aZyf\\x13\\x92\\x0f*\\xc8\\te\\x02\\xf7n\\xb6\\x07mV\\xbe<_Q4\\xaf\\x16\\x97\\xe6\\x9f\\xcaI&\\xe4\\x90\\xd7\\xfa\\xf58\\xf4\\xd7\\xb7\\x8c\\xca\\x92\\x9f\\xd9\\xa6k\\x03U*\\xcbY<\\tO\\x1cS\\x01\\xce\\xb3)}\\x87\\xe6P\\x01\\xd4\\x07{_\\x1e]\\x92]\\xd8\\xad\\xee\\xb6 t\\xdbk\\xe39m\\x8a\\x8d+\\x8dk*#\\xf6\\x1d\\xc0T\\xadR\\x82\\x9eZ\\xba\\xd9\\x84!\\x8d\\xe4Er\\x12\\xfd\\x80R\\xec\\x08;\\xdc\\xe3:T\\x89!&Z\\x89Hf\\xbb\" \\xf3\\xe4\\x9f\\x17\\xc5\\xc7?\\xae\\x85\\xbd\\x9c\\xf0uC\\xb09\\x8cO<T\\xf0\\x06\\x1a\\x12\\x9d]\\xd9\\xdd\\x87v\\x91\\xdd\\x01\\xf8G\\xf1\\xc4\\x14\\x94\\x90\\xd4\\xe4\\xf3URG\\x18\\xa8\\x8a[I\\x12\\x905\\x06\\xdc\\x9b[\\xcd\\xed\\xe2\\xd8\\xceSJ\\x8a\\xe2\\xc4dx\\xf3\\x08\\x1d%\\x95`(\\x01Pc7\\x00X\\x0b\\x1e\\x84\\x92zv\\xb6#U*\\xa2\\x9d\\x8c\\xaf\\xa1\\xc9\\x08Y\\x80n\\x9d\\x0e\\xfd\\xb6\\xeb\\x85(\\xb4\\xcd$h\\xd3\\x15X\\xd5\\x98\\x16\\xda\\xd6\"\\xd6\\xf8\\xed\\xfa\\xe3\\xb36H\\xb5\\xeb%\\xcb\\x82\\xe0\\xb30\\xe6\\x03\\xd3a\\xd2\\xd8QT\\xf8\\xa1\\xd1\\xc2\\xa9\\xf3.$\\x13\\xd4\\x14\\x8eJ\\x9a\\xbel\\xba\\x7f\"\\xb3\\x13\\xa8\\xf5\\xd8\\x12I\\xb7LEs$\\x8c\\x18\\x88\\xb1V*\\xc0\\xeeT\\x8c:\\xc9\\x94\\xaekD\\xfa\\x8e\\x9ep6\\xe8v=N6L\\xa7\\x87xr\\xa1\\xb2l\\xb7<\\xa3\\x8f\\xf1(\\xe2f\\xa8\\x10\\x05e\\x9e},\\x81\\x99l\\xc5,\\x18\\x0b\\x9b\\xde\\xfd\\xb1\\xa4\\xa6\\xa3\\xdc\\xd3\\x1e\\'\\x93H\\xc7i%\\xbe\\x88\\xd1}o\\xe9$\\x9d\\x8e\\xff\\x00\\xa6&2H\\xea$\\xac\\x90\\xd0N\\xb4\\xb5Q+\\xba\\xebr5m\\xd2\\xe2\\xfdn\\x7fLik\\x92p=H\\xadF\\xe1H\\xc2\\xd3>\\x96\\xa8\\xa3\\xcc\\'\\xd1\\xa0\\x1b\\x06{\\xb7\\xa6\\xe4w\\xf9^\\xf8\\x90\\xcb\\xf2/g\\xd4\\xb0;S\\xc5_O4\\xf1\\x18X\\x1a\\xb7e\\xb1\\xd8\\x81\\xb9 \\xdb\\xd5\\xf0\\xc7>L\\xaa\\xaa\\x8d\\x16\\tV\\x8c\\xf72|\\xce\\xb3,\\xa0\\xa7\\xadw\\xa7\\x91$ydf\\x1b\\xaf.\\xdb\\xa8\\xef\\xb5\\xecT\\xef\\x85\\xa9+\\x93\\xddj)\\xda\\xa6\\x1a\\x8e|\\xff\\x00\\x9e6\\x1a\\x19\\x08V\\x90\\xb2\\x11\\xb3l-\\xbd\\xaeN\\xd6\\xc6\\x81\\x17\\rp\\x8d|\\x90\\xbco\\\\\\xd4\\xaf\\x14\\x81\\xcdMd\\xeb`\\xa4\\x8fH]\\x99nE\\xeeo\\xbe\\xd8\\n>\\x17\\xe0\\xd9+!tHeZD\"\\xa2\\x9d\\x8d\\xa2rI\\xdd\\x89%\\x8fP,\\x1b\\xb69\\xd7\\x16\\xb8\\x96\\xf1Im\\x95\\xc7\\xa7\\xa6\\xcd\\xe1\\x9a\\x18*\\xda%\\x99-N\\xc8\\xc5\\x99\\'E:u\\x01\\xd6\\xeb\\xa9w\\xeb\\xb9\\xd8\\xe1l\\xcf4\\xcce\\x8b\\xde+\\x8dE-L\\xec\\xa2Jy*/hU\\x91\\x91Y\\x01\\xf4\\x85 XX[\\x16\\xb8\\xaa\\xb8bY\\x96\\x8e\\x81\\xe9\\xa1\\xa9\\x8c\\x1ei\\xcb\\xa0\\xb7,\\x82T]\\x94\\x0b\\x83\\xb8-\\xb9\\x01\\x85\\xb1\\x9d\\xe7\\xa2\\x88\\xe6r.X\\xb5\\rG\\xa8 z\\x85\\xb4\\x843%\\xc3l/\\xd0\\xfd-\\x87\\x8b\\rw`\\xeb\\xe8X\\xe8\\xaa9\\xd9\\xeaff\\x9csK\\xb4\\xd2HH\\xfc\\xfe\\xab\\xee;\\x1d[~\\xb8\\x98\\xe2:\\x8aZ\\xca\\t\\x928h\\xf91\\xb6\\xbfz\\x89\\x84f\\xa5\\xb4\\xd9\\x8c\\x84\\x9b\\\\\\r\\x86\\xdbX\\x91{\\xdcdQ\\xd6U\\xe49\\xb6cM\\xad\\xb5\\xd2\\xce\\xd4\\xed\\x13\\x83\\xa8\\xb2\\xb1\\x1dGB78\\xd2\\xf2l\\xc0\\xd74\\xcdJ`\\xb4\\x88\\n\\x02C+\\\\\\x03ku\\xbd\\xef\\xf2\\xdf\\x18\\xe6\\x8c\\xf0K\\x9a\\x0cy\\x14\\xd7\\t\\x15\\x9a\\x8c\\xc5(*\\x0c\\x14\\xf2D\\x92\\x83\\xa9\\x1cJ\\xb2/]\\x95\\xb4\\x92-o\\xe9\\xd3|I\\xd2TL\\xc3P\\x91\\xa0\\x92[\\x86A ,\\xca\\xf7-k\\x0b\\xefr6\\xdc\\x1cU\\xb8\\xa2\\xab1\\x82\\xaeD\\xab\\xa6\\xa6\\x822\\xf6\\r\\x14\\x08\\xaa\\xe4x*6\\xe8;\\xe1\\xf7\\x0f\\t\\xb3<\\xad\\xe9bv\\x8d\\xd0\\x87\\x16 H\\x8f\\xa7{y\\x04X\\x0b\\x0b\\xf7\\xbfl\\\\\\xa1\\xf0S\\x0e\\xf2h\\xd5\"\\xf6\\x9c\\xf9%\\x13S\\xe4y\\x14U\\x10\\xc6\\xe8]\\xe5\\xaap\\xeb\\xa9nX.\\x9f\\x81\\xf2\\t8\\xaa\\xb7\\x1a6_\\x9e~\\xd4\\xa3\\xab\\x12\\xcc\\x924\\xb1\\xe9\\x1b\\x90\\xc4\\\\2\\r\\xaeF\\xc5zu\\xb5\\xb1_\\x85\\xf3\\x1a|\\xc9\"\\xa8]s\\xba~1u:_N\\xc4\\x8b\\x9e\\x96\\xea\\x06\\xdb\\xe2\\xc7\\x97SeUZ`\\xaa\\xa1\\xa7b\\xa0\\xa1M\\x04\\xb3\\x0b\\xdc0\"\\xd6[\\\\\\xdb\\n~\\xa1\\xc5%-\\xaf\\xb1\\xa6<\\x11\\x9b\\xae\\xcca\\xc4\\xdcy.w_\\xef\\x15z,\\x13@UW`lN\\x92GK\\x80\\xc7\\xa7\\xeb\\x88\\x8a|\\xf2h!ii\\xb2\\xb4\\x9a\\x13\\x1e\\x92\\xd2\\x96\\x02\\xfd\\t\\x03\\xafn\\xb7\\xed\\x8b\\xcbp\\xd6F\\xca\\x02\\xd1%\\xc8\\xfe\\x19\\\\\\x7f\\xfa\\xc5c6\\xa5\\xcb\\xa2j\\xfajX\\xeab\\x96\\'\\x0b\\x19\\xf7\\xb9t\\xa8\\xb5\\xedm]\\x0f\\xf5\\xc2\\x87\\xab\\x86G\\xd9\\x9b?@\\xe0\\xaa\\xca\\xbdM\\x1f\\xbc\\xc0d\\x92\\x9eY\\'*K\\xb1\\x88\\x9b\\x9b|\\xb1\\xa4P\\xb6`+\\xb3\\x85\\xa3@\\xe8\\xb5\\xd2\\x06\\xd6\\xedpl\\xbbZ\\xfbmm\\xb1[\\xa4\\x8a\\x99\\xe9\\xea?\\xb5f\\xaa\\x9a\\x96(\\xd53\\tA$\\x8d\\xed\\xbd\\xb1d\\x87?\\\\\\xb2J\\x85\\x8a~&\\x84\\xcd)\\x95\\xf9Kuf\\xfc\\xa5\\x81 \\xde\\xfaq9\\xb2r\\xd4W\\xf7F\\xab\\r/\\x91+ZMQ\"i\\xa5\\x95\\x80\\xea\\xeeX\\xdbm\\xaez\\xe2\\x85\\xc7*\\xb0gTrS\\xcd,\\x0e\\xd4\\xb62FH`\\xa5\\xda\\xe3m\\xec|bas]uh\\xc9;\\x82\\xea\\xd1\\x82E\\xaeC\\x03o\\xd7\\x15\\xce \\xa9\\x9ds\\x8a:\\x97T\\xa9UV\\xd3\\x14\\xeaH\\xb1\\xd4,\\xc0\\x11{\\x13q\\xf4\\xbd\\xf1Xa>j\\xc7\\x97&7\\x07\\xa2&\\xb1\\xa6\\x9f\\xd5Q][[\\xd5\\xaf3\\xc8\\xc0\\x1bm\\xf9\\x89\\xdf\\x1a!\\xe2n\\x10x@\\xac\\x96)\\\\\\x81\\xad\\x1e\\t\\x1c\\x83m\\xc7\\xe5\\xb63\\xca\\x98}\\x00\\x95\\x02A\\xb8*,\\t\\xb7B\\x01\\xc3\\x9a\\xc7\\xa6\\x96\\xb2\\x0f\\xd91IK\\x1ct\\xe8\\x8e\\xc4\\x95/-\\x89v\\xb0>O\\xff\\x00\\xcct\\xe5\\xf4\\xfe\\xec\\x92\\x95\\xfe\\x0eLy\\xd68\\xb7\\x12W\\xda6i\\xc3\\x99\\x96CN\\xb9<r{\\xc0\\xa8\\x1aXFbUB\\x0e\\xb1\\xa4\\xef\\xbd\\x87a\\xe7\\x19\\x98r\\xf3]\\xae\\xba\\r\\xaf~\\xa7\\xae\\xf8\\x9f\\xcf%\\x92\\xa6\\x9e(\\xc9\\x99\\xca\\xb9/yY\\x94\\x8e\\x80\\x80M\\x81\\xdc\\x8d\\xbfLW\\x19$E7S\\xafU\\x8f\\xcf\\xfd\\x8co\\x83\\x12\\xc5\\x1e\\'&y\\xbc\\xb3\\xe5C\\xe0\\xec\\xd9tp6\\x92\\x91_v\\x1d/\\xbd\\x87\\xc3\\xa9\\xfa\\x9c:\\xc8\\xe6X\\xda\\xa9\\x80@\\x0c\\x05\\x00\\x93\\xa3\\\\\\x8b\\x90{7K}q\\x10\\x84\\xe8fbG{_\\x12u\\x9cC.d\\x94\\xcb[N\\x8e!^Y\\xd8]\\x97\\xb7m\\x8f\\\\9\\xc5\\xbd%\\xa34\\xb7\\xb1\\x1fvV\\x9a@Y\\x15\\x87\\xa8\\x8b\\xed\\xfe\\xfb\\xe3\\xb38\\xe6\\x92*C,\"7\\x08@Q\\xd4\\xa5\\xc1\\r\\xe0\\x8d\\xef\\x7f\\x8e\\x1bU\\xd4,\\xb2\\x96\\xe5\\x95u$\\xea\\r{\\xfc\\xcf\\x81lHO)L\\xb6\\x9dI\\x91\\xf6:5\\xbf\\xa9A\\xd3\\xb5\\xbb\\x0e\\xbf G\\x9c\\x1bM1\\xa5i\\xa1\\xbe^\\nVS5\\xc9\\x1c\\xc5\\xdcv\\x17\\xef\\xf0\\xe9\\x8d^\\xba\\x86\\x8dr\\x93$\\xc2\\xba\\x8ahL\\x8a\\x0cP\\xdd]\\xd5\\x8f)\\xc9-\\xb1!\\xec\\x07\\xd4\\x0cfT\\xb10\\x92)4\\x00R\\xc0u\\xde\\xe4\\r\\xfe\\x98\\xdbs\\x88\\xa6I\\xd6\\x1a\\xa3\\x0f*9\\xb9\\xf2\\xa37\\xf7\\xaa\\x0bh\\xbd\\xaf}\\xb4m\\xd8l1\\x13\\x92g^%,{(\\x861A\\x00nbH\\xd5\\x94\\xb1\\x02\\x14\\x1d\\x12\\xdf\\xd4\\xe5\\xb7\\xd9\\x81$\\x0f\\x06\\xe6\\xd8B\\x96\\xbe\\xa2\\x929 \\x89P\\xb5DZ\\x188\\xd7d\\xd5po\\xfc\\xdb\\x0f\\x97\\xd7\\x16\\xea\\xcc\\x9d$\\xa6\\x968\\x8cP3\\xacQ\\x88\\xd8j\\x8e \\x05\\xd9cc\\xd3s{b/.\\xcb\\xa2\\x9b?\\xcc\\xdd\\xe5\\x8a\\x9c\\xd2\\x86{H\\xa0\\x00T\\x01\\xb2\\x83\\xbfN\\x98NZ\\xd8\\xd4-\\xda\\x19\\xc2\\x95\\x15\\x19\\x8d>]\\x9a\\xf3)\\rK\\xaa\\tt\\xb0\\x00\\x9b\\xdbP?\\x02E\\xc7\\x9e\\xf8\\xb3d\\x19D\\x9c\\x87A\\x14\\xedS:F\\xcc\\x97)\\xf8\\x87\\xab\\x02:\\x05\\x17\\x16\\xff\\x00\\x16:\\xb2\\xbb\\xf7\\x93\\x882\\x86\\xac)\\x04\\xb1\\xcd\\x1a\\xb2\\xdc\\xad\\x8a\"\\xbd\\xf76\\xb1\"\\xc0b\\xf1$\\x9e\\xe3\\n\\x87,\\xaa\\xf2\\x04\\xb2.\\xe5\\x98\\xed\\x7f\\x862r\\xf0_\\x1e\\xe9\\x8a\\xd2d\\xf9-=9\\xfe\\xc6 H\\x94\\x19Z\\xddm\\xd4\\xec.|\\xf5\\xc5\\x07\\xda~EI\\x97R\\xe5\\x99\\x96^\\xf2\\xf2\\xaa\\xea9\\x92;\\xf4\\xe61F\\xbe\\xdd\\x82\\xa8\\xdb\\x17\\xe7\\x12T\\xadM\\x1b\\xc0R%`\\x8c\\xcc\\xc0\\x19\"e7u\\xe9\\xd0\\xfa{\\xdb\\x14\\xbfj\\xb4\\xc6.\\r\\xcb\\x1d\\xc9\\x05g\\xd1\\r\\xc9%\\x95P\\x8b\\xb1\\xf3{\\x01\\xf5\\xc5CDI\\xdb(Y\\x844\\xd9\\xbf\\x12\\xf1\\x05u-z\\xb3\\xc9]-JF\\xe3N\\xb52\\xb7\\xaa\\xd7\\xebf\\x1f\\xe9\\x8e\\x87\\x87\\xf3\\xff\\x00z\\x87\\x99C;D\\x14\\xac\\x91\\xd32\\xab!\\xd8\\x066;\\xdf\\xaf\\xc6\\xd8\\x84\\xe2j\\x19\\xb2\\xce)\\xcdb\\x89\\xbf\\xf2\\xf5\\xee\\x8cS\\xa1*\\xfb}.v\\xc6\\x87G\\x91\\xd5\\x1e8\\xcc\\xeak^9\\xe8e2\\x13\\x13k\"E:t\\x02:\\r$v\\xc3\\x92\\xdd\\xd9\\x8c1\\xa7v7\\xcd\\xb2\\xcc\\xee\\n\\x88\\x93+\\xcb)j\\xe9\\x14i\\x0f$\\x8a\\x85\\r\\xee\\xb6\\xb9\\x1b\\x8e\\x97\\xf9\\xe2\\xb9U\\x90f\\xbe\\xf1]\\x98gy[\\xbd\\x12\\x85E\\xf7J\\xc4i\"\\xbd\\xc0>\\x9d\\xdb\\xa1\\xdc\\x8e\\x97\\xc6\\x88\\xd9#\\xf3V$\\x85\\x1a\\x1b\\x86y9T\\xebc\\x7f\\xe5*I\\xb0\\xc4\\x7f\\xb4\\x8ah\\xa8\\xfd\\x9fVGL\\xa9\\x1b{\\xc5*\\xb4\\x91\\xa8B\\xc7\\x98E\\xce\\x9b_\\xae#\\x1c\\x14t\\x8d\\'\\x1bVTb\\x9eB)\\xe2\\xfd\\x8fX\\xabN\\xce\\x90\\x92?2\\xea6\\xb87\\xd2\\xc6\\xc7pl,6\\xb18\\x7f\\x92\\xba\\xb6]\\'\\xbdTG\\x11\\x8c\\x16\\x05YO(\\xea,K7@N\\xe6\\xc3m\\xce)\\x11\\xcfT\\x94\\xf6j\\x9a\\x91\\x11:\\x89\\xd6J\\x97\\x02\\xc1\\x8frm\\x8b\\x9f\\t\\x07\\x193\\xc5%R\\x9a\\xe6\\x90\\xact\\xb1\\xc2\\x19\\xd4\\xdc\\x92KXl~\\'\\xc7\\x9ca\\x9a\\x1ccc\\xc2\\xed\\xe8\\xbcA\\x99,\\x19(\\xad\\x19\\x9dUd\"h\\xe2\\x1c\\xc8!\\x0b\\xa5\\xa3f\\x05Yo\\x7f\\xcaF\\xf68\\xce\\xb3H\\x9b\\x888\\x92\\xa9i\\xe40\\x86x\\xc1,O}\\xafa\\xf2\\xc5\\xbb0JL\\x97&\\x95\\x9d\\x15!*$\\xd1\\xa5\\x80f\\x0cTzA\\xb7F6\\xf1|W&\\xa8\\xcb)k\\x0b4^\\xed\\x1c\\xac9\\x92\\xa9p\\xc1GB\\x08m\\xba\\xf6\\xdf|c\\x82I7%gnWP\\x8c\\'\\xa2\\xb1\\x95\\xe6\\xadG*\\xbd$u\\x154\\xf1\\xcaT\\xb4\\xd1\\x94\\x8fU\\xed\\xe4\\xf8\\xc4\\x95g\\x16\\xe72\\xcd\\xab\\x91L\\xabk\\x00\\xd1)\\xd8w\\xdf\\x0f\\xa0\\xaa\\xca\\xe8+Z\\nOF[2\\x11b\\xa4\\xa9=M\\xb5\\x13{\\xfcO|B\\xe6\\xd4\\x95\\xfe\\xfa\\xc2\\x89\\xa4z`\\x00\\x8fC\\xab\\x00\\xb6\\xd8^\\xf8\\xea\\xb8N\\x7f(\\xff\\x00\\':y\"\\xb8\\xdb\\xfc\\x13R0\\xe5E\\xbf\\xf1?\\xd3\\xf2\\xe3\\xb3\\tD\\xedK+\\xefx\\xb7\\xb7\\x9dF\\xf8w\\xc3Yd9\\xe4\\xb2\\xc4\\xf5\\xc2\\x9db]j\\xea\\xa0\\xea,\\xc1m\\xbd\\xbca\\x97\\x16PG\\x93\\xe6q\\xe5\\xe6\\xaf\\x9e\\x12\\x99*\\x03\\x91\\xa2\\xfc\\xcfP[\\x02q\\xac)\\xcd\\x7f~\\x84\\xe5\\xb5\\x07cGed\\x1a\\x94\\x93k\\xfd-\\x82FT2X\\x10\\xc6\\xc7\\xe1\\xd3\\r\\x9d\\xa9\\xc3i\\x13\\x0b\\x9b\\xe9\\xf5\\x9d\\xc0\\x1d\\xbe\\x7f\\xd3\\nQE\\x1c\\xef\\x00it\\x994\\\\\\x87\\xddnm\\xb0\\xfa\\xe3\\xae\\xce*\\xd0\\xc5\\xef0x\\xd5t\\x08\\xe0\\x11\\x13o\\xe2\\xf3\\xf5\\xff\\x00L4\\xac+Q4\\xb2\"hVt\\xd8\\x0b\\x0b\\x80A\\xfdo\\x8b6s\\x92\\x8c\\xbe\\x95\\x9cM+j\\x90B5\\x00/pN\\xaf\\xd3\\x15\\xda\\x85X\\xcc\\x8b\\xea$2\\x1d\\xf7\\xf3\\x88n\\xd6\\x8d\"\\xa9\\xab\\t\\r(11e\\xf4\\x9fM\\xf0\\xd6J`\\xac\\xeaG\\xfb\\xb6\\x1e\\xd1\\xd4&\\xb7\\x121TU,7\\xeaGl&\\x0e\\xa0X\\xee[s\\x8c\\xf6\\x8d\\x95654\\xc1\\xb5\\x0bw#l<\\x86\\x84-2\\xc6\\x14kFf\\xb7\\xc6\\xc2\\xe3\\xf4\\xc1\\xf4\\xaa\\xea\\xb3\\x0b\\xea8p\\xd5\\x16\\x8c\\x11`\\xd6\\xdb\\xfe\\xa1\\x7f\\xf5\\xbe%\\xb6]%\\xb1\\x15\\xb0\\x8d\\x98\\xb1Q\\xb1\\xd4\\x05\\xed\\xdf\\xface\\xcf\\x9bFv\\xc4\\xb8/\\xeep1$\\xf56=H\\xe8\\xdf\\x11\\x8c\\\\\\x91\\xee\\xc5A\\xbd\\xf6\\xfd1w\\xcfsiFsP@:f\\xcb`X\\x8a\\x8b\\x95-\\x1a\\x9b\\xdb\\xe6I\\xc4\\xb5\\xaae=\\xb4\\xd1?E\\x98\\'\\xbbRC\\\\i)b,\\x1a\\xd1H\\xd2H\\xb1\\x82N\\xa3k\\x8d\\xfc\\x8bXv\\xef\\x88<\\x9e\\x92\\x96\\x83\\x88\\x1a*\\xca\\x99FV\\xe5\\x9b\\x98\\x8e\\x11\\xe4\\x8fr-q\\xbfk\\x8e\\xa7|$\\x90\\xeb\\xca\\xe0Xh\\xaa\\xdf\\x92\\x00%i\\x99S_O\\xcf\\xf1\\x16;\\xf7\\xf9\\xe0\\x95\\xa7\\\\/M]C1\\x9d\\x919j\\xe1\\x95\\x94\\x92\\x08\\xd9\\x85\\xfdC\\xe8o\\xb6\\x1aj\\xaa\\xc8\\xe1;\\xba&xbjZ\\x9e \\xab\\xae\\xab\\x92\\xaeXuH(\\xdd\\x96\\xeeX\\x8bjk_\\xa0\\xd8u\\x1fli\\xb9\\x1c\\xab]\\x90\\xd3\\xca\\xaf\\xaeM\\x91\\x89M\\x17\\x16\\xf4\\xddOO\\xf5\\x18\\xc7\\x92\\xaeTf.\\x15$k&\\x91N}#\\xa7\\xa4\\x03a\\xd0\\xed\\xd3lh\\x19G\\x1bS\\xd2\\xcc}\\xf3)\\xcc\\xa7\\xa4h\\xc4a\\xa37p\\xc3\\xbd\\x8d\\xb6\\xf9\\x9cC\\xe3v>3\\xec[fI\\xe5\\x8a(\\xdeh\\x83FF\\xa7K\\xd9\\x94v7\\xf9\\xe2\\x8b\\xed\\x9aG\\xfd\\xcbH\\xd9\\xb54uqh7\\xddu\\\\\\x15\\x00t\\x16\\x18\\xba\\xfe\\xf2\\xd2\\xc6\\xbbp\\xb6v\\x18\\xff\\x00\\xcfH\\x94\\x0f\\x99/\\x8aO\\xb6\\n\\xda:\\xeff\\xb2N\\x8b\\xc8\\xa9\\x15p9\\xa7\\x96D2/\\xe2\\x10vSk[{\\x8f8\\xb85d\\xca\\x12[fa\\xc7\\x95\\x0c\\xfe\\xd0\\xf3\\xd8\\xa9\\xe3\\xfc)37!\\x94nT\\xc8\\x05\\xc7\\xd7\\x16Z\\xdc\\xd6qW\\\\\\xa6\\x81\\x1f\\x97<\\xc1@\\x91T\\xc8U\\xacm\\xa9p\\x97\\x10\\xf0\\xf3\\xd3q}}RS\\xcbQN\\xb5\\xa2)\\x82\\x8fR\\x1dJu\\xae\\xe6\\xe9v\\x1d\\xba\\x8f\\x9e#\\x05<\\x159\\x9ec,\\x8d\\x04\\x91\\xc9SQ\\xad\\x016K\\xca\\xd66\\xbe\\xe7n\\x97\\xfbc\\x19dN)\\xa2c\\xf0ob\\xed\\xc72@\\x0cM\\x92\\xa6\\xc2\\xc5\\x1a`,v\\xecc\\xf8\\x0c\\x12\\xb7\\x88$\\xe2>\\x10\\xce\\xe9\\xbfg\\xa5/+\\xdd\\xa7\\x05d\\x0c[\\xf1\\xc0\\xec\\xa3\\xf9\\xb0\\xbdE,-UMQ\\x02\\xc54\\xb06\\xe6\\xfa\\x8c\\x8a\\xacT8=\\xfa\\x03\\xbfQo\\x9e\\x1a\\xcd_O\\x1f\\x0c\\xe6\\xe9\\r\"\\xadBQ\\xd3\\x833\\x10V\\xfe\\xf4\\x80\\x10\\x07{\\x92w\\xf8\\xe0\\x86^MR\\xd9\\xb4\\x97(6\\xd9Z\\xcb\\x16\\xb9)Lj\\x0c\\xf0\\xbb\\x04\\xe5\\x1by\\x07m\\xaf}Z\\x7f\\xd9\\xc5\\xaf!\\xe1\\xec\\xc6*\\xc4\\x13S\\xd4B\\xa19\\xa1\\x95M\\x9a\\xfd\\x03\\x10v\\xf9b\\xb9G\\x0b\\xe51CW\\xef4\\xb3G3\\x8e\\xaf}=\\xeeA\\xe8\\x08\\xd8\\xdb\\xc0\\x18\\xd22^-\\xa2\\xe5\\xc2\\'\\xcd\\xc5K1\\nc\\x8dAo\\x1e\\x7fN\\xbf<g\\xeag:\\xf8+\\xb3?M\\x18?\\xf3\\xd1\\x17\\xc59\\x84\\xb5\\xd9l\\xb1\\x1b\\x06\\x88\\x01\\xa8\\x1d\\x89\\xd6\\x0e\\xf7\\xf8\\xe2\\xa9\\x9d\\x98\\xe0\\x8a\\x90I\\x1a\\xc9\\xeb\\xb9\\x07m#\\xafQ\\xe7\\x13\\xd9\\xa8\\x83\\xdf\\xa5\\x85g\\xe4\\x18\\xd8\\xf3#\\x90\\x04p\\xda\\xbf.\\x93\\xd0\\x8f\\x07\\x11r\\xd0\\x07\\xdd\\xc8\\x95\\x1bbc\\x94\\x83p{\\x01{\\xdb\\x0b\\x14xRgO\\xa8\\xf9\\xbf\\x81\\x17\\xefb\\xb6\\xb5\\xd9\\x84h\\x06\\xa9\\x14\\x00\\x17Akj\\xd3\\xf1\\xe9k\\xe2F\\xa5i\\xab%2\\xc9GP{\\x03\\x1c\\xbc\\xb0G\\x9d [\\xbe\\x1b\\xa5\\x155\\x1d\\xd5\\xa9\\xa1\\xba\\xb1*\\xd2\\x07F7?\\xc5q\\xb6\\x1fF\\x0c\\xd1\\xaf\\xaa\\x07\\xd04\\xdc\\xab\\xb0\\xfaXt\\x1d>\\x98\\xd6U\\xfe\\xa75I\\xf7\\xeehy\\x0f\\x0b\\xcdGQWQ?\"X\\xf9h\\x08F\"\\xc7^\\xc7\\xf5\\xc0\\xf17\\x0cTW\\xd7\\xd3\\xcf\\x13B\\xb1\\x9a*t\\n\\xc4\\xdciKx8\\xbb~\\x14\\x10U\\t\\xae\\x97\\x8c3\\x03\\xd4\\x05`\\xc7o\\x86\\x18\\xc3_A\\x98\\xc8\\xd1\\xd2\\xd4G3\\xd2\\xc5\\x14s\\x05$r\\xc9[\\xa8$\\x8b^\\xc4t\\xc7\\x07\\xbd\\x92\\xad\\x1e\\x93\\x8c\\x1c\\xb6g\\xff\\x00\\xb9\\x15\\x0c}R\\xd3\\x93\\xde\\xdd\\xbe\\xe3\\x03\\xfb\\x88\\xc4z\\xaa#\\x07\\xc0\\x8c\\x1f\\xf4\\xc6\\x8b\\xcaF\\x17\\x06[\\x1e\\x86\\xd7\\x07\\x1c` ^\\xc4\\x8e\\xd6\\xbe\\'\\xa9\\xcb\\xe4\\xafg\\x1b\\xfa\\x19\\xba\\xfb?+m5\\n\\xc7\\xc9]\\xfe\\xf7\\xc2r\\xfb=-\\xbb28\\xf8\\r\\xff\\x00\\xfbcH t\\xdfo8(\\x1e\\xa2-k\\x1c\\x1d^_!\\xd3c\\xf0g\\x0f\\xec\\xe5\\xb4\\x00\\xa6?\\xa6\\x91\\x84\\x1b\\xd9\\xbdN\\xe1]>a\\xc0\\xfe\\x98\\xd3\\xd9\\xd0l\\xd1\\x9b\\xf9\\x06\\xf8\\'4\\x7f\\x08a\\xf4\\xc3\\xeb2\\xf9\\x0e\\x97\\x1f\\x832\\xff\\x00\\x86\\xd5@\\xdd]/\\xd4\\xdd\\xaf\\x7f\\xd4c\\xa4\\xf6oWu(K7CfP>\\xc5\\xb1\\xa8\\x07\\xd4/b>$aK\\x13bX\\x1c>\\xb3/\\x91t\\xb8\\xfc\\x19[\\xfb6\\xac\\xe5\\xfe\\x13NdSq\\xac\\xc6\\x15\\xbe\\xc4\\xdb\\x05\\x1e\\xcc\\xab\\x97Q\\x12\\xb9\\r}\\xb5\\x01k\\xf8!\\xb1\\xabi]\\x8e\\xa5_\\xad\\xf07][\\xcb\\xbf\\x8b\\xe0\\xeb2\\xf9\\x0e\\x97\\x1f\\x835\\xa6\\xe0\\\\\\xd2\\x914\\xd3<\\x8a\\x9e\\xa5ez\\x87!\\x81\\xeb\\xb6\\xae\\x9b\\x9e\\xfdp\\x8c\\xfe\\xcf\\xf3)=Bc\\x1b\\xdf\\xf3s\\xda\\xe0\\x0e\\x96&\\xe7\\xf5\\xc6\\x9cd*l52\\xfc\\xf0\\x1c\\xe3}\\x89_\\x99\\xbe%z\\xa9\\xdd\\x95\\xd3\\xc1i#:\\x9f\\x81\\xe7\\x9c\\x06\\x10C\\x14\\x9a\\xae_\\xde\\xe5van\\x86\\xe2\\xd6\\xef\\xb0\\x18@\\xfb:\\x9eM\\xde`\\xad\\x7f\\xe0\\x95\\x88#\\xea\\xbf\\xd7\\x1aZ\\xcd\\xa6\\xc7k\\xf4=F\\x0e&\\xbd\\xb4\\xb0\\xf9a\\xf53\\xf2\\x1e\\xc4L\\xc7\\xfe\\x18R=\\xfd\\xe1ISk\\x01-\\xad\\xe6\\xfba\\x7f\\xf8sIN\\xf0\\xb5\\x17,\\x15\\xba\\xe9\\x91\\x95\\x82\\xaf\\xc8\\x8b\\x1d\\xf7\\xc6\\x8e\\xd2\\x11\\xd6\\xc3\\xe6\\xb8+O\\xb0\\xd1\\xcb\\xf1\\xb6\\x0e\\xab\\'\\x91t\\xd0\\xf0S \\xe0\\xc9\\xa3\\xaa\\x92\\xb0f\\x15RU8\\xfc\\xd2\\xc8\\r\\x887\\xdbM\\xb6\\xbfn\\xdbaZ\\xae\\n5\\x13\\x19\\x85v\\x82\\xcc]\\xbf\\x02\\x10I$\\x93\\xba\\x81\\xe4\\xf9\\xc5\\xacJ\\xd7\\x1e\\x87\\x16\\xf8\\xec~\\x987\\xbc \\xea\\x8b\\xf6\\x18\\x9f~@\\xbd<W\\xd0\\xa3\\xc7\\xc0%$s\\x14\\xf4D\\x9b\\x05\\xd5\\x07A\\xdc0\\r\\xbf\\xe9\\x81\\xa5\\xe0\\'\\xa7J\\x98\\xd6\\x9f%\"uTf\\xf7y\\x00!Y\\\\]uo\\xba\\xfc?\\xa6.\\xebS\\x19\\xeb\\xa4|\\x80\\xbe\\x1c\\xf3)\\xd9F\\x96[\\xff\\x00\\x8bm\\xf0\\xfd\\xf9\\xf9\\x0fb\\x1e\\n\\xdeW\\xc2T\\x94\\x02\\x19\\xe1\\xa2\\xa0\\xa6\\xac\\x03\\xf1f\\xa7\\xa6R\\x1c\\xdc\\xf4W\\x04X\\x8d\\x887\\xc3\\xc6\\xc8\\xa8\\xc3k:\\xc1\\x07Qd\\x85V\\xc7\\xe86\\xc4\\xc5\\xa3;\\x8d?L\\x15\\x81\\x1d\\xc5\\x8f\\xc3\\x10\\xf2I\\xf7e,i\\x10\\xcf\\xc3\\x99D\\xcc\\xe6zQ;=\\xcb\\x19\\x11\\t$\\xf7;^\\xff\\x00\\x1cw\\xee\\xeeO\\xc8x\\x7fgD\\xc8\\xea\\xa8\\xc3H\\x06\\xc0\\x92\\x00\\xb0\\xdbs\\xda\\xd8\\x95b\\x00\\x00\\x9c\\'\\xb1=\\xcf\\xc0`Yd\\xbb0\\xf6\\xa2\\xfb\\xa0\\x8bOO\\x12\\xaaE\\x02\\x00\\xbd\\x06\\x92\\xd6\\xfa\\x9c(\\x02\\xda\\xc1l\\x07\\x88\\xd7\\t\\xbd\\x87\\x9f\\x95\\xf0\\x1c\\xc4\\x1f\\x99\\xcd\\xfe\\x1b\\xe2l\\xae#\\x9a\\xfaJV\\x80\\xcdP\\xcf\\n*\\xb0iY\\xca\\xa8\\r\\xb5\\x89\\xb7L\\x1e\\x82\\x9e\\nj.U\\x18\\x9a\\xa6\\x12Y\\xd1\\x16BU\\x98\\xdd\\x8d\\x98\\xde\\xd7$\\xe0\\x9a\\xac\\x16\\xc3\\xa6\\xe3\\xe1\\x80g:/~\\xbdp\\xafBQc\\xb1-D-\\x12S\\xc7\\x04P\\x02y\\xa2B\\xcc\\xe6\\xfd4\\x90m\\xf7\\xc0TN\\n\\x95UURou78h\\xa0\\x16\\xd3\\xd0u\\xdb\\x1d\\xb8\\xde\\xe6\\xf8M\\x94\\xa0\\n\\xaa\\xda\\xec_`|\\x00p-\\xcbb\\xa3oI\\xb8\\xdf\\xa7\\x8c\\'\\xd6\\xd7\\xc0\\xb6\\xc6\\xc3\\x08\\xba\\x07\\x94\\xee\\xedi,\\xa7\\xbd\\xfaa!\\x0c\\xe1O>Q~\\xda\\t?.\\xa3\\x06\\xd4M\\xf7\\xe9\\x80\\xddM\\xeeI\\xf8\\xef\\x85aA=\\xdf{\\xbc\\xce\\xc4\\xf6\\x1b`\\xc1J\\xb1\\xd2u\\x0f\\x9e;\\xf3\\xb1\\x06\\xd6\\x1e\\x06\\x01\\xa4 \\x00\\x00\\xfb`\\x1d\\x07IH>\\xa2\\x96\\x03\\xcd\\xb0aT\\x84~eo\\x82\\xe1\\x01f-p6\\x17\\xe9\\x85\\x84`.\\xdbo\\xdb\\x00\\x05\\x99\\x84\\x9d\\x88\\x1dv=0\\x9b\\xc0X\\x0b1\\x1e7\\xeb\\x87\\x1a\\x02t$\\xdf}\\xce\\n@\\xb6\\xc2\\xd7\\xc0\\x03t\\xa6Y\\x16\\xee\\xe6\\xdd\\x88\\'\\x02\"D\\xb5\\x97Q\\xfba\\xc0\\x85omM\\xb9\\xb7\\\\#\\xcb\\xd2\\xe4\\x86n\\xfe<\\xe1\\x81\\xd7 \\x01c\\xf6\\xc1\\\\1\\xdcj6\\xea\\x0e\\xd8X\\xc4\\x18\\xeeO\\x9d\\xb0W\\xa5OI\\xd4\\xf7&\\xddp\\x00\\xd4\\xce\\xab\\xd6;\\x1b\\xf7\\'\\x1d\\xef(M\\xb4\\x95\\xf3\\xb5\\xf0\\xb8\\xa7Ck\\x96\\xeaG\\\\\\t\\xa5\\x8d\\x03\\xe8\\x04[~\\xb8-\\x00\\x99*\\xc0Y\\x99o\\xf5\\x04\\xe1\\xbc\\x82Pl\\n\\x8f\\xfa\\xb6\\xc1\\xa4&2t\\xf7\\xf8a!3\\x94$\\x90lH\\xe9\\x86\\x80.\\xaa\\x80l^0>8:\\xce\\xea.\\xcfa\\xe4a\\xbb\\xce\\xfc\\xb7\\xfc\\xb6\\x1d\\xad\\x86SL\\xca\\t\\x01o\\xaa\\xdd1Kb\\xa2mk\\x05\\x882\\x02;\\xdf|p\\xac\\x8e\\xe4Z\\xed\\xfe\\x11\\x8a\\xcb\\xd7H#r\\x15=$\\x0e\\x9dzu\\xc2\\x91\\xcceMD*\\x9e\\xb7\\\\W\\x01\\x16#U\\x1d\\x87\\x91\\xda\\xf8\\x04ePt\\x8b\\x02o\\xbe\\xff\\x00\\xe7\\x8a\\xcc\\xf5\\x92\\xc1 \\x11\\x90\\x0b\\x1b\\x16\"\\xe7\\t\\xa6c;\\x82\\\\\\x82ok\\x9b\\xe1\\xf0b\\xd1\\xff\\xd9'"
      ]
     },
     "execution_count": 25,
     "metadata": {},
     "output_type": "execute_result"
    }
   ],
   "source": [
    "# The raw content (its a binary file, meaning we will need to use binary read/write methods for saving it)\n",
    "image_link.content"
   ]
  },
  {
   "cell_type": "markdown",
   "metadata": {},
   "source": [
    "**Let's write this to a file:=, not the 'wb' call to denote a binary writing of the file.**"
   ]
  },
  {
   "cell_type": "code",
   "execution_count": 26,
   "metadata": {
    "collapsed": true
   },
   "outputs": [],
   "source": [
    "f = open('my_new_file_name.jpg','wb')"
   ]
  },
  {
   "cell_type": "code",
   "execution_count": 27,
   "metadata": {},
   "outputs": [
    {
     "data": {
      "text/plain": [
       "11509"
      ]
     },
     "execution_count": 27,
     "metadata": {},
     "output_type": "execute_result"
    }
   ],
   "source": [
    "f.write(image_link.content)"
   ]
  },
  {
   "cell_type": "code",
   "execution_count": 34,
   "metadata": {
    "collapsed": true
   },
   "outputs": [],
   "source": [
    "f.close()"
   ]
  },
  {
   "cell_type": "markdown",
   "metadata": {},
   "source": [
    "Now we can display this file right here in the notebook as markdown using:\n",
    "\n",
    "    <img src=\"'my_new_file_name.jpg'>\n",
    "    \n",
    "Just write the above line in a new markdown cell and it will display the image we just downloaded!"
   ]
  },
  {
   "cell_type": "markdown",
   "metadata": {},
   "source": [
    "<img src='my_new_file_name.jpg'>"
   ]
  },
  {
   "cell_type": "markdown",
   "metadata": {},
   "source": [
    "### Example Project - Working with Multiple Pages and Items\n",
    "\n",
    "Let's show a more realistic example of scraping a full site. The website: http://books.toscrape.com/index.html is specifically designed for people to scrape it. Let's try to get the title of every book that has a 2 star rating and at the end just have a Python list with all their titles.\n",
    "\n",
    "We will do the following:\n",
    "\n",
    "1. Figure out the URL structure to go through every page\n",
    "2. Scrap every page in the catalogue\n",
    "3. Figure out what tag/class represents the Star rating\n",
    "4. Filter by that star rating using an if statement\n",
    "5. Store the results to a list"
   ]
  },
  {
   "cell_type": "markdown",
   "metadata": {
    "collapsed": true
   },
   "source": [
    "We can see that the URL structure is the following:\n",
    "\n",
    "    http://books.toscrape.com/catalogue/page-1.html"
   ]
  },
  {
   "cell_type": "code",
   "execution_count": 39,
   "metadata": {},
   "outputs": [],
   "source": [
    "rest = requests.get('http://books.toscrape.com/index.html')"
   ]
  },
  {
   "cell_type": "code",
   "execution_count": 40,
   "metadata": {},
   "outputs": [],
   "source": [
    "soupRes =  bs4.BeautifulSoup(rest.text,'lxml')"
   ]
  },
  {
   "cell_type": "code",
   "execution_count": 47,
   "metadata": {},
   "outputs": [
    {
     "data": {
      "text/plain": [
       "[<li>\n",
       " <a href=\"catalogue/category/books/travel_2/index.html\">\n",
       "                             \n",
       "                                 Travel\n",
       "                             \n",
       "                         </a>\n",
       " </li>,\n",
       " <li>\n",
       " <a href=\"catalogue/category/books/mystery_3/index.html\">\n",
       "                             \n",
       "                                 Mystery\n",
       "                             \n",
       "                         </a>\n",
       " </li>,\n",
       " <li>\n",
       " <a href=\"catalogue/category/books/historical-fiction_4/index.html\">\n",
       "                             \n",
       "                                 Historical Fiction\n",
       "                             \n",
       "                         </a>\n",
       " </li>,\n",
       " <li>\n",
       " <a href=\"catalogue/category/books/sequential-art_5/index.html\">\n",
       "                             \n",
       "                                 Sequential Art\n",
       "                             \n",
       "                         </a>\n",
       " </li>,\n",
       " <li>\n",
       " <a href=\"catalogue/category/books/classics_6/index.html\">\n",
       "                             \n",
       "                                 Classics\n",
       "                             \n",
       "                         </a>\n",
       " </li>,\n",
       " <li>\n",
       " <a href=\"catalogue/category/books/philosophy_7/index.html\">\n",
       "                             \n",
       "                                 Philosophy\n",
       "                             \n",
       "                         </a>\n",
       " </li>,\n",
       " <li>\n",
       " <a href=\"catalogue/category/books/romance_8/index.html\">\n",
       "                             \n",
       "                                 Romance\n",
       "                             \n",
       "                         </a>\n",
       " </li>,\n",
       " <li>\n",
       " <a href=\"catalogue/category/books/womens-fiction_9/index.html\">\n",
       "                             \n",
       "                                 Womens Fiction\n",
       "                             \n",
       "                         </a>\n",
       " </li>,\n",
       " <li>\n",
       " <a href=\"catalogue/category/books/fiction_10/index.html\">\n",
       "                             \n",
       "                                 Fiction\n",
       "                             \n",
       "                         </a>\n",
       " </li>,\n",
       " <li>\n",
       " <a href=\"catalogue/category/books/childrens_11/index.html\">\n",
       "                             \n",
       "                                 Childrens\n",
       "                             \n",
       "                         </a>\n",
       " </li>,\n",
       " <li>\n",
       " <a href=\"catalogue/category/books/religion_12/index.html\">\n",
       "                             \n",
       "                                 Religion\n",
       "                             \n",
       "                         </a>\n",
       " </li>,\n",
       " <li>\n",
       " <a href=\"catalogue/category/books/nonfiction_13/index.html\">\n",
       "                             \n",
       "                                 Nonfiction\n",
       "                             \n",
       "                         </a>\n",
       " </li>,\n",
       " <li>\n",
       " <a href=\"catalogue/category/books/music_14/index.html\">\n",
       "                             \n",
       "                                 Music\n",
       "                             \n",
       "                         </a>\n",
       " </li>,\n",
       " <li>\n",
       " <a href=\"catalogue/category/books/default_15/index.html\">\n",
       "                             \n",
       "                                 Default\n",
       "                             \n",
       "                         </a>\n",
       " </li>,\n",
       " <li>\n",
       " <a href=\"catalogue/category/books/science-fiction_16/index.html\">\n",
       "                             \n",
       "                                 Science Fiction\n",
       "                             \n",
       "                         </a>\n",
       " </li>,\n",
       " <li>\n",
       " <a href=\"catalogue/category/books/sports-and-games_17/index.html\">\n",
       "                             \n",
       "                                 Sports and Games\n",
       "                             \n",
       "                         </a>\n",
       " </li>,\n",
       " <li>\n",
       " <a href=\"catalogue/category/books/add-a-comment_18/index.html\">\n",
       "                             \n",
       "                                 Add a comment\n",
       "                             \n",
       "                         </a>\n",
       " </li>,\n",
       " <li>\n",
       " <a href=\"catalogue/category/books/fantasy_19/index.html\">\n",
       "                             \n",
       "                                 Fantasy\n",
       "                             \n",
       "                         </a>\n",
       " </li>,\n",
       " <li>\n",
       " <a href=\"catalogue/category/books/new-adult_20/index.html\">\n",
       "                             \n",
       "                                 New Adult\n",
       "                             \n",
       "                         </a>\n",
       " </li>,\n",
       " <li>\n",
       " <a href=\"catalogue/category/books/young-adult_21/index.html\">\n",
       "                             \n",
       "                                 Young Adult\n",
       "                             \n",
       "                         </a>\n",
       " </li>,\n",
       " <li>\n",
       " <a href=\"catalogue/category/books/science_22/index.html\">\n",
       "                             \n",
       "                                 Science\n",
       "                             \n",
       "                         </a>\n",
       " </li>,\n",
       " <li>\n",
       " <a href=\"catalogue/category/books/poetry_23/index.html\">\n",
       "                             \n",
       "                                 Poetry\n",
       "                             \n",
       "                         </a>\n",
       " </li>,\n",
       " <li>\n",
       " <a href=\"catalogue/category/books/paranormal_24/index.html\">\n",
       "                             \n",
       "                                 Paranormal\n",
       "                             \n",
       "                         </a>\n",
       " </li>,\n",
       " <li>\n",
       " <a href=\"catalogue/category/books/art_25/index.html\">\n",
       "                             \n",
       "                                 Art\n",
       "                             \n",
       "                         </a>\n",
       " </li>,\n",
       " <li>\n",
       " <a href=\"catalogue/category/books/psychology_26/index.html\">\n",
       "                             \n",
       "                                 Psychology\n",
       "                             \n",
       "                         </a>\n",
       " </li>,\n",
       " <li>\n",
       " <a href=\"catalogue/category/books/autobiography_27/index.html\">\n",
       "                             \n",
       "                                 Autobiography\n",
       "                             \n",
       "                         </a>\n",
       " </li>,\n",
       " <li>\n",
       " <a href=\"catalogue/category/books/parenting_28/index.html\">\n",
       "                             \n",
       "                                 Parenting\n",
       "                             \n",
       "                         </a>\n",
       " </li>,\n",
       " <li>\n",
       " <a href=\"catalogue/category/books/adult-fiction_29/index.html\">\n",
       "                             \n",
       "                                 Adult Fiction\n",
       "                             \n",
       "                         </a>\n",
       " </li>,\n",
       " <li>\n",
       " <a href=\"catalogue/category/books/humor_30/index.html\">\n",
       "                             \n",
       "                                 Humor\n",
       "                             \n",
       "                         </a>\n",
       " </li>,\n",
       " <li>\n",
       " <a href=\"catalogue/category/books/horror_31/index.html\">\n",
       "                             \n",
       "                                 Horror\n",
       "                             \n",
       "                         </a>\n",
       " </li>,\n",
       " <li>\n",
       " <a href=\"catalogue/category/books/history_32/index.html\">\n",
       "                             \n",
       "                                 History\n",
       "                             \n",
       "                         </a>\n",
       " </li>,\n",
       " <li>\n",
       " <a href=\"catalogue/category/books/food-and-drink_33/index.html\">\n",
       "                             \n",
       "                                 Food and Drink\n",
       "                             \n",
       "                         </a>\n",
       " </li>,\n",
       " <li>\n",
       " <a href=\"catalogue/category/books/christian-fiction_34/index.html\">\n",
       "                             \n",
       "                                 Christian Fiction\n",
       "                             \n",
       "                         </a>\n",
       " </li>,\n",
       " <li>\n",
       " <a href=\"catalogue/category/books/business_35/index.html\">\n",
       "                             \n",
       "                                 Business\n",
       "                             \n",
       "                         </a>\n",
       " </li>,\n",
       " <li>\n",
       " <a href=\"catalogue/category/books/biography_36/index.html\">\n",
       "                             \n",
       "                                 Biography\n",
       "                             \n",
       "                         </a>\n",
       " </li>,\n",
       " <li>\n",
       " <a href=\"catalogue/category/books/thriller_37/index.html\">\n",
       "                             \n",
       "                                 Thriller\n",
       "                             \n",
       "                         </a>\n",
       " </li>,\n",
       " <li>\n",
       " <a href=\"catalogue/category/books/contemporary_38/index.html\">\n",
       "                             \n",
       "                                 Contemporary\n",
       "                             \n",
       "                         </a>\n",
       " </li>,\n",
       " <li>\n",
       " <a href=\"catalogue/category/books/spirituality_39/index.html\">\n",
       "                             \n",
       "                                 Spirituality\n",
       "                             \n",
       "                         </a>\n",
       " </li>,\n",
       " <li>\n",
       " <a href=\"catalogue/category/books/academic_40/index.html\">\n",
       "                             \n",
       "                                 Academic\n",
       "                             \n",
       "                         </a>\n",
       " </li>,\n",
       " <li>\n",
       " <a href=\"catalogue/category/books/self-help_41/index.html\">\n",
       "                             \n",
       "                                 Self Help\n",
       "                             \n",
       "                         </a>\n",
       " </li>,\n",
       " <li>\n",
       " <a href=\"catalogue/category/books/historical_42/index.html\">\n",
       "                             \n",
       "                                 Historical\n",
       "                             \n",
       "                         </a>\n",
       " </li>,\n",
       " <li>\n",
       " <a href=\"catalogue/category/books/christian_43/index.html\">\n",
       "                             \n",
       "                                 Christian\n",
       "                             \n",
       "                         </a>\n",
       " </li>,\n",
       " <li>\n",
       " <a href=\"catalogue/category/books/suspense_44/index.html\">\n",
       "                             \n",
       "                                 Suspense\n",
       "                             \n",
       "                         </a>\n",
       " </li>,\n",
       " <li>\n",
       " <a href=\"catalogue/category/books/short-stories_45/index.html\">\n",
       "                             \n",
       "                                 Short Stories\n",
       "                             \n",
       "                         </a>\n",
       " </li>,\n",
       " <li>\n",
       " <a href=\"catalogue/category/books/novels_46/index.html\">\n",
       "                             \n",
       "                                 Novels\n",
       "                             \n",
       "                         </a>\n",
       " </li>,\n",
       " <li>\n",
       " <a href=\"catalogue/category/books/health_47/index.html\">\n",
       "                             \n",
       "                                 Health\n",
       "                             \n",
       "                         </a>\n",
       " </li>,\n",
       " <li>\n",
       " <a href=\"catalogue/category/books/politics_48/index.html\">\n",
       "                             \n",
       "                                 Politics\n",
       "                             \n",
       "                         </a>\n",
       " </li>,\n",
       " <li>\n",
       " <a href=\"catalogue/category/books/cultural_49/index.html\">\n",
       "                             \n",
       "                                 Cultural\n",
       "                             \n",
       "                         </a>\n",
       " </li>,\n",
       " <li>\n",
       " <a href=\"catalogue/category/books/erotica_50/index.html\">\n",
       "                             \n",
       "                                 Erotica\n",
       "                             \n",
       "                         </a>\n",
       " </li>,\n",
       " <li>\n",
       " <a href=\"catalogue/category/books/crime_51/index.html\">\n",
       "                             \n",
       "                                 Crime\n",
       "                             \n",
       "                         </a>\n",
       " </li>]"
      ]
     },
     "execution_count": 47,
     "metadata": {},
     "output_type": "execute_result"
    }
   ],
   "source": [
    "soupRes.select(\"li\") [3:53]"
   ]
  },
  {
   "cell_type": "code",
   "execution_count": 35,
   "metadata": {
    "collapsed": true
   },
   "outputs": [],
   "source": [
    "base_url = 'http://books.toscrape.com/catalogue/page-{}.html'"
   ]
  },
  {
   "cell_type": "markdown",
   "metadata": {},
   "source": [
    "We can then fill in the page number with .format()"
   ]
  },
  {
   "cell_type": "code",
   "execution_count": 36,
   "metadata": {
    "collapsed": true
   },
   "outputs": [],
   "source": [
    "res = requests.get(base_url.format('1'))"
   ]
  },
  {
   "cell_type": "markdown",
   "metadata": {},
   "source": [
    "Now let's grab the products (books) from the get request result:"
   ]
  },
  {
   "cell_type": "code",
   "execution_count": 37,
   "metadata": {
    "collapsed": true
   },
   "outputs": [],
   "source": [
    "soup = bs4.BeautifulSoup(res.text,\"lxml\")"
   ]
  },
  {
   "cell_type": "code",
   "execution_count": 38,
   "metadata": {},
   "outputs": [
    {
     "data": {
      "text/plain": [
       "[<article class=\"product_pod\">\n",
       " <div class=\"image_container\">\n",
       " <a href=\"a-light-in-the-attic_1000/index.html\"><img alt=\"A Light in the Attic\" class=\"thumbnail\" src=\"../media/cache/2c/da/2cdad67c44b002e7ead0cc35693c0e8b.jpg\"/></a>\n",
       " </div>\n",
       " <p class=\"star-rating Three\">\n",
       " <i class=\"icon-star\"></i>\n",
       " <i class=\"icon-star\"></i>\n",
       " <i class=\"icon-star\"></i>\n",
       " <i class=\"icon-star\"></i>\n",
       " <i class=\"icon-star\"></i>\n",
       " </p>\n",
       " <h3><a href=\"a-light-in-the-attic_1000/index.html\" title=\"A Light in the Attic\">A Light in the ...</a></h3>\n",
       " <div class=\"product_price\">\n",
       " <p class=\"price_color\">Â£51.77</p>\n",
       " <p class=\"instock availability\">\n",
       " <i class=\"icon-ok\"></i>\n",
       "     \n",
       "         In stock\n",
       "     \n",
       " </p>\n",
       " <form>\n",
       " <button class=\"btn btn-primary btn-block\" data-loading-text=\"Adding...\" type=\"submit\">Add to basket</button>\n",
       " </form>\n",
       " </div>\n",
       " </article>,\n",
       " <article class=\"product_pod\">\n",
       " <div class=\"image_container\">\n",
       " <a href=\"tipping-the-velvet_999/index.html\"><img alt=\"Tipping the Velvet\" class=\"thumbnail\" src=\"../media/cache/26/0c/260c6ae16bce31c8f8c95daddd9f4a1c.jpg\"/></a>\n",
       " </div>\n",
       " <p class=\"star-rating One\">\n",
       " <i class=\"icon-star\"></i>\n",
       " <i class=\"icon-star\"></i>\n",
       " <i class=\"icon-star\"></i>\n",
       " <i class=\"icon-star\"></i>\n",
       " <i class=\"icon-star\"></i>\n",
       " </p>\n",
       " <h3><a href=\"tipping-the-velvet_999/index.html\" title=\"Tipping the Velvet\">Tipping the Velvet</a></h3>\n",
       " <div class=\"product_price\">\n",
       " <p class=\"price_color\">Â£53.74</p>\n",
       " <p class=\"instock availability\">\n",
       " <i class=\"icon-ok\"></i>\n",
       "     \n",
       "         In stock\n",
       "     \n",
       " </p>\n",
       " <form>\n",
       " <button class=\"btn btn-primary btn-block\" data-loading-text=\"Adding...\" type=\"submit\">Add to basket</button>\n",
       " </form>\n",
       " </div>\n",
       " </article>,\n",
       " <article class=\"product_pod\">\n",
       " <div class=\"image_container\">\n",
       " <a href=\"soumission_998/index.html\"><img alt=\"Soumission\" class=\"thumbnail\" src=\"../media/cache/3e/ef/3eef99c9d9adef34639f510662022830.jpg\"/></a>\n",
       " </div>\n",
       " <p class=\"star-rating One\">\n",
       " <i class=\"icon-star\"></i>\n",
       " <i class=\"icon-star\"></i>\n",
       " <i class=\"icon-star\"></i>\n",
       " <i class=\"icon-star\"></i>\n",
       " <i class=\"icon-star\"></i>\n",
       " </p>\n",
       " <h3><a href=\"soumission_998/index.html\" title=\"Soumission\">Soumission</a></h3>\n",
       " <div class=\"product_price\">\n",
       " <p class=\"price_color\">Â£50.10</p>\n",
       " <p class=\"instock availability\">\n",
       " <i class=\"icon-ok\"></i>\n",
       "     \n",
       "         In stock\n",
       "     \n",
       " </p>\n",
       " <form>\n",
       " <button class=\"btn btn-primary btn-block\" data-loading-text=\"Adding...\" type=\"submit\">Add to basket</button>\n",
       " </form>\n",
       " </div>\n",
       " </article>,\n",
       " <article class=\"product_pod\">\n",
       " <div class=\"image_container\">\n",
       " <a href=\"sharp-objects_997/index.html\"><img alt=\"Sharp Objects\" class=\"thumbnail\" src=\"../media/cache/32/51/3251cf3a3412f53f339e42cac2134093.jpg\"/></a>\n",
       " </div>\n",
       " <p class=\"star-rating Four\">\n",
       " <i class=\"icon-star\"></i>\n",
       " <i class=\"icon-star\"></i>\n",
       " <i class=\"icon-star\"></i>\n",
       " <i class=\"icon-star\"></i>\n",
       " <i class=\"icon-star\"></i>\n",
       " </p>\n",
       " <h3><a href=\"sharp-objects_997/index.html\" title=\"Sharp Objects\">Sharp Objects</a></h3>\n",
       " <div class=\"product_price\">\n",
       " <p class=\"price_color\">Â£47.82</p>\n",
       " <p class=\"instock availability\">\n",
       " <i class=\"icon-ok\"></i>\n",
       "     \n",
       "         In stock\n",
       "     \n",
       " </p>\n",
       " <form>\n",
       " <button class=\"btn btn-primary btn-block\" data-loading-text=\"Adding...\" type=\"submit\">Add to basket</button>\n",
       " </form>\n",
       " </div>\n",
       " </article>,\n",
       " <article class=\"product_pod\">\n",
       " <div class=\"image_container\">\n",
       " <a href=\"sapiens-a-brief-history-of-humankind_996/index.html\"><img alt=\"Sapiens: A Brief History of Humankind\" class=\"thumbnail\" src=\"../media/cache/be/a5/bea5697f2534a2f86a3ef27b5a8c12a6.jpg\"/></a>\n",
       " </div>\n",
       " <p class=\"star-rating Five\">\n",
       " <i class=\"icon-star\"></i>\n",
       " <i class=\"icon-star\"></i>\n",
       " <i class=\"icon-star\"></i>\n",
       " <i class=\"icon-star\"></i>\n",
       " <i class=\"icon-star\"></i>\n",
       " </p>\n",
       " <h3><a href=\"sapiens-a-brief-history-of-humankind_996/index.html\" title=\"Sapiens: A Brief History of Humankind\">Sapiens: A Brief History ...</a></h3>\n",
       " <div class=\"product_price\">\n",
       " <p class=\"price_color\">Â£54.23</p>\n",
       " <p class=\"instock availability\">\n",
       " <i class=\"icon-ok\"></i>\n",
       "     \n",
       "         In stock\n",
       "     \n",
       " </p>\n",
       " <form>\n",
       " <button class=\"btn btn-primary btn-block\" data-loading-text=\"Adding...\" type=\"submit\">Add to basket</button>\n",
       " </form>\n",
       " </div>\n",
       " </article>,\n",
       " <article class=\"product_pod\">\n",
       " <div class=\"image_container\">\n",
       " <a href=\"the-requiem-red_995/index.html\"><img alt=\"The Requiem Red\" class=\"thumbnail\" src=\"../media/cache/68/33/68339b4c9bc034267e1da611ab3b34f8.jpg\"/></a>\n",
       " </div>\n",
       " <p class=\"star-rating One\">\n",
       " <i class=\"icon-star\"></i>\n",
       " <i class=\"icon-star\"></i>\n",
       " <i class=\"icon-star\"></i>\n",
       " <i class=\"icon-star\"></i>\n",
       " <i class=\"icon-star\"></i>\n",
       " </p>\n",
       " <h3><a href=\"the-requiem-red_995/index.html\" title=\"The Requiem Red\">The Requiem Red</a></h3>\n",
       " <div class=\"product_price\">\n",
       " <p class=\"price_color\">Â£22.65</p>\n",
       " <p class=\"instock availability\">\n",
       " <i class=\"icon-ok\"></i>\n",
       "     \n",
       "         In stock\n",
       "     \n",
       " </p>\n",
       " <form>\n",
       " <button class=\"btn btn-primary btn-block\" data-loading-text=\"Adding...\" type=\"submit\">Add to basket</button>\n",
       " </form>\n",
       " </div>\n",
       " </article>,\n",
       " <article class=\"product_pod\">\n",
       " <div class=\"image_container\">\n",
       " <a href=\"the-dirty-little-secrets-of-getting-your-dream-job_994/index.html\"><img alt=\"The Dirty Little Secrets of Getting Your Dream Job\" class=\"thumbnail\" src=\"../media/cache/92/27/92274a95b7c251fea59a2b8a78275ab4.jpg\"/></a>\n",
       " </div>\n",
       " <p class=\"star-rating Four\">\n",
       " <i class=\"icon-star\"></i>\n",
       " <i class=\"icon-star\"></i>\n",
       " <i class=\"icon-star\"></i>\n",
       " <i class=\"icon-star\"></i>\n",
       " <i class=\"icon-star\"></i>\n",
       " </p>\n",
       " <h3><a href=\"the-dirty-little-secrets-of-getting-your-dream-job_994/index.html\" title=\"The Dirty Little Secrets of Getting Your Dream Job\">The Dirty Little Secrets ...</a></h3>\n",
       " <div class=\"product_price\">\n",
       " <p class=\"price_color\">Â£33.34</p>\n",
       " <p class=\"instock availability\">\n",
       " <i class=\"icon-ok\"></i>\n",
       "     \n",
       "         In stock\n",
       "     \n",
       " </p>\n",
       " <form>\n",
       " <button class=\"btn btn-primary btn-block\" data-loading-text=\"Adding...\" type=\"submit\">Add to basket</button>\n",
       " </form>\n",
       " </div>\n",
       " </article>,\n",
       " <article class=\"product_pod\">\n",
       " <div class=\"image_container\">\n",
       " <a href=\"the-coming-woman-a-novel-based-on-the-life-of-the-infamous-feminist-victoria-woodhull_993/index.html\"><img alt=\"The Coming Woman: A Novel Based on the Life of the Infamous Feminist, Victoria Woodhull\" class=\"thumbnail\" src=\"../media/cache/3d/54/3d54940e57e662c4dd1f3ff00c78cc64.jpg\"/></a>\n",
       " </div>\n",
       " <p class=\"star-rating Three\">\n",
       " <i class=\"icon-star\"></i>\n",
       " <i class=\"icon-star\"></i>\n",
       " <i class=\"icon-star\"></i>\n",
       " <i class=\"icon-star\"></i>\n",
       " <i class=\"icon-star\"></i>\n",
       " </p>\n",
       " <h3><a href=\"the-coming-woman-a-novel-based-on-the-life-of-the-infamous-feminist-victoria-woodhull_993/index.html\" title=\"The Coming Woman: A Novel Based on the Life of the Infamous Feminist, Victoria Woodhull\">The Coming Woman: A ...</a></h3>\n",
       " <div class=\"product_price\">\n",
       " <p class=\"price_color\">Â£17.93</p>\n",
       " <p class=\"instock availability\">\n",
       " <i class=\"icon-ok\"></i>\n",
       "     \n",
       "         In stock\n",
       "     \n",
       " </p>\n",
       " <form>\n",
       " <button class=\"btn btn-primary btn-block\" data-loading-text=\"Adding...\" type=\"submit\">Add to basket</button>\n",
       " </form>\n",
       " </div>\n",
       " </article>,\n",
       " <article class=\"product_pod\">\n",
       " <div class=\"image_container\">\n",
       " <a href=\"the-boys-in-the-boat-nine-americans-and-their-epic-quest-for-gold-at-the-1936-berlin-olympics_992/index.html\"><img alt=\"The Boys in the Boat: Nine Americans and Their Epic Quest for Gold at the 1936 Berlin Olympics\" class=\"thumbnail\" src=\"../media/cache/66/88/66883b91f6804b2323c8369331cb7dd1.jpg\"/></a>\n",
       " </div>\n",
       " <p class=\"star-rating Four\">\n",
       " <i class=\"icon-star\"></i>\n",
       " <i class=\"icon-star\"></i>\n",
       " <i class=\"icon-star\"></i>\n",
       " <i class=\"icon-star\"></i>\n",
       " <i class=\"icon-star\"></i>\n",
       " </p>\n",
       " <h3><a href=\"the-boys-in-the-boat-nine-americans-and-their-epic-quest-for-gold-at-the-1936-berlin-olympics_992/index.html\" title=\"The Boys in the Boat: Nine Americans and Their Epic Quest for Gold at the 1936 Berlin Olympics\">The Boys in the ...</a></h3>\n",
       " <div class=\"product_price\">\n",
       " <p class=\"price_color\">Â£22.60</p>\n",
       " <p class=\"instock availability\">\n",
       " <i class=\"icon-ok\"></i>\n",
       "     \n",
       "         In stock\n",
       "     \n",
       " </p>\n",
       " <form>\n",
       " <button class=\"btn btn-primary btn-block\" data-loading-text=\"Adding...\" type=\"submit\">Add to basket</button>\n",
       " </form>\n",
       " </div>\n",
       " </article>,\n",
       " <article class=\"product_pod\">\n",
       " <div class=\"image_container\">\n",
       " <a href=\"the-black-maria_991/index.html\"><img alt=\"The Black Maria\" class=\"thumbnail\" src=\"../media/cache/58/46/5846057e28022268153beff6d352b06c.jpg\"/></a>\n",
       " </div>\n",
       " <p class=\"star-rating One\">\n",
       " <i class=\"icon-star\"></i>\n",
       " <i class=\"icon-star\"></i>\n",
       " <i class=\"icon-star\"></i>\n",
       " <i class=\"icon-star\"></i>\n",
       " <i class=\"icon-star\"></i>\n",
       " </p>\n",
       " <h3><a href=\"the-black-maria_991/index.html\" title=\"The Black Maria\">The Black Maria</a></h3>\n",
       " <div class=\"product_price\">\n",
       " <p class=\"price_color\">Â£52.15</p>\n",
       " <p class=\"instock availability\">\n",
       " <i class=\"icon-ok\"></i>\n",
       "     \n",
       "         In stock\n",
       "     \n",
       " </p>\n",
       " <form>\n",
       " <button class=\"btn btn-primary btn-block\" data-loading-text=\"Adding...\" type=\"submit\">Add to basket</button>\n",
       " </form>\n",
       " </div>\n",
       " </article>,\n",
       " <article class=\"product_pod\">\n",
       " <div class=\"image_container\">\n",
       " <a href=\"starving-hearts-triangular-trade-trilogy-1_990/index.html\"><img alt=\"Starving Hearts (Triangular Trade Trilogy, #1)\" class=\"thumbnail\" src=\"../media/cache/be/f4/bef44da28c98f905a3ebec0b87be8530.jpg\"/></a>\n",
       " </div>\n",
       " <p class=\"star-rating Two\">\n",
       " <i class=\"icon-star\"></i>\n",
       " <i class=\"icon-star\"></i>\n",
       " <i class=\"icon-star\"></i>\n",
       " <i class=\"icon-star\"></i>\n",
       " <i class=\"icon-star\"></i>\n",
       " </p>\n",
       " <h3><a href=\"starving-hearts-triangular-trade-trilogy-1_990/index.html\" title=\"Starving Hearts (Triangular Trade Trilogy, #1)\">Starving Hearts (Triangular Trade ...</a></h3>\n",
       " <div class=\"product_price\">\n",
       " <p class=\"price_color\">Â£13.99</p>\n",
       " <p class=\"instock availability\">\n",
       " <i class=\"icon-ok\"></i>\n",
       "     \n",
       "         In stock\n",
       "     \n",
       " </p>\n",
       " <form>\n",
       " <button class=\"btn btn-primary btn-block\" data-loading-text=\"Adding...\" type=\"submit\">Add to basket</button>\n",
       " </form>\n",
       " </div>\n",
       " </article>,\n",
       " <article class=\"product_pod\">\n",
       " <div class=\"image_container\">\n",
       " <a href=\"shakespeares-sonnets_989/index.html\"><img alt=\"Shakespeare's Sonnets\" class=\"thumbnail\" src=\"../media/cache/10/48/1048f63d3b5061cd2f424d20b3f9b666.jpg\"/></a>\n",
       " </div>\n",
       " <p class=\"star-rating Four\">\n",
       " <i class=\"icon-star\"></i>\n",
       " <i class=\"icon-star\"></i>\n",
       " <i class=\"icon-star\"></i>\n",
       " <i class=\"icon-star\"></i>\n",
       " <i class=\"icon-star\"></i>\n",
       " </p>\n",
       " <h3><a href=\"shakespeares-sonnets_989/index.html\" title=\"Shakespeare's Sonnets\">Shakespeare's Sonnets</a></h3>\n",
       " <div class=\"product_price\">\n",
       " <p class=\"price_color\">Â£20.66</p>\n",
       " <p class=\"instock availability\">\n",
       " <i class=\"icon-ok\"></i>\n",
       "     \n",
       "         In stock\n",
       "     \n",
       " </p>\n",
       " <form>\n",
       " <button class=\"btn btn-primary btn-block\" data-loading-text=\"Adding...\" type=\"submit\">Add to basket</button>\n",
       " </form>\n",
       " </div>\n",
       " </article>,\n",
       " <article class=\"product_pod\">\n",
       " <div class=\"image_container\">\n",
       " <a href=\"set-me-free_988/index.html\"><img alt=\"Set Me Free\" class=\"thumbnail\" src=\"../media/cache/5b/88/5b88c52633f53cacf162c15f4f823153.jpg\"/></a>\n",
       " </div>\n",
       " <p class=\"star-rating Five\">\n",
       " <i class=\"icon-star\"></i>\n",
       " <i class=\"icon-star\"></i>\n",
       " <i class=\"icon-star\"></i>\n",
       " <i class=\"icon-star\"></i>\n",
       " <i class=\"icon-star\"></i>\n",
       " </p>\n",
       " <h3><a href=\"set-me-free_988/index.html\" title=\"Set Me Free\">Set Me Free</a></h3>\n",
       " <div class=\"product_price\">\n",
       " <p class=\"price_color\">Â£17.46</p>\n",
       " <p class=\"instock availability\">\n",
       " <i class=\"icon-ok\"></i>\n",
       "     \n",
       "         In stock\n",
       "     \n",
       " </p>\n",
       " <form>\n",
       " <button class=\"btn btn-primary btn-block\" data-loading-text=\"Adding...\" type=\"submit\">Add to basket</button>\n",
       " </form>\n",
       " </div>\n",
       " </article>,\n",
       " <article class=\"product_pod\">\n",
       " <div class=\"image_container\">\n",
       " <a href=\"scott-pilgrims-precious-little-life-scott-pilgrim-1_987/index.html\"><img alt=\"Scott Pilgrim's Precious Little Life (Scott Pilgrim #1)\" class=\"thumbnail\" src=\"../media/cache/94/b1/94b1b8b244bce9677c2f29ccc890d4d2.jpg\"/></a>\n",
       " </div>\n",
       " <p class=\"star-rating Five\">\n",
       " <i class=\"icon-star\"></i>\n",
       " <i class=\"icon-star\"></i>\n",
       " <i class=\"icon-star\"></i>\n",
       " <i class=\"icon-star\"></i>\n",
       " <i class=\"icon-star\"></i>\n",
       " </p>\n",
       " <h3><a href=\"scott-pilgrims-precious-little-life-scott-pilgrim-1_987/index.html\" title=\"Scott Pilgrim's Precious Little Life (Scott Pilgrim #1)\">Scott Pilgrim's Precious Little ...</a></h3>\n",
       " <div class=\"product_price\">\n",
       " <p class=\"price_color\">Â£52.29</p>\n",
       " <p class=\"instock availability\">\n",
       " <i class=\"icon-ok\"></i>\n",
       "     \n",
       "         In stock\n",
       "     \n",
       " </p>\n",
       " <form>\n",
       " <button class=\"btn btn-primary btn-block\" data-loading-text=\"Adding...\" type=\"submit\">Add to basket</button>\n",
       " </form>\n",
       " </div>\n",
       " </article>,\n",
       " <article class=\"product_pod\">\n",
       " <div class=\"image_container\">\n",
       " <a href=\"rip-it-up-and-start-again_986/index.html\"><img alt=\"Rip it Up and Start Again\" class=\"thumbnail\" src=\"../media/cache/81/c4/81c4a973364e17d01f217e1188253d5e.jpg\"/></a>\n",
       " </div>\n",
       " <p class=\"star-rating Five\">\n",
       " <i class=\"icon-star\"></i>\n",
       " <i class=\"icon-star\"></i>\n",
       " <i class=\"icon-star\"></i>\n",
       " <i class=\"icon-star\"></i>\n",
       " <i class=\"icon-star\"></i>\n",
       " </p>\n",
       " <h3><a href=\"rip-it-up-and-start-again_986/index.html\" title=\"Rip it Up and Start Again\">Rip it Up and ...</a></h3>\n",
       " <div class=\"product_price\">\n",
       " <p class=\"price_color\">Â£35.02</p>\n",
       " <p class=\"instock availability\">\n",
       " <i class=\"icon-ok\"></i>\n",
       "     \n",
       "         In stock\n",
       "     \n",
       " </p>\n",
       " <form>\n",
       " <button class=\"btn btn-primary btn-block\" data-loading-text=\"Adding...\" type=\"submit\">Add to basket</button>\n",
       " </form>\n",
       " </div>\n",
       " </article>,\n",
       " <article class=\"product_pod\">\n",
       " <div class=\"image_container\">\n",
       " <a href=\"our-band-could-be-your-life-scenes-from-the-american-indie-underground-1981-1991_985/index.html\"><img alt=\"Our Band Could Be Your Life: Scenes from the American Indie Underground, 1981-1991\" class=\"thumbnail\" src=\"../media/cache/54/60/54607fe8945897cdcced0044103b10b6.jpg\"/></a>\n",
       " </div>\n",
       " <p class=\"star-rating Three\">\n",
       " <i class=\"icon-star\"></i>\n",
       " <i class=\"icon-star\"></i>\n",
       " <i class=\"icon-star\"></i>\n",
       " <i class=\"icon-star\"></i>\n",
       " <i class=\"icon-star\"></i>\n",
       " </p>\n",
       " <h3><a href=\"our-band-could-be-your-life-scenes-from-the-american-indie-underground-1981-1991_985/index.html\" title=\"Our Band Could Be Your Life: Scenes from the American Indie Underground, 1981-1991\">Our Band Could Be ...</a></h3>\n",
       " <div class=\"product_price\">\n",
       " <p class=\"price_color\">Â£57.25</p>\n",
       " <p class=\"instock availability\">\n",
       " <i class=\"icon-ok\"></i>\n",
       "     \n",
       "         In stock\n",
       "     \n",
       " </p>\n",
       " <form>\n",
       " <button class=\"btn btn-primary btn-block\" data-loading-text=\"Adding...\" type=\"submit\">Add to basket</button>\n",
       " </form>\n",
       " </div>\n",
       " </article>,\n",
       " <article class=\"product_pod\">\n",
       " <div class=\"image_container\">\n",
       " <a href=\"olio_984/index.html\"><img alt=\"Olio\" class=\"thumbnail\" src=\"../media/cache/55/33/553310a7162dfbc2c6d19a84da0df9e1.jpg\"/></a>\n",
       " </div>\n",
       " <p class=\"star-rating One\">\n",
       " <i class=\"icon-star\"></i>\n",
       " <i class=\"icon-star\"></i>\n",
       " <i class=\"icon-star\"></i>\n",
       " <i class=\"icon-star\"></i>\n",
       " <i class=\"icon-star\"></i>\n",
       " </p>\n",
       " <h3><a href=\"olio_984/index.html\" title=\"Olio\">Olio</a></h3>\n",
       " <div class=\"product_price\">\n",
       " <p class=\"price_color\">Â£23.88</p>\n",
       " <p class=\"instock availability\">\n",
       " <i class=\"icon-ok\"></i>\n",
       "     \n",
       "         In stock\n",
       "     \n",
       " </p>\n",
       " <form>\n",
       " <button class=\"btn btn-primary btn-block\" data-loading-text=\"Adding...\" type=\"submit\">Add to basket</button>\n",
       " </form>\n",
       " </div>\n",
       " </article>,\n",
       " <article class=\"product_pod\">\n",
       " <div class=\"image_container\">\n",
       " <a href=\"mesaerion-the-best-science-fiction-stories-1800-1849_983/index.html\"><img alt=\"Mesaerion: The Best Science Fiction Stories 1800-1849\" class=\"thumbnail\" src=\"../media/cache/09/a3/09a3aef48557576e1a85ba7efea8ecb7.jpg\"/></a>\n",
       " </div>\n",
       " <p class=\"star-rating One\">\n",
       " <i class=\"icon-star\"></i>\n",
       " <i class=\"icon-star\"></i>\n",
       " <i class=\"icon-star\"></i>\n",
       " <i class=\"icon-star\"></i>\n",
       " <i class=\"icon-star\"></i>\n",
       " </p>\n",
       " <h3><a href=\"mesaerion-the-best-science-fiction-stories-1800-1849_983/index.html\" title=\"Mesaerion: The Best Science Fiction Stories 1800-1849\">Mesaerion: The Best Science ...</a></h3>\n",
       " <div class=\"product_price\">\n",
       " <p class=\"price_color\">Â£37.59</p>\n",
       " <p class=\"instock availability\">\n",
       " <i class=\"icon-ok\"></i>\n",
       "     \n",
       "         In stock\n",
       "     \n",
       " </p>\n",
       " <form>\n",
       " <button class=\"btn btn-primary btn-block\" data-loading-text=\"Adding...\" type=\"submit\">Add to basket</button>\n",
       " </form>\n",
       " </div>\n",
       " </article>,\n",
       " <article class=\"product_pod\">\n",
       " <div class=\"image_container\">\n",
       " <a href=\"libertarianism-for-beginners_982/index.html\"><img alt=\"Libertarianism for Beginners\" class=\"thumbnail\" src=\"../media/cache/0b/bc/0bbcd0a6f4bcd81ccb1049a52736406e.jpg\"/></a>\n",
       " </div>\n",
       " <p class=\"star-rating Two\">\n",
       " <i class=\"icon-star\"></i>\n",
       " <i class=\"icon-star\"></i>\n",
       " <i class=\"icon-star\"></i>\n",
       " <i class=\"icon-star\"></i>\n",
       " <i class=\"icon-star\"></i>\n",
       " </p>\n",
       " <h3><a href=\"libertarianism-for-beginners_982/index.html\" title=\"Libertarianism for Beginners\">Libertarianism for Beginners</a></h3>\n",
       " <div class=\"product_price\">\n",
       " <p class=\"price_color\">Â£51.33</p>\n",
       " <p class=\"instock availability\">\n",
       " <i class=\"icon-ok\"></i>\n",
       "     \n",
       "         In stock\n",
       "     \n",
       " </p>\n",
       " <form>\n",
       " <button class=\"btn btn-primary btn-block\" data-loading-text=\"Adding...\" type=\"submit\">Add to basket</button>\n",
       " </form>\n",
       " </div>\n",
       " </article>,\n",
       " <article class=\"product_pod\">\n",
       " <div class=\"image_container\">\n",
       " <a href=\"its-only-the-himalayas_981/index.html\"><img alt=\"It's Only the Himalayas\" class=\"thumbnail\" src=\"../media/cache/27/a5/27a53d0bb95bdd88288eaf66c9230d7e.jpg\"/></a>\n",
       " </div>\n",
       " <p class=\"star-rating Two\">\n",
       " <i class=\"icon-star\"></i>\n",
       " <i class=\"icon-star\"></i>\n",
       " <i class=\"icon-star\"></i>\n",
       " <i class=\"icon-star\"></i>\n",
       " <i class=\"icon-star\"></i>\n",
       " </p>\n",
       " <h3><a href=\"its-only-the-himalayas_981/index.html\" title=\"It's Only the Himalayas\">It's Only the Himalayas</a></h3>\n",
       " <div class=\"product_price\">\n",
       " <p class=\"price_color\">Â£45.17</p>\n",
       " <p class=\"instock availability\">\n",
       " <i class=\"icon-ok\"></i>\n",
       "     \n",
       "         In stock\n",
       "     \n",
       " </p>\n",
       " <form>\n",
       " <button class=\"btn btn-primary btn-block\" data-loading-text=\"Adding...\" type=\"submit\">Add to basket</button>\n",
       " </form>\n",
       " </div>\n",
       " </article>]"
      ]
     },
     "execution_count": 38,
     "metadata": {},
     "output_type": "execute_result"
    }
   ],
   "source": [
    "soup.select(\".product_pod\")"
   ]
  },
  {
   "cell_type": "markdown",
   "metadata": {},
   "source": [
    "Now we can see that each book has the product_pod class. We can select any tag with this class, and then further reduce it by its rating."
   ]
  },
  {
   "cell_type": "code",
   "execution_count": 39,
   "metadata": {
    "collapsed": true
   },
   "outputs": [],
   "source": [
    "products = soup.select(\".product_pod\")"
   ]
  },
  {
   "cell_type": "code",
   "execution_count": 40,
   "metadata": {
    "collapsed": true
   },
   "outputs": [],
   "source": [
    "example = products[0]"
   ]
  },
  {
   "cell_type": "code",
   "execution_count": 41,
   "metadata": {},
   "outputs": [
    {
     "data": {
      "text/plain": [
       "bs4.element.Tag"
      ]
     },
     "execution_count": 41,
     "metadata": {},
     "output_type": "execute_result"
    }
   ],
   "source": [
    "type(example)"
   ]
  },
  {
   "cell_type": "code",
   "execution_count": 42,
   "metadata": {},
   "outputs": [
    {
     "data": {
      "text/plain": [
       "{'class': ['product_pod']}"
      ]
     },
     "execution_count": 42,
     "metadata": {},
     "output_type": "execute_result"
    }
   ],
   "source": [
    "example.attrs"
   ]
  },
  {
   "cell_type": "markdown",
   "metadata": {},
   "source": [
    "Now by inspecting the site we can see that the class we want is class='star-rating Two' , if you click on this in your browser, you'll notice it displays the space as a . , so that means we want to search for \".star-rating.Two\""
   ]
  },
  {
   "cell_type": "code",
   "execution_count": 43,
   "metadata": {},
   "outputs": [
    {
     "data": {
      "text/plain": [
       "['\\n', <div class=\"image_container\">\n",
       " <a href=\"a-light-in-the-attic_1000/index.html\"><img alt=\"A Light in the Attic\" class=\"thumbnail\" src=\"../media/cache/2c/da/2cdad67c44b002e7ead0cc35693c0e8b.jpg\"/></a>\n",
       " </div>, '\\n', <p class=\"star-rating Three\">\n",
       " <i class=\"icon-star\"></i>\n",
       " <i class=\"icon-star\"></i>\n",
       " <i class=\"icon-star\"></i>\n",
       " <i class=\"icon-star\"></i>\n",
       " <i class=\"icon-star\"></i>\n",
       " </p>, '\\n', <h3><a href=\"a-light-in-the-attic_1000/index.html\" title=\"A Light in the Attic\">A Light in the ...</a></h3>, '\\n', <div class=\"product_price\">\n",
       " <p class=\"price_color\">Â£51.77</p>\n",
       " <p class=\"instock availability\">\n",
       " <i class=\"icon-ok\"></i>\n",
       "     \n",
       "         In stock\n",
       "     \n",
       " </p>\n",
       " <form>\n",
       " <button class=\"btn btn-primary btn-block\" data-loading-text=\"Adding...\" type=\"submit\">Add to basket</button>\n",
       " </form>\n",
       " </div>, '\\n']"
      ]
     },
     "execution_count": 43,
     "metadata": {},
     "output_type": "execute_result"
    }
   ],
   "source": [
    "list(example.children)"
   ]
  },
  {
   "cell_type": "code",
   "execution_count": 44,
   "metadata": {},
   "outputs": [
    {
     "data": {
      "text/plain": [
       "[<p class=\"star-rating Three\">\n",
       " <i class=\"icon-star\"></i>\n",
       " <i class=\"icon-star\"></i>\n",
       " <i class=\"icon-star\"></i>\n",
       " <i class=\"icon-star\"></i>\n",
       " <i class=\"icon-star\"></i>\n",
       " </p>]"
      ]
     },
     "execution_count": 44,
     "metadata": {},
     "output_type": "execute_result"
    }
   ],
   "source": [
    "example.select('.star-rating.Three')"
   ]
  },
  {
   "cell_type": "markdown",
   "metadata": {},
   "source": [
    "But we are looking for 2 stars, so it looks like we can just check to see if something was returned"
   ]
  },
  {
   "cell_type": "code",
   "execution_count": 45,
   "metadata": {},
   "outputs": [
    {
     "data": {
      "text/plain": [
       "[]"
      ]
     },
     "execution_count": 45,
     "metadata": {},
     "output_type": "execute_result"
    }
   ],
   "source": [
    "example.select('.star-rating.Two')"
   ]
  },
  {
   "cell_type": "markdown",
   "metadata": {},
   "source": [
    "Alternatively, we can just quickly check the text string to see if \"star-rating Two\" is in it. Either approach is fine (there are also many other alternative approaches!)\n",
    "\n",
    "Now let's see how we can get the title if we have a 2-star match:"
   ]
  },
  {
   "cell_type": "code",
   "execution_count": 46,
   "metadata": {},
   "outputs": [
    {
     "data": {
      "text/plain": [
       "[<a href=\"a-light-in-the-attic_1000/index.html\"><img alt=\"A Light in the Attic\" class=\"thumbnail\" src=\"../media/cache/2c/da/2cdad67c44b002e7ead0cc35693c0e8b.jpg\"/></a>,\n",
       " <a href=\"a-light-in-the-attic_1000/index.html\" title=\"A Light in the Attic\">A Light in the ...</a>]"
      ]
     },
     "execution_count": 46,
     "metadata": {},
     "output_type": "execute_result"
    }
   ],
   "source": [
    "example.select('a')"
   ]
  },
  {
   "cell_type": "code",
   "execution_count": 47,
   "metadata": {},
   "outputs": [
    {
     "data": {
      "text/plain": [
       "<a href=\"a-light-in-the-attic_1000/index.html\" title=\"A Light in the Attic\">A Light in the ...</a>"
      ]
     },
     "execution_count": 47,
     "metadata": {},
     "output_type": "execute_result"
    }
   ],
   "source": [
    "example.select('a')[1]"
   ]
  },
  {
   "cell_type": "code",
   "execution_count": 48,
   "metadata": {},
   "outputs": [
    {
     "data": {
      "text/plain": [
       "'A Light in the Attic'"
      ]
     },
     "execution_count": 48,
     "metadata": {},
     "output_type": "execute_result"
    }
   ],
   "source": [
    "example.select('a')[1]['title']"
   ]
  },
  {
   "cell_type": "markdown",
   "metadata": {},
   "source": [
    "Okay, let's give it a shot by combining all the ideas we've talked about! (this should take about 20-60 seconds to complete running. Be aware a firwall may prevent this script from running. Also if you are getting a no response error, maybe try adding a sleep step with time.sleep(1)."
   ]
  },
  {
   "cell_type": "code",
   "execution_count": 49,
   "metadata": {
    "collapsed": true
   },
   "outputs": [],
   "source": [
    "two_star_titles = []\n",
    "\n",
    "for n in range(1,51):\n",
    "\n",
    "    scrape_url = base_url.format(n)\n",
    "    res = requests.get(scrape_url)\n",
    "    \n",
    "    soup = bs4.BeautifulSoup(res.text,\"lxml\")\n",
    "    books = soup.select(\".product_pod\")\n",
    "    \n",
    "    for book in books:\n",
    "        if len(book.select('.star-rating.Two')) != 0:\n",
    "            two_star_titles.append(book.select('a')[1]['title'])"
   ]
  },
  {
   "cell_type": "code",
   "execution_count": 50,
   "metadata": {},
   "outputs": [
    {
     "data": {
      "text/plain": [
       "['Starving Hearts (Triangular Trade Trilogy, #1)',\n",
       " 'Libertarianism for Beginners',\n",
       " \"It's Only the Himalayas\",\n",
       " 'How Music Works',\n",
       " 'Maude (1883-1993):She Grew Up with the country',\n",
       " \"You can't bury them all: Poems\",\n",
       " 'Reasons to Stay Alive',\n",
       " 'Without Borders (Wanderlove #1)',\n",
       " 'Soul Reader',\n",
       " 'Security',\n",
       " 'Saga, Volume 5 (Saga (Collected Editions) #5)',\n",
       " 'Reskilling America: Learning to Labor in the Twenty-First Century',\n",
       " 'Political Suicide: Missteps, Peccadilloes, Bad Calls, Backroom Hijinx, Sordid Pasts, Rotten Breaks, and Just Plain Dumb Mistakes in the Annals of American Politics',\n",
       " 'Obsidian (Lux #1)',\n",
       " 'My Paris Kitchen: Recipes and Stories',\n",
       " 'Masks and Shadows',\n",
       " 'Lumberjanes, Vol. 2: Friendship to the Max (Lumberjanes #5-8)',\n",
       " 'Lumberjanes Vol. 3: A Terrible Plan (Lumberjanes #9-12)',\n",
       " 'Judo: Seven Steps to Black Belt (an Introductory Guide for Beginners)',\n",
       " 'I Hate Fairyland, Vol. 1: Madly Ever After (I Hate Fairyland (Compilations) #1-5)',\n",
       " 'Giant Days, Vol. 2 (Giant Days #5-8)',\n",
       " 'Everydata: The Misinformation Hidden in the Little Data You Consume Every Day',\n",
       " \"Don't Be a Jerk: And Other Practical Advice from Dogen, Japan's Greatest Zen Master\",\n",
       " 'Bossypants',\n",
       " 'Bitch Planet, Vol. 1: Extraordinary Machine (Bitch Planet (Collected Editions))',\n",
       " 'Avatar: The Last Airbender: Smoke and Shadow, Part 3 (Smoke and Shadow #3)',\n",
       " 'Tuesday Nights in 1980',\n",
       " 'The Psychopath Test: A Journey Through the Madness Industry',\n",
       " 'The Power of Now: A Guide to Spiritual Enlightenment',\n",
       " \"The Omnivore's Dilemma: A Natural History of Four Meals\",\n",
       " 'The Love and Lemons Cookbook: An Apple-to-Zucchini Celebration of Impromptu Cooking',\n",
       " 'The Girl on the Train',\n",
       " 'The Emerald Mystery',\n",
       " 'The Argonauts',\n",
       " 'Suddenly in Love (Lake Haven #1)',\n",
       " 'Soft Apocalypse',\n",
       " \"So You've Been Publicly Shamed\",\n",
       " 'Shoe Dog: A Memoir by the Creator of NIKE',\n",
       " 'Louisa: The Extraordinary Life of Mrs. Adams',\n",
       " 'Large Print Heart of the Pride',\n",
       " 'Grumbles',\n",
       " 'Chasing Heaven: What Dying Taught Me About Living',\n",
       " 'Becoming Wise: An Inquiry into the Mystery and Art of Living',\n",
       " 'Beauty Restored (Riley Family Legacy Novellas #3)',\n",
       " 'Batman: The Long Halloween (Batman)',\n",
       " \"Ayumi's Violin\",\n",
       " 'Wild Swans',\n",
       " \"What's It Like in Space?: Stories from Astronauts Who've Been There\",\n",
       " 'Until Friday Night (The Field Party #1)',\n",
       " 'Unbroken: A World War II Story of Survival, Resilience, and Redemption',\n",
       " 'Twenty Yawns',\n",
       " 'Through the Woods',\n",
       " 'This Is Where It Ends',\n",
       " 'The Year of Magical Thinking',\n",
       " 'The Last Mile (Amos Decker #2)',\n",
       " 'The Immortal Life of Henrietta Lacks',\n",
       " 'The Hidden Oracle (The Trials of Apollo #1)',\n",
       " 'The Guilty (Will Robie #4)',\n",
       " 'Red Hood/Arsenal, Vol. 1: Open for Business (Red Hood/Arsenal #1)',\n",
       " 'Once Was a Time',\n",
       " 'No Dream Is Too High: Life Lessons From a Man Who Walked on the Moon',\n",
       " 'Naruto (3-in-1 Edition), Vol. 14: Includes Vols. 40, 41 & 42 (Naruto: Omnibus #14)',\n",
       " 'More Than Music (Chasing the Dream #1)',\n",
       " 'Lowriders to the Center of the Earth (Lowriders in Space #2)',\n",
       " 'Eat Fat, Get Thin',\n",
       " 'Doctor Sleep (The Shining #2)',\n",
       " 'Crazy Love: Overwhelmed by a Relentless God',\n",
       " 'Carrie',\n",
       " 'Batman: Europa',\n",
       " 'Angels Walking (Angels Walking #1)',\n",
       " 'Adulthood Is a Myth: A \"Sarah\\'s Scribbles\" Collection',\n",
       " 'A Study in Scarlet (Sherlock Holmes #1)',\n",
       " 'A Series of Catastrophes and Miracles: A True Story of Love, Science, and Cancer',\n",
       " \"A People's History of the United States\",\n",
       " 'My Kitchen Year: 136 Recipes That Saved My Life',\n",
       " 'The Lonely City: Adventures in the Art of Being Alone',\n",
       " 'The Dinner Party',\n",
       " 'Stars Above (The Lunar Chronicles #4.5)',\n",
       " 'Love, Lies and Spies',\n",
       " 'Troublemaker: Surviving Hollywood and Scientology',\n",
       " 'The Widow',\n",
       " 'Setting the World on Fire: The Brief, Astonishing Life of St. Catherine of Siena',\n",
       " 'Mothering Sunday',\n",
       " 'Lilac Girls',\n",
       " '10% Happier: How I Tamed the Voice in My Head, Reduced Stress Without Losing My Edge, and Found Self-Help That Actually Works',\n",
       " 'Underlying Notes',\n",
       " 'The Flowers Lied',\n",
       " 'Modern Day Fables',\n",
       " \"Chernobyl 01:23:40: The Incredible True Story of the World's Worst Nuclear Disaster\",\n",
       " '23 Degrees South: A Tropical Tale of Changing Whether...',\n",
       " 'When Breath Becomes Air',\n",
       " 'Vagabonding: An Uncommon Guide to the Art of Long-Term World Travel',\n",
       " 'The Martian (The Martian #1)',\n",
       " \"Miller's Valley\",\n",
       " \"Love That Boy: What Two Presidents, Eight Road Trips, and My Son Taught Me About a Parent's Expectations\",\n",
       " 'Left Behind (Left Behind #1)',\n",
       " 'Howl and Other Poems',\n",
       " \"Heaven is for Real: A Little Boy's Astounding Story of His Trip to Heaven and Back\",\n",
       " \"Brazen: The Courage to Find the You That's Been Hiding\",\n",
       " '32 Yolks',\n",
       " 'Wildlife of New York: A Five-Borough Coloring Book',\n",
       " 'Unreasonable Hope: Finding Faith in the God Who Brings Purpose to Your Pain',\n",
       " 'The Art Book',\n",
       " 'Steal Like an Artist: 10 Things Nobody Told You About Being Creative',\n",
       " 'Raymie Nightingale',\n",
       " 'Like Never Before (Walker Family #2)',\n",
       " 'How to Be a Domestic Goddess: Baking and the Art of Comfort Cooking',\n",
       " 'Finding God in the Ruins: How God Redeems Pain',\n",
       " 'Chronicles, Vol. 1',\n",
       " 'A Summer In Europe',\n",
       " 'The Rise and Fall of the Third Reich: A History of Nazi Germany',\n",
       " 'The Makings of a Fatherless Child',\n",
       " 'The Fellowship of the Ring (The Lord of the Rings #1)',\n",
       " \"Tell the Wolves I'm Home\",\n",
       " 'In the Woods (Dublin Murder Squad #1)',\n",
       " 'Give It Back',\n",
       " 'Why Save the Bankers?: And Other Essays on Our Economic and Political Crisis',\n",
       " 'The Raven King (The Raven Cycle #4)',\n",
       " 'The Expatriates',\n",
       " 'The 5th Wave (The 5th Wave #1)',\n",
       " 'Peak: Secrets from the New Science of Expertise',\n",
       " 'Logan Kade (Fallen Crest High #5.5)',\n",
       " \"I Know Why the Caged Bird Sings (Maya Angelou's Autobiography #1)\",\n",
       " 'Drama',\n",
       " \"America's War for the Greater Middle East: A Military History\",\n",
       " 'A Game of Thrones (A Song of Ice and Fire #1)',\n",
       " \"The Pilgrim's Progress\",\n",
       " 'The Hound of the Baskervilles (Sherlock Holmes #5)',\n",
       " \"The Geography of Bliss: One Grump's Search for the Happiest Places in the World\",\n",
       " 'The Demonists (Demonist #1)',\n",
       " 'The Demon Prince of Momochi House, Vol. 4 (The Demon Prince of Momochi House #4)',\n",
       " 'Misery',\n",
       " 'Far From True (Promise Falls Trilogy #2)',\n",
       " 'Confessions of a Shopaholic (Shopaholic #1)',\n",
       " 'Vegan Vegetarian Omnivore: Dinner for Everyone at the Table',\n",
       " 'Two Boys Kissing',\n",
       " 'Twilight (Twilight #1)',\n",
       " 'Twenties Girl',\n",
       " 'The Tipping Point: How Little Things Can Make a Big Difference',\n",
       " 'The Stand',\n",
       " 'The Picture of Dorian Gray',\n",
       " 'The Name of God is Mercy',\n",
       " \"The Lover's Dictionary\",\n",
       " 'The Last Painting of Sara de Vos',\n",
       " 'The Guns of August',\n",
       " 'The Girl Who Played with Fire (Millennium Trilogy #2)',\n",
       " 'The Da Vinci Code (Robert Langdon #2)',\n",
       " 'The Cat in the Hat (Beginner Books B-1)',\n",
       " 'The Book Thief',\n",
       " 'The Autobiography of Malcolm X',\n",
       " \"Surely You're Joking, Mr. Feynman!: Adventures of a Curious Character\",\n",
       " 'Soldier (Talon #3)',\n",
       " 'Shopaholic & Baby (Shopaholic #5)',\n",
       " 'Seven Days in the Art World',\n",
       " 'Rework',\n",
       " 'Packing for Mars: The Curious Science of Life in the Void',\n",
       " 'Orange Is the New Black',\n",
       " 'One for the Money (Stephanie Plum #1)',\n",
       " 'Midnight Riot (Peter Grant/ Rivers of London - books #1)',\n",
       " 'Me Talk Pretty One Day',\n",
       " 'Manuscript Found in Accra',\n",
       " 'Lust & Wonder',\n",
       " \"Life, the Universe and Everything (Hitchhiker's Guide to the Galaxy #3)\",\n",
       " 'Life After Life',\n",
       " 'I Am Malala: The Girl Who Stood Up for Education and Was Shot by the Taliban',\n",
       " 'House of Lost Worlds: Dinosaurs, Dynasties, and the Story of Life on Earth',\n",
       " 'Horrible Bear!',\n",
       " 'Holidays on Ice',\n",
       " 'Girl in the Blue Coat',\n",
       " 'Fruits Basket, Vol. 3 (Fruits Basket #3)',\n",
       " 'Cosmos',\n",
       " 'Civilization and Its Discontents',\n",
       " \"Catastrophic Happiness: Finding Joy in Childhood's Messy Years\",\n",
       " 'Career of Evil (Cormoran Strike #3)',\n",
       " 'Born to Run: A Hidden Tribe, Superathletes, and the Greatest Race the World Has Never Seen',\n",
       " \"Best of My Love (Fool's Gold #20)\",\n",
       " 'Beowulf',\n",
       " 'Awkward',\n",
       " 'And Then There Were None',\n",
       " 'A Storm of Swords (A Song of Ice and Fire #3)',\n",
       " 'The Suffragettes (Little Black Classics, #96)',\n",
       " 'Vampire Girl (Vampire Girl #1)',\n",
       " 'Three Wishes (River of Time: California #1)',\n",
       " 'The Wicked + The Divine, Vol. 1: The Faust Act (The Wicked + The Divine)',\n",
       " 'The Little Prince',\n",
       " 'The Last Girl (The Dominion Trilogy #1)',\n",
       " 'Taking Shots (Assassins #1)',\n",
       " 'Settling the Score (The Summer Games #1)',\n",
       " 'Rhythm, Chord & Malykhin',\n",
       " 'One Second (Seven #7)',\n",
       " \"Old Records Never Die: One Man's Quest for His Vinyl and His Past\",\n",
       " 'Of Mice and Men',\n",
       " 'My Perfect Mistake (Over the Top #1)',\n",
       " 'Meditations',\n",
       " 'Frankenstein',\n",
       " 'Emma']"
      ]
     },
     "execution_count": 50,
     "metadata": {},
     "output_type": "execute_result"
    }
   ],
   "source": [
    "two_star_titles"
   ]
  },
  {
   "cell_type": "markdown",
   "metadata": {},
   "source": [
    "** Excellent! You should now have the tools necessary to scrape any websites that interest you! Keep in mind, the more complex the website, the harder it will be to scrape. Always ask for permission! **"
   ]
  }
 ],
 "metadata": {
  "anaconda-cloud": {},
  "kernelspec": {
   "display_name": "Python 3",
   "language": "python",
   "name": "python3"
  },
  "language_info": {
   "codemirror_mode": {
    "name": "ipython",
    "version": 3
   },
   "file_extension": ".py",
   "mimetype": "text/x-python",
   "name": "python",
   "nbconvert_exporter": "python",
   "pygments_lexer": "ipython3",
   "version": "3.8.8"
  }
 },
 "nbformat": 4,
 "nbformat_minor": 2
}
